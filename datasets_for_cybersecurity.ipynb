{
 "cells": [
  {
   "cell_type": "markdown",
   "metadata": {},
   "source": [
    "# Introduction\n",
    "\n",
    "Here is a list of cybersecurity datasets with a brief introduction about them."
   ]
  },
  {
   "cell_type": "code",
   "execution_count": 13,
   "metadata": {},
   "outputs": [],
   "source": [
    "library (dplyr)\n",
    "library(plyr)"
   ]
  },
  {
   "cell_type": "code",
   "execution_count": 14,
   "metadata": {},
   "outputs": [],
   "source": [
    "# Define a function that outputs a quick data quality report.\n",
    "\n",
    "data_report <- function(df) {\n",
    "  \n",
    "  #DataFrame with column names and their data types\n",
    "  data_types <- data.frame('data_type'= sapply(df, class))\n",
    "\n",
    "  #DataFrame with Count\n",
    "  data_count <- data.frame('count' = colSums(!is.na(df)))\n",
    "\n",
    "  #DataFrame with unique values\n",
    "  unique_value_counts <- data.frame('unique_values'= sapply(df, function(x) length(unique(x))))\n",
    " \n",
    "  #Dataframe with number of missing values for each column\n",
    "  missing_data_counts <- data.frame('missing_values'= sapply(df, function(x) sum(length(which(is.na(x))))))\n",
    "  \n",
    "  #Combine all dataframes\n",
    "  data_quality_report <- cbind(data_types, data_count, unique_value_counts, missing_data_counts )\n",
    "  print('Data Quality Report')\n",
    "\n",
    "  return(data_quality_report)\n",
    "}"
   ]
  },
  {
   "cell_type": "markdown",
   "metadata": {},
   "source": [
    "                                                             \n",
    "### 1. KDD Dataset\n",
    "\n",
    "One of the most popular datasets for building a network intrusion detector and contains a great number of intrusions simulated in a military network environment.\n",
    "\n",
    "http://kdd.ics.uci.edu/databases/kddcup99/kddcup99.html"
   ]
  },
  {
   "cell_type": "code",
   "execution_count": 61,
   "metadata": {},
   "outputs": [
    {
     "name": "stdout",
     "output_type": "stream",
     "text": [
      "[1] \"Shape of Dataset:\"\n",
      "[1] 4898431      42\n"
     ]
    }
   ],
   "source": [
    "kdd = read.csv('kddcup.data.corrected.csv', header = FALSE)\n",
    "print(\"Shape of Dataset:\")\n",
    "print(dim(kdd))"
   ]
  },
  {
   "cell_type": "code",
   "execution_count": 62,
   "metadata": {},
   "outputs": [
    {
     "name": "stdout",
     "output_type": "stream",
     "text": [
      "'data.frame':\t4898431 obs. of  42 variables:\n",
      " $ V1 : int  0 0 0 0 0 0 0 0 0 0 ...\n",
      " $ V2 : Factor w/ 3 levels \"icmp\",\"tcp\",\"udp\": 2 2 2 2 2 2 2 2 2 2 ...\n",
      " $ V3 : Factor w/ 70 levels \"aol\",\"auth\",\"bgp\",..: 22 22 22 22 22 22 22 22 22 22 ...\n",
      " $ V4 : Factor w/ 11 levels \"OTH\",\"REJ\",\"RSTO\",..: 10 10 10 10 10 10 10 10 10 10 ...\n",
      " $ V5 : int  215 162 236 233 239 238 235 234 239 181 ...\n",
      " $ V6 : int  45076 4528 1228 2032 486 1282 1337 1364 1295 5450 ...\n",
      " $ V7 : int  0 0 0 0 0 0 0 0 0 0 ...\n",
      " $ V8 : int  0 0 0 0 0 0 0 0 0 0 ...\n",
      " $ V9 : int  0 0 0 0 0 0 0 0 0 0 ...\n",
      " $ V10: int  0 0 0 0 0 0 0 0 0 0 ...\n",
      " $ V11: int  0 0 0 0 0 0 0 0 0 0 ...\n",
      " $ V12: int  1 1 1 1 1 1 1 1 1 1 ...\n",
      " $ V13: int  0 0 0 0 0 0 0 0 0 0 ...\n",
      " $ V14: int  0 0 0 0 0 0 0 0 0 0 ...\n",
      " $ V15: int  0 0 0 0 0 0 0 0 0 0 ...\n",
      " $ V16: int  0 0 0 0 0 0 0 0 0 0 ...\n",
      " $ V17: int  0 0 0 0 0 0 0 0 0 0 ...\n",
      " $ V18: int  0 0 0 0 0 0 0 0 0 0 ...\n",
      " $ V19: int  0 0 0 0 0 0 0 0 0 0 ...\n",
      " $ V20: int  0 0 0 0 0 0 0 0 0 0 ...\n",
      " $ V21: int  0 0 0 0 0 0 0 0 0 0 ...\n",
      " $ V22: int  0 0 0 0 0 0 0 0 0 0 ...\n",
      " $ V23: int  1 2 1 2 3 4 5 6 7 8 ...\n",
      " $ V24: int  1 2 1 2 3 4 5 6 7 8 ...\n",
      " $ V25: num  0 0 0 0 0 0 0 0 0 0 ...\n",
      " $ V26: num  0 0 0 0 0 0 0 0 0 0 ...\n",
      " $ V27: num  0 0 0 0 0 0 0 0 0 0 ...\n",
      " $ V28: num  0 0 0 0 0 0 0 0 0 0 ...\n",
      " $ V29: num  1 1 1 1 1 1 1 1 1 1 ...\n",
      " $ V30: num  0 0 0 0 0 0 0 0 0 0 ...\n",
      " $ V31: num  0 0 0 0 0 0 0 0 0 0 ...\n",
      " $ V32: int  0 1 2 3 4 5 6 7 8 9 ...\n",
      " $ V33: int  0 1 2 3 4 5 6 7 8 9 ...\n",
      " $ V34: num  0 1 1 1 1 1 1 1 1 1 ...\n",
      " $ V35: num  0 0 0 0 0 0 0 0 0 0 ...\n",
      " $ V36: num  0 1 0.5 0.33 0.25 0.2 0.17 0.14 0.12 0.11 ...\n",
      " $ V37: num  0 0 0 0 0 0 0 0 0 0 ...\n",
      " $ V38: num  0 0 0 0 0 0 0 0 0 0 ...\n",
      " $ V39: num  0 0 0 0 0 0 0 0 0 0 ...\n",
      " $ V40: num  0 0 0 0 0 0 0 0 0 0 ...\n",
      " $ V41: num  0 0 0 0 0 0 0 0 0 0 ...\n",
      " $ V42: Factor w/ 23 levels \"back.\",\"buffer_overflow.\",..: 12 12 12 12 12 12 12 12 12 12 ...\n"
     ]
    }
   ],
   "source": [
    "str(kdd)"
   ]
  },
  {
   "cell_type": "code",
   "execution_count": 63,
   "metadata": {},
   "outputs": [
    {
     "data": {
      "text/html": [
       "<table>\n",
       "<thead><tr><th scope=col>V1</th><th scope=col>V2</th><th scope=col>V3</th><th scope=col>V4</th><th scope=col>V5</th><th scope=col>V6</th><th scope=col>V7</th><th scope=col>V8</th><th scope=col>V9</th><th scope=col>V10</th><th scope=col>⋯</th><th scope=col>V33</th><th scope=col>V34</th><th scope=col>V35</th><th scope=col>V36</th><th scope=col>V37</th><th scope=col>V38</th><th scope=col>V39</th><th scope=col>V40</th><th scope=col>V41</th><th scope=col>V42</th></tr></thead>\n",
       "<tbody>\n",
       "\t<tr><td>0      </td><td>tcp    </td><td>http   </td><td>SF     </td><td>215    </td><td>45076  </td><td>0      </td><td>0      </td><td>0      </td><td>0      </td><td>⋯      </td><td>0      </td><td>0      </td><td>0      </td><td>0.00   </td><td>0      </td><td>0      </td><td>0      </td><td>0      </td><td>0      </td><td>normal.</td></tr>\n",
       "\t<tr><td>0      </td><td>tcp    </td><td>http   </td><td>SF     </td><td>162    </td><td> 4528  </td><td>0      </td><td>0      </td><td>0      </td><td>0      </td><td>⋯      </td><td>1      </td><td>1      </td><td>0      </td><td>1.00   </td><td>0      </td><td>0      </td><td>0      </td><td>0      </td><td>0      </td><td>normal.</td></tr>\n",
       "\t<tr><td>0      </td><td>tcp    </td><td>http   </td><td>SF     </td><td>236    </td><td> 1228  </td><td>0      </td><td>0      </td><td>0      </td><td>0      </td><td>⋯      </td><td>2      </td><td>1      </td><td>0      </td><td>0.50   </td><td>0      </td><td>0      </td><td>0      </td><td>0      </td><td>0      </td><td>normal.</td></tr>\n",
       "\t<tr><td>0      </td><td>tcp    </td><td>http   </td><td>SF     </td><td>233    </td><td> 2032  </td><td>0      </td><td>0      </td><td>0      </td><td>0      </td><td>⋯      </td><td>3      </td><td>1      </td><td>0      </td><td>0.33   </td><td>0      </td><td>0      </td><td>0      </td><td>0      </td><td>0      </td><td>normal.</td></tr>\n",
       "\t<tr><td>0      </td><td>tcp    </td><td>http   </td><td>SF     </td><td>239    </td><td>  486  </td><td>0      </td><td>0      </td><td>0      </td><td>0      </td><td>⋯      </td><td>4      </td><td>1      </td><td>0      </td><td>0.25   </td><td>0      </td><td>0      </td><td>0      </td><td>0      </td><td>0      </td><td>normal.</td></tr>\n",
       "</tbody>\n",
       "</table>\n"
      ],
      "text/latex": [
       "\\begin{tabular}{r|llllllllllllllllllllllllllllllllllllllllll}\n",
       " V1 & V2 & V3 & V4 & V5 & V6 & V7 & V8 & V9 & V10 & ⋯ & V33 & V34 & V35 & V36 & V37 & V38 & V39 & V40 & V41 & V42\\\\\n",
       "\\hline\n",
       "\t 0       & tcp     & http    & SF      & 215     & 45076   & 0       & 0       & 0       & 0       & ⋯       & 0       & 0       & 0       & 0.00    & 0       & 0       & 0       & 0       & 0       & normal.\\\\\n",
       "\t 0       & tcp     & http    & SF      & 162     &  4528   & 0       & 0       & 0       & 0       & ⋯       & 1       & 1       & 0       & 1.00    & 0       & 0       & 0       & 0       & 0       & normal.\\\\\n",
       "\t 0       & tcp     & http    & SF      & 236     &  1228   & 0       & 0       & 0       & 0       & ⋯       & 2       & 1       & 0       & 0.50    & 0       & 0       & 0       & 0       & 0       & normal.\\\\\n",
       "\t 0       & tcp     & http    & SF      & 233     &  2032   & 0       & 0       & 0       & 0       & ⋯       & 3       & 1       & 0       & 0.33    & 0       & 0       & 0       & 0       & 0       & normal.\\\\\n",
       "\t 0       & tcp     & http    & SF      & 239     &   486   & 0       & 0       & 0       & 0       & ⋯       & 4       & 1       & 0       & 0.25    & 0       & 0       & 0       & 0       & 0       & normal.\\\\\n",
       "\\end{tabular}\n"
      ],
      "text/markdown": [
       "\n",
       "V1 | V2 | V3 | V4 | V5 | V6 | V7 | V8 | V9 | V10 | ⋯ | V33 | V34 | V35 | V36 | V37 | V38 | V39 | V40 | V41 | V42 | \n",
       "|---|---|---|---|---|\n",
       "| 0       | tcp     | http    | SF      | 215     | 45076   | 0       | 0       | 0       | 0       | ⋯       | 0       | 0       | 0       | 0.00    | 0       | 0       | 0       | 0       | 0       | normal. | \n",
       "| 0       | tcp     | http    | SF      | 162     |  4528   | 0       | 0       | 0       | 0       | ⋯       | 1       | 1       | 0       | 1.00    | 0       | 0       | 0       | 0       | 0       | normal. | \n",
       "| 0       | tcp     | http    | SF      | 236     |  1228   | 0       | 0       | 0       | 0       | ⋯       | 2       | 1       | 0       | 0.50    | 0       | 0       | 0       | 0       | 0       | normal. | \n",
       "| 0       | tcp     | http    | SF      | 233     |  2032   | 0       | 0       | 0       | 0       | ⋯       | 3       | 1       | 0       | 0.33    | 0       | 0       | 0       | 0       | 0       | normal. | \n",
       "| 0       | tcp     | http    | SF      | 239     |   486   | 0       | 0       | 0       | 0       | ⋯       | 4       | 1       | 0       | 0.25    | 0       | 0       | 0       | 0       | 0       | normal. | \n",
       "\n",
       "\n"
      ],
      "text/plain": [
       "  V1 V2  V3   V4 V5  V6    V7 V8 V9 V10 ⋯ V33 V34 V35 V36  V37 V38 V39 V40 V41\n",
       "1 0  tcp http SF 215 45076 0  0  0  0   ⋯ 0   0   0   0.00 0   0   0   0   0  \n",
       "2 0  tcp http SF 162  4528 0  0  0  0   ⋯ 1   1   0   1.00 0   0   0   0   0  \n",
       "3 0  tcp http SF 236  1228 0  0  0  0   ⋯ 2   1   0   0.50 0   0   0   0   0  \n",
       "4 0  tcp http SF 233  2032 0  0  0  0   ⋯ 3   1   0   0.33 0   0   0   0   0  \n",
       "5 0  tcp http SF 239   486 0  0  0  0   ⋯ 4   1   0   0.25 0   0   0   0   0  \n",
       "  V42    \n",
       "1 normal.\n",
       "2 normal.\n",
       "3 normal.\n",
       "4 normal.\n",
       "5 normal."
      ]
     },
     "metadata": {},
     "output_type": "display_data"
    }
   ],
   "source": [
    "head(kdd, 5)"
   ]
  },
  {
   "cell_type": "code",
   "execution_count": 64,
   "metadata": {},
   "outputs": [
    {
     "name": "stdout",
     "output_type": "stream",
     "text": [
      "[1] \"Data Quality Report\"\n"
     ]
    },
    {
     "data": {
      "text/html": [
       "<table>\n",
       "<thead><tr><th></th><th scope=col>data_type</th><th scope=col>count</th><th scope=col>unique_values</th><th scope=col>missing_values</th></tr></thead>\n",
       "<tbody>\n",
       "\t<tr><th scope=row>V1</th><td>integer</td><td>4898431</td><td> 9883  </td><td>0      </td></tr>\n",
       "\t<tr><th scope=row>V2</th><td>factor </td><td>4898431</td><td>    3  </td><td>0      </td></tr>\n",
       "\t<tr><th scope=row>V3</th><td>factor </td><td>4898431</td><td>   70  </td><td>0      </td></tr>\n",
       "\t<tr><th scope=row>V4</th><td>factor </td><td>4898431</td><td>   11  </td><td>0      </td></tr>\n",
       "\t<tr><th scope=row>V5</th><td>integer</td><td>4898431</td><td> 7195  </td><td>0      </td></tr>\n",
       "\t<tr><th scope=row>V6</th><td>integer</td><td>4898431</td><td>21493  </td><td>0      </td></tr>\n",
       "\t<tr><th scope=row>V7</th><td>integer</td><td>4898431</td><td>    2  </td><td>0      </td></tr>\n",
       "\t<tr><th scope=row>V8</th><td>integer</td><td>4898431</td><td>    3  </td><td>0      </td></tr>\n",
       "\t<tr><th scope=row>V9</th><td>integer</td><td>4898431</td><td>    6  </td><td>0      </td></tr>\n",
       "\t<tr><th scope=row>V10</th><td>integer</td><td>4898431</td><td>   30  </td><td>0      </td></tr>\n",
       "\t<tr><th scope=row>V11</th><td>integer</td><td>4898431</td><td>    6  </td><td>0      </td></tr>\n",
       "\t<tr><th scope=row>V12</th><td>integer</td><td>4898431</td><td>    2  </td><td>0      </td></tr>\n",
       "\t<tr><th scope=row>V13</th><td>integer</td><td>4898431</td><td>   98  </td><td>0      </td></tr>\n",
       "\t<tr><th scope=row>V14</th><td>integer</td><td>4898431</td><td>    2  </td><td>0      </td></tr>\n",
       "\t<tr><th scope=row>V15</th><td>integer</td><td>4898431</td><td>    3  </td><td>0      </td></tr>\n",
       "\t<tr><th scope=row>V16</th><td>integer</td><td>4898431</td><td>   93  </td><td>0      </td></tr>\n",
       "\t<tr><th scope=row>V17</th><td>integer</td><td>4898431</td><td>   42  </td><td>0      </td></tr>\n",
       "\t<tr><th scope=row>V18</th><td>integer</td><td>4898431</td><td>    3  </td><td>0      </td></tr>\n",
       "\t<tr><th scope=row>V19</th><td>integer</td><td>4898431</td><td>   10  </td><td>0      </td></tr>\n",
       "\t<tr><th scope=row>V20</th><td>integer</td><td>4898431</td><td>    1  </td><td>0      </td></tr>\n",
       "\t<tr><th scope=row>V21</th><td>integer</td><td>4898431</td><td>    2  </td><td>0      </td></tr>\n",
       "\t<tr><th scope=row>V22</th><td>integer</td><td>4898431</td><td>    2  </td><td>0      </td></tr>\n",
       "\t<tr><th scope=row>V23</th><td>integer</td><td>4898431</td><td>  512  </td><td>0      </td></tr>\n",
       "\t<tr><th scope=row>V24</th><td>integer</td><td>4898431</td><td>  512  </td><td>0      </td></tr>\n",
       "\t<tr><th scope=row>V25</th><td>numeric</td><td>4898431</td><td>   96  </td><td>0      </td></tr>\n",
       "\t<tr><th scope=row>V26</th><td>numeric</td><td>4898431</td><td>   87  </td><td>0      </td></tr>\n",
       "\t<tr><th scope=row>V27</th><td>numeric</td><td>4898431</td><td>   89  </td><td>0      </td></tr>\n",
       "\t<tr><th scope=row>V28</th><td>numeric</td><td>4898431</td><td>   76  </td><td>0      </td></tr>\n",
       "\t<tr><th scope=row>V29</th><td>numeric</td><td>4898431</td><td>  101  </td><td>0      </td></tr>\n",
       "\t<tr><th scope=row>V30</th><td>numeric</td><td>4898431</td><td>   95  </td><td>0      </td></tr>\n",
       "\t<tr><th scope=row>V31</th><td>numeric</td><td>4898431</td><td>   72  </td><td>0      </td></tr>\n",
       "\t<tr><th scope=row>V32</th><td>integer</td><td>4898431</td><td>  256  </td><td>0      </td></tr>\n",
       "\t<tr><th scope=row>V33</th><td>integer</td><td>4898431</td><td>  256  </td><td>0      </td></tr>\n",
       "\t<tr><th scope=row>V34</th><td>numeric</td><td>4898431</td><td>  101  </td><td>0      </td></tr>\n",
       "\t<tr><th scope=row>V35</th><td>numeric</td><td>4898431</td><td>  101  </td><td>0      </td></tr>\n",
       "\t<tr><th scope=row>V36</th><td>numeric</td><td>4898431</td><td>  101  </td><td>0      </td></tr>\n",
       "\t<tr><th scope=row>V37</th><td>numeric</td><td>4898431</td><td>   76  </td><td>0      </td></tr>\n",
       "\t<tr><th scope=row>V38</th><td>numeric</td><td>4898431</td><td>  101  </td><td>0      </td></tr>\n",
       "\t<tr><th scope=row>V39</th><td>numeric</td><td>4898431</td><td>  100  </td><td>0      </td></tr>\n",
       "\t<tr><th scope=row>V40</th><td>numeric</td><td>4898431</td><td>  101  </td><td>0      </td></tr>\n",
       "\t<tr><th scope=row>V41</th><td>numeric</td><td>4898431</td><td>  101  </td><td>0      </td></tr>\n",
       "\t<tr><th scope=row>V42</th><td>factor </td><td>4898431</td><td>   23  </td><td>0      </td></tr>\n",
       "</tbody>\n",
       "</table>\n"
      ],
      "text/latex": [
       "\\begin{tabular}{r|llll}\n",
       "  & data\\_type & count & unique\\_values & missing\\_values\\\\\n",
       "\\hline\n",
       "\tV1 & integer & 4898431 &  9883   & 0      \\\\\n",
       "\tV2 & factor  & 4898431 &     3   & 0      \\\\\n",
       "\tV3 & factor  & 4898431 &    70   & 0      \\\\\n",
       "\tV4 & factor  & 4898431 &    11   & 0      \\\\\n",
       "\tV5 & integer & 4898431 &  7195   & 0      \\\\\n",
       "\tV6 & integer & 4898431 & 21493   & 0      \\\\\n",
       "\tV7 & integer & 4898431 &     2   & 0      \\\\\n",
       "\tV8 & integer & 4898431 &     3   & 0      \\\\\n",
       "\tV9 & integer & 4898431 &     6   & 0      \\\\\n",
       "\tV10 & integer & 4898431 &    30   & 0      \\\\\n",
       "\tV11 & integer & 4898431 &     6   & 0      \\\\\n",
       "\tV12 & integer & 4898431 &     2   & 0      \\\\\n",
       "\tV13 & integer & 4898431 &    98   & 0      \\\\\n",
       "\tV14 & integer & 4898431 &     2   & 0      \\\\\n",
       "\tV15 & integer & 4898431 &     3   & 0      \\\\\n",
       "\tV16 & integer & 4898431 &    93   & 0      \\\\\n",
       "\tV17 & integer & 4898431 &    42   & 0      \\\\\n",
       "\tV18 & integer & 4898431 &     3   & 0      \\\\\n",
       "\tV19 & integer & 4898431 &    10   & 0      \\\\\n",
       "\tV20 & integer & 4898431 &     1   & 0      \\\\\n",
       "\tV21 & integer & 4898431 &     2   & 0      \\\\\n",
       "\tV22 & integer & 4898431 &     2   & 0      \\\\\n",
       "\tV23 & integer & 4898431 &   512   & 0      \\\\\n",
       "\tV24 & integer & 4898431 &   512   & 0      \\\\\n",
       "\tV25 & numeric & 4898431 &    96   & 0      \\\\\n",
       "\tV26 & numeric & 4898431 &    87   & 0      \\\\\n",
       "\tV27 & numeric & 4898431 &    89   & 0      \\\\\n",
       "\tV28 & numeric & 4898431 &    76   & 0      \\\\\n",
       "\tV29 & numeric & 4898431 &   101   & 0      \\\\\n",
       "\tV30 & numeric & 4898431 &    95   & 0      \\\\\n",
       "\tV31 & numeric & 4898431 &    72   & 0      \\\\\n",
       "\tV32 & integer & 4898431 &   256   & 0      \\\\\n",
       "\tV33 & integer & 4898431 &   256   & 0      \\\\\n",
       "\tV34 & numeric & 4898431 &   101   & 0      \\\\\n",
       "\tV35 & numeric & 4898431 &   101   & 0      \\\\\n",
       "\tV36 & numeric & 4898431 &   101   & 0      \\\\\n",
       "\tV37 & numeric & 4898431 &    76   & 0      \\\\\n",
       "\tV38 & numeric & 4898431 &   101   & 0      \\\\\n",
       "\tV39 & numeric & 4898431 &   100   & 0      \\\\\n",
       "\tV40 & numeric & 4898431 &   101   & 0      \\\\\n",
       "\tV41 & numeric & 4898431 &   101   & 0      \\\\\n",
       "\tV42 & factor  & 4898431 &    23   & 0      \\\\\n",
       "\\end{tabular}\n"
      ],
      "text/markdown": [
       "\n",
       "| <!--/--> | data_type | count | unique_values | missing_values | \n",
       "|---|---|---|---|---|---|---|---|---|---|---|---|---|---|---|---|---|---|---|---|---|---|---|---|---|---|---|---|---|---|---|---|---|---|---|---|---|---|---|---|---|---|\n",
       "| V1 | integer | 4898431 |  9883   | 0       | \n",
       "| V2 | factor  | 4898431 |     3   | 0       | \n",
       "| V3 | factor  | 4898431 |    70   | 0       | \n",
       "| V4 | factor  | 4898431 |    11   | 0       | \n",
       "| V5 | integer | 4898431 |  7195   | 0       | \n",
       "| V6 | integer | 4898431 | 21493   | 0       | \n",
       "| V7 | integer | 4898431 |     2   | 0       | \n",
       "| V8 | integer | 4898431 |     3   | 0       | \n",
       "| V9 | integer | 4898431 |     6   | 0       | \n",
       "| V10 | integer | 4898431 |    30   | 0       | \n",
       "| V11 | integer | 4898431 |     6   | 0       | \n",
       "| V12 | integer | 4898431 |     2   | 0       | \n",
       "| V13 | integer | 4898431 |    98   | 0       | \n",
       "| V14 | integer | 4898431 |     2   | 0       | \n",
       "| V15 | integer | 4898431 |     3   | 0       | \n",
       "| V16 | integer | 4898431 |    93   | 0       | \n",
       "| V17 | integer | 4898431 |    42   | 0       | \n",
       "| V18 | integer | 4898431 |     3   | 0       | \n",
       "| V19 | integer | 4898431 |    10   | 0       | \n",
       "| V20 | integer | 4898431 |     1   | 0       | \n",
       "| V21 | integer | 4898431 |     2   | 0       | \n",
       "| V22 | integer | 4898431 |     2   | 0       | \n",
       "| V23 | integer | 4898431 |   512   | 0       | \n",
       "| V24 | integer | 4898431 |   512   | 0       | \n",
       "| V25 | numeric | 4898431 |    96   | 0       | \n",
       "| V26 | numeric | 4898431 |    87   | 0       | \n",
       "| V27 | numeric | 4898431 |    89   | 0       | \n",
       "| V28 | numeric | 4898431 |    76   | 0       | \n",
       "| V29 | numeric | 4898431 |   101   | 0       | \n",
       "| V30 | numeric | 4898431 |    95   | 0       | \n",
       "| V31 | numeric | 4898431 |    72   | 0       | \n",
       "| V32 | integer | 4898431 |   256   | 0       | \n",
       "| V33 | integer | 4898431 |   256   | 0       | \n",
       "| V34 | numeric | 4898431 |   101   | 0       | \n",
       "| V35 | numeric | 4898431 |   101   | 0       | \n",
       "| V36 | numeric | 4898431 |   101   | 0       | \n",
       "| V37 | numeric | 4898431 |    76   | 0       | \n",
       "| V38 | numeric | 4898431 |   101   | 0       | \n",
       "| V39 | numeric | 4898431 |   100   | 0       | \n",
       "| V40 | numeric | 4898431 |   101   | 0       | \n",
       "| V41 | numeric | 4898431 |   101   | 0       | \n",
       "| V42 | factor  | 4898431 |    23   | 0       | \n",
       "\n",
       "\n"
      ],
      "text/plain": [
       "    data_type count   unique_values missing_values\n",
       "V1  integer   4898431  9883         0             \n",
       "V2  factor    4898431     3         0             \n",
       "V3  factor    4898431    70         0             \n",
       "V4  factor    4898431    11         0             \n",
       "V5  integer   4898431  7195         0             \n",
       "V6  integer   4898431 21493         0             \n",
       "V7  integer   4898431     2         0             \n",
       "V8  integer   4898431     3         0             \n",
       "V9  integer   4898431     6         0             \n",
       "V10 integer   4898431    30         0             \n",
       "V11 integer   4898431     6         0             \n",
       "V12 integer   4898431     2         0             \n",
       "V13 integer   4898431    98         0             \n",
       "V14 integer   4898431     2         0             \n",
       "V15 integer   4898431     3         0             \n",
       "V16 integer   4898431    93         0             \n",
       "V17 integer   4898431    42         0             \n",
       "V18 integer   4898431     3         0             \n",
       "V19 integer   4898431    10         0             \n",
       "V20 integer   4898431     1         0             \n",
       "V21 integer   4898431     2         0             \n",
       "V22 integer   4898431     2         0             \n",
       "V23 integer   4898431   512         0             \n",
       "V24 integer   4898431   512         0             \n",
       "V25 numeric   4898431    96         0             \n",
       "V26 numeric   4898431    87         0             \n",
       "V27 numeric   4898431    89         0             \n",
       "V28 numeric   4898431    76         0             \n",
       "V29 numeric   4898431   101         0             \n",
       "V30 numeric   4898431    95         0             \n",
       "V31 numeric   4898431    72         0             \n",
       "V32 integer   4898431   256         0             \n",
       "V33 integer   4898431   256         0             \n",
       "V34 numeric   4898431   101         0             \n",
       "V35 numeric   4898431   101         0             \n",
       "V36 numeric   4898431   101         0             \n",
       "V37 numeric   4898431    76         0             \n",
       "V38 numeric   4898431   101         0             \n",
       "V39 numeric   4898431   100         0             \n",
       "V40 numeric   4898431   101         0             \n",
       "V41 numeric   4898431   101         0             \n",
       "V42 factor    4898431    23         0             "
      ]
     },
     "metadata": {},
     "output_type": "display_data"
    }
   ],
   "source": [
    "#Call 'data_report' function for the dataset\n",
    "data_report(kdd)"
   ]
  },
  {
   "cell_type": "code",
   "execution_count": 65,
   "metadata": {},
   "outputs": [
    {
     "data": {
      "text/html": [
       "<table>\n",
       "<thead><tr><th scope=col>V1</th><th scope=col>V5</th><th scope=col>V6</th><th scope=col>V7</th><th scope=col>V8</th><th scope=col>V9</th><th scope=col>V10</th><th scope=col>V11</th><th scope=col>V12</th><th scope=col>V13</th><th scope=col>⋯</th><th scope=col>V32</th><th scope=col>V33</th><th scope=col>V34</th><th scope=col>V35</th><th scope=col>V36</th><th scope=col>V37</th><th scope=col>V38</th><th scope=col>V39</th><th scope=col>V40</th><th scope=col>V41</th></tr></thead>\n",
       "<tbody>\n",
       "\t<tr><td>0    </td><td>215  </td><td>45076</td><td>0    </td><td>0    </td><td>0    </td><td>0    </td><td>0    </td><td>1    </td><td>0    </td><td>⋯    </td><td>0    </td><td>0    </td><td>0    </td><td>0    </td><td>0.00 </td><td>0    </td><td>0    </td><td>0    </td><td>0    </td><td>0    </td></tr>\n",
       "\t<tr><td>0    </td><td>162  </td><td> 4528</td><td>0    </td><td>0    </td><td>0    </td><td>0    </td><td>0    </td><td>1    </td><td>0    </td><td>⋯    </td><td>1    </td><td>1    </td><td>1    </td><td>0    </td><td>1.00 </td><td>0    </td><td>0    </td><td>0    </td><td>0    </td><td>0    </td></tr>\n",
       "\t<tr><td>0    </td><td>236  </td><td> 1228</td><td>0    </td><td>0    </td><td>0    </td><td>0    </td><td>0    </td><td>1    </td><td>0    </td><td>⋯    </td><td>2    </td><td>2    </td><td>1    </td><td>0    </td><td>0.50 </td><td>0    </td><td>0    </td><td>0    </td><td>0    </td><td>0    </td></tr>\n",
       "\t<tr><td>0    </td><td>233  </td><td> 2032</td><td>0    </td><td>0    </td><td>0    </td><td>0    </td><td>0    </td><td>1    </td><td>0    </td><td>⋯    </td><td>3    </td><td>3    </td><td>1    </td><td>0    </td><td>0.33 </td><td>0    </td><td>0    </td><td>0    </td><td>0    </td><td>0    </td></tr>\n",
       "\t<tr><td>0    </td><td>239  </td><td>  486</td><td>0    </td><td>0    </td><td>0    </td><td>0    </td><td>0    </td><td>1    </td><td>0    </td><td>⋯    </td><td>4    </td><td>4    </td><td>1    </td><td>0    </td><td>0.25 </td><td>0    </td><td>0    </td><td>0    </td><td>0    </td><td>0    </td></tr>\n",
       "\t<tr><td>0    </td><td>238  </td><td> 1282</td><td>0    </td><td>0    </td><td>0    </td><td>0    </td><td>0    </td><td>1    </td><td>0    </td><td>⋯    </td><td>5    </td><td>5    </td><td>1    </td><td>0    </td><td>0.20 </td><td>0    </td><td>0    </td><td>0    </td><td>0    </td><td>0    </td></tr>\n",
       "</tbody>\n",
       "</table>\n"
      ],
      "text/latex": [
       "\\begin{tabular}{r|llllllllllllllllllllllllllllllllllllll}\n",
       " V1 & V5 & V6 & V7 & V8 & V9 & V10 & V11 & V12 & V13 & ⋯ & V32 & V33 & V34 & V35 & V36 & V37 & V38 & V39 & V40 & V41\\\\\n",
       "\\hline\n",
       "\t 0     & 215   & 45076 & 0     & 0     & 0     & 0     & 0     & 1     & 0     & ⋯     & 0     & 0     & 0     & 0     & 0.00  & 0     & 0     & 0     & 0     & 0    \\\\\n",
       "\t 0     & 162   &  4528 & 0     & 0     & 0     & 0     & 0     & 1     & 0     & ⋯     & 1     & 1     & 1     & 0     & 1.00  & 0     & 0     & 0     & 0     & 0    \\\\\n",
       "\t 0     & 236   &  1228 & 0     & 0     & 0     & 0     & 0     & 1     & 0     & ⋯     & 2     & 2     & 1     & 0     & 0.50  & 0     & 0     & 0     & 0     & 0    \\\\\n",
       "\t 0     & 233   &  2032 & 0     & 0     & 0     & 0     & 0     & 1     & 0     & ⋯     & 3     & 3     & 1     & 0     & 0.33  & 0     & 0     & 0     & 0     & 0    \\\\\n",
       "\t 0     & 239   &   486 & 0     & 0     & 0     & 0     & 0     & 1     & 0     & ⋯     & 4     & 4     & 1     & 0     & 0.25  & 0     & 0     & 0     & 0     & 0    \\\\\n",
       "\t 0     & 238   &  1282 & 0     & 0     & 0     & 0     & 0     & 1     & 0     & ⋯     & 5     & 5     & 1     & 0     & 0.20  & 0     & 0     & 0     & 0     & 0    \\\\\n",
       "\\end{tabular}\n"
      ],
      "text/markdown": [
       "\n",
       "V1 | V5 | V6 | V7 | V8 | V9 | V10 | V11 | V12 | V13 | ⋯ | V32 | V33 | V34 | V35 | V36 | V37 | V38 | V39 | V40 | V41 | \n",
       "|---|---|---|---|---|---|\n",
       "| 0     | 215   | 45076 | 0     | 0     | 0     | 0     | 0     | 1     | 0     | ⋯     | 0     | 0     | 0     | 0     | 0.00  | 0     | 0     | 0     | 0     | 0     | \n",
       "| 0     | 162   |  4528 | 0     | 0     | 0     | 0     | 0     | 1     | 0     | ⋯     | 1     | 1     | 1     | 0     | 1.00  | 0     | 0     | 0     | 0     | 0     | \n",
       "| 0     | 236   |  1228 | 0     | 0     | 0     | 0     | 0     | 1     | 0     | ⋯     | 2     | 2     | 1     | 0     | 0.50  | 0     | 0     | 0     | 0     | 0     | \n",
       "| 0     | 233   |  2032 | 0     | 0     | 0     | 0     | 0     | 1     | 0     | ⋯     | 3     | 3     | 1     | 0     | 0.33  | 0     | 0     | 0     | 0     | 0     | \n",
       "| 0     | 239   |   486 | 0     | 0     | 0     | 0     | 0     | 1     | 0     | ⋯     | 4     | 4     | 1     | 0     | 0.25  | 0     | 0     | 0     | 0     | 0     | \n",
       "| 0     | 238   |  1282 | 0     | 0     | 0     | 0     | 0     | 1     | 0     | ⋯     | 5     | 5     | 1     | 0     | 0.20  | 0     | 0     | 0     | 0     | 0     | \n",
       "\n",
       "\n"
      ],
      "text/plain": [
       "  V1 V5  V6    V7 V8 V9 V10 V11 V12 V13 ⋯ V32 V33 V34 V35 V36  V37 V38 V39 V40\n",
       "1 0  215 45076 0  0  0  0   0   1   0   ⋯ 0   0   0   0   0.00 0   0   0   0  \n",
       "2 0  162  4528 0  0  0  0   0   1   0   ⋯ 1   1   1   0   1.00 0   0   0   0  \n",
       "3 0  236  1228 0  0  0  0   0   1   0   ⋯ 2   2   1   0   0.50 0   0   0   0  \n",
       "4 0  233  2032 0  0  0  0   0   1   0   ⋯ 3   3   1   0   0.33 0   0   0   0  \n",
       "5 0  239   486 0  0  0  0   0   1   0   ⋯ 4   4   1   0   0.25 0   0   0   0  \n",
       "6 0  238  1282 0  0  0  0   0   1   0   ⋯ 5   5   1   0   0.20 0   0   0   0  \n",
       "  V41\n",
       "1 0  \n",
       "2 0  \n",
       "3 0  \n",
       "4 0  \n",
       "5 0  \n",
       "6 0  "
      ]
     },
     "metadata": {},
     "output_type": "display_data"
    },
    {
     "data": {
      "text/html": [
       "'Number of numerical columns: 38'"
      ],
      "text/latex": [
       "'Number of numerical columns: 38'"
      ],
      "text/markdown": [
       "'Number of numerical columns: 38'"
      ],
      "text/plain": [
       "[1] \"Number of numerical columns: 38\""
      ]
     },
     "metadata": {},
     "output_type": "display_data"
    }
   ],
   "source": [
    "#Create a dataframe of numeric columns\n",
    "numeric_columns <- select_if(kdd, is.numeric)\n",
    "head(numeric_columns)\n",
    "sprintf(\"Number of numerical columns: %i\", ncol(numeric_columns))"
   ]
  },
  {
   "cell_type": "code",
   "execution_count": 66,
   "metadata": {},
   "outputs": [
    {
     "data": {
      "text/html": [
       "<table>\n",
       "<thead><tr><th scope=col>V2</th><th scope=col>V3</th><th scope=col>V4</th><th scope=col>V42</th></tr></thead>\n",
       "<tbody>\n",
       "\t<tr><td>tcp    </td><td>http   </td><td>SF     </td><td>normal.</td></tr>\n",
       "\t<tr><td>tcp    </td><td>http   </td><td>SF     </td><td>normal.</td></tr>\n",
       "\t<tr><td>tcp    </td><td>http   </td><td>SF     </td><td>normal.</td></tr>\n",
       "\t<tr><td>tcp    </td><td>http   </td><td>SF     </td><td>normal.</td></tr>\n",
       "\t<tr><td>tcp    </td><td>http   </td><td>SF     </td><td>normal.</td></tr>\n",
       "\t<tr><td>tcp    </td><td>http   </td><td>SF     </td><td>normal.</td></tr>\n",
       "</tbody>\n",
       "</table>\n"
      ],
      "text/latex": [
       "\\begin{tabular}{r|llll}\n",
       " V2 & V3 & V4 & V42\\\\\n",
       "\\hline\n",
       "\t tcp     & http    & SF      & normal.\\\\\n",
       "\t tcp     & http    & SF      & normal.\\\\\n",
       "\t tcp     & http    & SF      & normal.\\\\\n",
       "\t tcp     & http    & SF      & normal.\\\\\n",
       "\t tcp     & http    & SF      & normal.\\\\\n",
       "\t tcp     & http    & SF      & normal.\\\\\n",
       "\\end{tabular}\n"
      ],
      "text/markdown": [
       "\n",
       "V2 | V3 | V4 | V42 | \n",
       "|---|---|---|---|---|---|\n",
       "| tcp     | http    | SF      | normal. | \n",
       "| tcp     | http    | SF      | normal. | \n",
       "| tcp     | http    | SF      | normal. | \n",
       "| tcp     | http    | SF      | normal. | \n",
       "| tcp     | http    | SF      | normal. | \n",
       "| tcp     | http    | SF      | normal. | \n",
       "\n",
       "\n"
      ],
      "text/plain": [
       "  V2  V3   V4 V42    \n",
       "1 tcp http SF normal.\n",
       "2 tcp http SF normal.\n",
       "3 tcp http SF normal.\n",
       "4 tcp http SF normal.\n",
       "5 tcp http SF normal.\n",
       "6 tcp http SF normal."
      ]
     },
     "metadata": {},
     "output_type": "display_data"
    },
    {
     "data": {
      "text/html": [
       "'Number of categorical columns: 4'"
      ],
      "text/latex": [
       "'Number of categorical columns: 4'"
      ],
      "text/markdown": [
       "'Number of categorical columns: 4'"
      ],
      "text/plain": [
       "[1] \"Number of categorical columns: 4\""
      ]
     },
     "metadata": {},
     "output_type": "display_data"
    }
   ],
   "source": [
    "#Create a dataframe of categorical columns\n",
    "categorical_columns <- select_if(kdd, is.factor)\n",
    "head(categorical_columns)\n",
    "sprintf(\"Number of categorical columns: %i\", ncol(categorical_columns))"
   ]
  },
  {
   "cell_type": "code",
   "execution_count": 67,
   "metadata": {},
   "outputs": [
    {
     "data": {
      "text/html": [
       "<table>\n",
       "<thead><tr><th scope=col>V2</th><th scope=col>freq</th></tr></thead>\n",
       "<tbody>\n",
       "\t<tr><td>icmp   </td><td>2833545</td></tr>\n",
       "\t<tr><td>tcp    </td><td>1870598</td></tr>\n",
       "\t<tr><td>udp    </td><td> 194288</td></tr>\n",
       "</tbody>\n",
       "</table>\n"
      ],
      "text/latex": [
       "\\begin{tabular}{r|ll}\n",
       " V2 & freq\\\\\n",
       "\\hline\n",
       "\t icmp    & 2833545\\\\\n",
       "\t tcp     & 1870598\\\\\n",
       "\t udp     &  194288\\\\\n",
       "\\end{tabular}\n"
      ],
      "text/markdown": [
       "\n",
       "V2 | freq | \n",
       "|---|---|---|\n",
       "| icmp    | 2833545 | \n",
       "| tcp     | 1870598 | \n",
       "| udp     |  194288 | \n",
       "\n",
       "\n"
      ],
      "text/plain": [
       "  V2   freq   \n",
       "1 icmp 2833545\n",
       "2 tcp  1870598\n",
       "3 udp   194288"
      ]
     },
     "metadata": {},
     "output_type": "display_data"
    },
    {
     "data": {
      "text/html": [
       "<table>\n",
       "<thead><tr><th scope=col>V3</th><th scope=col>freq</th></tr></thead>\n",
       "<tbody>\n",
       "\t<tr><td>aol      </td><td>      2  </td></tr>\n",
       "\t<tr><td>auth     </td><td>   3382  </td></tr>\n",
       "\t<tr><td>bgp      </td><td>   1047  </td></tr>\n",
       "\t<tr><td>courier  </td><td>   1021  </td></tr>\n",
       "\t<tr><td>csnet_ns </td><td>   1051  </td></tr>\n",
       "\t<tr><td>ctf      </td><td>   1068  </td></tr>\n",
       "\t<tr><td>daytime  </td><td>   1056  </td></tr>\n",
       "\t<tr><td>discard  </td><td>   1059  </td></tr>\n",
       "\t<tr><td>domain   </td><td>   1113  </td></tr>\n",
       "\t<tr><td>domain_u </td><td>  57782  </td></tr>\n",
       "\t<tr><td>echo     </td><td>   1059  </td></tr>\n",
       "\t<tr><td>eco_i    </td><td>  16338  </td></tr>\n",
       "\t<tr><td>ecr_i    </td><td>2811660  </td></tr>\n",
       "\t<tr><td>efs      </td><td>   1042  </td></tr>\n",
       "\t<tr><td>exec     </td><td>   1045  </td></tr>\n",
       "\t<tr><td>finger   </td><td>   6891  </td></tr>\n",
       "\t<tr><td>ftp      </td><td>   5214  </td></tr>\n",
       "\t<tr><td>ftp_data </td><td>  40697  </td></tr>\n",
       "\t<tr><td>gopher   </td><td>   1077  </td></tr>\n",
       "\t<tr><td>harvest  </td><td>      2  </td></tr>\n",
       "\t<tr><td>hostnames</td><td>   1050  </td></tr>\n",
       "\t<tr><td>http     </td><td> 623091  </td></tr>\n",
       "\t<tr><td>http_2784</td><td>      1  </td></tr>\n",
       "\t<tr><td>http_443 </td><td>   1044  </td></tr>\n",
       "\t<tr><td>http_8001</td><td>      2  </td></tr>\n",
       "\t<tr><td>imap4    </td><td>   1069  </td></tr>\n",
       "\t<tr><td>IRC      </td><td>    521  </td></tr>\n",
       "\t<tr><td>iso_tsap </td><td>   1052  </td></tr>\n",
       "\t<tr><td>klogin   </td><td>   1050  </td></tr>\n",
       "\t<tr><td>kshell   </td><td>   1040  </td></tr>\n",
       "\t<tr><td>⋮</td><td>⋮</td></tr>\n",
       "\t<tr><td>nntp      </td><td>   1059   </td></tr>\n",
       "\t<tr><td>ntp_u     </td><td>   3833   </td></tr>\n",
       "\t<tr><td>other     </td><td>  72653   </td></tr>\n",
       "\t<tr><td>pm_dump   </td><td>      5   </td></tr>\n",
       "\t<tr><td>pop_2     </td><td>   1055   </td></tr>\n",
       "\t<tr><td>pop_3     </td><td>   1981   </td></tr>\n",
       "\t<tr><td>printer   </td><td>   1045   </td></tr>\n",
       "\t<tr><td>private   </td><td>1100831   </td></tr>\n",
       "\t<tr><td>red_i     </td><td>      9   </td></tr>\n",
       "\t<tr><td>remote_job</td><td>   1073   </td></tr>\n",
       "\t<tr><td>rje       </td><td>   1070   </td></tr>\n",
       "\t<tr><td>shell     </td><td>   1051   </td></tr>\n",
       "\t<tr><td>smtp      </td><td>  96554   </td></tr>\n",
       "\t<tr><td>sql_net   </td><td>   1052   </td></tr>\n",
       "\t<tr><td>ssh       </td><td>   1075   </td></tr>\n",
       "\t<tr><td>sunrpc    </td><td>   1056   </td></tr>\n",
       "\t<tr><td>supdup    </td><td>   1060   </td></tr>\n",
       "\t<tr><td>systat    </td><td>   1056   </td></tr>\n",
       "\t<tr><td>telnet    </td><td>   4277   </td></tr>\n",
       "\t<tr><td>tftp_u    </td><td>      3   </td></tr>\n",
       "\t<tr><td>tim_i     </td><td>     12   </td></tr>\n",
       "\t<tr><td>time      </td><td>   1579   </td></tr>\n",
       "\t<tr><td>urh_i     </td><td>    148   </td></tr>\n",
       "\t<tr><td>urp_i     </td><td>   5378   </td></tr>\n",
       "\t<tr><td>uucp      </td><td>   1041   </td></tr>\n",
       "\t<tr><td>uucp_path </td><td>   1057   </td></tr>\n",
       "\t<tr><td>vmnet     </td><td>   1053   </td></tr>\n",
       "\t<tr><td>whois     </td><td>   1073   </td></tr>\n",
       "\t<tr><td>X11       </td><td>    135   </td></tr>\n",
       "\t<tr><td>Z39_50    </td><td>   1078   </td></tr>\n",
       "</tbody>\n",
       "</table>\n"
      ],
      "text/latex": [
       "\\begin{tabular}{r|ll}\n",
       " V3 & freq\\\\\n",
       "\\hline\n",
       "\t aol       &       2  \\\\\n",
       "\t auth      &    3382  \\\\\n",
       "\t bgp       &    1047  \\\\\n",
       "\t courier   &    1021  \\\\\n",
       "\t csnet\\_ns  &    1051    \\\\\n",
       "\t ctf       &    1068  \\\\\n",
       "\t daytime   &    1056  \\\\\n",
       "\t discard   &    1059  \\\\\n",
       "\t domain    &    1113  \\\\\n",
       "\t domain\\_u  &   57782    \\\\\n",
       "\t echo      &    1059  \\\\\n",
       "\t eco\\_i     &   16338    \\\\\n",
       "\t ecr\\_i     & 2811660    \\\\\n",
       "\t efs       &    1042  \\\\\n",
       "\t exec      &    1045  \\\\\n",
       "\t finger    &    6891  \\\\\n",
       "\t ftp       &    5214  \\\\\n",
       "\t ftp\\_data  &   40697    \\\\\n",
       "\t gopher    &    1077  \\\\\n",
       "\t harvest   &       2  \\\\\n",
       "\t hostnames &    1050  \\\\\n",
       "\t http      &  623091  \\\\\n",
       "\t http\\_2784 &       1    \\\\\n",
       "\t http\\_443  &    1044    \\\\\n",
       "\t http\\_8001 &       2    \\\\\n",
       "\t imap4     &    1069  \\\\\n",
       "\t IRC       &     521  \\\\\n",
       "\t iso\\_tsap  &    1052    \\\\\n",
       "\t klogin    &    1050  \\\\\n",
       "\t kshell    &    1040  \\\\\n",
       "\t ⋮ & ⋮\\\\\n",
       "\t nntp       &    1059   \\\\\n",
       "\t ntp\\_u      &    3833     \\\\\n",
       "\t other      &   72653   \\\\\n",
       "\t pm\\_dump    &       5     \\\\\n",
       "\t pop\\_2      &    1055     \\\\\n",
       "\t pop\\_3      &    1981     \\\\\n",
       "\t printer    &    1045   \\\\\n",
       "\t private    & 1100831   \\\\\n",
       "\t red\\_i      &       9     \\\\\n",
       "\t remote\\_job &    1073     \\\\\n",
       "\t rje        &    1070   \\\\\n",
       "\t shell      &    1051   \\\\\n",
       "\t smtp       &   96554   \\\\\n",
       "\t sql\\_net    &    1052     \\\\\n",
       "\t ssh        &    1075   \\\\\n",
       "\t sunrpc     &    1056   \\\\\n",
       "\t supdup     &    1060   \\\\\n",
       "\t systat     &    1056   \\\\\n",
       "\t telnet     &    4277   \\\\\n",
       "\t tftp\\_u     &       3     \\\\\n",
       "\t tim\\_i      &      12     \\\\\n",
       "\t time       &    1579   \\\\\n",
       "\t urh\\_i      &     148     \\\\\n",
       "\t urp\\_i      &    5378     \\\\\n",
       "\t uucp       &    1041   \\\\\n",
       "\t uucp\\_path  &    1057     \\\\\n",
       "\t vmnet      &    1053   \\\\\n",
       "\t whois      &    1073   \\\\\n",
       "\t X11        &     135   \\\\\n",
       "\t Z39\\_50     &    1078     \\\\\n",
       "\\end{tabular}\n"
      ],
      "text/markdown": [
       "\n",
       "V3 | freq | \n",
       "|---|---|---|---|---|---|---|---|---|---|---|---|---|---|---|---|---|---|---|---|---|---|---|---|---|---|---|---|---|---|---|---|---|---|---|---|---|---|---|---|---|---|---|---|---|---|---|---|---|---|---|---|---|---|---|---|---|---|---|---|---|\n",
       "| aol       |       2   | \n",
       "| auth      |    3382   | \n",
       "| bgp       |    1047   | \n",
       "| courier   |    1021   | \n",
       "| csnet_ns  |    1051   | \n",
       "| ctf       |    1068   | \n",
       "| daytime   |    1056   | \n",
       "| discard   |    1059   | \n",
       "| domain    |    1113   | \n",
       "| domain_u  |   57782   | \n",
       "| echo      |    1059   | \n",
       "| eco_i     |   16338   | \n",
       "| ecr_i     | 2811660   | \n",
       "| efs       |    1042   | \n",
       "| exec      |    1045   | \n",
       "| finger    |    6891   | \n",
       "| ftp       |    5214   | \n",
       "| ftp_data  |   40697   | \n",
       "| gopher    |    1077   | \n",
       "| harvest   |       2   | \n",
       "| hostnames |    1050   | \n",
       "| http      |  623091   | \n",
       "| http_2784 |       1   | \n",
       "| http_443  |    1044   | \n",
       "| http_8001 |       2   | \n",
       "| imap4     |    1069   | \n",
       "| IRC       |     521   | \n",
       "| iso_tsap  |    1052   | \n",
       "| klogin    |    1050   | \n",
       "| kshell    |    1040   | \n",
       "| ⋮ | ⋮ | \n",
       "| nntp       |    1059    | \n",
       "| ntp_u      |    3833    | \n",
       "| other      |   72653    | \n",
       "| pm_dump    |       5    | \n",
       "| pop_2      |    1055    | \n",
       "| pop_3      |    1981    | \n",
       "| printer    |    1045    | \n",
       "| private    | 1100831    | \n",
       "| red_i      |       9    | \n",
       "| remote_job |    1073    | \n",
       "| rje        |    1070    | \n",
       "| shell      |    1051    | \n",
       "| smtp       |   96554    | \n",
       "| sql_net    |    1052    | \n",
       "| ssh        |    1075    | \n",
       "| sunrpc     |    1056    | \n",
       "| supdup     |    1060    | \n",
       "| systat     |    1056    | \n",
       "| telnet     |    4277    | \n",
       "| tftp_u     |       3    | \n",
       "| tim_i      |      12    | \n",
       "| time       |    1579    | \n",
       "| urh_i      |     148    | \n",
       "| urp_i      |    5378    | \n",
       "| uucp       |    1041    | \n",
       "| uucp_path  |    1057    | \n",
       "| vmnet      |    1053    | \n",
       "| whois      |    1073    | \n",
       "| X11        |     135    | \n",
       "| Z39_50     |    1078    | \n",
       "\n",
       "\n"
      ],
      "text/plain": [
       "   V3         freq   \n",
       "1  aol              2\n",
       "2  auth          3382\n",
       "3  bgp           1047\n",
       "4  courier       1021\n",
       "5  csnet_ns      1051\n",
       "6  ctf           1068\n",
       "7  daytime       1056\n",
       "8  discard       1059\n",
       "9  domain        1113\n",
       "10 domain_u     57782\n",
       "11 echo          1059\n",
       "12 eco_i        16338\n",
       "13 ecr_i      2811660\n",
       "14 efs           1042\n",
       "15 exec          1045\n",
       "16 finger        6891\n",
       "17 ftp           5214\n",
       "18 ftp_data     40697\n",
       "19 gopher        1077\n",
       "20 harvest          2\n",
       "21 hostnames     1050\n",
       "22 http        623091\n",
       "23 http_2784        1\n",
       "24 http_443      1044\n",
       "25 http_8001        2\n",
       "26 imap4         1069\n",
       "27 IRC            521\n",
       "28 iso_tsap      1052\n",
       "29 klogin        1050\n",
       "30 kshell        1040\n",
       "⋮  ⋮          ⋮      \n",
       "41 nntp          1059\n",
       "42 ntp_u         3833\n",
       "43 other        72653\n",
       "44 pm_dump          5\n",
       "45 pop_2         1055\n",
       "46 pop_3         1981\n",
       "47 printer       1045\n",
       "48 private    1100831\n",
       "49 red_i            9\n",
       "50 remote_job    1073\n",
       "51 rje           1070\n",
       "52 shell         1051\n",
       "53 smtp         96554\n",
       "54 sql_net       1052\n",
       "55 ssh           1075\n",
       "56 sunrpc        1056\n",
       "57 supdup        1060\n",
       "58 systat        1056\n",
       "59 telnet        4277\n",
       "60 tftp_u           3\n",
       "61 tim_i           12\n",
       "62 time          1579\n",
       "63 urh_i          148\n",
       "64 urp_i         5378\n",
       "65 uucp          1041\n",
       "66 uucp_path     1057\n",
       "67 vmnet         1053\n",
       "68 whois         1073\n",
       "69 X11            135\n",
       "70 Z39_50        1078"
      ]
     },
     "metadata": {},
     "output_type": "display_data"
    },
    {
     "data": {
      "text/html": [
       "<table>\n",
       "<thead><tr><th scope=col>V4</th><th scope=col>freq</th></tr></thead>\n",
       "<tbody>\n",
       "\t<tr><td>OTH    </td><td>     57</td></tr>\n",
       "\t<tr><td>REJ    </td><td> 268874</td></tr>\n",
       "\t<tr><td>RSTO   </td><td>   5344</td></tr>\n",
       "\t<tr><td>RSTOS0 </td><td>    122</td></tr>\n",
       "\t<tr><td>RSTR   </td><td>   8094</td></tr>\n",
       "\t<tr><td>S0     </td><td> 869829</td></tr>\n",
       "\t<tr><td>S1     </td><td>    532</td></tr>\n",
       "\t<tr><td>S2     </td><td>    161</td></tr>\n",
       "\t<tr><td>S3     </td><td>     50</td></tr>\n",
       "\t<tr><td>SF     </td><td>3744328</td></tr>\n",
       "\t<tr><td>SH     </td><td>   1040</td></tr>\n",
       "</tbody>\n",
       "</table>\n"
      ],
      "text/latex": [
       "\\begin{tabular}{r|ll}\n",
       " V4 & freq\\\\\n",
       "\\hline\n",
       "\t OTH     &      57\\\\\n",
       "\t REJ     &  268874\\\\\n",
       "\t RSTO    &    5344\\\\\n",
       "\t RSTOS0  &     122\\\\\n",
       "\t RSTR    &    8094\\\\\n",
       "\t S0      &  869829\\\\\n",
       "\t S1      &     532\\\\\n",
       "\t S2      &     161\\\\\n",
       "\t S3      &      50\\\\\n",
       "\t SF      & 3744328\\\\\n",
       "\t SH      &    1040\\\\\n",
       "\\end{tabular}\n"
      ],
      "text/markdown": [
       "\n",
       "V4 | freq | \n",
       "|---|---|---|---|---|---|---|---|---|---|---|\n",
       "| OTH     |      57 | \n",
       "| REJ     |  268874 | \n",
       "| RSTO    |    5344 | \n",
       "| RSTOS0  |     122 | \n",
       "| RSTR    |    8094 | \n",
       "| S0      |  869829 | \n",
       "| S1      |     532 | \n",
       "| S2      |     161 | \n",
       "| S3      |      50 | \n",
       "| SF      | 3744328 | \n",
       "| SH      |    1040 | \n",
       "\n",
       "\n"
      ],
      "text/plain": [
       "   V4     freq   \n",
       "1  OTH         57\n",
       "2  REJ     268874\n",
       "3  RSTO      5344\n",
       "4  RSTOS0     122\n",
       "5  RSTR      8094\n",
       "6  S0      869829\n",
       "7  S1         532\n",
       "8  S2         161\n",
       "9  S3          50\n",
       "10 SF     3744328\n",
       "11 SH        1040"
      ]
     },
     "metadata": {},
     "output_type": "display_data"
    },
    {
     "data": {
      "text/html": [
       "<table>\n",
       "<thead><tr><th scope=col>V42</th><th scope=col>freq</th></tr></thead>\n",
       "<tbody>\n",
       "\t<tr><td>back.           </td><td>   2203         </td></tr>\n",
       "\t<tr><td>buffer_overflow.</td><td>     30         </td></tr>\n",
       "\t<tr><td>ftp_write.      </td><td>      8         </td></tr>\n",
       "\t<tr><td>guess_passwd.   </td><td>     53         </td></tr>\n",
       "\t<tr><td>imap.           </td><td>     12         </td></tr>\n",
       "\t<tr><td>ipsweep.        </td><td>  12481         </td></tr>\n",
       "\t<tr><td>land.           </td><td>     21         </td></tr>\n",
       "\t<tr><td>loadmodule.     </td><td>      9         </td></tr>\n",
       "\t<tr><td>multihop.       </td><td>      7         </td></tr>\n",
       "\t<tr><td>neptune.        </td><td>1072017         </td></tr>\n",
       "\t<tr><td>nmap.           </td><td>   2316         </td></tr>\n",
       "\t<tr><td>normal.         </td><td> 972781         </td></tr>\n",
       "\t<tr><td>perl.           </td><td>      3         </td></tr>\n",
       "\t<tr><td>phf.            </td><td>      4         </td></tr>\n",
       "\t<tr><td>pod.            </td><td>    264         </td></tr>\n",
       "\t<tr><td>portsweep.      </td><td>  10413         </td></tr>\n",
       "\t<tr><td>rootkit.        </td><td>     10         </td></tr>\n",
       "\t<tr><td>satan.          </td><td>  15892         </td></tr>\n",
       "\t<tr><td>smurf.          </td><td>2807886         </td></tr>\n",
       "\t<tr><td>spy.            </td><td>      2         </td></tr>\n",
       "\t<tr><td>teardrop.       </td><td>    979         </td></tr>\n",
       "\t<tr><td>warezclient.    </td><td>   1020         </td></tr>\n",
       "\t<tr><td>warezmaster.    </td><td>     20         </td></tr>\n",
       "</tbody>\n",
       "</table>\n"
      ],
      "text/latex": [
       "\\begin{tabular}{r|ll}\n",
       " V42 & freq\\\\\n",
       "\\hline\n",
       "\t back.            &    2203         \\\\\n",
       "\t buffer\\_overflow. &      30           \\\\\n",
       "\t ftp\\_write.       &       8           \\\\\n",
       "\t guess\\_passwd.    &      53           \\\\\n",
       "\t imap.            &      12         \\\\\n",
       "\t ipsweep.         &   12481         \\\\\n",
       "\t land.            &      21         \\\\\n",
       "\t loadmodule.      &       9         \\\\\n",
       "\t multihop.        &       7         \\\\\n",
       "\t neptune.         & 1072017         \\\\\n",
       "\t nmap.            &    2316         \\\\\n",
       "\t normal.          &  972781         \\\\\n",
       "\t perl.            &       3         \\\\\n",
       "\t phf.             &       4         \\\\\n",
       "\t pod.             &     264         \\\\\n",
       "\t portsweep.       &   10413         \\\\\n",
       "\t rootkit.         &      10         \\\\\n",
       "\t satan.           &   15892         \\\\\n",
       "\t smurf.           & 2807886         \\\\\n",
       "\t spy.             &       2         \\\\\n",
       "\t teardrop.        &     979         \\\\\n",
       "\t warezclient.     &    1020         \\\\\n",
       "\t warezmaster.     &      20         \\\\\n",
       "\\end{tabular}\n"
      ],
      "text/markdown": [
       "\n",
       "V42 | freq | \n",
       "|---|---|---|---|---|---|---|---|---|---|---|---|---|---|---|---|---|---|---|---|---|---|---|\n",
       "| back.            |    2203          | \n",
       "| buffer_overflow. |      30          | \n",
       "| ftp_write.       |       8          | \n",
       "| guess_passwd.    |      53          | \n",
       "| imap.            |      12          | \n",
       "| ipsweep.         |   12481          | \n",
       "| land.            |      21          | \n",
       "| loadmodule.      |       9          | \n",
       "| multihop.        |       7          | \n",
       "| neptune.         | 1072017          | \n",
       "| nmap.            |    2316          | \n",
       "| normal.          |  972781          | \n",
       "| perl.            |       3          | \n",
       "| phf.             |       4          | \n",
       "| pod.             |     264          | \n",
       "| portsweep.       |   10413          | \n",
       "| rootkit.         |      10          | \n",
       "| satan.           |   15892          | \n",
       "| smurf.           | 2807886          | \n",
       "| spy.             |       2          | \n",
       "| teardrop.        |     979          | \n",
       "| warezclient.     |    1020          | \n",
       "| warezmaster.     |      20          | \n",
       "\n",
       "\n"
      ],
      "text/plain": [
       "   V42              freq   \n",
       "1  back.               2203\n",
       "2  buffer_overflow.      30\n",
       "3  ftp_write.             8\n",
       "4  guess_passwd.         53\n",
       "5  imap.                 12\n",
       "6  ipsweep.           12481\n",
       "7  land.                 21\n",
       "8  loadmodule.            9\n",
       "9  multihop.              7\n",
       "10 neptune.         1072017\n",
       "11 nmap.               2316\n",
       "12 normal.           972781\n",
       "13 perl.                  3\n",
       "14 phf.                   4\n",
       "15 pod.                 264\n",
       "16 portsweep.         10413\n",
       "17 rootkit.              10\n",
       "18 satan.             15892\n",
       "19 smurf.           2807886\n",
       "20 spy.                   2\n",
       "21 teardrop.            979\n",
       "22 warezclient.        1020\n",
       "23 warezmaster.          20"
      ]
     },
     "metadata": {},
     "output_type": "display_data"
    }
   ],
   "source": [
    "#The frequency of different levels of each categorical column\n",
    "count(categorical_columns, 'V2')\n",
    "count(categorical_columns, 'V3')\n",
    "count(categorical_columns, 'V4')\n",
    "count(categorical_columns, 'V42')"
   ]
  },
  {
   "cell_type": "markdown",
   "metadata": {},
   "source": [
    "### 2. NSL-KDD Dataset\n",
    "\n",
    "This dataset is an improvement over KDD dataset and is created with the aim of overcoming some of the problems that existed in KDD dataset. Having a considerable number of records for train and test data, makes this dataset a good choice for experiments.\n",
    "\n",
    "https://www.unb.ca/cic/datasets/nsl.html"
   ]
  },
  {
   "cell_type": "code",
   "execution_count": 68,
   "metadata": {},
   "outputs": [
    {
     "name": "stdout",
     "output_type": "stream",
     "text": [
      "[1] \"Shape of Dataset:\"\n",
      "[1] 25192    43\n"
     ]
    }
   ],
   "source": [
    "nsl_kdd = read.table('KDDTrain+_20Percent.txt',sep=\",\", header = FALSE )\n",
    "print(\"Shape of Dataset:\")\n",
    "print(dim(nsl_kdd))"
   ]
  },
  {
   "cell_type": "code",
   "execution_count": 69,
   "metadata": {},
   "outputs": [
    {
     "name": "stdout",
     "output_type": "stream",
     "text": [
      "'data.frame':\t25192 obs. of  43 variables:\n",
      " $ V1 : int  0 0 0 0 0 0 0 0 0 0 ...\n",
      " $ V2 : Factor w/ 3 levels \"icmp\",\"tcp\",\"udp\": 2 3 2 2 2 2 2 2 2 2 ...\n",
      " $ V3 : Factor w/ 66 levels \"auth\",\"bgp\",\"courier\",..: 17 40 45 20 20 45 45 45 47 45 ...\n",
      " $ V4 : Factor w/ 11 levels \"OTH\",\"REJ\",\"RSTO\",..: 10 10 6 10 10 2 6 6 6 6 ...\n",
      " $ V5 : int  491 146 0 232 199 0 0 0 0 0 ...\n",
      " $ V6 : int  0 0 0 8153 420 0 0 0 0 0 ...\n",
      " $ V7 : int  0 0 0 0 0 0 0 0 0 0 ...\n",
      " $ V8 : int  0 0 0 0 0 0 0 0 0 0 ...\n",
      " $ V9 : int  0 0 0 0 0 0 0 0 0 0 ...\n",
      " $ V10: int  0 0 0 0 0 0 0 0 0 0 ...\n",
      " $ V11: int  0 0 0 0 0 0 0 0 0 0 ...\n",
      " $ V12: int  0 0 0 1 1 0 0 0 0 0 ...\n",
      " $ V13: int  0 0 0 0 0 0 0 0 0 0 ...\n",
      " $ V14: int  0 0 0 0 0 0 0 0 0 0 ...\n",
      " $ V15: int  0 0 0 0 0 0 0 0 0 0 ...\n",
      " $ V16: int  0 0 0 0 0 0 0 0 0 0 ...\n",
      " $ V17: int  0 0 0 0 0 0 0 0 0 0 ...\n",
      " $ V18: int  0 0 0 0 0 0 0 0 0 0 ...\n",
      " $ V19: int  0 0 0 0 0 0 0 0 0 0 ...\n",
      " $ V20: int  0 0 0 0 0 0 0 0 0 0 ...\n",
      " $ V21: int  0 0 0 0 0 0 0 0 0 0 ...\n",
      " $ V22: int  0 0 0 0 0 0 0 0 0 0 ...\n",
      " $ V23: int  2 13 123 5 30 121 166 117 270 133 ...\n",
      " $ V24: int  2 1 6 5 32 19 9 16 23 8 ...\n",
      " $ V25: num  0 0 1 0.2 0 0 1 1 1 1 ...\n",
      " $ V26: num  0 0 1 0.2 0 0 1 1 1 1 ...\n",
      " $ V27: num  0 0 0 0 0 1 0 0 0 0 ...\n",
      " $ V28: num  0 0 0 0 0 1 0 0 0 0 ...\n",
      " $ V29: num  1 0.08 0.05 1 1 0.16 0.05 0.14 0.09 0.06 ...\n",
      " $ V30: num  0 0.15 0.07 0 0 0.06 0.06 0.06 0.05 0.06 ...\n",
      " $ V31: num  0 0 0 0 0.09 0 0 0 0 0 ...\n",
      " $ V32: int  150 255 255 30 255 255 255 255 255 255 ...\n",
      " $ V33: int  25 1 26 255 255 19 9 15 23 13 ...\n",
      " $ V34: num  0.17 0 0.1 1 1 0.07 0.04 0.06 0.09 0.05 ...\n",
      " $ V35: num  0.03 0.6 0.05 0 0 0.07 0.05 0.07 0.05 0.06 ...\n",
      " $ V36: num  0.17 0.88 0 0.03 0 0 0 0 0 0 ...\n",
      " $ V37: num  0 0 0 0.04 0 0 0 0 0 0 ...\n",
      " $ V38: num  0 0 1 0.03 0 0 1 1 1 1 ...\n",
      " $ V39: num  0 0 1 0.01 0 0 1 1 1 1 ...\n",
      " $ V40: num  0.05 0 0 0 0 1 0 0 0 0 ...\n",
      " $ V41: num  0 0 0 0.01 0 1 0 0 0 0 ...\n",
      " $ V42: Factor w/ 22 levels \"back\",\"buffer_overflow\",..: 12 12 10 12 12 10 10 10 10 10 ...\n",
      " $ V43: int  20 15 19 21 21 21 21 21 21 21 ...\n"
     ]
    }
   ],
   "source": [
    "str(nsl_kdd)"
   ]
  },
  {
   "cell_type": "code",
   "execution_count": 70,
   "metadata": {},
   "outputs": [
    {
     "data": {
      "text/html": [
       "<table>\n",
       "<thead><tr><th scope=col>V1</th><th scope=col>V2</th><th scope=col>V3</th><th scope=col>V4</th><th scope=col>V5</th><th scope=col>V6</th><th scope=col>V7</th><th scope=col>V8</th><th scope=col>V9</th><th scope=col>V10</th><th scope=col>⋯</th><th scope=col>V34</th><th scope=col>V35</th><th scope=col>V36</th><th scope=col>V37</th><th scope=col>V38</th><th scope=col>V39</th><th scope=col>V40</th><th scope=col>V41</th><th scope=col>V42</th><th scope=col>V43</th></tr></thead>\n",
       "<tbody>\n",
       "\t<tr><td>0       </td><td>tcp     </td><td>ftp_data</td><td>SF      </td><td>491     </td><td>   0    </td><td>0       </td><td>0       </td><td>0       </td><td>0       </td><td>⋯       </td><td>0.17    </td><td>0.03    </td><td>0.17    </td><td>0.00    </td><td>0.00    </td><td>0.00    </td><td>0.05    </td><td>0.00    </td><td>normal  </td><td>20      </td></tr>\n",
       "\t<tr><td>0       </td><td>udp     </td><td>other   </td><td>SF      </td><td>146     </td><td>   0    </td><td>0       </td><td>0       </td><td>0       </td><td>0       </td><td>⋯       </td><td>0.00    </td><td>0.60    </td><td>0.88    </td><td>0.00    </td><td>0.00    </td><td>0.00    </td><td>0.00    </td><td>0.00    </td><td>normal  </td><td>15      </td></tr>\n",
       "\t<tr><td>0       </td><td>tcp     </td><td>private </td><td>S0      </td><td>  0     </td><td>   0    </td><td>0       </td><td>0       </td><td>0       </td><td>0       </td><td>⋯       </td><td>0.10    </td><td>0.05    </td><td>0.00    </td><td>0.00    </td><td>1.00    </td><td>1.00    </td><td>0.00    </td><td>0.00    </td><td>neptune </td><td>19      </td></tr>\n",
       "\t<tr><td>0       </td><td>tcp     </td><td>http    </td><td>SF      </td><td>232     </td><td>8153    </td><td>0       </td><td>0       </td><td>0       </td><td>0       </td><td>⋯       </td><td>1.00    </td><td>0.00    </td><td>0.03    </td><td>0.04    </td><td>0.03    </td><td>0.01    </td><td>0.00    </td><td>0.01    </td><td>normal  </td><td>21      </td></tr>\n",
       "\t<tr><td>0       </td><td>tcp     </td><td>http    </td><td>SF      </td><td>199     </td><td> 420    </td><td>0       </td><td>0       </td><td>0       </td><td>0       </td><td>⋯       </td><td>1.00    </td><td>0.00    </td><td>0.00    </td><td>0.00    </td><td>0.00    </td><td>0.00    </td><td>0.00    </td><td>0.00    </td><td>normal  </td><td>21      </td></tr>\n",
       "</tbody>\n",
       "</table>\n"
      ],
      "text/latex": [
       "\\begin{tabular}{r|lllllllllllllllllllllllllllllllllllllllllll}\n",
       " V1 & V2 & V3 & V4 & V5 & V6 & V7 & V8 & V9 & V10 & ⋯ & V34 & V35 & V36 & V37 & V38 & V39 & V40 & V41 & V42 & V43\\\\\n",
       "\\hline\n",
       "\t 0          & tcp        & ftp\\_data & SF         & 491        &    0       & 0          & 0          & 0          & 0          & ⋯          & 0.17       & 0.03       & 0.17       & 0.00       & 0.00       & 0.00       & 0.05       & 0.00       & normal     & 20        \\\\\n",
       "\t 0        & udp      & other    & SF       & 146      &    0     & 0        & 0        & 0        & 0        & ⋯        & 0.00     & 0.60     & 0.88     & 0.00     & 0.00     & 0.00     & 0.00     & 0.00     & normal   & 15      \\\\\n",
       "\t 0        & tcp      & private  & S0       &   0      &    0     & 0        & 0        & 0        & 0        & ⋯        & 0.10     & 0.05     & 0.00     & 0.00     & 1.00     & 1.00     & 0.00     & 0.00     & neptune  & 19      \\\\\n",
       "\t 0        & tcp      & http     & SF       & 232      & 8153     & 0        & 0        & 0        & 0        & ⋯        & 1.00     & 0.00     & 0.03     & 0.04     & 0.03     & 0.01     & 0.00     & 0.01     & normal   & 21      \\\\\n",
       "\t 0        & tcp      & http     & SF       & 199      &  420     & 0        & 0        & 0        & 0        & ⋯        & 1.00     & 0.00     & 0.00     & 0.00     & 0.00     & 0.00     & 0.00     & 0.00     & normal   & 21      \\\\\n",
       "\\end{tabular}\n"
      ],
      "text/markdown": [
       "\n",
       "V1 | V2 | V3 | V4 | V5 | V6 | V7 | V8 | V9 | V10 | ⋯ | V34 | V35 | V36 | V37 | V38 | V39 | V40 | V41 | V42 | V43 | \n",
       "|---|---|---|---|---|\n",
       "| 0        | tcp      | ftp_data | SF       | 491      |    0     | 0        | 0        | 0        | 0        | ⋯        | 0.17     | 0.03     | 0.17     | 0.00     | 0.00     | 0.00     | 0.05     | 0.00     | normal   | 20       | \n",
       "| 0        | udp      | other    | SF       | 146      |    0     | 0        | 0        | 0        | 0        | ⋯        | 0.00     | 0.60     | 0.88     | 0.00     | 0.00     | 0.00     | 0.00     | 0.00     | normal   | 15       | \n",
       "| 0        | tcp      | private  | S0       |   0      |    0     | 0        | 0        | 0        | 0        | ⋯        | 0.10     | 0.05     | 0.00     | 0.00     | 1.00     | 1.00     | 0.00     | 0.00     | neptune  | 19       | \n",
       "| 0        | tcp      | http     | SF       | 232      | 8153     | 0        | 0        | 0        | 0        | ⋯        | 1.00     | 0.00     | 0.03     | 0.04     | 0.03     | 0.01     | 0.00     | 0.01     | normal   | 21       | \n",
       "| 0        | tcp      | http     | SF       | 199      |  420     | 0        | 0        | 0        | 0        | ⋯        | 1.00     | 0.00     | 0.00     | 0.00     | 0.00     | 0.00     | 0.00     | 0.00     | normal   | 21       | \n",
       "\n",
       "\n"
      ],
      "text/plain": [
       "  V1 V2  V3       V4 V5  V6   V7 V8 V9 V10 ⋯ V34  V35  V36  V37  V38  V39  V40 \n",
       "1 0  tcp ftp_data SF 491    0 0  0  0  0   ⋯ 0.17 0.03 0.17 0.00 0.00 0.00 0.05\n",
       "2 0  udp other    SF 146    0 0  0  0  0   ⋯ 0.00 0.60 0.88 0.00 0.00 0.00 0.00\n",
       "3 0  tcp private  S0   0    0 0  0  0  0   ⋯ 0.10 0.05 0.00 0.00 1.00 1.00 0.00\n",
       "4 0  tcp http     SF 232 8153 0  0  0  0   ⋯ 1.00 0.00 0.03 0.04 0.03 0.01 0.00\n",
       "5 0  tcp http     SF 199  420 0  0  0  0   ⋯ 1.00 0.00 0.00 0.00 0.00 0.00 0.00\n",
       "  V41  V42     V43\n",
       "1 0.00 normal  20 \n",
       "2 0.00 normal  15 \n",
       "3 0.00 neptune 19 \n",
       "4 0.01 normal  21 \n",
       "5 0.00 normal  21 "
      ]
     },
     "metadata": {},
     "output_type": "display_data"
    }
   ],
   "source": [
    "head(nsl_kdd, 5)"
   ]
  },
  {
   "cell_type": "code",
   "execution_count": 71,
   "metadata": {},
   "outputs": [
    {
     "name": "stdout",
     "output_type": "stream",
     "text": [
      "[1] \"Data Quality Report\"\n"
     ]
    },
    {
     "data": {
      "text/html": [
       "<table>\n",
       "<thead><tr><th></th><th scope=col>data_type</th><th scope=col>count</th><th scope=col>unique_values</th><th scope=col>missing_values</th></tr></thead>\n",
       "<tbody>\n",
       "\t<tr><th scope=row>V1</th><td>integer</td><td>25192  </td><td> 758   </td><td>0      </td></tr>\n",
       "\t<tr><th scope=row>V2</th><td>factor </td><td>25192  </td><td>   3   </td><td>0      </td></tr>\n",
       "\t<tr><th scope=row>V3</th><td>factor </td><td>25192  </td><td>  66   </td><td>0      </td></tr>\n",
       "\t<tr><th scope=row>V4</th><td>factor </td><td>25192  </td><td>  11   </td><td>0      </td></tr>\n",
       "\t<tr><th scope=row>V5</th><td>integer</td><td>25192  </td><td>1665   </td><td>0      </td></tr>\n",
       "\t<tr><th scope=row>V6</th><td>integer</td><td>25192  </td><td>3922   </td><td>0      </td></tr>\n",
       "\t<tr><th scope=row>V7</th><td>integer</td><td>25192  </td><td>   2   </td><td>0      </td></tr>\n",
       "\t<tr><th scope=row>V8</th><td>integer</td><td>25192  </td><td>   3   </td><td>0      </td></tr>\n",
       "\t<tr><th scope=row>V9</th><td>integer</td><td>25192  </td><td>   2   </td><td>0      </td></tr>\n",
       "\t<tr><th scope=row>V10</th><td>integer</td><td>25192  </td><td>  22   </td><td>0      </td></tr>\n",
       "\t<tr><th scope=row>V11</th><td>integer</td><td>25192  </td><td>   5   </td><td>0      </td></tr>\n",
       "\t<tr><th scope=row>V12</th><td>integer</td><td>25192  </td><td>   2   </td><td>0      </td></tr>\n",
       "\t<tr><th scope=row>V13</th><td>integer</td><td>25192  </td><td>  28   </td><td>0      </td></tr>\n",
       "\t<tr><th scope=row>V14</th><td>integer</td><td>25192  </td><td>   2   </td><td>0      </td></tr>\n",
       "\t<tr><th scope=row>V15</th><td>integer</td><td>25192  </td><td>   3   </td><td>0      </td></tr>\n",
       "\t<tr><th scope=row>V16</th><td>integer</td><td>25192  </td><td>  28   </td><td>0      </td></tr>\n",
       "\t<tr><th scope=row>V17</th><td>integer</td><td>25192  </td><td>  20   </td><td>0      </td></tr>\n",
       "\t<tr><th scope=row>V18</th><td>integer</td><td>25192  </td><td>   2   </td><td>0      </td></tr>\n",
       "\t<tr><th scope=row>V19</th><td>integer</td><td>25192  </td><td>   7   </td><td>0      </td></tr>\n",
       "\t<tr><th scope=row>V20</th><td>integer</td><td>25192  </td><td>   1   </td><td>0      </td></tr>\n",
       "\t<tr><th scope=row>V21</th><td>integer</td><td>25192  </td><td>   1   </td><td>0      </td></tr>\n",
       "\t<tr><th scope=row>V22</th><td>integer</td><td>25192  </td><td>   2   </td><td>0      </td></tr>\n",
       "\t<tr><th scope=row>V23</th><td>integer</td><td>25192  </td><td> 466   </td><td>0      </td></tr>\n",
       "\t<tr><th scope=row>V24</th><td>integer</td><td>25192  </td><td> 414   </td><td>0      </td></tr>\n",
       "\t<tr><th scope=row>V25</th><td>numeric</td><td>25192  </td><td>  70   </td><td>0      </td></tr>\n",
       "\t<tr><th scope=row>V26</th><td>numeric</td><td>25192  </td><td>  56   </td><td>0      </td></tr>\n",
       "\t<tr><th scope=row>V27</th><td>numeric</td><td>25192  </td><td>  72   </td><td>0      </td></tr>\n",
       "\t<tr><th scope=row>V28</th><td>numeric</td><td>25192  </td><td>  42   </td><td>0      </td></tr>\n",
       "\t<tr><th scope=row>V29</th><td>numeric</td><td>25192  </td><td>  97   </td><td>0      </td></tr>\n",
       "\t<tr><th scope=row>V30</th><td>numeric</td><td>25192  </td><td>  79   </td><td>0      </td></tr>\n",
       "\t<tr><th scope=row>V31</th><td>numeric</td><td>25192  </td><td>  57   </td><td>0      </td></tr>\n",
       "\t<tr><th scope=row>V32</th><td>integer</td><td>25192  </td><td> 256   </td><td>0      </td></tr>\n",
       "\t<tr><th scope=row>V33</th><td>integer</td><td>25192  </td><td> 256   </td><td>0      </td></tr>\n",
       "\t<tr><th scope=row>V34</th><td>numeric</td><td>25192  </td><td> 101   </td><td>0      </td></tr>\n",
       "\t<tr><th scope=row>V35</th><td>numeric</td><td>25192  </td><td> 101   </td><td>0      </td></tr>\n",
       "\t<tr><th scope=row>V36</th><td>numeric</td><td>25192  </td><td> 101   </td><td>0      </td></tr>\n",
       "\t<tr><th scope=row>V37</th><td>numeric</td><td>25192  </td><td>  63   </td><td>0      </td></tr>\n",
       "\t<tr><th scope=row>V38</th><td>numeric</td><td>25192  </td><td> 100   </td><td>0      </td></tr>\n",
       "\t<tr><th scope=row>V39</th><td>numeric</td><td>25192  </td><td>  88   </td><td>0      </td></tr>\n",
       "\t<tr><th scope=row>V40</th><td>numeric</td><td>25192  </td><td> 101   </td><td>0      </td></tr>\n",
       "\t<tr><th scope=row>V41</th><td>numeric</td><td>25192  </td><td> 100   </td><td>0      </td></tr>\n",
       "\t<tr><th scope=row>V42</th><td>factor </td><td>25192  </td><td>  22   </td><td>0      </td></tr>\n",
       "\t<tr><th scope=row>V43</th><td>integer</td><td>25192  </td><td>  22   </td><td>0      </td></tr>\n",
       "</tbody>\n",
       "</table>\n"
      ],
      "text/latex": [
       "\\begin{tabular}{r|llll}\n",
       "  & data\\_type & count & unique\\_values & missing\\_values\\\\\n",
       "\\hline\n",
       "\tV1 & integer & 25192   &  758    & 0      \\\\\n",
       "\tV2 & factor  & 25192   &    3    & 0      \\\\\n",
       "\tV3 & factor  & 25192   &   66    & 0      \\\\\n",
       "\tV4 & factor  & 25192   &   11    & 0      \\\\\n",
       "\tV5 & integer & 25192   & 1665    & 0      \\\\\n",
       "\tV6 & integer & 25192   & 3922    & 0      \\\\\n",
       "\tV7 & integer & 25192   &    2    & 0      \\\\\n",
       "\tV8 & integer & 25192   &    3    & 0      \\\\\n",
       "\tV9 & integer & 25192   &    2    & 0      \\\\\n",
       "\tV10 & integer & 25192   &   22    & 0      \\\\\n",
       "\tV11 & integer & 25192   &    5    & 0      \\\\\n",
       "\tV12 & integer & 25192   &    2    & 0      \\\\\n",
       "\tV13 & integer & 25192   &   28    & 0      \\\\\n",
       "\tV14 & integer & 25192   &    2    & 0      \\\\\n",
       "\tV15 & integer & 25192   &    3    & 0      \\\\\n",
       "\tV16 & integer & 25192   &   28    & 0      \\\\\n",
       "\tV17 & integer & 25192   &   20    & 0      \\\\\n",
       "\tV18 & integer & 25192   &    2    & 0      \\\\\n",
       "\tV19 & integer & 25192   &    7    & 0      \\\\\n",
       "\tV20 & integer & 25192   &    1    & 0      \\\\\n",
       "\tV21 & integer & 25192   &    1    & 0      \\\\\n",
       "\tV22 & integer & 25192   &    2    & 0      \\\\\n",
       "\tV23 & integer & 25192   &  466    & 0      \\\\\n",
       "\tV24 & integer & 25192   &  414    & 0      \\\\\n",
       "\tV25 & numeric & 25192   &   70    & 0      \\\\\n",
       "\tV26 & numeric & 25192   &   56    & 0      \\\\\n",
       "\tV27 & numeric & 25192   &   72    & 0      \\\\\n",
       "\tV28 & numeric & 25192   &   42    & 0      \\\\\n",
       "\tV29 & numeric & 25192   &   97    & 0      \\\\\n",
       "\tV30 & numeric & 25192   &   79    & 0      \\\\\n",
       "\tV31 & numeric & 25192   &   57    & 0      \\\\\n",
       "\tV32 & integer & 25192   &  256    & 0      \\\\\n",
       "\tV33 & integer & 25192   &  256    & 0      \\\\\n",
       "\tV34 & numeric & 25192   &  101    & 0      \\\\\n",
       "\tV35 & numeric & 25192   &  101    & 0      \\\\\n",
       "\tV36 & numeric & 25192   &  101    & 0      \\\\\n",
       "\tV37 & numeric & 25192   &   63    & 0      \\\\\n",
       "\tV38 & numeric & 25192   &  100    & 0      \\\\\n",
       "\tV39 & numeric & 25192   &   88    & 0      \\\\\n",
       "\tV40 & numeric & 25192   &  101    & 0      \\\\\n",
       "\tV41 & numeric & 25192   &  100    & 0      \\\\\n",
       "\tV42 & factor  & 25192   &   22    & 0      \\\\\n",
       "\tV43 & integer & 25192   &   22    & 0      \\\\\n",
       "\\end{tabular}\n"
      ],
      "text/markdown": [
       "\n",
       "| <!--/--> | data_type | count | unique_values | missing_values | \n",
       "|---|---|---|---|---|---|---|---|---|---|---|---|---|---|---|---|---|---|---|---|---|---|---|---|---|---|---|---|---|---|---|---|---|---|---|---|---|---|---|---|---|---|---|\n",
       "| V1 | integer | 25192   |  758    | 0       | \n",
       "| V2 | factor  | 25192   |    3    | 0       | \n",
       "| V3 | factor  | 25192   |   66    | 0       | \n",
       "| V4 | factor  | 25192   |   11    | 0       | \n",
       "| V5 | integer | 25192   | 1665    | 0       | \n",
       "| V6 | integer | 25192   | 3922    | 0       | \n",
       "| V7 | integer | 25192   |    2    | 0       | \n",
       "| V8 | integer | 25192   |    3    | 0       | \n",
       "| V9 | integer | 25192   |    2    | 0       | \n",
       "| V10 | integer | 25192   |   22    | 0       | \n",
       "| V11 | integer | 25192   |    5    | 0       | \n",
       "| V12 | integer | 25192   |    2    | 0       | \n",
       "| V13 | integer | 25192   |   28    | 0       | \n",
       "| V14 | integer | 25192   |    2    | 0       | \n",
       "| V15 | integer | 25192   |    3    | 0       | \n",
       "| V16 | integer | 25192   |   28    | 0       | \n",
       "| V17 | integer | 25192   |   20    | 0       | \n",
       "| V18 | integer | 25192   |    2    | 0       | \n",
       "| V19 | integer | 25192   |    7    | 0       | \n",
       "| V20 | integer | 25192   |    1    | 0       | \n",
       "| V21 | integer | 25192   |    1    | 0       | \n",
       "| V22 | integer | 25192   |    2    | 0       | \n",
       "| V23 | integer | 25192   |  466    | 0       | \n",
       "| V24 | integer | 25192   |  414    | 0       | \n",
       "| V25 | numeric | 25192   |   70    | 0       | \n",
       "| V26 | numeric | 25192   |   56    | 0       | \n",
       "| V27 | numeric | 25192   |   72    | 0       | \n",
       "| V28 | numeric | 25192   |   42    | 0       | \n",
       "| V29 | numeric | 25192   |   97    | 0       | \n",
       "| V30 | numeric | 25192   |   79    | 0       | \n",
       "| V31 | numeric | 25192   |   57    | 0       | \n",
       "| V32 | integer | 25192   |  256    | 0       | \n",
       "| V33 | integer | 25192   |  256    | 0       | \n",
       "| V34 | numeric | 25192   |  101    | 0       | \n",
       "| V35 | numeric | 25192   |  101    | 0       | \n",
       "| V36 | numeric | 25192   |  101    | 0       | \n",
       "| V37 | numeric | 25192   |   63    | 0       | \n",
       "| V38 | numeric | 25192   |  100    | 0       | \n",
       "| V39 | numeric | 25192   |   88    | 0       | \n",
       "| V40 | numeric | 25192   |  101    | 0       | \n",
       "| V41 | numeric | 25192   |  100    | 0       | \n",
       "| V42 | factor  | 25192   |   22    | 0       | \n",
       "| V43 | integer | 25192   |   22    | 0       | \n",
       "\n",
       "\n"
      ],
      "text/plain": [
       "    data_type count unique_values missing_values\n",
       "V1  integer   25192  758          0             \n",
       "V2  factor    25192    3          0             \n",
       "V3  factor    25192   66          0             \n",
       "V4  factor    25192   11          0             \n",
       "V5  integer   25192 1665          0             \n",
       "V6  integer   25192 3922          0             \n",
       "V7  integer   25192    2          0             \n",
       "V8  integer   25192    3          0             \n",
       "V9  integer   25192    2          0             \n",
       "V10 integer   25192   22          0             \n",
       "V11 integer   25192    5          0             \n",
       "V12 integer   25192    2          0             \n",
       "V13 integer   25192   28          0             \n",
       "V14 integer   25192    2          0             \n",
       "V15 integer   25192    3          0             \n",
       "V16 integer   25192   28          0             \n",
       "V17 integer   25192   20          0             \n",
       "V18 integer   25192    2          0             \n",
       "V19 integer   25192    7          0             \n",
       "V20 integer   25192    1          0             \n",
       "V21 integer   25192    1          0             \n",
       "V22 integer   25192    2          0             \n",
       "V23 integer   25192  466          0             \n",
       "V24 integer   25192  414          0             \n",
       "V25 numeric   25192   70          0             \n",
       "V26 numeric   25192   56          0             \n",
       "V27 numeric   25192   72          0             \n",
       "V28 numeric   25192   42          0             \n",
       "V29 numeric   25192   97          0             \n",
       "V30 numeric   25192   79          0             \n",
       "V31 numeric   25192   57          0             \n",
       "V32 integer   25192  256          0             \n",
       "V33 integer   25192  256          0             \n",
       "V34 numeric   25192  101          0             \n",
       "V35 numeric   25192  101          0             \n",
       "V36 numeric   25192  101          0             \n",
       "V37 numeric   25192   63          0             \n",
       "V38 numeric   25192  100          0             \n",
       "V39 numeric   25192   88          0             \n",
       "V40 numeric   25192  101          0             \n",
       "V41 numeric   25192  100          0             \n",
       "V42 factor    25192   22          0             \n",
       "V43 integer   25192   22          0             "
      ]
     },
     "metadata": {},
     "output_type": "display_data"
    }
   ],
   "source": [
    "#Call 'data_report' function for the dataset\n",
    "data_report(nsl_kdd)"
   ]
  },
  {
   "cell_type": "code",
   "execution_count": 72,
   "metadata": {},
   "outputs": [
    {
     "data": {
      "text/html": [
       "<table>\n",
       "<thead><tr><th scope=col>V1</th><th scope=col>V5</th><th scope=col>V6</th><th scope=col>V7</th><th scope=col>V8</th><th scope=col>V9</th><th scope=col>V10</th><th scope=col>V11</th><th scope=col>V12</th><th scope=col>V13</th><th scope=col>⋯</th><th scope=col>V33</th><th scope=col>V34</th><th scope=col>V35</th><th scope=col>V36</th><th scope=col>V37</th><th scope=col>V38</th><th scope=col>V39</th><th scope=col>V40</th><th scope=col>V41</th><th scope=col>V43</th></tr></thead>\n",
       "<tbody>\n",
       "\t<tr><td>0   </td><td>491 </td><td>   0</td><td>0   </td><td>0   </td><td>0   </td><td>0   </td><td>0   </td><td>0   </td><td>0   </td><td>⋯   </td><td> 25 </td><td>0.17</td><td>0.03</td><td>0.17</td><td>0.00</td><td>0.00</td><td>0.00</td><td>0.05</td><td>0.00</td><td>20  </td></tr>\n",
       "\t<tr><td>0   </td><td>146 </td><td>   0</td><td>0   </td><td>0   </td><td>0   </td><td>0   </td><td>0   </td><td>0   </td><td>0   </td><td>⋯   </td><td>  1 </td><td>0.00</td><td>0.60</td><td>0.88</td><td>0.00</td><td>0.00</td><td>0.00</td><td>0.00</td><td>0.00</td><td>15  </td></tr>\n",
       "\t<tr><td>0   </td><td>  0 </td><td>   0</td><td>0   </td><td>0   </td><td>0   </td><td>0   </td><td>0   </td><td>0   </td><td>0   </td><td>⋯   </td><td> 26 </td><td>0.10</td><td>0.05</td><td>0.00</td><td>0.00</td><td>1.00</td><td>1.00</td><td>0.00</td><td>0.00</td><td>19  </td></tr>\n",
       "\t<tr><td>0   </td><td>232 </td><td>8153</td><td>0   </td><td>0   </td><td>0   </td><td>0   </td><td>0   </td><td>1   </td><td>0   </td><td>⋯   </td><td>255 </td><td>1.00</td><td>0.00</td><td>0.03</td><td>0.04</td><td>0.03</td><td>0.01</td><td>0.00</td><td>0.01</td><td>21  </td></tr>\n",
       "\t<tr><td>0   </td><td>199 </td><td> 420</td><td>0   </td><td>0   </td><td>0   </td><td>0   </td><td>0   </td><td>1   </td><td>0   </td><td>⋯   </td><td>255 </td><td>1.00</td><td>0.00</td><td>0.00</td><td>0.00</td><td>0.00</td><td>0.00</td><td>0.00</td><td>0.00</td><td>21  </td></tr>\n",
       "\t<tr><td>0   </td><td>  0 </td><td>   0</td><td>0   </td><td>0   </td><td>0   </td><td>0   </td><td>0   </td><td>0   </td><td>0   </td><td>⋯   </td><td> 19 </td><td>0.07</td><td>0.07</td><td>0.00</td><td>0.00</td><td>0.00</td><td>0.00</td><td>1.00</td><td>1.00</td><td>21  </td></tr>\n",
       "</tbody>\n",
       "</table>\n"
      ],
      "text/latex": [
       "\\begin{tabular}{r|lllllllllllllllllllllllllllllllllllllll}\n",
       " V1 & V5 & V6 & V7 & V8 & V9 & V10 & V11 & V12 & V13 & ⋯ & V33 & V34 & V35 & V36 & V37 & V38 & V39 & V40 & V41 & V43\\\\\n",
       "\\hline\n",
       "\t 0    & 491  &    0 & 0    & 0    & 0    & 0    & 0    & 0    & 0    & ⋯    &  25  & 0.17 & 0.03 & 0.17 & 0.00 & 0.00 & 0.00 & 0.05 & 0.00 & 20  \\\\\n",
       "\t 0    & 146  &    0 & 0    & 0    & 0    & 0    & 0    & 0    & 0    & ⋯    &   1  & 0.00 & 0.60 & 0.88 & 0.00 & 0.00 & 0.00 & 0.00 & 0.00 & 15  \\\\\n",
       "\t 0    &   0  &    0 & 0    & 0    & 0    & 0    & 0    & 0    & 0    & ⋯    &  26  & 0.10 & 0.05 & 0.00 & 0.00 & 1.00 & 1.00 & 0.00 & 0.00 & 19  \\\\\n",
       "\t 0    & 232  & 8153 & 0    & 0    & 0    & 0    & 0    & 1    & 0    & ⋯    & 255  & 1.00 & 0.00 & 0.03 & 0.04 & 0.03 & 0.01 & 0.00 & 0.01 & 21  \\\\\n",
       "\t 0    & 199  &  420 & 0    & 0    & 0    & 0    & 0    & 1    & 0    & ⋯    & 255  & 1.00 & 0.00 & 0.00 & 0.00 & 0.00 & 0.00 & 0.00 & 0.00 & 21  \\\\\n",
       "\t 0    &   0  &    0 & 0    & 0    & 0    & 0    & 0    & 0    & 0    & ⋯    &  19  & 0.07 & 0.07 & 0.00 & 0.00 & 0.00 & 0.00 & 1.00 & 1.00 & 21  \\\\\n",
       "\\end{tabular}\n"
      ],
      "text/markdown": [
       "\n",
       "V1 | V5 | V6 | V7 | V8 | V9 | V10 | V11 | V12 | V13 | ⋯ | V33 | V34 | V35 | V36 | V37 | V38 | V39 | V40 | V41 | V43 | \n",
       "|---|---|---|---|---|---|\n",
       "| 0    | 491  |    0 | 0    | 0    | 0    | 0    | 0    | 0    | 0    | ⋯    |  25  | 0.17 | 0.03 | 0.17 | 0.00 | 0.00 | 0.00 | 0.05 | 0.00 | 20   | \n",
       "| 0    | 146  |    0 | 0    | 0    | 0    | 0    | 0    | 0    | 0    | ⋯    |   1  | 0.00 | 0.60 | 0.88 | 0.00 | 0.00 | 0.00 | 0.00 | 0.00 | 15   | \n",
       "| 0    |   0  |    0 | 0    | 0    | 0    | 0    | 0    | 0    | 0    | ⋯    |  26  | 0.10 | 0.05 | 0.00 | 0.00 | 1.00 | 1.00 | 0.00 | 0.00 | 19   | \n",
       "| 0    | 232  | 8153 | 0    | 0    | 0    | 0    | 0    | 1    | 0    | ⋯    | 255  | 1.00 | 0.00 | 0.03 | 0.04 | 0.03 | 0.01 | 0.00 | 0.01 | 21   | \n",
       "| 0    | 199  |  420 | 0    | 0    | 0    | 0    | 0    | 1    | 0    | ⋯    | 255  | 1.00 | 0.00 | 0.00 | 0.00 | 0.00 | 0.00 | 0.00 | 0.00 | 21   | \n",
       "| 0    |   0  |    0 | 0    | 0    | 0    | 0    | 0    | 0    | 0    | ⋯    |  19  | 0.07 | 0.07 | 0.00 | 0.00 | 0.00 | 0.00 | 1.00 | 1.00 | 21   | \n",
       "\n",
       "\n"
      ],
      "text/plain": [
       "  V1 V5  V6   V7 V8 V9 V10 V11 V12 V13 ⋯ V33 V34  V35  V36  V37  V38  V39  V40 \n",
       "1 0  491    0 0  0  0  0   0   0   0   ⋯  25 0.17 0.03 0.17 0.00 0.00 0.00 0.05\n",
       "2 0  146    0 0  0  0  0   0   0   0   ⋯   1 0.00 0.60 0.88 0.00 0.00 0.00 0.00\n",
       "3 0    0    0 0  0  0  0   0   0   0   ⋯  26 0.10 0.05 0.00 0.00 1.00 1.00 0.00\n",
       "4 0  232 8153 0  0  0  0   0   1   0   ⋯ 255 1.00 0.00 0.03 0.04 0.03 0.01 0.00\n",
       "5 0  199  420 0  0  0  0   0   1   0   ⋯ 255 1.00 0.00 0.00 0.00 0.00 0.00 0.00\n",
       "6 0    0    0 0  0  0  0   0   0   0   ⋯  19 0.07 0.07 0.00 0.00 0.00 0.00 1.00\n",
       "  V41  V43\n",
       "1 0.00 20 \n",
       "2 0.00 15 \n",
       "3 0.00 19 \n",
       "4 0.01 21 \n",
       "5 0.00 21 \n",
       "6 1.00 21 "
      ]
     },
     "metadata": {},
     "output_type": "display_data"
    },
    {
     "data": {
      "text/html": [
       "'Number of numerical columns: 39'"
      ],
      "text/latex": [
       "'Number of numerical columns: 39'"
      ],
      "text/markdown": [
       "'Number of numerical columns: 39'"
      ],
      "text/plain": [
       "[1] \"Number of numerical columns: 39\""
      ]
     },
     "metadata": {},
     "output_type": "display_data"
    }
   ],
   "source": [
    "#Create a dataframe of numeric columns\n",
    "numeric_columns <- select_if(nsl_kdd, is.numeric)\n",
    "head(numeric_columns)\n",
    "sprintf(\"Number of numerical columns: %i\", ncol(numeric_columns))"
   ]
  },
  {
   "cell_type": "code",
   "execution_count": 73,
   "metadata": {},
   "outputs": [
    {
     "data": {
      "text/html": [
       "<table>\n",
       "<thead><tr><th scope=col>V2</th><th scope=col>V3</th><th scope=col>V4</th><th scope=col>V42</th></tr></thead>\n",
       "<tbody>\n",
       "\t<tr><td>tcp     </td><td>ftp_data</td><td>SF      </td><td>normal  </td></tr>\n",
       "\t<tr><td>udp     </td><td>other   </td><td>SF      </td><td>normal  </td></tr>\n",
       "\t<tr><td>tcp     </td><td>private </td><td>S0      </td><td>neptune </td></tr>\n",
       "\t<tr><td>tcp     </td><td>http    </td><td>SF      </td><td>normal  </td></tr>\n",
       "\t<tr><td>tcp     </td><td>http    </td><td>SF      </td><td>normal  </td></tr>\n",
       "\t<tr><td>tcp     </td><td>private </td><td>REJ     </td><td>neptune </td></tr>\n",
       "</tbody>\n",
       "</table>\n"
      ],
      "text/latex": [
       "\\begin{tabular}{r|llll}\n",
       " V2 & V3 & V4 & V42\\\\\n",
       "\\hline\n",
       "\t tcp        & ftp\\_data & SF         & normal    \\\\\n",
       "\t udp      & other    & SF       & normal  \\\\\n",
       "\t tcp      & private  & S0       & neptune \\\\\n",
       "\t tcp      & http     & SF       & normal  \\\\\n",
       "\t tcp      & http     & SF       & normal  \\\\\n",
       "\t tcp      & private  & REJ      & neptune \\\\\n",
       "\\end{tabular}\n"
      ],
      "text/markdown": [
       "\n",
       "V2 | V3 | V4 | V42 | \n",
       "|---|---|---|---|---|---|\n",
       "| tcp      | ftp_data | SF       | normal   | \n",
       "| udp      | other    | SF       | normal   | \n",
       "| tcp      | private  | S0       | neptune  | \n",
       "| tcp      | http     | SF       | normal   | \n",
       "| tcp      | http     | SF       | normal   | \n",
       "| tcp      | private  | REJ      | neptune  | \n",
       "\n",
       "\n"
      ],
      "text/plain": [
       "  V2  V3       V4  V42    \n",
       "1 tcp ftp_data SF  normal \n",
       "2 udp other    SF  normal \n",
       "3 tcp private  S0  neptune\n",
       "4 tcp http     SF  normal \n",
       "5 tcp http     SF  normal \n",
       "6 tcp private  REJ neptune"
      ]
     },
     "metadata": {},
     "output_type": "display_data"
    },
    {
     "data": {
      "text/html": [
       "'Number of categorical columns: 4'"
      ],
      "text/latex": [
       "'Number of categorical columns: 4'"
      ],
      "text/markdown": [
       "'Number of categorical columns: 4'"
      ],
      "text/plain": [
       "[1] \"Number of categorical columns: 4\""
      ]
     },
     "metadata": {},
     "output_type": "display_data"
    }
   ],
   "source": [
    "                                                             \n",
    "#Create a dataframe of categorical columns\n",
    "categorical_columns <- select_if(nsl_kdd, is.factor)\n",
    "head(categorical_columns)\n",
    "sprintf(\"Number of categorical columns: %i\", ncol(categorical_columns))"
   ]
  },
  {
   "cell_type": "code",
   "execution_count": 74,
   "metadata": {},
   "outputs": [
    {
     "data": {
      "text/html": [
       "<table>\n",
       "<thead><tr><th scope=col>V2</th><th scope=col>freq</th></tr></thead>\n",
       "<tbody>\n",
       "\t<tr><td>icmp </td><td> 1655</td></tr>\n",
       "\t<tr><td>tcp  </td><td>20526</td></tr>\n",
       "\t<tr><td>udp  </td><td> 3011</td></tr>\n",
       "</tbody>\n",
       "</table>\n"
      ],
      "text/latex": [
       "\\begin{tabular}{r|ll}\n",
       " V2 & freq\\\\\n",
       "\\hline\n",
       "\t icmp  &  1655\\\\\n",
       "\t tcp   & 20526\\\\\n",
       "\t udp   &  3011\\\\\n",
       "\\end{tabular}\n"
      ],
      "text/markdown": [
       "\n",
       "V2 | freq | \n",
       "|---|---|---|\n",
       "| icmp  |  1655 | \n",
       "| tcp   | 20526 | \n",
       "| udp   |  3011 | \n",
       "\n",
       "\n"
      ],
      "text/plain": [
       "  V2   freq \n",
       "1 icmp  1655\n",
       "2 tcp  20526\n",
       "3 udp   3011"
      ]
     },
     "metadata": {},
     "output_type": "display_data"
    },
    {
     "data": {
      "text/html": [
       "<table>\n",
       "<thead><tr><th scope=col>V3</th><th scope=col>freq</th></tr></thead>\n",
       "<tbody>\n",
       "\t<tr><td>auth     </td><td> 189     </td></tr>\n",
       "\t<tr><td>bgp      </td><td> 146     </td></tr>\n",
       "\t<tr><td>courier  </td><td> 164     </td></tr>\n",
       "\t<tr><td>csnet_ns </td><td> 111     </td></tr>\n",
       "\t<tr><td>ctf      </td><td> 127     </td></tr>\n",
       "\t<tr><td>daytime  </td><td> 107     </td></tr>\n",
       "\t<tr><td>discard  </td><td> 105     </td></tr>\n",
       "\t<tr><td>domain   </td><td> 109     </td></tr>\n",
       "\t<tr><td>domain_u </td><td>1820     </td></tr>\n",
       "\t<tr><td>echo     </td><td>  65     </td></tr>\n",
       "\t<tr><td>eco_i    </td><td> 909     </td></tr>\n",
       "\t<tr><td>ecr_i    </td><td> 613     </td></tr>\n",
       "\t<tr><td>efs      </td><td> 110     </td></tr>\n",
       "\t<tr><td>exec     </td><td>  91     </td></tr>\n",
       "\t<tr><td>finger   </td><td> 366     </td></tr>\n",
       "\t<tr><td>ftp      </td><td> 345     </td></tr>\n",
       "\t<tr><td>ftp_data </td><td>1396     </td></tr>\n",
       "\t<tr><td>gopher   </td><td> 109     </td></tr>\n",
       "\t<tr><td>hostnames</td><td>  96     </td></tr>\n",
       "\t<tr><td>http     </td><td>8003     </td></tr>\n",
       "\t<tr><td>http_443 </td><td> 113     </td></tr>\n",
       "\t<tr><td>http_8001</td><td>   1     </td></tr>\n",
       "\t<tr><td>imap4    </td><td> 138     </td></tr>\n",
       "\t<tr><td>IRC      </td><td>  40     </td></tr>\n",
       "\t<tr><td>iso_tsap </td><td> 131     </td></tr>\n",
       "\t<tr><td>klogin   </td><td>  92     </td></tr>\n",
       "\t<tr><td>kshell   </td><td>  67     </td></tr>\n",
       "\t<tr><td>ldap     </td><td>  90     </td></tr>\n",
       "\t<tr><td>link     </td><td>  85     </td></tr>\n",
       "\t<tr><td>login    </td><td>  79     </td></tr>\n",
       "\t<tr><td>⋮</td><td>⋮</td></tr>\n",
       "\t<tr><td>nnsp      </td><td> 123      </td></tr>\n",
       "\t<tr><td>nntp      </td><td>  61      </td></tr>\n",
       "\t<tr><td>ntp_u     </td><td>  32      </td></tr>\n",
       "\t<tr><td>other     </td><td> 858      </td></tr>\n",
       "\t<tr><td>pm_dump   </td><td>   3      </td></tr>\n",
       "\t<tr><td>pop_2     </td><td>  17      </td></tr>\n",
       "\t<tr><td>pop_3     </td><td>  53      </td></tr>\n",
       "\t<tr><td>printer   </td><td>  12      </td></tr>\n",
       "\t<tr><td>private   </td><td>4351      </td></tr>\n",
       "\t<tr><td>red_i     </td><td>   3      </td></tr>\n",
       "\t<tr><td>remote_job</td><td>  17      </td></tr>\n",
       "\t<tr><td>rje       </td><td>  20      </td></tr>\n",
       "\t<tr><td>shell     </td><td>  11      </td></tr>\n",
       "\t<tr><td>smtp      </td><td>1449      </td></tr>\n",
       "\t<tr><td>sql_net   </td><td>  46      </td></tr>\n",
       "\t<tr><td>ssh       </td><td>  58      </td></tr>\n",
       "\t<tr><td>sunrpc    </td><td>  67      </td></tr>\n",
       "\t<tr><td>supdup    </td><td> 114      </td></tr>\n",
       "\t<tr><td>systat    </td><td>  88      </td></tr>\n",
       "\t<tr><td>telnet    </td><td> 483      </td></tr>\n",
       "\t<tr><td>tim_i     </td><td>   2      </td></tr>\n",
       "\t<tr><td>time      </td><td> 155      </td></tr>\n",
       "\t<tr><td>urh_i     </td><td>   4      </td></tr>\n",
       "\t<tr><td>urp_i     </td><td> 124      </td></tr>\n",
       "\t<tr><td>uucp      </td><td> 157      </td></tr>\n",
       "\t<tr><td>uucp_path </td><td> 133      </td></tr>\n",
       "\t<tr><td>vmnet     </td><td> 107      </td></tr>\n",
       "\t<tr><td>whois     </td><td> 145      </td></tr>\n",
       "\t<tr><td>X11       </td><td>  22      </td></tr>\n",
       "\t<tr><td>Z39_50    </td><td> 172      </td></tr>\n",
       "</tbody>\n",
       "</table>\n"
      ],
      "text/latex": [
       "\\begin{tabular}{r|ll}\n",
       " V3 & freq\\\\\n",
       "\\hline\n",
       "\t auth      &  189     \\\\\n",
       "\t bgp       &  146     \\\\\n",
       "\t courier   &  164     \\\\\n",
       "\t csnet\\_ns  &  111       \\\\\n",
       "\t ctf       &  127     \\\\\n",
       "\t daytime   &  107     \\\\\n",
       "\t discard   &  105     \\\\\n",
       "\t domain    &  109     \\\\\n",
       "\t domain\\_u  & 1820       \\\\\n",
       "\t echo      &   65     \\\\\n",
       "\t eco\\_i     &  909       \\\\\n",
       "\t ecr\\_i     &  613       \\\\\n",
       "\t efs       &  110     \\\\\n",
       "\t exec      &   91     \\\\\n",
       "\t finger    &  366     \\\\\n",
       "\t ftp       &  345     \\\\\n",
       "\t ftp\\_data  & 1396       \\\\\n",
       "\t gopher    &  109     \\\\\n",
       "\t hostnames &   96     \\\\\n",
       "\t http      & 8003     \\\\\n",
       "\t http\\_443  &  113       \\\\\n",
       "\t http\\_8001 &    1       \\\\\n",
       "\t imap4     &  138     \\\\\n",
       "\t IRC       &   40     \\\\\n",
       "\t iso\\_tsap  &  131       \\\\\n",
       "\t klogin    &   92     \\\\\n",
       "\t kshell    &   67     \\\\\n",
       "\t ldap      &   90     \\\\\n",
       "\t link      &   85     \\\\\n",
       "\t login     &   79     \\\\\n",
       "\t ⋮ & ⋮\\\\\n",
       "\t nnsp       &  123      \\\\\n",
       "\t nntp       &   61      \\\\\n",
       "\t ntp\\_u      &   32        \\\\\n",
       "\t other      &  858      \\\\\n",
       "\t pm\\_dump    &    3        \\\\\n",
       "\t pop\\_2      &   17        \\\\\n",
       "\t pop\\_3      &   53        \\\\\n",
       "\t printer    &   12      \\\\\n",
       "\t private    & 4351      \\\\\n",
       "\t red\\_i      &    3        \\\\\n",
       "\t remote\\_job &   17        \\\\\n",
       "\t rje        &   20      \\\\\n",
       "\t shell      &   11      \\\\\n",
       "\t smtp       & 1449      \\\\\n",
       "\t sql\\_net    &   46        \\\\\n",
       "\t ssh        &   58      \\\\\n",
       "\t sunrpc     &   67      \\\\\n",
       "\t supdup     &  114      \\\\\n",
       "\t systat     &   88      \\\\\n",
       "\t telnet     &  483      \\\\\n",
       "\t tim\\_i      &    2        \\\\\n",
       "\t time       &  155      \\\\\n",
       "\t urh\\_i      &    4        \\\\\n",
       "\t urp\\_i      &  124        \\\\\n",
       "\t uucp       &  157      \\\\\n",
       "\t uucp\\_path  &  133        \\\\\n",
       "\t vmnet      &  107      \\\\\n",
       "\t whois      &  145      \\\\\n",
       "\t X11        &   22      \\\\\n",
       "\t Z39\\_50     &  172        \\\\\n",
       "\\end{tabular}\n"
      ],
      "text/markdown": [
       "\n",
       "V3 | freq | \n",
       "|---|---|---|---|---|---|---|---|---|---|---|---|---|---|---|---|---|---|---|---|---|---|---|---|---|---|---|---|---|---|---|---|---|---|---|---|---|---|---|---|---|---|---|---|---|---|---|---|---|---|---|---|---|---|---|---|---|---|---|---|---|\n",
       "| auth      |  189      | \n",
       "| bgp       |  146      | \n",
       "| courier   |  164      | \n",
       "| csnet_ns  |  111      | \n",
       "| ctf       |  127      | \n",
       "| daytime   |  107      | \n",
       "| discard   |  105      | \n",
       "| domain    |  109      | \n",
       "| domain_u  | 1820      | \n",
       "| echo      |   65      | \n",
       "| eco_i     |  909      | \n",
       "| ecr_i     |  613      | \n",
       "| efs       |  110      | \n",
       "| exec      |   91      | \n",
       "| finger    |  366      | \n",
       "| ftp       |  345      | \n",
       "| ftp_data  | 1396      | \n",
       "| gopher    |  109      | \n",
       "| hostnames |   96      | \n",
       "| http      | 8003      | \n",
       "| http_443  |  113      | \n",
       "| http_8001 |    1      | \n",
       "| imap4     |  138      | \n",
       "| IRC       |   40      | \n",
       "| iso_tsap  |  131      | \n",
       "| klogin    |   92      | \n",
       "| kshell    |   67      | \n",
       "| ldap      |   90      | \n",
       "| link      |   85      | \n",
       "| login     |   79      | \n",
       "| ⋮ | ⋮ | \n",
       "| nnsp       |  123       | \n",
       "| nntp       |   61       | \n",
       "| ntp_u      |   32       | \n",
       "| other      |  858       | \n",
       "| pm_dump    |    3       | \n",
       "| pop_2      |   17       | \n",
       "| pop_3      |   53       | \n",
       "| printer    |   12       | \n",
       "| private    | 4351       | \n",
       "| red_i      |    3       | \n",
       "| remote_job |   17       | \n",
       "| rje        |   20       | \n",
       "| shell      |   11       | \n",
       "| smtp       | 1449       | \n",
       "| sql_net    |   46       | \n",
       "| ssh        |   58       | \n",
       "| sunrpc     |   67       | \n",
       "| supdup     |  114       | \n",
       "| systat     |   88       | \n",
       "| telnet     |  483       | \n",
       "| tim_i      |    2       | \n",
       "| time       |  155       | \n",
       "| urh_i      |    4       | \n",
       "| urp_i      |  124       | \n",
       "| uucp       |  157       | \n",
       "| uucp_path  |  133       | \n",
       "| vmnet      |  107       | \n",
       "| whois      |  145       | \n",
       "| X11        |   22       | \n",
       "| Z39_50     |  172       | \n",
       "\n",
       "\n"
      ],
      "text/plain": [
       "   V3         freq\n",
       "1  auth        189\n",
       "2  bgp         146\n",
       "3  courier     164\n",
       "4  csnet_ns    111\n",
       "5  ctf         127\n",
       "6  daytime     107\n",
       "7  discard     105\n",
       "8  domain      109\n",
       "9  domain_u   1820\n",
       "10 echo         65\n",
       "11 eco_i       909\n",
       "12 ecr_i       613\n",
       "13 efs         110\n",
       "14 exec         91\n",
       "15 finger      366\n",
       "16 ftp         345\n",
       "17 ftp_data   1396\n",
       "18 gopher      109\n",
       "19 hostnames    96\n",
       "20 http       8003\n",
       "21 http_443    113\n",
       "22 http_8001     1\n",
       "23 imap4       138\n",
       "24 IRC          40\n",
       "25 iso_tsap    131\n",
       "26 klogin       92\n",
       "27 kshell       67\n",
       "28 ldap         90\n",
       "29 link         85\n",
       "30 login        79\n",
       "⋮  ⋮          ⋮   \n",
       "37 nnsp        123\n",
       "38 nntp         61\n",
       "39 ntp_u        32\n",
       "40 other       858\n",
       "41 pm_dump       3\n",
       "42 pop_2        17\n",
       "43 pop_3        53\n",
       "44 printer      12\n",
       "45 private    4351\n",
       "46 red_i         3\n",
       "47 remote_job   17\n",
       "48 rje          20\n",
       "49 shell        11\n",
       "50 smtp       1449\n",
       "51 sql_net      46\n",
       "52 ssh          58\n",
       "53 sunrpc       67\n",
       "54 supdup      114\n",
       "55 systat       88\n",
       "56 telnet      483\n",
       "57 tim_i         2\n",
       "58 time        155\n",
       "59 urh_i         4\n",
       "60 urp_i       124\n",
       "61 uucp        157\n",
       "62 uucp_path   133\n",
       "63 vmnet       107\n",
       "64 whois       145\n",
       "65 X11          22\n",
       "66 Z39_50      172"
      ]
     },
     "metadata": {},
     "output_type": "display_data"
    },
    {
     "data": {
      "text/html": [
       "<table>\n",
       "<thead><tr><th scope=col>V4</th><th scope=col>freq</th></tr></thead>\n",
       "<tbody>\n",
       "\t<tr><td>OTH   </td><td>    5 </td></tr>\n",
       "\t<tr><td>REJ   </td><td> 2216 </td></tr>\n",
       "\t<tr><td>RSTO  </td><td>  304 </td></tr>\n",
       "\t<tr><td>RSTOS0</td><td>   21 </td></tr>\n",
       "\t<tr><td>RSTR  </td><td>  497 </td></tr>\n",
       "\t<tr><td>S0    </td><td> 7009 </td></tr>\n",
       "\t<tr><td>S1    </td><td>   88 </td></tr>\n",
       "\t<tr><td>S2    </td><td>   21 </td></tr>\n",
       "\t<tr><td>S3    </td><td>   15 </td></tr>\n",
       "\t<tr><td>SF    </td><td>14973 </td></tr>\n",
       "\t<tr><td>SH    </td><td>   43 </td></tr>\n",
       "</tbody>\n",
       "</table>\n"
      ],
      "text/latex": [
       "\\begin{tabular}{r|ll}\n",
       " V4 & freq\\\\\n",
       "\\hline\n",
       "\t OTH    &     5 \\\\\n",
       "\t REJ    &  2216 \\\\\n",
       "\t RSTO   &   304 \\\\\n",
       "\t RSTOS0 &    21 \\\\\n",
       "\t RSTR   &   497 \\\\\n",
       "\t S0     &  7009 \\\\\n",
       "\t S1     &    88 \\\\\n",
       "\t S2     &    21 \\\\\n",
       "\t S3     &    15 \\\\\n",
       "\t SF     & 14973 \\\\\n",
       "\t SH     &    43 \\\\\n",
       "\\end{tabular}\n"
      ],
      "text/markdown": [
       "\n",
       "V4 | freq | \n",
       "|---|---|---|---|---|---|---|---|---|---|---|\n",
       "| OTH    |     5  | \n",
       "| REJ    |  2216  | \n",
       "| RSTO   |   304  | \n",
       "| RSTOS0 |    21  | \n",
       "| RSTR   |   497  | \n",
       "| S0     |  7009  | \n",
       "| S1     |    88  | \n",
       "| S2     |    21  | \n",
       "| S3     |    15  | \n",
       "| SF     | 14973  | \n",
       "| SH     |    43  | \n",
       "\n",
       "\n"
      ],
      "text/plain": [
       "   V4     freq \n",
       "1  OTH        5\n",
       "2  REJ     2216\n",
       "3  RSTO     304\n",
       "4  RSTOS0    21\n",
       "5  RSTR     497\n",
       "6  S0      7009\n",
       "7  S1        88\n",
       "8  S2        21\n",
       "9  S3        15\n",
       "10 SF     14973\n",
       "11 SH        43"
      ]
     },
     "metadata": {},
     "output_type": "display_data"
    },
    {
     "data": {
      "text/html": [
       "<table>\n",
       "<thead><tr><th scope=col>V42</th><th scope=col>freq</th></tr></thead>\n",
       "<tbody>\n",
       "\t<tr><td>back           </td><td>  196          </td></tr>\n",
       "\t<tr><td>buffer_overflow</td><td>    6          </td></tr>\n",
       "\t<tr><td>ftp_write      </td><td>    1          </td></tr>\n",
       "\t<tr><td>guess_passwd   </td><td>   10          </td></tr>\n",
       "\t<tr><td>imap           </td><td>    5          </td></tr>\n",
       "\t<tr><td>ipsweep        </td><td>  710          </td></tr>\n",
       "\t<tr><td>land           </td><td>    1          </td></tr>\n",
       "\t<tr><td>loadmodule     </td><td>    1          </td></tr>\n",
       "\t<tr><td>multihop       </td><td>    2          </td></tr>\n",
       "\t<tr><td>neptune        </td><td> 8282          </td></tr>\n",
       "\t<tr><td>nmap           </td><td>  301          </td></tr>\n",
       "\t<tr><td>normal         </td><td>13449          </td></tr>\n",
       "\t<tr><td>phf            </td><td>    2          </td></tr>\n",
       "\t<tr><td>pod            </td><td>   38          </td></tr>\n",
       "\t<tr><td>portsweep      </td><td>  587          </td></tr>\n",
       "\t<tr><td>rootkit        </td><td>    4          </td></tr>\n",
       "\t<tr><td>satan          </td><td>  691          </td></tr>\n",
       "\t<tr><td>smurf          </td><td>  529          </td></tr>\n",
       "\t<tr><td>spy            </td><td>    1          </td></tr>\n",
       "\t<tr><td>teardrop       </td><td>  188          </td></tr>\n",
       "\t<tr><td>warezclient    </td><td>  181          </td></tr>\n",
       "\t<tr><td>warezmaster    </td><td>    7          </td></tr>\n",
       "</tbody>\n",
       "</table>\n"
      ],
      "text/latex": [
       "\\begin{tabular}{r|ll}\n",
       " V42 & freq\\\\\n",
       "\\hline\n",
       "\t back            &   196          \\\\\n",
       "\t buffer\\_overflow &     6            \\\\\n",
       "\t ftp\\_write       &     1            \\\\\n",
       "\t guess\\_passwd    &    10            \\\\\n",
       "\t imap            &     5          \\\\\n",
       "\t ipsweep         &   710          \\\\\n",
       "\t land            &     1          \\\\\n",
       "\t loadmodule      &     1          \\\\\n",
       "\t multihop        &     2          \\\\\n",
       "\t neptune         &  8282          \\\\\n",
       "\t nmap            &   301          \\\\\n",
       "\t normal          & 13449          \\\\\n",
       "\t phf             &     2          \\\\\n",
       "\t pod             &    38          \\\\\n",
       "\t portsweep       &   587          \\\\\n",
       "\t rootkit         &     4          \\\\\n",
       "\t satan           &   691          \\\\\n",
       "\t smurf           &   529          \\\\\n",
       "\t spy             &     1          \\\\\n",
       "\t teardrop        &   188          \\\\\n",
       "\t warezclient     &   181          \\\\\n",
       "\t warezmaster     &     7          \\\\\n",
       "\\end{tabular}\n"
      ],
      "text/markdown": [
       "\n",
       "V42 | freq | \n",
       "|---|---|---|---|---|---|---|---|---|---|---|---|---|---|---|---|---|---|---|---|---|---|\n",
       "| back            |   196           | \n",
       "| buffer_overflow |     6           | \n",
       "| ftp_write       |     1           | \n",
       "| guess_passwd    |    10           | \n",
       "| imap            |     5           | \n",
       "| ipsweep         |   710           | \n",
       "| land            |     1           | \n",
       "| loadmodule      |     1           | \n",
       "| multihop        |     2           | \n",
       "| neptune         |  8282           | \n",
       "| nmap            |   301           | \n",
       "| normal          | 13449           | \n",
       "| phf             |     2           | \n",
       "| pod             |    38           | \n",
       "| portsweep       |   587           | \n",
       "| rootkit         |     4           | \n",
       "| satan           |   691           | \n",
       "| smurf           |   529           | \n",
       "| spy             |     1           | \n",
       "| teardrop        |   188           | \n",
       "| warezclient     |   181           | \n",
       "| warezmaster     |     7           | \n",
       "\n",
       "\n"
      ],
      "text/plain": [
       "   V42             freq \n",
       "1  back              196\n",
       "2  buffer_overflow     6\n",
       "3  ftp_write           1\n",
       "4  guess_passwd       10\n",
       "5  imap                5\n",
       "6  ipsweep           710\n",
       "7  land                1\n",
       "8  loadmodule          1\n",
       "9  multihop            2\n",
       "10 neptune          8282\n",
       "11 nmap              301\n",
       "12 normal          13449\n",
       "13 phf                 2\n",
       "14 pod                38\n",
       "15 portsweep         587\n",
       "16 rootkit             4\n",
       "17 satan             691\n",
       "18 smurf             529\n",
       "19 spy                 1\n",
       "20 teardrop          188\n",
       "21 warezclient       181\n",
       "22 warezmaster         7"
      ]
     },
     "metadata": {},
     "output_type": "display_data"
    }
   ],
   "source": [
    "                                                             \n",
    "#The frequency of different levels of each categorical column\n",
    "count(categorical_columns, 'V2')\n",
    "count(categorical_columns, 'V3')\n",
    "count(categorical_columns, 'V4')\n",
    "count(categorical_columns, 'V42')"
   ]
  },
  {
   "cell_type": "markdown",
   "metadata": {},
   "source": [
    "### 3. Credit Card Fraud\n",
    "\n",
    "The highly unbalanced dataset belongs to 2013 transactions of European cardholders. The features in this dataset are the result of PCA transformation and we do not have any information about the actual features.\n",
    "\n",
    "This is a labeled dataset.\n",
    "\n",
    "https://www.kaggle.com/samkirkiles/credit-card-fraud/data"
   ]
  },
  {
   "cell_type": "code",
   "execution_count": 75,
   "metadata": {},
   "outputs": [
    {
     "name": "stdout",
     "output_type": "stream",
     "text": [
      "[1] \"Shape of Dataset:\"\n",
      "[1] 284807     31\n"
     ]
    }
   ],
   "source": [
    "credit_data = read.csv('creditcard.csv')\n",
    "print(\"Shape of Dataset:\")\n",
    "print(dim(credit_data))"
   ]
  },
  {
   "cell_type": "code",
   "execution_count": 76,
   "metadata": {},
   "outputs": [
    {
     "name": "stdout",
     "output_type": "stream",
     "text": [
      "'data.frame':\t284807 obs. of  31 variables:\n",
      " $ Time  : num  0 0 1 1 2 2 4 7 7 9 ...\n",
      " $ V1    : num  -1.36 1.192 -1.358 -0.966 -1.158 ...\n",
      " $ V2    : num  -0.0728 0.2662 -1.3402 -0.1852 0.8777 ...\n",
      " $ V3    : num  2.536 0.166 1.773 1.793 1.549 ...\n",
      " $ V4    : num  1.378 0.448 0.38 -0.863 0.403 ...\n",
      " $ V5    : num  -0.3383 0.06 -0.5032 -0.0103 -0.4072 ...\n",
      " $ V6    : num  0.4624 -0.0824 1.8005 1.2472 0.0959 ...\n",
      " $ V7    : num  0.2396 -0.0788 0.7915 0.2376 0.5929 ...\n",
      " $ V8    : num  0.0987 0.0851 0.2477 0.3774 -0.2705 ...\n",
      " $ V9    : num  0.364 -0.255 -1.515 -1.387 0.818 ...\n",
      " $ V10   : num  0.0908 -0.167 0.2076 -0.055 0.7531 ...\n",
      " $ V11   : num  -0.552 1.613 0.625 -0.226 -0.823 ...\n",
      " $ V12   : num  -0.6178 1.0652 0.0661 0.1782 0.5382 ...\n",
      " $ V13   : num  -0.991 0.489 0.717 0.508 1.346 ...\n",
      " $ V14   : num  -0.311 -0.144 -0.166 -0.288 -1.12 ...\n",
      " $ V15   : num  1.468 0.636 2.346 -0.631 0.175 ...\n",
      " $ V16   : num  -0.47 0.464 -2.89 -1.06 -0.451 ...\n",
      " $ V17   : num  0.208 -0.115 1.11 -0.684 -0.237 ...\n",
      " $ V18   : num  0.0258 -0.1834 -0.1214 1.9658 -0.0382 ...\n",
      " $ V19   : num  0.404 -0.146 -2.262 -1.233 0.803 ...\n",
      " $ V20   : num  0.2514 -0.0691 0.525 -0.208 0.4085 ...\n",
      " $ V21   : num  -0.01831 -0.22578 0.248 -0.1083 -0.00943 ...\n",
      " $ V22   : num  0.27784 -0.63867 0.77168 0.00527 0.79828 ...\n",
      " $ V23   : num  -0.11 0.101 0.909 -0.19 -0.137 ...\n",
      " $ V24   : num  0.0669 -0.3398 -0.6893 -1.1756 0.1413 ...\n",
      " $ V25   : num  0.129 0.167 -0.328 0.647 -0.206 ...\n",
      " $ V26   : num  -0.189 0.126 -0.139 -0.222 0.502 ...\n",
      " $ V27   : num  0.13356 -0.00898 -0.05535 0.06272 0.21942 ...\n",
      " $ V28   : num  -0.0211 0.0147 -0.0598 0.0615 0.2152 ...\n",
      " $ Amount: num  149.62 2.69 378.66 123.5 69.99 ...\n",
      " $ Class : int  0 0 0 0 0 0 0 0 0 0 ...\n"
     ]
    }
   ],
   "source": [
    "str(credit_data)"
   ]
  },
  {
   "cell_type": "code",
   "execution_count": 77,
   "metadata": {},
   "outputs": [
    {
     "data": {
      "text/html": [
       "<table>\n",
       "<thead><tr><th scope=col>Time</th><th scope=col>V1</th><th scope=col>V2</th><th scope=col>V3</th><th scope=col>V4</th><th scope=col>V5</th><th scope=col>V6</th><th scope=col>V7</th><th scope=col>V8</th><th scope=col>V9</th><th scope=col>⋯</th><th scope=col>V21</th><th scope=col>V22</th><th scope=col>V23</th><th scope=col>V24</th><th scope=col>V25</th><th scope=col>V26</th><th scope=col>V27</th><th scope=col>V28</th><th scope=col>Amount</th><th scope=col>Class</th></tr></thead>\n",
       "<tbody>\n",
       "\t<tr><td>0           </td><td>-1.3598071  </td><td>-0.07278117 </td><td>2.5363467   </td><td> 1.3781552  </td><td>-0.33832077 </td><td> 0.46238778 </td><td> 0.23959855 </td><td> 0.09869790 </td><td> 0.3637870  </td><td>⋯           </td><td>-0.018306778</td><td> 0.277837576</td><td>-0.1104739  </td><td> 0.06692807 </td><td> 0.1285394  </td><td>-0.1891148  </td><td> 0.133558377</td><td>-0.02105305 </td><td>149.62      </td><td>0           </td></tr>\n",
       "\t<tr><td>0           </td><td> 1.1918571  </td><td> 0.26615071 </td><td>0.1664801   </td><td> 0.4481541  </td><td> 0.06001765 </td><td>-0.08236081 </td><td>-0.07880298 </td><td> 0.08510165 </td><td>-0.2554251  </td><td>⋯           </td><td>-0.225775248</td><td>-0.638671953</td><td> 0.1012880  </td><td>-0.33984648 </td><td> 0.1671704  </td><td> 0.1258945  </td><td>-0.008983099</td><td> 0.01472417 </td><td>  2.69      </td><td>0           </td></tr>\n",
       "\t<tr><td>1           </td><td>-1.3583541  </td><td>-1.34016307 </td><td>1.7732093   </td><td> 0.3797796  </td><td>-0.50319813 </td><td> 1.80049938 </td><td> 0.79146096 </td><td> 0.24767579 </td><td>-1.5146543  </td><td>⋯           </td><td> 0.247998153</td><td> 0.771679402</td><td> 0.9094123  </td><td>-0.68928096 </td><td>-0.3276418  </td><td>-0.1390966  </td><td>-0.055352794</td><td>-0.05975184 </td><td>378.66      </td><td>0           </td></tr>\n",
       "\t<tr><td>1           </td><td>-0.9662717  </td><td>-0.18522601 </td><td>1.7929933   </td><td>-0.8632913  </td><td>-0.01030888 </td><td> 1.24720317 </td><td> 0.23760894 </td><td> 0.37743587 </td><td>-1.3870241  </td><td>⋯           </td><td>-0.108300452</td><td> 0.005273597</td><td>-0.1903205  </td><td>-1.17557533 </td><td> 0.6473760  </td><td>-0.2219288  </td><td> 0.062722849</td><td> 0.06145763 </td><td>123.50      </td><td>0           </td></tr>\n",
       "\t<tr><td>2           </td><td>-1.1582331  </td><td> 0.87773675 </td><td>1.5487178   </td><td> 0.4030339  </td><td>-0.40719338 </td><td> 0.09592146 </td><td> 0.59294075 </td><td>-0.27053268 </td><td> 0.8177393  </td><td>⋯           </td><td>-0.009430697</td><td> 0.798278495</td><td>-0.1374581  </td><td> 0.14126698 </td><td>-0.2060096  </td><td> 0.5022922  </td><td> 0.219422230</td><td> 0.21515315 </td><td> 69.99      </td><td>0           </td></tr>\n",
       "</tbody>\n",
       "</table>\n"
      ],
      "text/latex": [
       "\\begin{tabular}{r|lllllllllllllllllllllllllllllll}\n",
       " Time & V1 & V2 & V3 & V4 & V5 & V6 & V7 & V8 & V9 & ⋯ & V21 & V22 & V23 & V24 & V25 & V26 & V27 & V28 & Amount & Class\\\\\n",
       "\\hline\n",
       "\t 0            & -1.3598071   & -0.07278117  & 2.5363467    &  1.3781552   & -0.33832077  &  0.46238778  &  0.23959855  &  0.09869790  &  0.3637870   & ⋯            & -0.018306778 &  0.277837576 & -0.1104739   &  0.06692807  &  0.1285394   & -0.1891148   &  0.133558377 & -0.02105305  & 149.62       & 0           \\\\\n",
       "\t 0            &  1.1918571   &  0.26615071  & 0.1664801    &  0.4481541   &  0.06001765  & -0.08236081  & -0.07880298  &  0.08510165  & -0.2554251   & ⋯            & -0.225775248 & -0.638671953 &  0.1012880   & -0.33984648  &  0.1671704   &  0.1258945   & -0.008983099 &  0.01472417  &   2.69       & 0           \\\\\n",
       "\t 1            & -1.3583541   & -1.34016307  & 1.7732093    &  0.3797796   & -0.50319813  &  1.80049938  &  0.79146096  &  0.24767579  & -1.5146543   & ⋯            &  0.247998153 &  0.771679402 &  0.9094123   & -0.68928096  & -0.3276418   & -0.1390966   & -0.055352794 & -0.05975184  & 378.66       & 0           \\\\\n",
       "\t 1            & -0.9662717   & -0.18522601  & 1.7929933    & -0.8632913   & -0.01030888  &  1.24720317  &  0.23760894  &  0.37743587  & -1.3870241   & ⋯            & -0.108300452 &  0.005273597 & -0.1903205   & -1.17557533  &  0.6473760   & -0.2219288   &  0.062722849 &  0.06145763  & 123.50       & 0           \\\\\n",
       "\t 2            & -1.1582331   &  0.87773675  & 1.5487178    &  0.4030339   & -0.40719338  &  0.09592146  &  0.59294075  & -0.27053268  &  0.8177393   & ⋯            & -0.009430697 &  0.798278495 & -0.1374581   &  0.14126698  & -0.2060096   &  0.5022922   &  0.219422230 &  0.21515315  &  69.99       & 0           \\\\\n",
       "\\end{tabular}\n"
      ],
      "text/markdown": [
       "\n",
       "Time | V1 | V2 | V3 | V4 | V5 | V6 | V7 | V8 | V9 | ⋯ | V21 | V22 | V23 | V24 | V25 | V26 | V27 | V28 | Amount | Class | \n",
       "|---|---|---|---|---|\n",
       "| 0            | -1.3598071   | -0.07278117  | 2.5363467    |  1.3781552   | -0.33832077  |  0.46238778  |  0.23959855  |  0.09869790  |  0.3637870   | ⋯            | -0.018306778 |  0.277837576 | -0.1104739   |  0.06692807  |  0.1285394   | -0.1891148   |  0.133558377 | -0.02105305  | 149.62       | 0            | \n",
       "| 0            |  1.1918571   |  0.26615071  | 0.1664801    |  0.4481541   |  0.06001765  | -0.08236081  | -0.07880298  |  0.08510165  | -0.2554251   | ⋯            | -0.225775248 | -0.638671953 |  0.1012880   | -0.33984648  |  0.1671704   |  0.1258945   | -0.008983099 |  0.01472417  |   2.69       | 0            | \n",
       "| 1            | -1.3583541   | -1.34016307  | 1.7732093    |  0.3797796   | -0.50319813  |  1.80049938  |  0.79146096  |  0.24767579  | -1.5146543   | ⋯            |  0.247998153 |  0.771679402 |  0.9094123   | -0.68928096  | -0.3276418   | -0.1390966   | -0.055352794 | -0.05975184  | 378.66       | 0            | \n",
       "| 1            | -0.9662717   | -0.18522601  | 1.7929933    | -0.8632913   | -0.01030888  |  1.24720317  |  0.23760894  |  0.37743587  | -1.3870241   | ⋯            | -0.108300452 |  0.005273597 | -0.1903205   | -1.17557533  |  0.6473760   | -0.2219288   |  0.062722849 |  0.06145763  | 123.50       | 0            | \n",
       "| 2            | -1.1582331   |  0.87773675  | 1.5487178    |  0.4030339   | -0.40719338  |  0.09592146  |  0.59294075  | -0.27053268  |  0.8177393   | ⋯            | -0.009430697 |  0.798278495 | -0.1374581   |  0.14126698  | -0.2060096   |  0.5022922   |  0.219422230 |  0.21515315  |  69.99       | 0            | \n",
       "\n",
       "\n"
      ],
      "text/plain": [
       "  Time V1         V2          V3        V4         V5          V6         \n",
       "1 0    -1.3598071 -0.07278117 2.5363467  1.3781552 -0.33832077  0.46238778\n",
       "2 0     1.1918571  0.26615071 0.1664801  0.4481541  0.06001765 -0.08236081\n",
       "3 1    -1.3583541 -1.34016307 1.7732093  0.3797796 -0.50319813  1.80049938\n",
       "4 1    -0.9662717 -0.18522601 1.7929933 -0.8632913 -0.01030888  1.24720317\n",
       "5 2    -1.1582331  0.87773675 1.5487178  0.4030339 -0.40719338  0.09592146\n",
       "  V7          V8          V9         ⋯ V21          V22          V23       \n",
       "1  0.23959855  0.09869790  0.3637870 ⋯ -0.018306778  0.277837576 -0.1104739\n",
       "2 -0.07880298  0.08510165 -0.2554251 ⋯ -0.225775248 -0.638671953  0.1012880\n",
       "3  0.79146096  0.24767579 -1.5146543 ⋯  0.247998153  0.771679402  0.9094123\n",
       "4  0.23760894  0.37743587 -1.3870241 ⋯ -0.108300452  0.005273597 -0.1903205\n",
       "5  0.59294075 -0.27053268  0.8177393 ⋯ -0.009430697  0.798278495 -0.1374581\n",
       "  V24         V25        V26        V27          V28         Amount Class\n",
       "1  0.06692807  0.1285394 -0.1891148  0.133558377 -0.02105305 149.62 0    \n",
       "2 -0.33984648  0.1671704  0.1258945 -0.008983099  0.01472417   2.69 0    \n",
       "3 -0.68928096 -0.3276418 -0.1390966 -0.055352794 -0.05975184 378.66 0    \n",
       "4 -1.17557533  0.6473760 -0.2219288  0.062722849  0.06145763 123.50 0    \n",
       "5  0.14126698 -0.2060096  0.5022922  0.219422230  0.21515315  69.99 0    "
      ]
     },
     "metadata": {},
     "output_type": "display_data"
    }
   ],
   "source": [
    "head(credit_data, 5)"
   ]
  },
  {
   "cell_type": "code",
   "execution_count": 78,
   "metadata": {},
   "outputs": [
    {
     "name": "stdout",
     "output_type": "stream",
     "text": [
      "[1] \"Data Quality Report\"\n"
     ]
    },
    {
     "data": {
      "text/html": [
       "<table>\n",
       "<thead><tr><th></th><th scope=col>data_type</th><th scope=col>count</th><th scope=col>unique_values</th><th scope=col>missing_values</th></tr></thead>\n",
       "<tbody>\n",
       "\t<tr><th scope=row>Time</th><td>numeric</td><td>284807 </td><td>124592 </td><td>0      </td></tr>\n",
       "\t<tr><th scope=row>V1</th><td>numeric</td><td>284807 </td><td>275663 </td><td>0      </td></tr>\n",
       "\t<tr><th scope=row>V2</th><td>numeric</td><td>284807 </td><td>275663 </td><td>0      </td></tr>\n",
       "\t<tr><th scope=row>V3</th><td>numeric</td><td>284807 </td><td>275663 </td><td>0      </td></tr>\n",
       "\t<tr><th scope=row>V4</th><td>numeric</td><td>284807 </td><td>275663 </td><td>0      </td></tr>\n",
       "\t<tr><th scope=row>V5</th><td>numeric</td><td>284807 </td><td>275663 </td><td>0      </td></tr>\n",
       "\t<tr><th scope=row>V6</th><td>numeric</td><td>284807 </td><td>275663 </td><td>0      </td></tr>\n",
       "\t<tr><th scope=row>V7</th><td>numeric</td><td>284807 </td><td>275663 </td><td>0      </td></tr>\n",
       "\t<tr><th scope=row>V8</th><td>numeric</td><td>284807 </td><td>275663 </td><td>0      </td></tr>\n",
       "\t<tr><th scope=row>V9</th><td>numeric</td><td>284807 </td><td>275663 </td><td>0      </td></tr>\n",
       "\t<tr><th scope=row>V10</th><td>numeric</td><td>284807 </td><td>275663 </td><td>0      </td></tr>\n",
       "\t<tr><th scope=row>V11</th><td>numeric</td><td>284807 </td><td>275663 </td><td>0      </td></tr>\n",
       "\t<tr><th scope=row>V12</th><td>numeric</td><td>284807 </td><td>275663 </td><td>0      </td></tr>\n",
       "\t<tr><th scope=row>V13</th><td>numeric</td><td>284807 </td><td>275663 </td><td>0      </td></tr>\n",
       "\t<tr><th scope=row>V14</th><td>numeric</td><td>284807 </td><td>275663 </td><td>0      </td></tr>\n",
       "\t<tr><th scope=row>V15</th><td>numeric</td><td>284807 </td><td>275663 </td><td>0      </td></tr>\n",
       "\t<tr><th scope=row>V16</th><td>numeric</td><td>284807 </td><td>275663 </td><td>0      </td></tr>\n",
       "\t<tr><th scope=row>V17</th><td>numeric</td><td>284807 </td><td>275663 </td><td>0      </td></tr>\n",
       "\t<tr><th scope=row>V18</th><td>numeric</td><td>284807 </td><td>275663 </td><td>0      </td></tr>\n",
       "\t<tr><th scope=row>V19</th><td>numeric</td><td>284807 </td><td>275663 </td><td>0      </td></tr>\n",
       "\t<tr><th scope=row>V20</th><td>numeric</td><td>284807 </td><td>275663 </td><td>0      </td></tr>\n",
       "\t<tr><th scope=row>V21</th><td>numeric</td><td>284807 </td><td>275663 </td><td>0      </td></tr>\n",
       "\t<tr><th scope=row>V22</th><td>numeric</td><td>284807 </td><td>275663 </td><td>0      </td></tr>\n",
       "\t<tr><th scope=row>V23</th><td>numeric</td><td>284807 </td><td>275663 </td><td>0      </td></tr>\n",
       "\t<tr><th scope=row>V24</th><td>numeric</td><td>284807 </td><td>275663 </td><td>0      </td></tr>\n",
       "\t<tr><th scope=row>V25</th><td>numeric</td><td>284807 </td><td>275663 </td><td>0      </td></tr>\n",
       "\t<tr><th scope=row>V26</th><td>numeric</td><td>284807 </td><td>275663 </td><td>0      </td></tr>\n",
       "\t<tr><th scope=row>V27</th><td>numeric</td><td>284807 </td><td>275663 </td><td>0      </td></tr>\n",
       "\t<tr><th scope=row>V28</th><td>numeric</td><td>284807 </td><td>275663 </td><td>0      </td></tr>\n",
       "\t<tr><th scope=row>Amount</th><td>numeric</td><td>284807 </td><td> 32767 </td><td>0      </td></tr>\n",
       "\t<tr><th scope=row>Class</th><td>integer</td><td>284807 </td><td>     2 </td><td>0      </td></tr>\n",
       "</tbody>\n",
       "</table>\n"
      ],
      "text/latex": [
       "\\begin{tabular}{r|llll}\n",
       "  & data\\_type & count & unique\\_values & missing\\_values\\\\\n",
       "\\hline\n",
       "\tTime & numeric & 284807  & 124592  & 0      \\\\\n",
       "\tV1 & numeric & 284807  & 275663  & 0      \\\\\n",
       "\tV2 & numeric & 284807  & 275663  & 0      \\\\\n",
       "\tV3 & numeric & 284807  & 275663  & 0      \\\\\n",
       "\tV4 & numeric & 284807  & 275663  & 0      \\\\\n",
       "\tV5 & numeric & 284807  & 275663  & 0      \\\\\n",
       "\tV6 & numeric & 284807  & 275663  & 0      \\\\\n",
       "\tV7 & numeric & 284807  & 275663  & 0      \\\\\n",
       "\tV8 & numeric & 284807  & 275663  & 0      \\\\\n",
       "\tV9 & numeric & 284807  & 275663  & 0      \\\\\n",
       "\tV10 & numeric & 284807  & 275663  & 0      \\\\\n",
       "\tV11 & numeric & 284807  & 275663  & 0      \\\\\n",
       "\tV12 & numeric & 284807  & 275663  & 0      \\\\\n",
       "\tV13 & numeric & 284807  & 275663  & 0      \\\\\n",
       "\tV14 & numeric & 284807  & 275663  & 0      \\\\\n",
       "\tV15 & numeric & 284807  & 275663  & 0      \\\\\n",
       "\tV16 & numeric & 284807  & 275663  & 0      \\\\\n",
       "\tV17 & numeric & 284807  & 275663  & 0      \\\\\n",
       "\tV18 & numeric & 284807  & 275663  & 0      \\\\\n",
       "\tV19 & numeric & 284807  & 275663  & 0      \\\\\n",
       "\tV20 & numeric & 284807  & 275663  & 0      \\\\\n",
       "\tV21 & numeric & 284807  & 275663  & 0      \\\\\n",
       "\tV22 & numeric & 284807  & 275663  & 0      \\\\\n",
       "\tV23 & numeric & 284807  & 275663  & 0      \\\\\n",
       "\tV24 & numeric & 284807  & 275663  & 0      \\\\\n",
       "\tV25 & numeric & 284807  & 275663  & 0      \\\\\n",
       "\tV26 & numeric & 284807  & 275663  & 0      \\\\\n",
       "\tV27 & numeric & 284807  & 275663  & 0      \\\\\n",
       "\tV28 & numeric & 284807  & 275663  & 0      \\\\\n",
       "\tAmount & numeric & 284807  &  32767  & 0      \\\\\n",
       "\tClass & integer & 284807  &      2  & 0      \\\\\n",
       "\\end{tabular}\n"
      ],
      "text/markdown": [
       "\n",
       "| <!--/--> | data_type | count | unique_values | missing_values | \n",
       "|---|---|---|---|---|---|---|---|---|---|---|---|---|---|---|---|---|---|---|---|---|---|---|---|---|---|---|---|---|---|---|\n",
       "| Time | numeric | 284807  | 124592  | 0       | \n",
       "| V1 | numeric | 284807  | 275663  | 0       | \n",
       "| V2 | numeric | 284807  | 275663  | 0       | \n",
       "| V3 | numeric | 284807  | 275663  | 0       | \n",
       "| V4 | numeric | 284807  | 275663  | 0       | \n",
       "| V5 | numeric | 284807  | 275663  | 0       | \n",
       "| V6 | numeric | 284807  | 275663  | 0       | \n",
       "| V7 | numeric | 284807  | 275663  | 0       | \n",
       "| V8 | numeric | 284807  | 275663  | 0       | \n",
       "| V9 | numeric | 284807  | 275663  | 0       | \n",
       "| V10 | numeric | 284807  | 275663  | 0       | \n",
       "| V11 | numeric | 284807  | 275663  | 0       | \n",
       "| V12 | numeric | 284807  | 275663  | 0       | \n",
       "| V13 | numeric | 284807  | 275663  | 0       | \n",
       "| V14 | numeric | 284807  | 275663  | 0       | \n",
       "| V15 | numeric | 284807  | 275663  | 0       | \n",
       "| V16 | numeric | 284807  | 275663  | 0       | \n",
       "| V17 | numeric | 284807  | 275663  | 0       | \n",
       "| V18 | numeric | 284807  | 275663  | 0       | \n",
       "| V19 | numeric | 284807  | 275663  | 0       | \n",
       "| V20 | numeric | 284807  | 275663  | 0       | \n",
       "| V21 | numeric | 284807  | 275663  | 0       | \n",
       "| V22 | numeric | 284807  | 275663  | 0       | \n",
       "| V23 | numeric | 284807  | 275663  | 0       | \n",
       "| V24 | numeric | 284807  | 275663  | 0       | \n",
       "| V25 | numeric | 284807  | 275663  | 0       | \n",
       "| V26 | numeric | 284807  | 275663  | 0       | \n",
       "| V27 | numeric | 284807  | 275663  | 0       | \n",
       "| V28 | numeric | 284807  | 275663  | 0       | \n",
       "| Amount | numeric | 284807  |  32767  | 0       | \n",
       "| Class | integer | 284807  |      2  | 0       | \n",
       "\n",
       "\n"
      ],
      "text/plain": [
       "       data_type count  unique_values missing_values\n",
       "Time   numeric   284807 124592        0             \n",
       "V1     numeric   284807 275663        0             \n",
       "V2     numeric   284807 275663        0             \n",
       "V3     numeric   284807 275663        0             \n",
       "V4     numeric   284807 275663        0             \n",
       "V5     numeric   284807 275663        0             \n",
       "V6     numeric   284807 275663        0             \n",
       "V7     numeric   284807 275663        0             \n",
       "V8     numeric   284807 275663        0             \n",
       "V9     numeric   284807 275663        0             \n",
       "V10    numeric   284807 275663        0             \n",
       "V11    numeric   284807 275663        0             \n",
       "V12    numeric   284807 275663        0             \n",
       "V13    numeric   284807 275663        0             \n",
       "V14    numeric   284807 275663        0             \n",
       "V15    numeric   284807 275663        0             \n",
       "V16    numeric   284807 275663        0             \n",
       "V17    numeric   284807 275663        0             \n",
       "V18    numeric   284807 275663        0             \n",
       "V19    numeric   284807 275663        0             \n",
       "V20    numeric   284807 275663        0             \n",
       "V21    numeric   284807 275663        0             \n",
       "V22    numeric   284807 275663        0             \n",
       "V23    numeric   284807 275663        0             \n",
       "V24    numeric   284807 275663        0             \n",
       "V25    numeric   284807 275663        0             \n",
       "V26    numeric   284807 275663        0             \n",
       "V27    numeric   284807 275663        0             \n",
       "V28    numeric   284807 275663        0             \n",
       "Amount numeric   284807  32767        0             \n",
       "Class  integer   284807      2        0             "
      ]
     },
     "metadata": {},
     "output_type": "display_data"
    }
   ],
   "source": [
    "                                                             \n",
    "#Call 'data_report' function for the dataset\n",
    "data_report(credit_data)"
   ]
  },
  {
   "cell_type": "code",
   "execution_count": 79,
   "metadata": {},
   "outputs": [
    {
     "data": {
      "text/html": [
       "<table>\n",
       "<thead><tr><th scope=col>Time</th><th scope=col>V1</th><th scope=col>V2</th><th scope=col>V3</th><th scope=col>V4</th><th scope=col>V5</th><th scope=col>V6</th><th scope=col>V7</th><th scope=col>V8</th><th scope=col>V9</th><th scope=col>⋯</th><th scope=col>V21</th><th scope=col>V22</th><th scope=col>V23</th><th scope=col>V24</th><th scope=col>V25</th><th scope=col>V26</th><th scope=col>V27</th><th scope=col>V28</th><th scope=col>Amount</th><th scope=col>Class</th></tr></thead>\n",
       "<tbody>\n",
       "\t<tr><td>0           </td><td>-1.3598071  </td><td>-0.07278117 </td><td>2.5363467   </td><td> 1.3781552  </td><td>-0.33832077 </td><td> 0.46238778 </td><td> 0.23959855 </td><td> 0.09869790 </td><td> 0.3637870  </td><td>⋯           </td><td>-0.018306778</td><td> 0.277837576</td><td>-0.11047391 </td><td> 0.06692807 </td><td> 0.1285394  </td><td>-0.1891148  </td><td> 0.133558377</td><td>-0.02105305 </td><td>149.62      </td><td>0           </td></tr>\n",
       "\t<tr><td>0           </td><td> 1.1918571  </td><td> 0.26615071 </td><td>0.1664801   </td><td> 0.4481541  </td><td> 0.06001765 </td><td>-0.08236081 </td><td>-0.07880298 </td><td> 0.08510165 </td><td>-0.2554251  </td><td>⋯           </td><td>-0.225775248</td><td>-0.638671953</td><td> 0.10128802 </td><td>-0.33984648 </td><td> 0.1671704  </td><td> 0.1258945  </td><td>-0.008983099</td><td> 0.01472417 </td><td>  2.69      </td><td>0           </td></tr>\n",
       "\t<tr><td>1           </td><td>-1.3583541  </td><td>-1.34016307 </td><td>1.7732093   </td><td> 0.3797796  </td><td>-0.50319813 </td><td> 1.80049938 </td><td> 0.79146096 </td><td> 0.24767579 </td><td>-1.5146543  </td><td>⋯           </td><td> 0.247998153</td><td> 0.771679402</td><td> 0.90941226 </td><td>-0.68928096 </td><td>-0.3276418  </td><td>-0.1390966  </td><td>-0.055352794</td><td>-0.05975184 </td><td>378.66      </td><td>0           </td></tr>\n",
       "\t<tr><td>1           </td><td>-0.9662717  </td><td>-0.18522601 </td><td>1.7929933   </td><td>-0.8632913  </td><td>-0.01030888 </td><td> 1.24720317 </td><td> 0.23760894 </td><td> 0.37743587 </td><td>-1.3870241  </td><td>⋯           </td><td>-0.108300452</td><td> 0.005273597</td><td>-0.19032052 </td><td>-1.17557533 </td><td> 0.6473760  </td><td>-0.2219288  </td><td> 0.062722849</td><td> 0.06145763 </td><td>123.50      </td><td>0           </td></tr>\n",
       "\t<tr><td>2           </td><td>-1.1582331  </td><td> 0.87773675 </td><td>1.5487178   </td><td> 0.4030339  </td><td>-0.40719338 </td><td> 0.09592146 </td><td> 0.59294075 </td><td>-0.27053268 </td><td> 0.8177393  </td><td>⋯           </td><td>-0.009430697</td><td> 0.798278495</td><td>-0.13745808 </td><td> 0.14126698 </td><td>-0.2060096  </td><td> 0.5022922  </td><td> 0.219422230</td><td> 0.21515315 </td><td> 69.99      </td><td>0           </td></tr>\n",
       "\t<tr><td>2           </td><td>-0.4259659  </td><td> 0.96052304 </td><td>1.1411093   </td><td>-0.1682521  </td><td> 0.42098688 </td><td>-0.02972755 </td><td> 0.47620095 </td><td> 0.26031433 </td><td>-0.5686714  </td><td>⋯           </td><td>-0.208253515</td><td>-0.559824796</td><td>-0.02639767 </td><td>-0.37142658 </td><td>-0.2327938  </td><td> 0.1059148  </td><td> 0.253844225</td><td> 0.08108026 </td><td>  3.67      </td><td>0           </td></tr>\n",
       "</tbody>\n",
       "</table>\n"
      ],
      "text/latex": [
       "\\begin{tabular}{r|lllllllllllllllllllllllllllllll}\n",
       " Time & V1 & V2 & V3 & V4 & V5 & V6 & V7 & V8 & V9 & ⋯ & V21 & V22 & V23 & V24 & V25 & V26 & V27 & V28 & Amount & Class\\\\\n",
       "\\hline\n",
       "\t 0            & -1.3598071   & -0.07278117  & 2.5363467    &  1.3781552   & -0.33832077  &  0.46238778  &  0.23959855  &  0.09869790  &  0.3637870   & ⋯            & -0.018306778 &  0.277837576 & -0.11047391  &  0.06692807  &  0.1285394   & -0.1891148   &  0.133558377 & -0.02105305  & 149.62       & 0           \\\\\n",
       "\t 0            &  1.1918571   &  0.26615071  & 0.1664801    &  0.4481541   &  0.06001765  & -0.08236081  & -0.07880298  &  0.08510165  & -0.2554251   & ⋯            & -0.225775248 & -0.638671953 &  0.10128802  & -0.33984648  &  0.1671704   &  0.1258945   & -0.008983099 &  0.01472417  &   2.69       & 0           \\\\\n",
       "\t 1            & -1.3583541   & -1.34016307  & 1.7732093    &  0.3797796   & -0.50319813  &  1.80049938  &  0.79146096  &  0.24767579  & -1.5146543   & ⋯            &  0.247998153 &  0.771679402 &  0.90941226  & -0.68928096  & -0.3276418   & -0.1390966   & -0.055352794 & -0.05975184  & 378.66       & 0           \\\\\n",
       "\t 1            & -0.9662717   & -0.18522601  & 1.7929933    & -0.8632913   & -0.01030888  &  1.24720317  &  0.23760894  &  0.37743587  & -1.3870241   & ⋯            & -0.108300452 &  0.005273597 & -0.19032052  & -1.17557533  &  0.6473760   & -0.2219288   &  0.062722849 &  0.06145763  & 123.50       & 0           \\\\\n",
       "\t 2            & -1.1582331   &  0.87773675  & 1.5487178    &  0.4030339   & -0.40719338  &  0.09592146  &  0.59294075  & -0.27053268  &  0.8177393   & ⋯            & -0.009430697 &  0.798278495 & -0.13745808  &  0.14126698  & -0.2060096   &  0.5022922   &  0.219422230 &  0.21515315  &  69.99       & 0           \\\\\n",
       "\t 2            & -0.4259659   &  0.96052304  & 1.1411093    & -0.1682521   &  0.42098688  & -0.02972755  &  0.47620095  &  0.26031433  & -0.5686714   & ⋯            & -0.208253515 & -0.559824796 & -0.02639767  & -0.37142658  & -0.2327938   &  0.1059148   &  0.253844225 &  0.08108026  &   3.67       & 0           \\\\\n",
       "\\end{tabular}\n"
      ],
      "text/markdown": [
       "\n",
       "Time | V1 | V2 | V3 | V4 | V5 | V6 | V7 | V8 | V9 | ⋯ | V21 | V22 | V23 | V24 | V25 | V26 | V27 | V28 | Amount | Class | \n",
       "|---|---|---|---|---|---|\n",
       "| 0            | -1.3598071   | -0.07278117  | 2.5363467    |  1.3781552   | -0.33832077  |  0.46238778  |  0.23959855  |  0.09869790  |  0.3637870   | ⋯            | -0.018306778 |  0.277837576 | -0.11047391  |  0.06692807  |  0.1285394   | -0.1891148   |  0.133558377 | -0.02105305  | 149.62       | 0            | \n",
       "| 0            |  1.1918571   |  0.26615071  | 0.1664801    |  0.4481541   |  0.06001765  | -0.08236081  | -0.07880298  |  0.08510165  | -0.2554251   | ⋯            | -0.225775248 | -0.638671953 |  0.10128802  | -0.33984648  |  0.1671704   |  0.1258945   | -0.008983099 |  0.01472417  |   2.69       | 0            | \n",
       "| 1            | -1.3583541   | -1.34016307  | 1.7732093    |  0.3797796   | -0.50319813  |  1.80049938  |  0.79146096  |  0.24767579  | -1.5146543   | ⋯            |  0.247998153 |  0.771679402 |  0.90941226  | -0.68928096  | -0.3276418   | -0.1390966   | -0.055352794 | -0.05975184  | 378.66       | 0            | \n",
       "| 1            | -0.9662717   | -0.18522601  | 1.7929933    | -0.8632913   | -0.01030888  |  1.24720317  |  0.23760894  |  0.37743587  | -1.3870241   | ⋯            | -0.108300452 |  0.005273597 | -0.19032052  | -1.17557533  |  0.6473760   | -0.2219288   |  0.062722849 |  0.06145763  | 123.50       | 0            | \n",
       "| 2            | -1.1582331   |  0.87773675  | 1.5487178    |  0.4030339   | -0.40719338  |  0.09592146  |  0.59294075  | -0.27053268  |  0.8177393   | ⋯            | -0.009430697 |  0.798278495 | -0.13745808  |  0.14126698  | -0.2060096   |  0.5022922   |  0.219422230 |  0.21515315  |  69.99       | 0            | \n",
       "| 2            | -0.4259659   |  0.96052304  | 1.1411093    | -0.1682521   |  0.42098688  | -0.02972755  |  0.47620095  |  0.26031433  | -0.5686714   | ⋯            | -0.208253515 | -0.559824796 | -0.02639767  | -0.37142658  | -0.2327938   |  0.1059148   |  0.253844225 |  0.08108026  |   3.67       | 0            | \n",
       "\n",
       "\n"
      ],
      "text/plain": [
       "  Time V1         V2          V3        V4         V5          V6         \n",
       "1 0    -1.3598071 -0.07278117 2.5363467  1.3781552 -0.33832077  0.46238778\n",
       "2 0     1.1918571  0.26615071 0.1664801  0.4481541  0.06001765 -0.08236081\n",
       "3 1    -1.3583541 -1.34016307 1.7732093  0.3797796 -0.50319813  1.80049938\n",
       "4 1    -0.9662717 -0.18522601 1.7929933 -0.8632913 -0.01030888  1.24720317\n",
       "5 2    -1.1582331  0.87773675 1.5487178  0.4030339 -0.40719338  0.09592146\n",
       "6 2    -0.4259659  0.96052304 1.1411093 -0.1682521  0.42098688 -0.02972755\n",
       "  V7          V8          V9         ⋯ V21          V22          V23        \n",
       "1  0.23959855  0.09869790  0.3637870 ⋯ -0.018306778  0.277837576 -0.11047391\n",
       "2 -0.07880298  0.08510165 -0.2554251 ⋯ -0.225775248 -0.638671953  0.10128802\n",
       "3  0.79146096  0.24767579 -1.5146543 ⋯  0.247998153  0.771679402  0.90941226\n",
       "4  0.23760894  0.37743587 -1.3870241 ⋯ -0.108300452  0.005273597 -0.19032052\n",
       "5  0.59294075 -0.27053268  0.8177393 ⋯ -0.009430697  0.798278495 -0.13745808\n",
       "6  0.47620095  0.26031433 -0.5686714 ⋯ -0.208253515 -0.559824796 -0.02639767\n",
       "  V24         V25        V26        V27          V28         Amount Class\n",
       "1  0.06692807  0.1285394 -0.1891148  0.133558377 -0.02105305 149.62 0    \n",
       "2 -0.33984648  0.1671704  0.1258945 -0.008983099  0.01472417   2.69 0    \n",
       "3 -0.68928096 -0.3276418 -0.1390966 -0.055352794 -0.05975184 378.66 0    \n",
       "4 -1.17557533  0.6473760 -0.2219288  0.062722849  0.06145763 123.50 0    \n",
       "5  0.14126698 -0.2060096  0.5022922  0.219422230  0.21515315  69.99 0    \n",
       "6 -0.37142658 -0.2327938  0.1059148  0.253844225  0.08108026   3.67 0    "
      ]
     },
     "metadata": {},
     "output_type": "display_data"
    },
    {
     "data": {
      "text/html": [
       "'Number of numerical columns: 31'"
      ],
      "text/latex": [
       "'Number of numerical columns: 31'"
      ],
      "text/markdown": [
       "'Number of numerical columns: 31'"
      ],
      "text/plain": [
       "[1] \"Number of numerical columns: 31\""
      ]
     },
     "metadata": {},
     "output_type": "display_data"
    }
   ],
   "source": [
    "                                                                                                                         \n",
    "#Create a dataframe of numeric columns\n",
    "numeric_columns <- select_if(credit_data, is.numeric)\n",
    "head(numeric_columns)\n",
    "sprintf(\"Number of numerical columns: %i\", ncol(numeric_columns))"
   ]
  },
  {
   "cell_type": "code",
   "execution_count": 80,
   "metadata": {},
   "outputs": [
    {
     "data": {
      "text/html": [],
      "text/latex": [],
      "text/markdown": [],
      "text/plain": [
       " \n",
       "1\n",
       "2\n",
       "3\n",
       "4\n",
       "5\n",
       "6"
      ]
     },
     "metadata": {},
     "output_type": "display_data"
    },
    {
     "data": {
      "text/html": [
       "'Number of categorical columns: 0'"
      ],
      "text/latex": [
       "'Number of categorical columns: 0'"
      ],
      "text/markdown": [
       "'Number of categorical columns: 0'"
      ],
      "text/plain": [
       "[1] \"Number of categorical columns: 0\""
      ]
     },
     "metadata": {},
     "output_type": "display_data"
    }
   ],
   "source": [
    "                                                             \n",
    "#Create a dataframe of categorical columns\n",
    "categorical_columns <- select_if(credit_data, is.factor)\n",
    "head(categorical_columns)\n",
    "sprintf(\"Number of categorical columns: %i\", ncol(categorical_columns))"
   ]
  },
  {
   "cell_type": "code",
   "execution_count": 81,
   "metadata": {},
   "outputs": [
    {
     "data": {
      "text/html": [
       "<table>\n",
       "<thead><tr><th scope=col>Class</th><th scope=col>freq</th></tr></thead>\n",
       "<tbody>\n",
       "\t<tr><td>0     </td><td>284315</td></tr>\n",
       "\t<tr><td>1     </td><td>   492</td></tr>\n",
       "</tbody>\n",
       "</table>\n"
      ],
      "text/latex": [
       "\\begin{tabular}{r|ll}\n",
       " Class & freq\\\\\n",
       "\\hline\n",
       "\t 0      & 284315\\\\\n",
       "\t 1      &    492\\\\\n",
       "\\end{tabular}\n"
      ],
      "text/markdown": [
       "\n",
       "Class | freq | \n",
       "|---|---|\n",
       "| 0      | 284315 | \n",
       "| 1      |    492 | \n",
       "\n",
       "\n"
      ],
      "text/plain": [
       "  Class freq  \n",
       "1 0     284315\n",
       "2 1        492"
      ]
     },
     "metadata": {},
     "output_type": "display_data"
    }
   ],
   "source": [
    "                                                             \n",
    "#The frequency of different levels of each categorical column\n",
    "count(credit_data, 'Class')"
   ]
  },
  {
   "cell_type": "markdown",
   "metadata": {},
   "source": [
    "### 4. DDS Dataset Collection\n",
    "\n",
    "There are two datasets, one gives the information about AWS honeypots and the second one adds some information about the geolocation.\n",
    "\n",
    "http://datadrivensecurity.info/blog/pages/dds-dataset-collection.html"
   ]
  },
  {
   "cell_type": "code",
   "execution_count": 82,
   "metadata": {},
   "outputs": [
    {
     "name": "stdout",
     "output_type": "stream",
     "text": [
      "[1] \"Shape of Dataset:\"\n",
      "[1] 451581      7\n"
     ]
    }
   ],
   "source": [
    "marx = read.csv('marx.csv')\n",
    "print(\"Shape of Dataset:\")\n",
    "print(dim(marx))"
   ]
  },
  {
   "cell_type": "code",
   "execution_count": 83,
   "metadata": {},
   "outputs": [
    {
     "name": "stdout",
     "output_type": "stream",
     "text": [
      "'data.frame':\t451581 obs. of  7 variables:\n",
      " $ datetime: Factor w/ 380323 levels \"2013-03-03 21:53:59\",..: 1 2 4 3 5 6 7 8 9 10 ...\n",
      " $ host    : Factor w/ 9 levels \"groucho-eu\",\"groucho-norcal\",..: 3 3 3 8 5 7 3 5 3 5 ...\n",
      " $ src     : num  1.03e+09 1.35e+09 2.95e+09 8.42e+08 3.59e+09 ...\n",
      " $ proto   : Factor w/ 3 levels \"ICMP\",\"TCP\",\"UDP\": 2 3 2 3 2 2 2 2 2 2 ...\n",
      " $ type    : int  NA NA NA NA NA NA NA NA NA NA ...\n",
      " $ spt     : int  6000 5270 2489 43235 56577 32628 6000 6000 6000 6000 ...\n",
      " $ dpt     : int  1433 5060 1080 1900 80 2323 1433 3306 1433 1433 ...\n"
     ]
    }
   ],
   "source": [
    "str(marx)"
   ]
  },
  {
   "cell_type": "code",
   "execution_count": 84,
   "metadata": {},
   "outputs": [
    {
     "data": {
      "text/html": [
       "<table>\n",
       "<thead><tr><th scope=col>datetime</th><th scope=col>host</th><th scope=col>src</th><th scope=col>proto</th><th scope=col>type</th><th scope=col>spt</th><th scope=col>dpt</th></tr></thead>\n",
       "<tbody>\n",
       "\t<tr><td>2013-03-03 21:53:59</td><td>groucho-oregon     </td><td>1032051418         </td><td>TCP                </td><td>NA                 </td><td> 6000              </td><td>1433               </td></tr>\n",
       "\t<tr><td>2013-03-03 21:57:01</td><td>groucho-oregon     </td><td>1347834426         </td><td>UDP                </td><td>NA                 </td><td> 5270              </td><td>5060               </td></tr>\n",
       "\t<tr><td>2013-03-03 21:58:10</td><td>groucho-oregon     </td><td>2947856490         </td><td>TCP                </td><td>NA                 </td><td> 2489              </td><td>1080               </td></tr>\n",
       "\t<tr><td>2013-03-03 21:58:09</td><td>groucho-us-east    </td><td> 841842716         </td><td>UDP                </td><td>NA                 </td><td>43235              </td><td>1900               </td></tr>\n",
       "\t<tr><td>2013-03-03 21:58:20</td><td>groucho-singapore  </td><td>3587648279         </td><td>TCP                </td><td>NA                 </td><td>56577              </td><td>  80               </td></tr>\n",
       "</tbody>\n",
       "</table>\n"
      ],
      "text/latex": [
       "\\begin{tabular}{r|lllllll}\n",
       " datetime & host & src & proto & type & spt & dpt\\\\\n",
       "\\hline\n",
       "\t 2013-03-03 21:53:59 & groucho-oregon      & 1032051418          & TCP                 & NA                  &  6000               & 1433               \\\\\n",
       "\t 2013-03-03 21:57:01 & groucho-oregon      & 1347834426          & UDP                 & NA                  &  5270               & 5060               \\\\\n",
       "\t 2013-03-03 21:58:10 & groucho-oregon      & 2947856490          & TCP                 & NA                  &  2489               & 1080               \\\\\n",
       "\t 2013-03-03 21:58:09 & groucho-us-east     &  841842716          & UDP                 & NA                  & 43235               & 1900               \\\\\n",
       "\t 2013-03-03 21:58:20 & groucho-singapore   & 3587648279          & TCP                 & NA                  & 56577               &   80               \\\\\n",
       "\\end{tabular}\n"
      ],
      "text/markdown": [
       "\n",
       "datetime | host | src | proto | type | spt | dpt | \n",
       "|---|---|---|---|---|\n",
       "| 2013-03-03 21:53:59 | groucho-oregon      | 1032051418          | TCP                 | NA                  |  6000               | 1433                | \n",
       "| 2013-03-03 21:57:01 | groucho-oregon      | 1347834426          | UDP                 | NA                  |  5270               | 5060                | \n",
       "| 2013-03-03 21:58:10 | groucho-oregon      | 2947856490          | TCP                 | NA                  |  2489               | 1080                | \n",
       "| 2013-03-03 21:58:09 | groucho-us-east     |  841842716          | UDP                 | NA                  | 43235               | 1900                | \n",
       "| 2013-03-03 21:58:20 | groucho-singapore   | 3587648279          | TCP                 | NA                  | 56577               |   80                | \n",
       "\n",
       "\n"
      ],
      "text/plain": [
       "  datetime            host              src        proto type spt   dpt \n",
       "1 2013-03-03 21:53:59 groucho-oregon    1032051418 TCP   NA    6000 1433\n",
       "2 2013-03-03 21:57:01 groucho-oregon    1347834426 UDP   NA    5270 5060\n",
       "3 2013-03-03 21:58:10 groucho-oregon    2947856490 TCP   NA    2489 1080\n",
       "4 2013-03-03 21:58:09 groucho-us-east    841842716 UDP   NA   43235 1900\n",
       "5 2013-03-03 21:58:20 groucho-singapore 3587648279 TCP   NA   56577   80"
      ]
     },
     "metadata": {},
     "output_type": "display_data"
    }
   ],
   "source": [
    "head(marx, 5)"
   ]
  },
  {
   "cell_type": "code",
   "execution_count": 85,
   "metadata": {},
   "outputs": [
    {
     "name": "stdout",
     "output_type": "stream",
     "text": [
      "[1] \"Data Quality Report\"\n"
     ]
    },
    {
     "data": {
      "text/html": [
       "<table>\n",
       "<thead><tr><th></th><th scope=col>data_type</th><th scope=col>count</th><th scope=col>unique_values</th><th scope=col>missing_values</th></tr></thead>\n",
       "<tbody>\n",
       "\t<tr><th scope=row>datetime</th><td>factor </td><td>451581 </td><td>380323 </td><td>     0 </td></tr>\n",
       "\t<tr><th scope=row>host</th><td>factor </td><td>451581 </td><td>     9 </td><td>     0 </td></tr>\n",
       "\t<tr><th scope=row>src</th><td>numeric</td><td>451581 </td><td> 69602 </td><td>     0 </td></tr>\n",
       "\t<tr><th scope=row>proto</th><td>factor </td><td>451581 </td><td>     3 </td><td>     0 </td></tr>\n",
       "\t<tr><th scope=row>type</th><td>integer</td><td> 44811 </td><td>     8 </td><td>406770 </td></tr>\n",
       "\t<tr><th scope=row>spt</th><td>integer</td><td>406770 </td><td> 46189 </td><td> 44811 </td></tr>\n",
       "\t<tr><th scope=row>dpt</th><td>integer</td><td>406770 </td><td>  4042 </td><td> 44811 </td></tr>\n",
       "</tbody>\n",
       "</table>\n"
      ],
      "text/latex": [
       "\\begin{tabular}{r|llll}\n",
       "  & data\\_type & count & unique\\_values & missing\\_values\\\\\n",
       "\\hline\n",
       "\tdatetime & factor  & 451581  & 380323  &      0 \\\\\n",
       "\thost & factor  & 451581  &      9  &      0 \\\\\n",
       "\tsrc & numeric & 451581  &  69602  &      0 \\\\\n",
       "\tproto & factor  & 451581  &      3  &      0 \\\\\n",
       "\ttype & integer &  44811  &      8  & 406770 \\\\\n",
       "\tspt & integer & 406770  &  46189  &  44811 \\\\\n",
       "\tdpt & integer & 406770  &   4042  &  44811 \\\\\n",
       "\\end{tabular}\n"
      ],
      "text/markdown": [
       "\n",
       "| <!--/--> | data_type | count | unique_values | missing_values | \n",
       "|---|---|---|---|---|---|---|\n",
       "| datetime | factor  | 451581  | 380323  |      0  | \n",
       "| host | factor  | 451581  |      9  |      0  | \n",
       "| src | numeric | 451581  |  69602  |      0  | \n",
       "| proto | factor  | 451581  |      3  |      0  | \n",
       "| type | integer |  44811  |      8  | 406770  | \n",
       "| spt | integer | 406770  |  46189  |  44811  | \n",
       "| dpt | integer | 406770  |   4042  |  44811  | \n",
       "\n",
       "\n"
      ],
      "text/plain": [
       "         data_type count  unique_values missing_values\n",
       "datetime factor    451581 380323             0        \n",
       "host     factor    451581      9             0        \n",
       "src      numeric   451581  69602             0        \n",
       "proto    factor    451581      3             0        \n",
       "type     integer    44811      8        406770        \n",
       "spt      integer   406770  46189         44811        \n",
       "dpt      integer   406770   4042         44811        "
      ]
     },
     "metadata": {},
     "output_type": "display_data"
    }
   ],
   "source": [
    "                                                             \n",
    "#Call 'data_report' function for the dataset\n",
    "data_report(marx)"
   ]
  },
  {
   "cell_type": "code",
   "execution_count": 86,
   "metadata": {},
   "outputs": [
    {
     "data": {
      "text/html": [
       "<table>\n",
       "<thead><tr><th scope=col>src</th><th scope=col>type</th><th scope=col>spt</th><th scope=col>dpt</th></tr></thead>\n",
       "<tbody>\n",
       "\t<tr><td>1032051418</td><td>NA        </td><td> 6000     </td><td>1433      </td></tr>\n",
       "\t<tr><td>1347834426</td><td>NA        </td><td> 5270     </td><td>5060      </td></tr>\n",
       "\t<tr><td>2947856490</td><td>NA        </td><td> 2489     </td><td>1080      </td></tr>\n",
       "\t<tr><td> 841842716</td><td>NA        </td><td>43235     </td><td>1900      </td></tr>\n",
       "\t<tr><td>3587648279</td><td>NA        </td><td>56577     </td><td>  80      </td></tr>\n",
       "\t<tr><td>3323217250</td><td>NA        </td><td>32628     </td><td>2323      </td></tr>\n",
       "</tbody>\n",
       "</table>\n"
      ],
      "text/latex": [
       "\\begin{tabular}{r|llll}\n",
       " src & type & spt & dpt\\\\\n",
       "\\hline\n",
       "\t 1032051418 & NA         &  6000      & 1433      \\\\\n",
       "\t 1347834426 & NA         &  5270      & 5060      \\\\\n",
       "\t 2947856490 & NA         &  2489      & 1080      \\\\\n",
       "\t  841842716 & NA         & 43235      & 1900      \\\\\n",
       "\t 3587648279 & NA         & 56577      &   80      \\\\\n",
       "\t 3323217250 & NA         & 32628      & 2323      \\\\\n",
       "\\end{tabular}\n"
      ],
      "text/markdown": [
       "\n",
       "src | type | spt | dpt | \n",
       "|---|---|---|---|---|---|\n",
       "| 1032051418 | NA         |  6000      | 1433       | \n",
       "| 1347834426 | NA         |  5270      | 5060       | \n",
       "| 2947856490 | NA         |  2489      | 1080       | \n",
       "|  841842716 | NA         | 43235      | 1900       | \n",
       "| 3587648279 | NA         | 56577      |   80       | \n",
       "| 3323217250 | NA         | 32628      | 2323       | \n",
       "\n",
       "\n"
      ],
      "text/plain": [
       "  src        type spt   dpt \n",
       "1 1032051418 NA    6000 1433\n",
       "2 1347834426 NA    5270 5060\n",
       "3 2947856490 NA    2489 1080\n",
       "4  841842716 NA   43235 1900\n",
       "5 3587648279 NA   56577   80\n",
       "6 3323217250 NA   32628 2323"
      ]
     },
     "metadata": {},
     "output_type": "display_data"
    },
    {
     "data": {
      "text/html": [
       "'Number of numerical columns: 4'"
      ],
      "text/latex": [
       "'Number of numerical columns: 4'"
      ],
      "text/markdown": [
       "'Number of numerical columns: 4'"
      ],
      "text/plain": [
       "[1] \"Number of numerical columns: 4\""
      ]
     },
     "metadata": {},
     "output_type": "display_data"
    }
   ],
   "source": [
    "                                                             \n",
    "#Create a dataframe of numeric columns\n",
    "numeric_columns <- select_if(marx, is.numeric)\n",
    "head(numeric_columns)\n",
    "sprintf(\"Number of numerical columns: %i\", ncol(numeric_columns))"
   ]
  },
  {
   "cell_type": "code",
   "execution_count": 87,
   "metadata": {},
   "outputs": [
    {
     "data": {
      "text/html": [
       "<table>\n",
       "<thead><tr><th scope=col>datetime</th><th scope=col>host</th><th scope=col>proto</th></tr></thead>\n",
       "<tbody>\n",
       "\t<tr><td>2013-03-03 21:53:59</td><td>groucho-oregon     </td><td>TCP                </td></tr>\n",
       "\t<tr><td>2013-03-03 21:57:01</td><td>groucho-oregon     </td><td>UDP                </td></tr>\n",
       "\t<tr><td>2013-03-03 21:58:10</td><td>groucho-oregon     </td><td>TCP                </td></tr>\n",
       "\t<tr><td>2013-03-03 21:58:09</td><td>groucho-us-east    </td><td>UDP                </td></tr>\n",
       "\t<tr><td>2013-03-03 21:58:20</td><td>groucho-singapore  </td><td>TCP                </td></tr>\n",
       "\t<tr><td>2013-03-03 21:58:41</td><td>groucho-tokyo      </td><td>TCP                </td></tr>\n",
       "</tbody>\n",
       "</table>\n"
      ],
      "text/latex": [
       "\\begin{tabular}{r|lll}\n",
       " datetime & host & proto\\\\\n",
       "\\hline\n",
       "\t 2013-03-03 21:53:59 & groucho-oregon      & TCP                \\\\\n",
       "\t 2013-03-03 21:57:01 & groucho-oregon      & UDP                \\\\\n",
       "\t 2013-03-03 21:58:10 & groucho-oregon      & TCP                \\\\\n",
       "\t 2013-03-03 21:58:09 & groucho-us-east     & UDP                \\\\\n",
       "\t 2013-03-03 21:58:20 & groucho-singapore   & TCP                \\\\\n",
       "\t 2013-03-03 21:58:41 & groucho-tokyo       & TCP                \\\\\n",
       "\\end{tabular}\n"
      ],
      "text/markdown": [
       "\n",
       "datetime | host | proto | \n",
       "|---|---|---|---|---|---|\n",
       "| 2013-03-03 21:53:59 | groucho-oregon      | TCP                 | \n",
       "| 2013-03-03 21:57:01 | groucho-oregon      | UDP                 | \n",
       "| 2013-03-03 21:58:10 | groucho-oregon      | TCP                 | \n",
       "| 2013-03-03 21:58:09 | groucho-us-east     | UDP                 | \n",
       "| 2013-03-03 21:58:20 | groucho-singapore   | TCP                 | \n",
       "| 2013-03-03 21:58:41 | groucho-tokyo       | TCP                 | \n",
       "\n",
       "\n"
      ],
      "text/plain": [
       "  datetime            host              proto\n",
       "1 2013-03-03 21:53:59 groucho-oregon    TCP  \n",
       "2 2013-03-03 21:57:01 groucho-oregon    UDP  \n",
       "3 2013-03-03 21:58:10 groucho-oregon    TCP  \n",
       "4 2013-03-03 21:58:09 groucho-us-east   UDP  \n",
       "5 2013-03-03 21:58:20 groucho-singapore TCP  \n",
       "6 2013-03-03 21:58:41 groucho-tokyo     TCP  "
      ]
     },
     "metadata": {},
     "output_type": "display_data"
    },
    {
     "data": {
      "text/html": [
       "'Number of categorical columns: 3'"
      ],
      "text/latex": [
       "'Number of categorical columns: 3'"
      ],
      "text/markdown": [
       "'Number of categorical columns: 3'"
      ],
      "text/plain": [
       "[1] \"Number of categorical columns: 3\""
      ]
     },
     "metadata": {},
     "output_type": "display_data"
    }
   ],
   "source": [
    "                                                             \n",
    "#Create a dataframe of categorical columns\n",
    "categorical_columns <- select_if(marx, is.factor)\n",
    "head(categorical_columns)\n",
    "sprintf(\"Number of categorical columns: %i\", ncol(categorical_columns))"
   ]
  },
  {
   "cell_type": "code",
   "execution_count": 88,
   "metadata": {},
   "outputs": [
    {
     "data": {
      "text/html": [
       "<table>\n",
       "<thead><tr><th scope=col>host</th><th scope=col>freq</th></tr></thead>\n",
       "<tbody>\n",
       "\t<tr><td>groucho-eu       </td><td> 23954           </td></tr>\n",
       "\t<tr><td>groucho-norcal   </td><td> 24566           </td></tr>\n",
       "\t<tr><td>groucho-oregon   </td><td> 94076           </td></tr>\n",
       "\t<tr><td>groucho-sa       </td><td> 24316           </td></tr>\n",
       "\t<tr><td>groucho-singapore</td><td> 78151           </td></tr>\n",
       "\t<tr><td>groucho-sydney   </td><td> 24456           </td></tr>\n",
       "\t<tr><td>groucho-tokyo    </td><td>126189           </td></tr>\n",
       "\t<tr><td>groucho-us-east  </td><td> 31779           </td></tr>\n",
       "\t<tr><td>zeppo-norcal     </td><td> 24094           </td></tr>\n",
       "</tbody>\n",
       "</table>\n"
      ],
      "text/latex": [
       "\\begin{tabular}{r|ll}\n",
       " host & freq\\\\\n",
       "\\hline\n",
       "\t groucho-eu        &  23954           \\\\\n",
       "\t groucho-norcal    &  24566           \\\\\n",
       "\t groucho-oregon    &  94076           \\\\\n",
       "\t groucho-sa        &  24316           \\\\\n",
       "\t groucho-singapore &  78151           \\\\\n",
       "\t groucho-sydney    &  24456           \\\\\n",
       "\t groucho-tokyo     & 126189           \\\\\n",
       "\t groucho-us-east   &  31779           \\\\\n",
       "\t zeppo-norcal      &  24094           \\\\\n",
       "\\end{tabular}\n"
      ],
      "text/markdown": [
       "\n",
       "host | freq | \n",
       "|---|---|---|---|---|---|---|---|---|\n",
       "| groucho-eu        |  23954            | \n",
       "| groucho-norcal    |  24566            | \n",
       "| groucho-oregon    |  94076            | \n",
       "| groucho-sa        |  24316            | \n",
       "| groucho-singapore |  78151            | \n",
       "| groucho-sydney    |  24456            | \n",
       "| groucho-tokyo     | 126189            | \n",
       "| groucho-us-east   |  31779            | \n",
       "| zeppo-norcal      |  24094            | \n",
       "\n",
       "\n"
      ],
      "text/plain": [
       "  host              freq  \n",
       "1 groucho-eu         23954\n",
       "2 groucho-norcal     24566\n",
       "3 groucho-oregon     94076\n",
       "4 groucho-sa         24316\n",
       "5 groucho-singapore  78151\n",
       "6 groucho-sydney     24456\n",
       "7 groucho-tokyo     126189\n",
       "8 groucho-us-east    31779\n",
       "9 zeppo-norcal       24094"
      ]
     },
     "metadata": {},
     "output_type": "display_data"
    },
    {
     "data": {
      "text/html": [
       "<table>\n",
       "<thead><tr><th scope=col>proto</th><th scope=col>freq</th></tr></thead>\n",
       "<tbody>\n",
       "\t<tr><td>ICMP  </td><td> 44811</td></tr>\n",
       "\t<tr><td>TCP   </td><td>327991</td></tr>\n",
       "\t<tr><td>UDP   </td><td> 78779</td></tr>\n",
       "</tbody>\n",
       "</table>\n"
      ],
      "text/latex": [
       "\\begin{tabular}{r|ll}\n",
       " proto & freq\\\\\n",
       "\\hline\n",
       "\t ICMP   &  44811\\\\\n",
       "\t TCP    & 327991\\\\\n",
       "\t UDP    &  78779\\\\\n",
       "\\end{tabular}\n"
      ],
      "text/markdown": [
       "\n",
       "proto | freq | \n",
       "|---|---|---|\n",
       "| ICMP   |  44811 | \n",
       "| TCP    | 327991 | \n",
       "| UDP    |  78779 | \n",
       "\n",
       "\n"
      ],
      "text/plain": [
       "  proto freq  \n",
       "1 ICMP   44811\n",
       "2 TCP   327991\n",
       "3 UDP    78779"
      ]
     },
     "metadata": {},
     "output_type": "display_data"
    },
    {
     "data": {
      "text/html": [
       "<table>\n",
       "<thead><tr><th scope=col>type</th><th scope=col>freq</th></tr></thead>\n",
       "<tbody>\n",
       "\t<tr><td> 0    </td><td>   536</td></tr>\n",
       "\t<tr><td> 3    </td><td>  4251</td></tr>\n",
       "\t<tr><td> 5    </td><td>   127</td></tr>\n",
       "\t<tr><td> 8    </td><td> 38597</td></tr>\n",
       "\t<tr><td>11    </td><td>  1156</td></tr>\n",
       "\t<tr><td>12    </td><td>     2</td></tr>\n",
       "\t<tr><td>13    </td><td>   142</td></tr>\n",
       "\t<tr><td>NA    </td><td>406770</td></tr>\n",
       "</tbody>\n",
       "</table>\n"
      ],
      "text/latex": [
       "\\begin{tabular}{r|ll}\n",
       " type & freq\\\\\n",
       "\\hline\n",
       "\t  0     &    536\\\\\n",
       "\t  3     &   4251\\\\\n",
       "\t  5     &    127\\\\\n",
       "\t  8     &  38597\\\\\n",
       "\t 11     &   1156\\\\\n",
       "\t 12     &      2\\\\\n",
       "\t 13     &    142\\\\\n",
       "\t NA     & 406770\\\\\n",
       "\\end{tabular}\n"
      ],
      "text/markdown": [
       "\n",
       "type | freq | \n",
       "|---|---|---|---|---|---|---|---|\n",
       "|  0     |    536 | \n",
       "|  3     |   4251 | \n",
       "|  5     |    127 | \n",
       "|  8     |  38597 | \n",
       "| 11     |   1156 | \n",
       "| 12     |      2 | \n",
       "| 13     |    142 | \n",
       "| NA     | 406770 | \n",
       "\n",
       "\n"
      ],
      "text/plain": [
       "  type freq  \n",
       "1  0      536\n",
       "2  3     4251\n",
       "3  5      127\n",
       "4  8    38597\n",
       "5 11     1156\n",
       "6 12        2\n",
       "7 13      142\n",
       "8 NA   406770"
      ]
     },
     "metadata": {},
     "output_type": "display_data"
    }
   ],
   "source": [
    "                                                             \n",
    "#The frequency of different levels of each categorical column\n",
    "count(categorical_columns, 'host')\n",
    "count(categorical_columns, 'proto')\n",
    "count(marx, 'type')"
   ]
  },
  {
   "cell_type": "code",
   "execution_count": 89,
   "metadata": {},
   "outputs": [
    {
     "name": "stdout",
     "output_type": "stream",
     "text": [
      "[1] \"Shape of Dataset:\"\n",
      "[1] 451581     16\n"
     ]
    }
   ],
   "source": [
    "                                                             \n",
    "marx_geo = read.csv('marx-geo.csv')\n",
    "print(\"Shape of Dataset:\")\n",
    "print(dim(marx_geo))"
   ]
  },
  {
   "cell_type": "code",
   "execution_count": 90,
   "metadata": {},
   "outputs": [
    {
     "name": "stdout",
     "output_type": "stream",
     "text": [
      "'data.frame':\t451581 obs. of  16 variables:\n",
      " $ datetime  : Factor w/ 185118 levels \"3/10/13 0:00\",..: 17291 17292 17293 17293 17293 17293 17294 17295 17296 17297 ...\n",
      " $ host      : Factor w/ 9 levels \"groucho-eu\",\"groucho-norcal\",..: 3 3 3 8 5 7 3 5 3 5 ...\n",
      " $ src       : num  1.03e+09 1.35e+09 2.95e+09 8.42e+08 3.59e+09 ...\n",
      " $ proto     : Factor w/ 3 levels \"ICMP\",\"TCP\",\"UDP\": 2 3 2 3 2 2 2 2 2 2 ...\n",
      " $ type      : int  NA NA NA NA NA NA NA NA NA NA ...\n",
      " $ spt       : int  6000 5270 2489 43235 56577 32628 6000 6000 6000 6000 ...\n",
      " $ dpt       : int  1433 5060 1080 1900 80 2323 1433 3306 1433 1433 ...\n",
      " $ srcstr    : Factor w/ 69602 levels \"1.0.0.38\",\"1.1.162.110\",..: 56491 62595 23980 52966 40813 34587 46361 45824 43150 55791 ...\n",
      " $ cc        : Factor w/ 177 levels \"\",\"AD\",\"AE\",\"AF\",..: 36 43 161 165 56 165 36 36 36 36 ...\n",
      " $ country   : Factor w/ 178 levels \"\",\"Afghanistan\",..: 38 59 159 171 56 171 38 38 38 38 ...\n",
      " $ locale    : Factor w/ 1180 levels \"\",\"Aargau\",\"Abu Dhabi\",..: 392 1 1022 683 1 370 349 956 346 492 ...\n",
      " $ localeabbr: Factor w/ 613 levels \"\",\" D.C.\",\"0\",..: 39 1 1 417 1 282 45 59 11 20 ...\n",
      " $ postalcode: Factor w/ 2778 levels \"\",\"100\",\"10000\",..: 1 1 1 2506 1 1546 1 1 1 1 ...\n",
      " $ latitude  : num  28.6 51 25 45.6 48.9 ...\n",
      " $ longitude : num  115.93 9 121.53 -122.91 2.35 ...\n",
      " $ X         : num  NA NA NA NA NA NA NA NA NA NA ...\n"
     ]
    }
   ],
   "source": [
    "str(marx_geo)"
   ]
  },
  {
   "cell_type": "code",
   "execution_count": 91,
   "metadata": {},
   "outputs": [
    {
     "data": {
      "text/html": [
       "<table>\n",
       "<thead><tr><th scope=col>datetime</th><th scope=col>host</th><th scope=col>src</th><th scope=col>proto</th><th scope=col>type</th><th scope=col>spt</th><th scope=col>dpt</th><th scope=col>srcstr</th><th scope=col>cc</th><th scope=col>country</th><th scope=col>locale</th><th scope=col>localeabbr</th><th scope=col>postalcode</th><th scope=col>latitude</th><th scope=col>longitude</th><th scope=col>X</th></tr></thead>\n",
       "<tbody>\n",
       "\t<tr><td>3/3/13 21:53     </td><td>groucho-oregon   </td><td>1032051418       </td><td>TCP              </td><td>NA               </td><td> 6000            </td><td>1433             </td><td>61.131.218.218   </td><td>CN               </td><td>China            </td><td>Jiangxi Sheng    </td><td>36               </td><td>                 </td><td>28.5500          </td><td> 115.9333        </td><td>NA               </td></tr>\n",
       "\t<tr><td>3/3/13 21:57     </td><td>groucho-oregon   </td><td>1347834426       </td><td>UDP              </td><td>NA               </td><td> 5270            </td><td>5060             </td><td>80.86.82.58      </td><td>DE               </td><td>Germany          </td><td>                 </td><td>                 </td><td>                 </td><td>51.0000          </td><td>   9.0000        </td><td>NA               </td></tr>\n",
       "\t<tr><td>3/3/13 21:58     </td><td>groucho-oregon   </td><td>2947856490       </td><td>TCP              </td><td>NA               </td><td> 2489            </td><td>1080             </td><td>175.180.184.106  </td><td>TW               </td><td>Taiwan           </td><td>Taipei           </td><td>                 </td><td>                 </td><td>25.0392          </td><td> 121.5250        </td><td>NA               </td></tr>\n",
       "\t<tr><td>3/3/13 21:58     </td><td>groucho-us-east  </td><td> 841842716       </td><td>UDP              </td><td>NA               </td><td>43235            </td><td>1900             </td><td>50.45.128.28     </td><td>US               </td><td>United States    </td><td>Oregon           </td><td>OR               </td><td>97124            </td><td>45.5848          </td><td>-122.9117        </td><td>NA               </td></tr>\n",
       "\t<tr><td>3/3/13 21:58     </td><td>groucho-singapore</td><td>3587648279       </td><td>TCP              </td><td>NA               </td><td>56577            </td><td>  80             </td><td>213.215.43.23    </td><td>FR               </td><td>France           </td><td>                 </td><td>                 </td><td>                 </td><td>48.8600          </td><td>   2.3500        </td><td>NA               </td></tr>\n",
       "</tbody>\n",
       "</table>\n"
      ],
      "text/latex": [
       "\\begin{tabular}{r|llllllllllllllll}\n",
       " datetime & host & src & proto & type & spt & dpt & srcstr & cc & country & locale & localeabbr & postalcode & latitude & longitude & X\\\\\n",
       "\\hline\n",
       "\t 3/3/13 21:53      & groucho-oregon    & 1032051418        & TCP               & NA                &  6000             & 1433              & 61.131.218.218    & CN                & China             & Jiangxi Sheng     & 36                &                   & 28.5500           &  115.9333         & NA               \\\\\n",
       "\t 3/3/13 21:57      & groucho-oregon    & 1347834426        & UDP               & NA                &  5270             & 5060              & 80.86.82.58       & DE                & Germany           &                   &                   &                   & 51.0000           &    9.0000         & NA               \\\\\n",
       "\t 3/3/13 21:58      & groucho-oregon    & 2947856490        & TCP               & NA                &  2489             & 1080              & 175.180.184.106   & TW                & Taiwan            & Taipei            &                   &                   & 25.0392           &  121.5250         & NA               \\\\\n",
       "\t 3/3/13 21:58      & groucho-us-east   &  841842716        & UDP               & NA                & 43235             & 1900              & 50.45.128.28      & US                & United States     & Oregon            & OR                & 97124             & 45.5848           & -122.9117         & NA               \\\\\n",
       "\t 3/3/13 21:58      & groucho-singapore & 3587648279        & TCP               & NA                & 56577             &   80              & 213.215.43.23     & FR                & France            &                   &                   &                   & 48.8600           &    2.3500         & NA               \\\\\n",
       "\\end{tabular}\n"
      ],
      "text/markdown": [
       "\n",
       "datetime | host | src | proto | type | spt | dpt | srcstr | cc | country | locale | localeabbr | postalcode | latitude | longitude | X | \n",
       "|---|---|---|---|---|\n",
       "| 3/3/13 21:53      | groucho-oregon    | 1032051418        | TCP               | NA                |  6000             | 1433              | 61.131.218.218    | CN                | China             | Jiangxi Sheng     | 36                |                   | 28.5500           |  115.9333         | NA                | \n",
       "| 3/3/13 21:57      | groucho-oregon    | 1347834426        | UDP               | NA                |  5270             | 5060              | 80.86.82.58       | DE                | Germany           |                   |                   |                   | 51.0000           |    9.0000         | NA                | \n",
       "| 3/3/13 21:58      | groucho-oregon    | 2947856490        | TCP               | NA                |  2489             | 1080              | 175.180.184.106   | TW                | Taiwan            | Taipei            |                   |                   | 25.0392           |  121.5250         | NA                | \n",
       "| 3/3/13 21:58      | groucho-us-east   |  841842716        | UDP               | NA                | 43235             | 1900              | 50.45.128.28      | US                | United States     | Oregon            | OR                | 97124             | 45.5848           | -122.9117         | NA                | \n",
       "| 3/3/13 21:58      | groucho-singapore | 3587648279        | TCP               | NA                | 56577             |   80              | 213.215.43.23     | FR                | France            |                   |                   |                   | 48.8600           |    2.3500         | NA                | \n",
       "\n",
       "\n"
      ],
      "text/plain": [
       "  datetime     host              src        proto type spt   dpt \n",
       "1 3/3/13 21:53 groucho-oregon    1032051418 TCP   NA    6000 1433\n",
       "2 3/3/13 21:57 groucho-oregon    1347834426 UDP   NA    5270 5060\n",
       "3 3/3/13 21:58 groucho-oregon    2947856490 TCP   NA    2489 1080\n",
       "4 3/3/13 21:58 groucho-us-east    841842716 UDP   NA   43235 1900\n",
       "5 3/3/13 21:58 groucho-singapore 3587648279 TCP   NA   56577   80\n",
       "  srcstr          cc country       locale        localeabbr postalcode latitude\n",
       "1 61.131.218.218  CN China         Jiangxi Sheng 36                    28.5500 \n",
       "2 80.86.82.58     DE Germany                                           51.0000 \n",
       "3 175.180.184.106 TW Taiwan        Taipei                              25.0392 \n",
       "4 50.45.128.28    US United States Oregon        OR         97124      45.5848 \n",
       "5 213.215.43.23   FR France                                            48.8600 \n",
       "  longitude X \n",
       "1  115.9333 NA\n",
       "2    9.0000 NA\n",
       "3  121.5250 NA\n",
       "4 -122.9117 NA\n",
       "5    2.3500 NA"
      ]
     },
     "metadata": {},
     "output_type": "display_data"
    }
   ],
   "source": [
    "head(marx_geo, 5)"
   ]
  },
  {
   "cell_type": "code",
   "execution_count": 92,
   "metadata": {},
   "outputs": [
    {
     "name": "stdout",
     "output_type": "stream",
     "text": [
      "[1] \"Data Quality Report\"\n"
     ]
    },
    {
     "data": {
      "text/html": [
       "<table>\n",
       "<thead><tr><th></th><th scope=col>data_type</th><th scope=col>count</th><th scope=col>unique_values</th><th scope=col>missing_values</th></tr></thead>\n",
       "<tbody>\n",
       "\t<tr><th scope=row>datetime</th><td>factor </td><td>451581 </td><td>185118 </td><td>     0 </td></tr>\n",
       "\t<tr><th scope=row>host</th><td>factor </td><td>451581 </td><td>     9 </td><td>     0 </td></tr>\n",
       "\t<tr><th scope=row>src</th><td>numeric</td><td>451581 </td><td> 69602 </td><td>     0 </td></tr>\n",
       "\t<tr><th scope=row>proto</th><td>factor </td><td>451581 </td><td>     3 </td><td>     0 </td></tr>\n",
       "\t<tr><th scope=row>type</th><td>integer</td><td> 44811 </td><td>     8 </td><td>406770 </td></tr>\n",
       "\t<tr><th scope=row>spt</th><td>integer</td><td>406770 </td><td> 46189 </td><td> 44811 </td></tr>\n",
       "\t<tr><th scope=row>dpt</th><td>integer</td><td>406770 </td><td>  4042 </td><td> 44811 </td></tr>\n",
       "\t<tr><th scope=row>srcstr</th><td>factor </td><td>451581 </td><td> 69602 </td><td>     0 </td></tr>\n",
       "\t<tr><th scope=row>cc</th><td>factor </td><td>451580 </td><td>   178 </td><td>     1 </td></tr>\n",
       "\t<tr><th scope=row>country</th><td>factor </td><td>451581 </td><td>   178 </td><td>     0 </td></tr>\n",
       "\t<tr><th scope=row>locale</th><td>factor </td><td>451581 </td><td>  1180 </td><td>     0 </td></tr>\n",
       "\t<tr><th scope=row>localeabbr</th><td>factor </td><td>451547 </td><td>   614 </td><td>    34 </td></tr>\n",
       "\t<tr><th scope=row>postalcode</th><td>factor </td><td>451581 </td><td>  2778 </td><td>     0 </td></tr>\n",
       "\t<tr><th scope=row>latitude</th><td>numeric</td><td>448113 </td><td>  5091 </td><td>  3468 </td></tr>\n",
       "\t<tr><th scope=row>longitude</th><td>numeric</td><td>448153 </td><td>  5255 </td><td>  3428 </td></tr>\n",
       "\t<tr><th scope=row>X</th><td>numeric</td><td>    82 </td><td>     6 </td><td>451499 </td></tr>\n",
       "</tbody>\n",
       "</table>\n"
      ],
      "text/latex": [
       "\\begin{tabular}{r|llll}\n",
       "  & data\\_type & count & unique\\_values & missing\\_values\\\\\n",
       "\\hline\n",
       "\tdatetime & factor  & 451581  & 185118  &      0 \\\\\n",
       "\thost & factor  & 451581  &      9  &      0 \\\\\n",
       "\tsrc & numeric & 451581  &  69602  &      0 \\\\\n",
       "\tproto & factor  & 451581  &      3  &      0 \\\\\n",
       "\ttype & integer &  44811  &      8  & 406770 \\\\\n",
       "\tspt & integer & 406770  &  46189  &  44811 \\\\\n",
       "\tdpt & integer & 406770  &   4042  &  44811 \\\\\n",
       "\tsrcstr & factor  & 451581  &  69602  &      0 \\\\\n",
       "\tcc & factor  & 451580  &    178  &      1 \\\\\n",
       "\tcountry & factor  & 451581  &    178  &      0 \\\\\n",
       "\tlocale & factor  & 451581  &   1180  &      0 \\\\\n",
       "\tlocaleabbr & factor  & 451547  &    614  &     34 \\\\\n",
       "\tpostalcode & factor  & 451581  &   2778  &      0 \\\\\n",
       "\tlatitude & numeric & 448113  &   5091  &   3468 \\\\\n",
       "\tlongitude & numeric & 448153  &   5255  &   3428 \\\\\n",
       "\tX & numeric &     82  &      6  & 451499 \\\\\n",
       "\\end{tabular}\n"
      ],
      "text/markdown": [
       "\n",
       "| <!--/--> | data_type | count | unique_values | missing_values | \n",
       "|---|---|---|---|---|---|---|---|---|---|---|---|---|---|---|---|\n",
       "| datetime | factor  | 451581  | 185118  |      0  | \n",
       "| host | factor  | 451581  |      9  |      0  | \n",
       "| src | numeric | 451581  |  69602  |      0  | \n",
       "| proto | factor  | 451581  |      3  |      0  | \n",
       "| type | integer |  44811  |      8  | 406770  | \n",
       "| spt | integer | 406770  |  46189  |  44811  | \n",
       "| dpt | integer | 406770  |   4042  |  44811  | \n",
       "| srcstr | factor  | 451581  |  69602  |      0  | \n",
       "| cc | factor  | 451580  |    178  |      1  | \n",
       "| country | factor  | 451581  |    178  |      0  | \n",
       "| locale | factor  | 451581  |   1180  |      0  | \n",
       "| localeabbr | factor  | 451547  |    614  |     34  | \n",
       "| postalcode | factor  | 451581  |   2778  |      0  | \n",
       "| latitude | numeric | 448113  |   5091  |   3468  | \n",
       "| longitude | numeric | 448153  |   5255  |   3428  | \n",
       "| X | numeric |     82  |      6  | 451499  | \n",
       "\n",
       "\n"
      ],
      "text/plain": [
       "           data_type count  unique_values missing_values\n",
       "datetime   factor    451581 185118             0        \n",
       "host       factor    451581      9             0        \n",
       "src        numeric   451581  69602             0        \n",
       "proto      factor    451581      3             0        \n",
       "type       integer    44811      8        406770        \n",
       "spt        integer   406770  46189         44811        \n",
       "dpt        integer   406770   4042         44811        \n",
       "srcstr     factor    451581  69602             0        \n",
       "cc         factor    451580    178             1        \n",
       "country    factor    451581    178             0        \n",
       "locale     factor    451581   1180             0        \n",
       "localeabbr factor    451547    614            34        \n",
       "postalcode factor    451581   2778             0        \n",
       "latitude   numeric   448113   5091          3468        \n",
       "longitude  numeric   448153   5255          3428        \n",
       "X          numeric       82      6        451499        "
      ]
     },
     "metadata": {},
     "output_type": "display_data"
    }
   ],
   "source": [
    "                                                             \n",
    "#Call 'data_report' function for the dataset\n",
    "data_report(marx_geo)"
   ]
  },
  {
   "cell_type": "code",
   "execution_count": 93,
   "metadata": {},
   "outputs": [
    {
     "data": {
      "text/html": [
       "<table>\n",
       "<thead><tr><th scope=col>src</th><th scope=col>type</th><th scope=col>spt</th><th scope=col>dpt</th><th scope=col>latitude</th><th scope=col>longitude</th><th scope=col>X</th></tr></thead>\n",
       "<tbody>\n",
       "\t<tr><td>1032051418</td><td>NA        </td><td> 6000     </td><td>1433      </td><td>28.5500   </td><td> 115.9333 </td><td>NA        </td></tr>\n",
       "\t<tr><td>1347834426</td><td>NA        </td><td> 5270     </td><td>5060      </td><td>51.0000   </td><td>   9.0000 </td><td>NA        </td></tr>\n",
       "\t<tr><td>2947856490</td><td>NA        </td><td> 2489     </td><td>1080      </td><td>25.0392   </td><td> 121.5250 </td><td>NA        </td></tr>\n",
       "\t<tr><td> 841842716</td><td>NA        </td><td>43235     </td><td>1900      </td><td>45.5848   </td><td>-122.9117 </td><td>NA        </td></tr>\n",
       "\t<tr><td>3587648279</td><td>NA        </td><td>56577     </td><td>  80      </td><td>48.8600   </td><td>   2.3500 </td><td>NA        </td></tr>\n",
       "\t<tr><td>3323217250</td><td>NA        </td><td>32628     </td><td>2323      </td><td>41.8825   </td><td> -87.6441 </td><td>NA        </td></tr>\n",
       "</tbody>\n",
       "</table>\n"
      ],
      "text/latex": [
       "\\begin{tabular}{r|lllllll}\n",
       " src & type & spt & dpt & latitude & longitude & X\\\\\n",
       "\\hline\n",
       "\t 1032051418 & NA         &  6000      & 1433       & 28.5500    &  115.9333  & NA        \\\\\n",
       "\t 1347834426 & NA         &  5270      & 5060       & 51.0000    &    9.0000  & NA        \\\\\n",
       "\t 2947856490 & NA         &  2489      & 1080       & 25.0392    &  121.5250  & NA        \\\\\n",
       "\t  841842716 & NA         & 43235      & 1900       & 45.5848    & -122.9117  & NA        \\\\\n",
       "\t 3587648279 & NA         & 56577      &   80       & 48.8600    &    2.3500  & NA        \\\\\n",
       "\t 3323217250 & NA         & 32628      & 2323       & 41.8825    &  -87.6441  & NA        \\\\\n",
       "\\end{tabular}\n"
      ],
      "text/markdown": [
       "\n",
       "src | type | spt | dpt | latitude | longitude | X | \n",
       "|---|---|---|---|---|---|\n",
       "| 1032051418 | NA         |  6000      | 1433       | 28.5500    |  115.9333  | NA         | \n",
       "| 1347834426 | NA         |  5270      | 5060       | 51.0000    |    9.0000  | NA         | \n",
       "| 2947856490 | NA         |  2489      | 1080       | 25.0392    |  121.5250  | NA         | \n",
       "|  841842716 | NA         | 43235      | 1900       | 45.5848    | -122.9117  | NA         | \n",
       "| 3587648279 | NA         | 56577      |   80       | 48.8600    |    2.3500  | NA         | \n",
       "| 3323217250 | NA         | 32628      | 2323       | 41.8825    |  -87.6441  | NA         | \n",
       "\n",
       "\n"
      ],
      "text/plain": [
       "  src        type spt   dpt  latitude longitude X \n",
       "1 1032051418 NA    6000 1433 28.5500   115.9333 NA\n",
       "2 1347834426 NA    5270 5060 51.0000     9.0000 NA\n",
       "3 2947856490 NA    2489 1080 25.0392   121.5250 NA\n",
       "4  841842716 NA   43235 1900 45.5848  -122.9117 NA\n",
       "5 3587648279 NA   56577   80 48.8600     2.3500 NA\n",
       "6 3323217250 NA   32628 2323 41.8825   -87.6441 NA"
      ]
     },
     "metadata": {},
     "output_type": "display_data"
    },
    {
     "data": {
      "text/html": [
       "'Number of numerical columns: 7'"
      ],
      "text/latex": [
       "'Number of numerical columns: 7'"
      ],
      "text/markdown": [
       "'Number of numerical columns: 7'"
      ],
      "text/plain": [
       "[1] \"Number of numerical columns: 7\""
      ]
     },
     "metadata": {},
     "output_type": "display_data"
    }
   ],
   "source": [
    "                                                             \n",
    "#Create a dataframe of numeric columns\n",
    "numeric_columns <- select_if(marx_geo, is.numeric)\n",
    "head(numeric_columns)\n",
    "sprintf(\"Number of numerical columns: %i\", ncol(numeric_columns))"
   ]
  },
  {
   "cell_type": "code",
   "execution_count": 94,
   "metadata": {},
   "outputs": [
    {
     "data": {
      "text/html": [
       "<table>\n",
       "<thead><tr><th scope=col>datetime</th><th scope=col>host</th><th scope=col>proto</th><th scope=col>srcstr</th><th scope=col>cc</th><th scope=col>country</th><th scope=col>locale</th><th scope=col>localeabbr</th><th scope=col>postalcode</th></tr></thead>\n",
       "<tbody>\n",
       "\t<tr><td>3/3/13 21:53     </td><td>groucho-oregon   </td><td>TCP              </td><td>61.131.218.218   </td><td>CN               </td><td>China            </td><td>Jiangxi Sheng    </td><td>36               </td><td>                 </td></tr>\n",
       "\t<tr><td>3/3/13 21:57     </td><td>groucho-oregon   </td><td>UDP              </td><td>80.86.82.58      </td><td>DE               </td><td>Germany          </td><td>                 </td><td>                 </td><td>                 </td></tr>\n",
       "\t<tr><td>3/3/13 21:58     </td><td>groucho-oregon   </td><td>TCP              </td><td>175.180.184.106  </td><td>TW               </td><td>Taiwan           </td><td>Taipei           </td><td>                 </td><td>                 </td></tr>\n",
       "\t<tr><td>3/3/13 21:58     </td><td>groucho-us-east  </td><td>UDP              </td><td>50.45.128.28     </td><td>US               </td><td>United States    </td><td>Oregon           </td><td>OR               </td><td>97124            </td></tr>\n",
       "\t<tr><td>3/3/13 21:58     </td><td>groucho-singapore</td><td>TCP              </td><td>213.215.43.23    </td><td>FR               </td><td>France           </td><td>                 </td><td>                 </td><td>                 </td></tr>\n",
       "\t<tr><td>3/3/13 21:58     </td><td>groucho-tokyo    </td><td>TCP              </td><td>198.20.69.98     </td><td>US               </td><td>United States    </td><td>Illinois         </td><td>IL               </td><td>60661            </td></tr>\n",
       "</tbody>\n",
       "</table>\n"
      ],
      "text/latex": [
       "\\begin{tabular}{r|lllllllll}\n",
       " datetime & host & proto & srcstr & cc & country & locale & localeabbr & postalcode\\\\\n",
       "\\hline\n",
       "\t 3/3/13 21:53      & groucho-oregon    & TCP               & 61.131.218.218    & CN                & China             & Jiangxi Sheng     & 36                &                  \\\\\n",
       "\t 3/3/13 21:57      & groucho-oregon    & UDP               & 80.86.82.58       & DE                & Germany           &                   &                   &                  \\\\\n",
       "\t 3/3/13 21:58      & groucho-oregon    & TCP               & 175.180.184.106   & TW                & Taiwan            & Taipei            &                   &                  \\\\\n",
       "\t 3/3/13 21:58      & groucho-us-east   & UDP               & 50.45.128.28      & US                & United States     & Oregon            & OR                & 97124            \\\\\n",
       "\t 3/3/13 21:58      & groucho-singapore & TCP               & 213.215.43.23     & FR                & France            &                   &                   &                  \\\\\n",
       "\t 3/3/13 21:58      & groucho-tokyo     & TCP               & 198.20.69.98      & US                & United States     & Illinois          & IL                & 60661            \\\\\n",
       "\\end{tabular}\n"
      ],
      "text/markdown": [
       "\n",
       "datetime | host | proto | srcstr | cc | country | locale | localeabbr | postalcode | \n",
       "|---|---|---|---|---|---|\n",
       "| 3/3/13 21:53      | groucho-oregon    | TCP               | 61.131.218.218    | CN                | China             | Jiangxi Sheng     | 36                |                   | \n",
       "| 3/3/13 21:57      | groucho-oregon    | UDP               | 80.86.82.58       | DE                | Germany           |                   |                   |                   | \n",
       "| 3/3/13 21:58      | groucho-oregon    | TCP               | 175.180.184.106   | TW                | Taiwan            | Taipei            |                   |                   | \n",
       "| 3/3/13 21:58      | groucho-us-east   | UDP               | 50.45.128.28      | US                | United States     | Oregon            | OR                | 97124             | \n",
       "| 3/3/13 21:58      | groucho-singapore | TCP               | 213.215.43.23     | FR                | France            |                   |                   |                   | \n",
       "| 3/3/13 21:58      | groucho-tokyo     | TCP               | 198.20.69.98      | US                | United States     | Illinois          | IL                | 60661             | \n",
       "\n",
       "\n"
      ],
      "text/plain": [
       "  datetime     host              proto srcstr          cc country      \n",
       "1 3/3/13 21:53 groucho-oregon    TCP   61.131.218.218  CN China        \n",
       "2 3/3/13 21:57 groucho-oregon    UDP   80.86.82.58     DE Germany      \n",
       "3 3/3/13 21:58 groucho-oregon    TCP   175.180.184.106 TW Taiwan       \n",
       "4 3/3/13 21:58 groucho-us-east   UDP   50.45.128.28    US United States\n",
       "5 3/3/13 21:58 groucho-singapore TCP   213.215.43.23   FR France       \n",
       "6 3/3/13 21:58 groucho-tokyo     TCP   198.20.69.98    US United States\n",
       "  locale        localeabbr postalcode\n",
       "1 Jiangxi Sheng 36                   \n",
       "2                                    \n",
       "3 Taipei                             \n",
       "4 Oregon        OR         97124     \n",
       "5                                    \n",
       "6 Illinois      IL         60661     "
      ]
     },
     "metadata": {},
     "output_type": "display_data"
    },
    {
     "data": {
      "text/html": [
       "'Number of categorical columns: 9'"
      ],
      "text/latex": [
       "'Number of categorical columns: 9'"
      ],
      "text/markdown": [
       "'Number of categorical columns: 9'"
      ],
      "text/plain": [
       "[1] \"Number of categorical columns: 9\""
      ]
     },
     "metadata": {},
     "output_type": "display_data"
    }
   ],
   "source": [
    "                                                             \n",
    "#Create a dataframe of categorical columns\n",
    "categorical_columns <- select_if(marx_geo, is.factor)\n",
    "head(categorical_columns)\n",
    "sprintf(\"Number of categorical columns: %i\", ncol(categorical_columns))"
   ]
  },
  {
   "cell_type": "code",
   "execution_count": 95,
   "metadata": {},
   "outputs": [
    {
     "data": {
      "text/html": [
       "<table>\n",
       "<thead><tr><th scope=col>host</th><th scope=col>freq</th></tr></thead>\n",
       "<tbody>\n",
       "\t<tr><td>groucho-eu       </td><td> 23954           </td></tr>\n",
       "\t<tr><td>groucho-norcal   </td><td> 24566           </td></tr>\n",
       "\t<tr><td>groucho-oregon   </td><td> 94076           </td></tr>\n",
       "\t<tr><td>groucho-sa       </td><td> 24316           </td></tr>\n",
       "\t<tr><td>groucho-singapore</td><td> 78151           </td></tr>\n",
       "\t<tr><td>groucho-sydney   </td><td> 24456           </td></tr>\n",
       "\t<tr><td>groucho-tokyo    </td><td>126189           </td></tr>\n",
       "\t<tr><td>groucho-us-east  </td><td> 31779           </td></tr>\n",
       "\t<tr><td>zeppo-norcal     </td><td> 24094           </td></tr>\n",
       "</tbody>\n",
       "</table>\n"
      ],
      "text/latex": [
       "\\begin{tabular}{r|ll}\n",
       " host & freq\\\\\n",
       "\\hline\n",
       "\t groucho-eu        &  23954           \\\\\n",
       "\t groucho-norcal    &  24566           \\\\\n",
       "\t groucho-oregon    &  94076           \\\\\n",
       "\t groucho-sa        &  24316           \\\\\n",
       "\t groucho-singapore &  78151           \\\\\n",
       "\t groucho-sydney    &  24456           \\\\\n",
       "\t groucho-tokyo     & 126189           \\\\\n",
       "\t groucho-us-east   &  31779           \\\\\n",
       "\t zeppo-norcal      &  24094           \\\\\n",
       "\\end{tabular}\n"
      ],
      "text/markdown": [
       "\n",
       "host | freq | \n",
       "|---|---|---|---|---|---|---|---|---|\n",
       "| groucho-eu        |  23954            | \n",
       "| groucho-norcal    |  24566            | \n",
       "| groucho-oregon    |  94076            | \n",
       "| groucho-sa        |  24316            | \n",
       "| groucho-singapore |  78151            | \n",
       "| groucho-sydney    |  24456            | \n",
       "| groucho-tokyo     | 126189            | \n",
       "| groucho-us-east   |  31779            | \n",
       "| zeppo-norcal      |  24094            | \n",
       "\n",
       "\n"
      ],
      "text/plain": [
       "  host              freq  \n",
       "1 groucho-eu         23954\n",
       "2 groucho-norcal     24566\n",
       "3 groucho-oregon     94076\n",
       "4 groucho-sa         24316\n",
       "5 groucho-singapore  78151\n",
       "6 groucho-sydney     24456\n",
       "7 groucho-tokyo     126189\n",
       "8 groucho-us-east    31779\n",
       "9 zeppo-norcal       24094"
      ]
     },
     "metadata": {},
     "output_type": "display_data"
    },
    {
     "data": {
      "text/html": [
       "<table>\n",
       "<thead><tr><th scope=col>proto</th><th scope=col>freq</th></tr></thead>\n",
       "<tbody>\n",
       "\t<tr><td>ICMP  </td><td> 44811</td></tr>\n",
       "\t<tr><td>TCP   </td><td>327991</td></tr>\n",
       "\t<tr><td>UDP   </td><td> 78779</td></tr>\n",
       "</tbody>\n",
       "</table>\n"
      ],
      "text/latex": [
       "\\begin{tabular}{r|ll}\n",
       " proto & freq\\\\\n",
       "\\hline\n",
       "\t ICMP   &  44811\\\\\n",
       "\t TCP    & 327991\\\\\n",
       "\t UDP    &  78779\\\\\n",
       "\\end{tabular}\n"
      ],
      "text/markdown": [
       "\n",
       "proto | freq | \n",
       "|---|---|---|\n",
       "| ICMP   |  44811 | \n",
       "| TCP    | 327991 | \n",
       "| UDP    |  78779 | \n",
       "\n",
       "\n"
      ],
      "text/plain": [
       "  proto freq  \n",
       "1 ICMP   44811\n",
       "2 TCP   327991\n",
       "3 UDP    78779"
      ]
     },
     "metadata": {},
     "output_type": "display_data"
    },
    {
     "data": {
      "text/html": [
       "<table>\n",
       "<thead><tr><th scope=col>type</th><th scope=col>freq</th></tr></thead>\n",
       "<tbody>\n",
       "\t<tr><td> 0    </td><td>   536</td></tr>\n",
       "\t<tr><td> 3    </td><td>  4251</td></tr>\n",
       "\t<tr><td> 5    </td><td>   127</td></tr>\n",
       "\t<tr><td> 8    </td><td> 38597</td></tr>\n",
       "\t<tr><td>11    </td><td>  1156</td></tr>\n",
       "\t<tr><td>12    </td><td>     2</td></tr>\n",
       "\t<tr><td>13    </td><td>   142</td></tr>\n",
       "\t<tr><td>NA    </td><td>406770</td></tr>\n",
       "</tbody>\n",
       "</table>\n"
      ],
      "text/latex": [
       "\\begin{tabular}{r|ll}\n",
       " type & freq\\\\\n",
       "\\hline\n",
       "\t  0     &    536\\\\\n",
       "\t  3     &   4251\\\\\n",
       "\t  5     &    127\\\\\n",
       "\t  8     &  38597\\\\\n",
       "\t 11     &   1156\\\\\n",
       "\t 12     &      2\\\\\n",
       "\t 13     &    142\\\\\n",
       "\t NA     & 406770\\\\\n",
       "\\end{tabular}\n"
      ],
      "text/markdown": [
       "\n",
       "type | freq | \n",
       "|---|---|---|---|---|---|---|---|\n",
       "|  0     |    536 | \n",
       "|  3     |   4251 | \n",
       "|  5     |    127 | \n",
       "|  8     |  38597 | \n",
       "| 11     |   1156 | \n",
       "| 12     |      2 | \n",
       "| 13     |    142 | \n",
       "| NA     | 406770 | \n",
       "\n",
       "\n"
      ],
      "text/plain": [
       "  type freq  \n",
       "1  0      536\n",
       "2  3     4251\n",
       "3  5      127\n",
       "4  8    38597\n",
       "5 11     1156\n",
       "6 12        2\n",
       "7 13      142\n",
       "8 NA   406770"
      ]
     },
     "metadata": {},
     "output_type": "display_data"
    }
   ],
   "source": [
    "                                                             \n",
    "#The frequency of different levels of each categorical column\n",
    "count(categorical_columns, 'host')\n",
    "count(categorical_columns, 'proto')\n",
    "count(marx_geo, 'type')"
   ]
  },
  {
   "cell_type": "markdown",
   "metadata": {},
   "source": [
    "### 5. UNSW-NB15 Dataset\n",
    "\n",
    "The Australian Center for Cyber Security (ACCS) created this dataset that contains nine types of attack. Another dataset for network intrusion detection which can be compared with KDD dataset.\n",
    "\n",
    "This is a labeled dataset.\n",
    "\n",
    "https://www.unsw.adfa.edu.au/unsw-canberra-cyber/cybersecurity/ADFA-NB15-Datasets/"
   ]
  },
  {
   "cell_type": "code",
   "execution_count": 20,
   "metadata": {},
   "outputs": [
    {
     "name": "stdout",
     "output_type": "stream",
     "text": [
      "[1] \"Shape of Dataset:\"\n",
      "[1] 82332    45\n"
     ]
    }
   ],
   "source": [
    "unsw_data = read.csv('UNSW_NB15_training-set.csv')\n",
    "print(\"Shape of Dataset:\")\n",
    "print(dim(unsw_data))"
   ]
  },
  {
   "cell_type": "code",
   "execution_count": 21,
   "metadata": {},
   "outputs": [
    {
     "name": "stdout",
     "output_type": "stream",
     "text": [
      "'data.frame':\t82332 obs. of  45 variables:\n",
      " $ id               : int  1 2 3 4 5 6 7 8 9 10 ...\n",
      " $ dur              : num  1.1e-05 8.0e-06 5.0e-06 6.0e-06 1.0e-05 3.0e-06 6.0e-06 2.8e-05 0.0 0.0 ...\n",
      " $ proto            : Factor w/ 131 levels \"3pc\",\"a/n\",\"aes-sp3-d\",..: 118 118 118 118 118 118 118 118 7 7 ...\n",
      " $ service          : Factor w/ 13 levels \"-\",\"dhcp\",\"dns\",..: 1 1 1 1 1 1 1 1 1 1 ...\n",
      " $ state            : Factor w/ 7 levels \"ACC\",\"CLO\",\"CON\",..: 5 5 5 5 5 5 5 5 5 5 ...\n",
      " $ spkts            : int  2 2 2 2 2 2 2 2 1 1 ...\n",
      " $ dpkts            : int  0 0 0 0 0 0 0 0 0 0 ...\n",
      " $ sbytes           : int  496 1762 1068 900 2126 784 1960 1384 46 46 ...\n",
      " $ dbytes           : int  0 0 0 0 0 0 0 0 0 0 ...\n",
      " $ rate             : num  90909 125000 200000 166667 100000 ...\n",
      " $ sttl             : int  254 254 254 254 254 254 254 254 0 0 ...\n",
      " $ dttl             : int  0 0 0 0 0 0 0 0 0 0 ...\n",
      " $ sload            : num  1.80e+08 8.81e+08 8.54e+08 6.00e+08 8.50e+08 ...\n",
      " $ dload            : num  0 0 0 0 0 0 0 0 0 0 ...\n",
      " $ sloss            : int  0 0 0 0 0 0 0 0 0 0 ...\n",
      " $ dloss            : int  0 0 0 0 0 0 0 0 0 0 ...\n",
      " $ sinpkt           : num  0.011 0.008 0.005 0.006 0.01 ...\n",
      " $ dinpkt           : num  0 0 0 0 0 0 0 0 0 0 ...\n",
      " $ sjit             : num  0 0 0 0 0 0 0 0 0 0 ...\n",
      " $ djit             : num  0 0 0 0 0 0 0 0 0 0 ...\n",
      " $ swin             : int  0 0 0 0 0 0 0 0 0 0 ...\n",
      " $ stcpb            : num  0 0 0 0 0 0 0 0 0 0 ...\n",
      " $ dtcpb            : num  0 0 0 0 0 0 0 0 0 0 ...\n",
      " $ dwin             : int  0 0 0 0 0 0 0 0 0 0 ...\n",
      " $ tcprtt           : num  0 0 0 0 0 0 0 0 0 0 ...\n",
      " $ synack           : num  0 0 0 0 0 0 0 0 0 0 ...\n",
      " $ ackdat           : num  0 0 0 0 0 0 0 0 0 0 ...\n",
      " $ smean            : int  248 881 534 450 1063 392 980 692 46 46 ...\n",
      " $ dmean            : int  0 0 0 0 0 0 0 0 0 0 ...\n",
      " $ trans_depth      : int  0 0 0 0 0 0 0 0 0 0 ...\n",
      " $ response_body_len: int  0 0 0 0 0 0 0 0 0 0 ...\n",
      " $ ct_srv_src       : int  2 2 3 3 3 2 2 3 2 2 ...\n",
      " $ ct_state_ttl     : int  2 2 2 2 2 2 2 2 2 2 ...\n",
      " $ ct_dst_ltm       : int  1 1 1 2 2 2 2 1 2 2 ...\n",
      " $ ct_src_dport_ltm : int  1 1 1 2 2 2 2 1 2 2 ...\n",
      " $ ct_dst_sport_ltm : int  1 1 1 1 1 1 1 1 2 2 ...\n",
      " $ ct_dst_src_ltm   : int  2 2 3 3 3 2 2 3 2 2 ...\n",
      " $ is_ftp_login     : int  0 0 0 0 0 0 0 0 0 0 ...\n",
      " $ ct_ftp_cmd       : int  0 0 0 0 0 0 0 0 0 0 ...\n",
      " $ ct_flw_http_mthd : int  0 0 0 0 0 0 0 0 0 0 ...\n",
      " $ ct_src_ltm       : int  1 1 1 2 2 2 2 1 2 2 ...\n",
      " $ ct_srv_dst       : int  2 2 3 3 3 2 2 3 2 2 ...\n",
      " $ is_sm_ips_ports  : int  0 0 0 0 0 0 0 0 1 1 ...\n",
      " $ attack_cat       : Factor w/ 10 levels \"Analysis\",\"Backdoor\",..: 7 7 7 7 7 7 7 7 7 7 ...\n",
      " $ label            : int  0 0 0 0 0 0 0 0 0 0 ...\n"
     ]
    }
   ],
   "source": [
    "str(unsw_data)"
   ]
  },
  {
   "cell_type": "code",
   "execution_count": 22,
   "metadata": {},
   "outputs": [
    {
     "data": {
      "text/html": [
       "<table>\n",
       "<thead><tr><th scope=col>id</th><th scope=col>dur</th><th scope=col>proto</th><th scope=col>service</th><th scope=col>state</th><th scope=col>spkts</th><th scope=col>dpkts</th><th scope=col>sbytes</th><th scope=col>dbytes</th><th scope=col>rate</th><th scope=col>⋯</th><th scope=col>ct_dst_sport_ltm</th><th scope=col>ct_dst_src_ltm</th><th scope=col>is_ftp_login</th><th scope=col>ct_ftp_cmd</th><th scope=col>ct_flw_http_mthd</th><th scope=col>ct_src_ltm</th><th scope=col>ct_srv_dst</th><th scope=col>is_sm_ips_ports</th><th scope=col>attack_cat</th><th scope=col>label</th></tr></thead>\n",
       "<tbody>\n",
       "\t<tr><td>1        </td><td>1.1e-05  </td><td>udp      </td><td>-        </td><td>INT      </td><td>2        </td><td>0        </td><td> 496     </td><td>0        </td><td> 90909.09</td><td>⋯        </td><td>1        </td><td>2        </td><td>0        </td><td>0        </td><td>0        </td><td>1        </td><td>2        </td><td>0        </td><td>Normal   </td><td>0        </td></tr>\n",
       "\t<tr><td>2        </td><td>8.0e-06  </td><td>udp      </td><td>-        </td><td>INT      </td><td>2        </td><td>0        </td><td>1762     </td><td>0        </td><td>125000.00</td><td>⋯        </td><td>1        </td><td>2        </td><td>0        </td><td>0        </td><td>0        </td><td>1        </td><td>2        </td><td>0        </td><td>Normal   </td><td>0        </td></tr>\n",
       "\t<tr><td>3        </td><td>5.0e-06  </td><td>udp      </td><td>-        </td><td>INT      </td><td>2        </td><td>0        </td><td>1068     </td><td>0        </td><td>200000.01</td><td>⋯        </td><td>1        </td><td>3        </td><td>0        </td><td>0        </td><td>0        </td><td>1        </td><td>3        </td><td>0        </td><td>Normal   </td><td>0        </td></tr>\n",
       "\t<tr><td>4        </td><td>6.0e-06  </td><td>udp      </td><td>-        </td><td>INT      </td><td>2        </td><td>0        </td><td> 900     </td><td>0        </td><td>166666.66</td><td>⋯        </td><td>1        </td><td>3        </td><td>0        </td><td>0        </td><td>0        </td><td>2        </td><td>3        </td><td>0        </td><td>Normal   </td><td>0        </td></tr>\n",
       "\t<tr><td>5        </td><td>1.0e-05  </td><td>udp      </td><td>-        </td><td>INT      </td><td>2        </td><td>0        </td><td>2126     </td><td>0        </td><td>100000.00</td><td>⋯        </td><td>1        </td><td>3        </td><td>0        </td><td>0        </td><td>0        </td><td>2        </td><td>3        </td><td>0        </td><td>Normal   </td><td>0        </td></tr>\n",
       "</tbody>\n",
       "</table>\n"
      ],
      "text/latex": [
       "\\begin{tabular}{r|lllllllllllllllllllllllllllllllllllllllllllll}\n",
       " id & dur & proto & service & state & spkts & dpkts & sbytes & dbytes & rate & ⋯ & ct\\_dst\\_sport\\_ltm & ct\\_dst\\_src\\_ltm & is\\_ftp\\_login & ct\\_ftp\\_cmd & ct\\_flw\\_http\\_mthd & ct\\_src\\_ltm & ct\\_srv\\_dst & is\\_sm\\_ips\\_ports & attack\\_cat & label\\\\\n",
       "\\hline\n",
       "\t 1         & 1.1e-05   & udp       & -         & INT       & 2         & 0         &  496      & 0         &  90909.09 & ⋯         & 1         & 2         & 0         & 0         & 0         & 1         & 2         & 0         & Normal    & 0        \\\\\n",
       "\t 2         & 8.0e-06   & udp       & -         & INT       & 2         & 0         & 1762      & 0         & 125000.00 & ⋯         & 1         & 2         & 0         & 0         & 0         & 1         & 2         & 0         & Normal    & 0        \\\\\n",
       "\t 3         & 5.0e-06   & udp       & -         & INT       & 2         & 0         & 1068      & 0         & 200000.01 & ⋯         & 1         & 3         & 0         & 0         & 0         & 1         & 3         & 0         & Normal    & 0        \\\\\n",
       "\t 4         & 6.0e-06   & udp       & -         & INT       & 2         & 0         &  900      & 0         & 166666.66 & ⋯         & 1         & 3         & 0         & 0         & 0         & 2         & 3         & 0         & Normal    & 0        \\\\\n",
       "\t 5         & 1.0e-05   & udp       & -         & INT       & 2         & 0         & 2126      & 0         & 100000.00 & ⋯         & 1         & 3         & 0         & 0         & 0         & 2         & 3         & 0         & Normal    & 0        \\\\\n",
       "\\end{tabular}\n"
      ],
      "text/markdown": [
       "\n",
       "id | dur | proto | service | state | spkts | dpkts | sbytes | dbytes | rate | ⋯ | ct_dst_sport_ltm | ct_dst_src_ltm | is_ftp_login | ct_ftp_cmd | ct_flw_http_mthd | ct_src_ltm | ct_srv_dst | is_sm_ips_ports | attack_cat | label | \n",
       "|---|---|---|---|---|\n",
       "| 1         | 1.1e-05   | udp       | -         | INT       | 2         | 0         |  496      | 0         |  90909.09 | ⋯         | 1         | 2         | 0         | 0         | 0         | 1         | 2         | 0         | Normal    | 0         | \n",
       "| 2         | 8.0e-06   | udp       | -         | INT       | 2         | 0         | 1762      | 0         | 125000.00 | ⋯         | 1         | 2         | 0         | 0         | 0         | 1         | 2         | 0         | Normal    | 0         | \n",
       "| 3         | 5.0e-06   | udp       | -         | INT       | 2         | 0         | 1068      | 0         | 200000.01 | ⋯         | 1         | 3         | 0         | 0         | 0         | 1         | 3         | 0         | Normal    | 0         | \n",
       "| 4         | 6.0e-06   | udp       | -         | INT       | 2         | 0         |  900      | 0         | 166666.66 | ⋯         | 1         | 3         | 0         | 0         | 0         | 2         | 3         | 0         | Normal    | 0         | \n",
       "| 5         | 1.0e-05   | udp       | -         | INT       | 2         | 0         | 2126      | 0         | 100000.00 | ⋯         | 1         | 3         | 0         | 0         | 0         | 2         | 3         | 0         | Normal    | 0         | \n",
       "\n",
       "\n"
      ],
      "text/plain": [
       "  id dur     proto service state spkts dpkts sbytes dbytes rate      ⋯\n",
       "1 1  1.1e-05 udp   -       INT   2     0      496   0       90909.09 ⋯\n",
       "2 2  8.0e-06 udp   -       INT   2     0     1762   0      125000.00 ⋯\n",
       "3 3  5.0e-06 udp   -       INT   2     0     1068   0      200000.01 ⋯\n",
       "4 4  6.0e-06 udp   -       INT   2     0      900   0      166666.66 ⋯\n",
       "5 5  1.0e-05 udp   -       INT   2     0     2126   0      100000.00 ⋯\n",
       "  ct_dst_sport_ltm ct_dst_src_ltm is_ftp_login ct_ftp_cmd ct_flw_http_mthd\n",
       "1 1                2              0            0          0               \n",
       "2 1                2              0            0          0               \n",
       "3 1                3              0            0          0               \n",
       "4 1                3              0            0          0               \n",
       "5 1                3              0            0          0               \n",
       "  ct_src_ltm ct_srv_dst is_sm_ips_ports attack_cat label\n",
       "1 1          2          0               Normal     0    \n",
       "2 1          2          0               Normal     0    \n",
       "3 1          3          0               Normal     0    \n",
       "4 2          3          0               Normal     0    \n",
       "5 2          3          0               Normal     0    "
      ]
     },
     "metadata": {},
     "output_type": "display_data"
    }
   ],
   "source": [
    "head(unsw_data, 5)\n"
   ]
  },
  {
   "cell_type": "code",
   "execution_count": 23,
   "metadata": {},
   "outputs": [
    {
     "name": "stdout",
     "output_type": "stream",
     "text": [
      "[1] \"Data Quality Report\"\n"
     ]
    },
    {
     "data": {
      "text/html": [
       "<table>\n",
       "<thead><tr><th></th><th scope=col>data_type</th><th scope=col>count</th><th scope=col>unique_values</th><th scope=col>missing_values</th></tr></thead>\n",
       "<tbody>\n",
       "\t<tr><th scope=row>id</th><td>integer</td><td>82332  </td><td>82332  </td><td>0      </td></tr>\n",
       "\t<tr><th scope=row>dur</th><td>numeric</td><td>82332  </td><td>39888  </td><td>0      </td></tr>\n",
       "\t<tr><th scope=row>proto</th><td>factor </td><td>82332  </td><td>  131  </td><td>0      </td></tr>\n",
       "\t<tr><th scope=row>service</th><td>factor </td><td>82332  </td><td>   13  </td><td>0      </td></tr>\n",
       "\t<tr><th scope=row>state</th><td>factor </td><td>82332  </td><td>    7  </td><td>0      </td></tr>\n",
       "\t<tr><th scope=row>spkts</th><td>integer</td><td>82332  </td><td>  420  </td><td>0      </td></tr>\n",
       "\t<tr><th scope=row>dpkts</th><td>integer</td><td>82332  </td><td>  436  </td><td>0      </td></tr>\n",
       "\t<tr><th scope=row>sbytes</th><td>integer</td><td>82332  </td><td> 4489  </td><td>0      </td></tr>\n",
       "\t<tr><th scope=row>dbytes</th><td>integer</td><td>82332  </td><td> 4034  </td><td>0      </td></tr>\n",
       "\t<tr><th scope=row>rate</th><td>numeric</td><td>82332  </td><td>40616  </td><td>0      </td></tr>\n",
       "\t<tr><th scope=row>sttl</th><td>integer</td><td>82332  </td><td>   11  </td><td>0      </td></tr>\n",
       "\t<tr><th scope=row>dttl</th><td>integer</td><td>82332  </td><td>    8  </td><td>0      </td></tr>\n",
       "\t<tr><th scope=row>sload</th><td>numeric</td><td>82332  </td><td>42873  </td><td>0      </td></tr>\n",
       "\t<tr><th scope=row>dload</th><td>numeric</td><td>82332  </td><td>40614  </td><td>0      </td></tr>\n",
       "\t<tr><th scope=row>sloss</th><td>integer</td><td>82332  </td><td>  253  </td><td>0      </td></tr>\n",
       "\t<tr><th scope=row>dloss</th><td>integer</td><td>82332  </td><td>  311  </td><td>0      </td></tr>\n",
       "\t<tr><th scope=row>sinpkt</th><td>numeric</td><td>82332  </td><td>39970  </td><td>0      </td></tr>\n",
       "\t<tr><th scope=row>dinpkt</th><td>numeric</td><td>82332  </td><td>37617  </td><td>0      </td></tr>\n",
       "\t<tr><th scope=row>sjit</th><td>numeric</td><td>82332  </td><td>39944  </td><td>0      </td></tr>\n",
       "\t<tr><th scope=row>djit</th><td>numeric</td><td>82332  </td><td>38381  </td><td>0      </td></tr>\n",
       "\t<tr><th scope=row>swin</th><td>integer</td><td>82332  </td><td>   11  </td><td>0      </td></tr>\n",
       "\t<tr><th scope=row>stcpb</th><td>numeric</td><td>82332  </td><td>39219  </td><td>0      </td></tr>\n",
       "\t<tr><th scope=row>dtcpb</th><td>numeric</td><td>82332  </td><td>39108  </td><td>0      </td></tr>\n",
       "\t<tr><th scope=row>dwin</th><td>integer</td><td>82332  </td><td>   14  </td><td>0      </td></tr>\n",
       "\t<tr><th scope=row>tcprtt</th><td>numeric</td><td>82332  </td><td>26130  </td><td>0      </td></tr>\n",
       "\t<tr><th scope=row>synack</th><td>numeric</td><td>82332  </td><td>24934  </td><td>0      </td></tr>\n",
       "\t<tr><th scope=row>ackdat</th><td>numeric</td><td>82332  </td><td>24020  </td><td>0      </td></tr>\n",
       "\t<tr><th scope=row>smean</th><td>integer</td><td>82332  </td><td> 1282  </td><td>0      </td></tr>\n",
       "\t<tr><th scope=row>dmean</th><td>integer</td><td>82332  </td><td> 1222  </td><td>0      </td></tr>\n",
       "\t<tr><th scope=row>trans_depth</th><td>integer</td><td>82332  </td><td>    8  </td><td>0      </td></tr>\n",
       "\t<tr><th scope=row>response_body_len</th><td>integer</td><td>82332  </td><td> 1190  </td><td>0      </td></tr>\n",
       "\t<tr><th scope=row>ct_srv_src</th><td>integer</td><td>82332  </td><td>   57  </td><td>0      </td></tr>\n",
       "\t<tr><th scope=row>ct_state_ttl</th><td>integer</td><td>82332  </td><td>    7  </td><td>0      </td></tr>\n",
       "\t<tr><th scope=row>ct_dst_ltm</th><td>integer</td><td>82332  </td><td>   50  </td><td>0      </td></tr>\n",
       "\t<tr><th scope=row>ct_src_dport_ltm</th><td>integer</td><td>82332  </td><td>   50  </td><td>0      </td></tr>\n",
       "\t<tr><th scope=row>ct_dst_sport_ltm</th><td>integer</td><td>82332  </td><td>   33  </td><td>0      </td></tr>\n",
       "\t<tr><th scope=row>ct_dst_src_ltm</th><td>integer</td><td>82332  </td><td>   57  </td><td>0      </td></tr>\n",
       "\t<tr><th scope=row>is_ftp_login</th><td>integer</td><td>82332  </td><td>    3  </td><td>0      </td></tr>\n",
       "\t<tr><th scope=row>ct_ftp_cmd</th><td>integer</td><td>82332  </td><td>    3  </td><td>0      </td></tr>\n",
       "\t<tr><th scope=row>ct_flw_http_mthd</th><td>integer</td><td>82332  </td><td>    8  </td><td>0      </td></tr>\n",
       "\t<tr><th scope=row>ct_src_ltm</th><td>integer</td><td>82332  </td><td>   50  </td><td>0      </td></tr>\n",
       "\t<tr><th scope=row>ct_srv_dst</th><td>integer</td><td>82332  </td><td>   57  </td><td>0      </td></tr>\n",
       "\t<tr><th scope=row>is_sm_ips_ports</th><td>integer</td><td>82332  </td><td>    2  </td><td>0      </td></tr>\n",
       "\t<tr><th scope=row>attack_cat</th><td>factor </td><td>82332  </td><td>   10  </td><td>0      </td></tr>\n",
       "\t<tr><th scope=row>label</th><td>integer</td><td>82332  </td><td>    2  </td><td>0      </td></tr>\n",
       "</tbody>\n",
       "</table>\n"
      ],
      "text/latex": [
       "\\begin{tabular}{r|llll}\n",
       "  & data\\_type & count & unique\\_values & missing\\_values\\\\\n",
       "\\hline\n",
       "\tid & integer & 82332   & 82332   & 0      \\\\\n",
       "\tdur & numeric & 82332   & 39888   & 0      \\\\\n",
       "\tproto & factor  & 82332   &   131   & 0      \\\\\n",
       "\tservice & factor  & 82332   &    13   & 0      \\\\\n",
       "\tstate & factor  & 82332   &     7   & 0      \\\\\n",
       "\tspkts & integer & 82332   &   420   & 0      \\\\\n",
       "\tdpkts & integer & 82332   &   436   & 0      \\\\\n",
       "\tsbytes & integer & 82332   &  4489   & 0      \\\\\n",
       "\tdbytes & integer & 82332   &  4034   & 0      \\\\\n",
       "\trate & numeric & 82332   & 40616   & 0      \\\\\n",
       "\tsttl & integer & 82332   &    11   & 0      \\\\\n",
       "\tdttl & integer & 82332   &     8   & 0      \\\\\n",
       "\tsload & numeric & 82332   & 42873   & 0      \\\\\n",
       "\tdload & numeric & 82332   & 40614   & 0      \\\\\n",
       "\tsloss & integer & 82332   &   253   & 0      \\\\\n",
       "\tdloss & integer & 82332   &   311   & 0      \\\\\n",
       "\tsinpkt & numeric & 82332   & 39970   & 0      \\\\\n",
       "\tdinpkt & numeric & 82332   & 37617   & 0      \\\\\n",
       "\tsjit & numeric & 82332   & 39944   & 0      \\\\\n",
       "\tdjit & numeric & 82332   & 38381   & 0      \\\\\n",
       "\tswin & integer & 82332   &    11   & 0      \\\\\n",
       "\tstcpb & numeric & 82332   & 39219   & 0      \\\\\n",
       "\tdtcpb & numeric & 82332   & 39108   & 0      \\\\\n",
       "\tdwin & integer & 82332   &    14   & 0      \\\\\n",
       "\ttcprtt & numeric & 82332   & 26130   & 0      \\\\\n",
       "\tsynack & numeric & 82332   & 24934   & 0      \\\\\n",
       "\tackdat & numeric & 82332   & 24020   & 0      \\\\\n",
       "\tsmean & integer & 82332   &  1282   & 0      \\\\\n",
       "\tdmean & integer & 82332   &  1222   & 0      \\\\\n",
       "\ttrans\\_depth & integer & 82332   &     8   & 0      \\\\\n",
       "\tresponse\\_body\\_len & integer & 82332   &  1190   & 0      \\\\\n",
       "\tct\\_srv\\_src & integer & 82332   &    57   & 0      \\\\\n",
       "\tct\\_state\\_ttl & integer & 82332   &     7   & 0      \\\\\n",
       "\tct\\_dst\\_ltm & integer & 82332   &    50   & 0      \\\\\n",
       "\tct\\_src\\_dport\\_ltm & integer & 82332   &    50   & 0      \\\\\n",
       "\tct\\_dst\\_sport\\_ltm & integer & 82332   &    33   & 0      \\\\\n",
       "\tct\\_dst\\_src\\_ltm & integer & 82332   &    57   & 0      \\\\\n",
       "\tis\\_ftp\\_login & integer & 82332   &     3   & 0      \\\\\n",
       "\tct\\_ftp\\_cmd & integer & 82332   &     3   & 0      \\\\\n",
       "\tct\\_flw\\_http\\_mthd & integer & 82332   &     8   & 0      \\\\\n",
       "\tct\\_src\\_ltm & integer & 82332   &    50   & 0      \\\\\n",
       "\tct\\_srv\\_dst & integer & 82332   &    57   & 0      \\\\\n",
       "\tis\\_sm\\_ips\\_ports & integer & 82332   &     2   & 0      \\\\\n",
       "\tattack\\_cat & factor  & 82332   &    10   & 0      \\\\\n",
       "\tlabel & integer & 82332   &     2   & 0      \\\\\n",
       "\\end{tabular}\n"
      ],
      "text/markdown": [
       "\n",
       "| <!--/--> | data_type | count | unique_values | missing_values | \n",
       "|---|---|---|---|---|---|---|---|---|---|---|---|---|---|---|---|---|---|---|---|---|---|---|---|---|---|---|---|---|---|---|---|---|---|---|---|---|---|---|---|---|---|---|---|---|\n",
       "| id | integer | 82332   | 82332   | 0       | \n",
       "| dur | numeric | 82332   | 39888   | 0       | \n",
       "| proto | factor  | 82332   |   131   | 0       | \n",
       "| service | factor  | 82332   |    13   | 0       | \n",
       "| state | factor  | 82332   |     7   | 0       | \n",
       "| spkts | integer | 82332   |   420   | 0       | \n",
       "| dpkts | integer | 82332   |   436   | 0       | \n",
       "| sbytes | integer | 82332   |  4489   | 0       | \n",
       "| dbytes | integer | 82332   |  4034   | 0       | \n",
       "| rate | numeric | 82332   | 40616   | 0       | \n",
       "| sttl | integer | 82332   |    11   | 0       | \n",
       "| dttl | integer | 82332   |     8   | 0       | \n",
       "| sload | numeric | 82332   | 42873   | 0       | \n",
       "| dload | numeric | 82332   | 40614   | 0       | \n",
       "| sloss | integer | 82332   |   253   | 0       | \n",
       "| dloss | integer | 82332   |   311   | 0       | \n",
       "| sinpkt | numeric | 82332   | 39970   | 0       | \n",
       "| dinpkt | numeric | 82332   | 37617   | 0       | \n",
       "| sjit | numeric | 82332   | 39944   | 0       | \n",
       "| djit | numeric | 82332   | 38381   | 0       | \n",
       "| swin | integer | 82332   |    11   | 0       | \n",
       "| stcpb | numeric | 82332   | 39219   | 0       | \n",
       "| dtcpb | numeric | 82332   | 39108   | 0       | \n",
       "| dwin | integer | 82332   |    14   | 0       | \n",
       "| tcprtt | numeric | 82332   | 26130   | 0       | \n",
       "| synack | numeric | 82332   | 24934   | 0       | \n",
       "| ackdat | numeric | 82332   | 24020   | 0       | \n",
       "| smean | integer | 82332   |  1282   | 0       | \n",
       "| dmean | integer | 82332   |  1222   | 0       | \n",
       "| trans_depth | integer | 82332   |     8   | 0       | \n",
       "| response_body_len | integer | 82332   |  1190   | 0       | \n",
       "| ct_srv_src | integer | 82332   |    57   | 0       | \n",
       "| ct_state_ttl | integer | 82332   |     7   | 0       | \n",
       "| ct_dst_ltm | integer | 82332   |    50   | 0       | \n",
       "| ct_src_dport_ltm | integer | 82332   |    50   | 0       | \n",
       "| ct_dst_sport_ltm | integer | 82332   |    33   | 0       | \n",
       "| ct_dst_src_ltm | integer | 82332   |    57   | 0       | \n",
       "| is_ftp_login | integer | 82332   |     3   | 0       | \n",
       "| ct_ftp_cmd | integer | 82332   |     3   | 0       | \n",
       "| ct_flw_http_mthd | integer | 82332   |     8   | 0       | \n",
       "| ct_src_ltm | integer | 82332   |    50   | 0       | \n",
       "| ct_srv_dst | integer | 82332   |    57   | 0       | \n",
       "| is_sm_ips_ports | integer | 82332   |     2   | 0       | \n",
       "| attack_cat | factor  | 82332   |    10   | 0       | \n",
       "| label | integer | 82332   |     2   | 0       | \n",
       "\n",
       "\n"
      ],
      "text/plain": [
       "                  data_type count unique_values missing_values\n",
       "id                integer   82332 82332         0             \n",
       "dur               numeric   82332 39888         0             \n",
       "proto             factor    82332   131         0             \n",
       "service           factor    82332    13         0             \n",
       "state             factor    82332     7         0             \n",
       "spkts             integer   82332   420         0             \n",
       "dpkts             integer   82332   436         0             \n",
       "sbytes            integer   82332  4489         0             \n",
       "dbytes            integer   82332  4034         0             \n",
       "rate              numeric   82332 40616         0             \n",
       "sttl              integer   82332    11         0             \n",
       "dttl              integer   82332     8         0             \n",
       "sload             numeric   82332 42873         0             \n",
       "dload             numeric   82332 40614         0             \n",
       "sloss             integer   82332   253         0             \n",
       "dloss             integer   82332   311         0             \n",
       "sinpkt            numeric   82332 39970         0             \n",
       "dinpkt            numeric   82332 37617         0             \n",
       "sjit              numeric   82332 39944         0             \n",
       "djit              numeric   82332 38381         0             \n",
       "swin              integer   82332    11         0             \n",
       "stcpb             numeric   82332 39219         0             \n",
       "dtcpb             numeric   82332 39108         0             \n",
       "dwin              integer   82332    14         0             \n",
       "tcprtt            numeric   82332 26130         0             \n",
       "synack            numeric   82332 24934         0             \n",
       "ackdat            numeric   82332 24020         0             \n",
       "smean             integer   82332  1282         0             \n",
       "dmean             integer   82332  1222         0             \n",
       "trans_depth       integer   82332     8         0             \n",
       "response_body_len integer   82332  1190         0             \n",
       "ct_srv_src        integer   82332    57         0             \n",
       "ct_state_ttl      integer   82332     7         0             \n",
       "ct_dst_ltm        integer   82332    50         0             \n",
       "ct_src_dport_ltm  integer   82332    50         0             \n",
       "ct_dst_sport_ltm  integer   82332    33         0             \n",
       "ct_dst_src_ltm    integer   82332    57         0             \n",
       "is_ftp_login      integer   82332     3         0             \n",
       "ct_ftp_cmd        integer   82332     3         0             \n",
       "ct_flw_http_mthd  integer   82332     8         0             \n",
       "ct_src_ltm        integer   82332    50         0             \n",
       "ct_srv_dst        integer   82332    57         0             \n",
       "is_sm_ips_ports   integer   82332     2         0             \n",
       "attack_cat        factor    82332    10         0             \n",
       "label             integer   82332     2         0             "
      ]
     },
     "metadata": {},
     "output_type": "display_data"
    }
   ],
   "source": [
    "                                                           \n",
    "#Call 'data_report' function for the dataset\n",
    "data_report(unsw_data)"
   ]
  },
  {
   "cell_type": "code",
   "execution_count": 24,
   "metadata": {},
   "outputs": [
    {
     "data": {
      "text/html": [
       "<table>\n",
       "<thead><tr><th scope=col>id</th><th scope=col>dur</th><th scope=col>spkts</th><th scope=col>dpkts</th><th scope=col>sbytes</th><th scope=col>dbytes</th><th scope=col>rate</th><th scope=col>sttl</th><th scope=col>dttl</th><th scope=col>sload</th><th scope=col>⋯</th><th scope=col>ct_src_dport_ltm</th><th scope=col>ct_dst_sport_ltm</th><th scope=col>ct_dst_src_ltm</th><th scope=col>is_ftp_login</th><th scope=col>ct_ftp_cmd</th><th scope=col>ct_flw_http_mthd</th><th scope=col>ct_src_ltm</th><th scope=col>ct_srv_dst</th><th scope=col>is_sm_ips_ports</th><th scope=col>label</th></tr></thead>\n",
       "<tbody>\n",
       "\t<tr><td>1         </td><td>1.1e-05   </td><td>2         </td><td>0         </td><td> 496      </td><td>0         </td><td> 90909.09 </td><td>254       </td><td>0         </td><td> 180363632</td><td>⋯         </td><td>1         </td><td>1         </td><td>2         </td><td>0         </td><td>0         </td><td>0         </td><td>1         </td><td>2         </td><td>0         </td><td>0         </td></tr>\n",
       "\t<tr><td>2         </td><td>8.0e-06   </td><td>2         </td><td>0         </td><td>1762      </td><td>0         </td><td>125000.00 </td><td>254       </td><td>0         </td><td> 881000000</td><td>⋯         </td><td>1         </td><td>1         </td><td>2         </td><td>0         </td><td>0         </td><td>0         </td><td>1         </td><td>2         </td><td>0         </td><td>0         </td></tr>\n",
       "\t<tr><td>3         </td><td>5.0e-06   </td><td>2         </td><td>0         </td><td>1068      </td><td>0         </td><td>200000.01 </td><td>254       </td><td>0         </td><td> 854400000</td><td>⋯         </td><td>1         </td><td>1         </td><td>3         </td><td>0         </td><td>0         </td><td>0         </td><td>1         </td><td>3         </td><td>0         </td><td>0         </td></tr>\n",
       "\t<tr><td>4         </td><td>6.0e-06   </td><td>2         </td><td>0         </td><td> 900      </td><td>0         </td><td>166666.66 </td><td>254       </td><td>0         </td><td> 600000000</td><td>⋯         </td><td>2         </td><td>1         </td><td>3         </td><td>0         </td><td>0         </td><td>0         </td><td>2         </td><td>3         </td><td>0         </td><td>0         </td></tr>\n",
       "\t<tr><td>5         </td><td>1.0e-05   </td><td>2         </td><td>0         </td><td>2126      </td><td>0         </td><td>100000.00 </td><td>254       </td><td>0         </td><td> 850400000</td><td>⋯         </td><td>2         </td><td>1         </td><td>3         </td><td>0         </td><td>0         </td><td>0         </td><td>2         </td><td>3         </td><td>0         </td><td>0         </td></tr>\n",
       "\t<tr><td>6         </td><td>3.0e-06   </td><td>2         </td><td>0         </td><td> 784      </td><td>0         </td><td>333333.32 </td><td>254       </td><td>0         </td><td>1045333312</td><td>⋯         </td><td>2         </td><td>1         </td><td>2         </td><td>0         </td><td>0         </td><td>0         </td><td>2         </td><td>2         </td><td>0         </td><td>0         </td></tr>\n",
       "</tbody>\n",
       "</table>\n"
      ],
      "text/latex": [
       "\\begin{tabular}{r|lllllllllllllllllllllllllllllllllllllllll}\n",
       " id & dur & spkts & dpkts & sbytes & dbytes & rate & sttl & dttl & sload & ⋯ & ct\\_src\\_dport\\_ltm & ct\\_dst\\_sport\\_ltm & ct\\_dst\\_src\\_ltm & is\\_ftp\\_login & ct\\_ftp\\_cmd & ct\\_flw\\_http\\_mthd & ct\\_src\\_ltm & ct\\_srv\\_dst & is\\_sm\\_ips\\_ports & label\\\\\n",
       "\\hline\n",
       "\t 1          & 1.1e-05    & 2          & 0          &  496       & 0          &  90909.09  & 254        & 0          &  180363632 & ⋯          & 1          & 1          & 2          & 0          & 0          & 0          & 1          & 2          & 0          & 0         \\\\\n",
       "\t 2          & 8.0e-06    & 2          & 0          & 1762       & 0          & 125000.00  & 254        & 0          &  881000000 & ⋯          & 1          & 1          & 2          & 0          & 0          & 0          & 1          & 2          & 0          & 0         \\\\\n",
       "\t 3          & 5.0e-06    & 2          & 0          & 1068       & 0          & 200000.01  & 254        & 0          &  854400000 & ⋯          & 1          & 1          & 3          & 0          & 0          & 0          & 1          & 3          & 0          & 0         \\\\\n",
       "\t 4          & 6.0e-06    & 2          & 0          &  900       & 0          & 166666.66  & 254        & 0          &  600000000 & ⋯          & 2          & 1          & 3          & 0          & 0          & 0          & 2          & 3          & 0          & 0         \\\\\n",
       "\t 5          & 1.0e-05    & 2          & 0          & 2126       & 0          & 100000.00  & 254        & 0          &  850400000 & ⋯          & 2          & 1          & 3          & 0          & 0          & 0          & 2          & 3          & 0          & 0         \\\\\n",
       "\t 6          & 3.0e-06    & 2          & 0          &  784       & 0          & 333333.32  & 254        & 0          & 1045333312 & ⋯          & 2          & 1          & 2          & 0          & 0          & 0          & 2          & 2          & 0          & 0         \\\\\n",
       "\\end{tabular}\n"
      ],
      "text/markdown": [
       "\n",
       "id | dur | spkts | dpkts | sbytes | dbytes | rate | sttl | dttl | sload | ⋯ | ct_src_dport_ltm | ct_dst_sport_ltm | ct_dst_src_ltm | is_ftp_login | ct_ftp_cmd | ct_flw_http_mthd | ct_src_ltm | ct_srv_dst | is_sm_ips_ports | label | \n",
       "|---|---|---|---|---|---|\n",
       "| 1          | 1.1e-05    | 2          | 0          |  496       | 0          |  90909.09  | 254        | 0          |  180363632 | ⋯          | 1          | 1          | 2          | 0          | 0          | 0          | 1          | 2          | 0          | 0          | \n",
       "| 2          | 8.0e-06    | 2          | 0          | 1762       | 0          | 125000.00  | 254        | 0          |  881000000 | ⋯          | 1          | 1          | 2          | 0          | 0          | 0          | 1          | 2          | 0          | 0          | \n",
       "| 3          | 5.0e-06    | 2          | 0          | 1068       | 0          | 200000.01  | 254        | 0          |  854400000 | ⋯          | 1          | 1          | 3          | 0          | 0          | 0          | 1          | 3          | 0          | 0          | \n",
       "| 4          | 6.0e-06    | 2          | 0          |  900       | 0          | 166666.66  | 254        | 0          |  600000000 | ⋯          | 2          | 1          | 3          | 0          | 0          | 0          | 2          | 3          | 0          | 0          | \n",
       "| 5          | 1.0e-05    | 2          | 0          | 2126       | 0          | 100000.00  | 254        | 0          |  850400000 | ⋯          | 2          | 1          | 3          | 0          | 0          | 0          | 2          | 3          | 0          | 0          | \n",
       "| 6          | 3.0e-06    | 2          | 0          |  784       | 0          | 333333.32  | 254        | 0          | 1045333312 | ⋯          | 2          | 1          | 2          | 0          | 0          | 0          | 2          | 2          | 0          | 0          | \n",
       "\n",
       "\n"
      ],
      "text/plain": [
       "  id dur     spkts dpkts sbytes dbytes rate      sttl dttl sload      ⋯\n",
       "1 1  1.1e-05 2     0      496   0       90909.09 254  0     180363632 ⋯\n",
       "2 2  8.0e-06 2     0     1762   0      125000.00 254  0     881000000 ⋯\n",
       "3 3  5.0e-06 2     0     1068   0      200000.01 254  0     854400000 ⋯\n",
       "4 4  6.0e-06 2     0      900   0      166666.66 254  0     600000000 ⋯\n",
       "5 5  1.0e-05 2     0     2126   0      100000.00 254  0     850400000 ⋯\n",
       "6 6  3.0e-06 2     0      784   0      333333.32 254  0    1045333312 ⋯\n",
       "  ct_src_dport_ltm ct_dst_sport_ltm ct_dst_src_ltm is_ftp_login ct_ftp_cmd\n",
       "1 1                1                2              0            0         \n",
       "2 1                1                2              0            0         \n",
       "3 1                1                3              0            0         \n",
       "4 2                1                3              0            0         \n",
       "5 2                1                3              0            0         \n",
       "6 2                1                2              0            0         \n",
       "  ct_flw_http_mthd ct_src_ltm ct_srv_dst is_sm_ips_ports label\n",
       "1 0                1          2          0               0    \n",
       "2 0                1          2          0               0    \n",
       "3 0                1          3          0               0    \n",
       "4 0                2          3          0               0    \n",
       "5 0                2          3          0               0    \n",
       "6 0                2          2          0               0    "
      ]
     },
     "metadata": {},
     "output_type": "display_data"
    },
    {
     "data": {
      "text/html": [
       "'Number of numerical columns: 41'"
      ],
      "text/latex": [
       "'Number of numerical columns: 41'"
      ],
      "text/markdown": [
       "'Number of numerical columns: 41'"
      ],
      "text/plain": [
       "[1] \"Number of numerical columns: 41\""
      ]
     },
     "metadata": {},
     "output_type": "display_data"
    }
   ],
   "source": [
    "                                                             \n",
    "#Create a dataframe of numeric columns\n",
    "numeric_columns <- select_if(unsw_data, is.numeric)\n",
    "head(numeric_columns)\n",
    "sprintf(\"Number of numerical columns: %i\", ncol(numeric_columns))"
   ]
  },
  {
   "cell_type": "code",
   "execution_count": 25,
   "metadata": {},
   "outputs": [
    {
     "data": {
      "text/html": [
       "<table>\n",
       "<thead><tr><th scope=col>proto</th><th scope=col>service</th><th scope=col>state</th><th scope=col>attack_cat</th></tr></thead>\n",
       "<tbody>\n",
       "\t<tr><td>udp   </td><td>-     </td><td>INT   </td><td>Normal</td></tr>\n",
       "\t<tr><td>udp   </td><td>-     </td><td>INT   </td><td>Normal</td></tr>\n",
       "\t<tr><td>udp   </td><td>-     </td><td>INT   </td><td>Normal</td></tr>\n",
       "\t<tr><td>udp   </td><td>-     </td><td>INT   </td><td>Normal</td></tr>\n",
       "\t<tr><td>udp   </td><td>-     </td><td>INT   </td><td>Normal</td></tr>\n",
       "\t<tr><td>udp   </td><td>-     </td><td>INT   </td><td>Normal</td></tr>\n",
       "</tbody>\n",
       "</table>\n"
      ],
      "text/latex": [
       "\\begin{tabular}{r|llll}\n",
       " proto & service & state & attack\\_cat\\\\\n",
       "\\hline\n",
       "\t udp    & -      & INT    & Normal\\\\\n",
       "\t udp    & -      & INT    & Normal\\\\\n",
       "\t udp    & -      & INT    & Normal\\\\\n",
       "\t udp    & -      & INT    & Normal\\\\\n",
       "\t udp    & -      & INT    & Normal\\\\\n",
       "\t udp    & -      & INT    & Normal\\\\\n",
       "\\end{tabular}\n"
      ],
      "text/markdown": [
       "\n",
       "proto | service | state | attack_cat | \n",
       "|---|---|---|---|---|---|\n",
       "| udp    | -      | INT    | Normal | \n",
       "| udp    | -      | INT    | Normal | \n",
       "| udp    | -      | INT    | Normal | \n",
       "| udp    | -      | INT    | Normal | \n",
       "| udp    | -      | INT    | Normal | \n",
       "| udp    | -      | INT    | Normal | \n",
       "\n",
       "\n"
      ],
      "text/plain": [
       "  proto service state attack_cat\n",
       "1 udp   -       INT   Normal    \n",
       "2 udp   -       INT   Normal    \n",
       "3 udp   -       INT   Normal    \n",
       "4 udp   -       INT   Normal    \n",
       "5 udp   -       INT   Normal    \n",
       "6 udp   -       INT   Normal    "
      ]
     },
     "metadata": {},
     "output_type": "display_data"
    },
    {
     "data": {
      "text/html": [
       "'Number of categorical columns: 4'"
      ],
      "text/latex": [
       "'Number of categorical columns: 4'"
      ],
      "text/markdown": [
       "'Number of categorical columns: 4'"
      ],
      "text/plain": [
       "[1] \"Number of categorical columns: 4\""
      ]
     },
     "metadata": {},
     "output_type": "display_data"
    }
   ],
   "source": [
    "                                                             \n",
    "#Create a dataframe of categorical columns\n",
    "categorical_columns <- select_if(unsw_data, is.factor)\n",
    "head(categorical_columns)\n",
    "sprintf(\"Number of categorical columns: %i\", ncol(categorical_columns))"
   ]
  },
  {
   "cell_type": "code",
   "execution_count": 26,
   "metadata": {},
   "outputs": [
    {
     "data": {
      "text/html": [
       "<table>\n",
       "<thead><tr><th scope=col>proto</th><th scope=col>freq</th></tr></thead>\n",
       "<tbody>\n",
       "\t<tr><td>3pc        </td><td> 32        </td></tr>\n",
       "\t<tr><td>a/n        </td><td> 32        </td></tr>\n",
       "\t<tr><td>aes-sp3-d  </td><td> 32        </td></tr>\n",
       "\t<tr><td>any        </td><td> 96        </td></tr>\n",
       "\t<tr><td>argus      </td><td> 33        </td></tr>\n",
       "\t<tr><td>aris       </td><td> 32        </td></tr>\n",
       "\t<tr><td>arp        </td><td>987        </td></tr>\n",
       "\t<tr><td>ax.25      </td><td> 32        </td></tr>\n",
       "\t<tr><td>bbn-rcc    </td><td> 34        </td></tr>\n",
       "\t<tr><td>bna        </td><td> 32        </td></tr>\n",
       "\t<tr><td>br-sat-mon </td><td> 32        </td></tr>\n",
       "\t<tr><td>cbt        </td><td> 33        </td></tr>\n",
       "\t<tr><td>cftp       </td><td> 32        </td></tr>\n",
       "\t<tr><td>chaos      </td><td> 33        </td></tr>\n",
       "\t<tr><td>compaq-peer</td><td> 32        </td></tr>\n",
       "\t<tr><td>cphb       </td><td> 32        </td></tr>\n",
       "\t<tr><td>cpnx       </td><td> 32        </td></tr>\n",
       "\t<tr><td>crtp       </td><td> 32        </td></tr>\n",
       "\t<tr><td>crudp      </td><td> 32        </td></tr>\n",
       "\t<tr><td>dcn        </td><td> 33        </td></tr>\n",
       "\t<tr><td>ddp        </td><td> 32        </td></tr>\n",
       "\t<tr><td>ddx        </td><td> 32        </td></tr>\n",
       "\t<tr><td>dgp        </td><td> 32        </td></tr>\n",
       "\t<tr><td>egp        </td><td> 33        </td></tr>\n",
       "\t<tr><td>eigrp      </td><td> 32        </td></tr>\n",
       "\t<tr><td>emcon      </td><td> 33        </td></tr>\n",
       "\t<tr><td>encap      </td><td> 32        </td></tr>\n",
       "\t<tr><td>etherip    </td><td> 32        </td></tr>\n",
       "\t<tr><td>fc         </td><td> 32        </td></tr>\n",
       "\t<tr><td>fire       </td><td> 32        </td></tr>\n",
       "\t<tr><td>⋮</td><td>⋮</td></tr>\n",
       "\t<tr><td>smp       </td><td>   32     </td></tr>\n",
       "\t<tr><td>snp       </td><td>   32     </td></tr>\n",
       "\t<tr><td>sprite-rpc</td><td>   32     </td></tr>\n",
       "\t<tr><td>sps       </td><td>   32     </td></tr>\n",
       "\t<tr><td>srp       </td><td>   32     </td></tr>\n",
       "\t<tr><td>st2       </td><td>   33     </td></tr>\n",
       "\t<tr><td>stp       </td><td>   32     </td></tr>\n",
       "\t<tr><td>sun-nd    </td><td>   54     </td></tr>\n",
       "\t<tr><td>swipe     </td><td>   52     </td></tr>\n",
       "\t<tr><td>tcf       </td><td>   32     </td></tr>\n",
       "\t<tr><td>tcp       </td><td>43095     </td></tr>\n",
       "\t<tr><td>tlsp      </td><td>   32     </td></tr>\n",
       "\t<tr><td>tp++      </td><td>   32     </td></tr>\n",
       "\t<tr><td>trunk-1   </td><td>   33     </td></tr>\n",
       "\t<tr><td>trunk-2   </td><td>   33     </td></tr>\n",
       "\t<tr><td>ttp       </td><td>   32     </td></tr>\n",
       "\t<tr><td>udp       </td><td>29418     </td></tr>\n",
       "\t<tr><td>unas      </td><td> 3515     </td></tr>\n",
       "\t<tr><td>uti       </td><td>   32     </td></tr>\n",
       "\t<tr><td>vines     </td><td>   32     </td></tr>\n",
       "\t<tr><td>visa      </td><td>   32     </td></tr>\n",
       "\t<tr><td>vmtp      </td><td>   32     </td></tr>\n",
       "\t<tr><td>vrrp      </td><td>   32     </td></tr>\n",
       "\t<tr><td>wb-expak  </td><td>   32     </td></tr>\n",
       "\t<tr><td>wb-mon    </td><td>   32     </td></tr>\n",
       "\t<tr><td>wsn       </td><td>   32     </td></tr>\n",
       "\t<tr><td>xnet      </td><td>   33     </td></tr>\n",
       "\t<tr><td>xns-idp   </td><td>   34     </td></tr>\n",
       "\t<tr><td>xtp       </td><td>   32     </td></tr>\n",
       "\t<tr><td>zero      </td><td>   32     </td></tr>\n",
       "</tbody>\n",
       "</table>\n"
      ],
      "text/latex": [
       "\\begin{tabular}{r|ll}\n",
       " proto & freq\\\\\n",
       "\\hline\n",
       "\t 3pc         &  32        \\\\\n",
       "\t a/n         &  32        \\\\\n",
       "\t aes-sp3-d   &  32        \\\\\n",
       "\t any         &  96        \\\\\n",
       "\t argus       &  33        \\\\\n",
       "\t aris        &  32        \\\\\n",
       "\t arp         & 987        \\\\\n",
       "\t ax.25       &  32        \\\\\n",
       "\t bbn-rcc     &  34        \\\\\n",
       "\t bna         &  32        \\\\\n",
       "\t br-sat-mon  &  32        \\\\\n",
       "\t cbt         &  33        \\\\\n",
       "\t cftp        &  32        \\\\\n",
       "\t chaos       &  33        \\\\\n",
       "\t compaq-peer &  32        \\\\\n",
       "\t cphb        &  32        \\\\\n",
       "\t cpnx        &  32        \\\\\n",
       "\t crtp        &  32        \\\\\n",
       "\t crudp       &  32        \\\\\n",
       "\t dcn         &  33        \\\\\n",
       "\t ddp         &  32        \\\\\n",
       "\t ddx         &  32        \\\\\n",
       "\t dgp         &  32        \\\\\n",
       "\t egp         &  33        \\\\\n",
       "\t eigrp       &  32        \\\\\n",
       "\t emcon       &  33        \\\\\n",
       "\t encap       &  32        \\\\\n",
       "\t etherip     &  32        \\\\\n",
       "\t fc          &  32        \\\\\n",
       "\t fire        &  32        \\\\\n",
       "\t ⋮ & ⋮\\\\\n",
       "\t smp        &    32     \\\\\n",
       "\t snp        &    32     \\\\\n",
       "\t sprite-rpc &    32     \\\\\n",
       "\t sps        &    32     \\\\\n",
       "\t srp        &    32     \\\\\n",
       "\t st2        &    33     \\\\\n",
       "\t stp        &    32     \\\\\n",
       "\t sun-nd     &    54     \\\\\n",
       "\t swipe      &    52     \\\\\n",
       "\t tcf        &    32     \\\\\n",
       "\t tcp        & 43095     \\\\\n",
       "\t tlsp       &    32     \\\\\n",
       "\t tp++       &    32     \\\\\n",
       "\t trunk-1    &    33     \\\\\n",
       "\t trunk-2    &    33     \\\\\n",
       "\t ttp        &    32     \\\\\n",
       "\t udp        & 29418     \\\\\n",
       "\t unas       &  3515     \\\\\n",
       "\t uti        &    32     \\\\\n",
       "\t vines      &    32     \\\\\n",
       "\t visa       &    32     \\\\\n",
       "\t vmtp       &    32     \\\\\n",
       "\t vrrp       &    32     \\\\\n",
       "\t wb-expak   &    32     \\\\\n",
       "\t wb-mon     &    32     \\\\\n",
       "\t wsn        &    32     \\\\\n",
       "\t xnet       &    33     \\\\\n",
       "\t xns-idp    &    34     \\\\\n",
       "\t xtp        &    32     \\\\\n",
       "\t zero       &    32     \\\\\n",
       "\\end{tabular}\n"
      ],
      "text/markdown": [
       "\n",
       "proto | freq | \n",
       "|---|---|---|---|---|---|---|---|---|---|---|---|---|---|---|---|---|---|---|---|---|---|---|---|---|---|---|---|---|---|---|---|---|---|---|---|---|---|---|---|---|---|---|---|---|---|---|---|---|---|---|---|---|---|---|---|---|---|---|---|---|\n",
       "| 3pc         |  32         | \n",
       "| a/n         |  32         | \n",
       "| aes-sp3-d   |  32         | \n",
       "| any         |  96         | \n",
       "| argus       |  33         | \n",
       "| aris        |  32         | \n",
       "| arp         | 987         | \n",
       "| ax.25       |  32         | \n",
       "| bbn-rcc     |  34         | \n",
       "| bna         |  32         | \n",
       "| br-sat-mon  |  32         | \n",
       "| cbt         |  33         | \n",
       "| cftp        |  32         | \n",
       "| chaos       |  33         | \n",
       "| compaq-peer |  32         | \n",
       "| cphb        |  32         | \n",
       "| cpnx        |  32         | \n",
       "| crtp        |  32         | \n",
       "| crudp       |  32         | \n",
       "| dcn         |  33         | \n",
       "| ddp         |  32         | \n",
       "| ddx         |  32         | \n",
       "| dgp         |  32         | \n",
       "| egp         |  33         | \n",
       "| eigrp       |  32         | \n",
       "| emcon       |  33         | \n",
       "| encap       |  32         | \n",
       "| etherip     |  32         | \n",
       "| fc          |  32         | \n",
       "| fire        |  32         | \n",
       "| ⋮ | ⋮ | \n",
       "| smp        |    32      | \n",
       "| snp        |    32      | \n",
       "| sprite-rpc |    32      | \n",
       "| sps        |    32      | \n",
       "| srp        |    32      | \n",
       "| st2        |    33      | \n",
       "| stp        |    32      | \n",
       "| sun-nd     |    54      | \n",
       "| swipe      |    52      | \n",
       "| tcf        |    32      | \n",
       "| tcp        | 43095      | \n",
       "| tlsp       |    32      | \n",
       "| tp++       |    32      | \n",
       "| trunk-1    |    33      | \n",
       "| trunk-2    |    33      | \n",
       "| ttp        |    32      | \n",
       "| udp        | 29418      | \n",
       "| unas       |  3515      | \n",
       "| uti        |    32      | \n",
       "| vines      |    32      | \n",
       "| visa       |    32      | \n",
       "| vmtp       |    32      | \n",
       "| vrrp       |    32      | \n",
       "| wb-expak   |    32      | \n",
       "| wb-mon     |    32      | \n",
       "| wsn        |    32      | \n",
       "| xnet       |    33      | \n",
       "| xns-idp    |    34      | \n",
       "| xtp        |    32      | \n",
       "| zero       |    32      | \n",
       "\n",
       "\n"
      ],
      "text/plain": [
       "    proto       freq \n",
       "1   3pc          32  \n",
       "2   a/n          32  \n",
       "3   aes-sp3-d    32  \n",
       "4   any          96  \n",
       "5   argus        33  \n",
       "6   aris         32  \n",
       "7   arp         987  \n",
       "8   ax.25        32  \n",
       "9   bbn-rcc      34  \n",
       "10  bna          32  \n",
       "11  br-sat-mon   32  \n",
       "12  cbt          33  \n",
       "13  cftp         32  \n",
       "14  chaos        33  \n",
       "15  compaq-peer  32  \n",
       "16  cphb         32  \n",
       "17  cpnx         32  \n",
       "18  crtp         32  \n",
       "19  crudp        32  \n",
       "20  dcn          33  \n",
       "21  ddp          32  \n",
       "22  ddx          32  \n",
       "23  dgp          32  \n",
       "24  egp          33  \n",
       "25  eigrp        32  \n",
       "26  emcon        33  \n",
       "27  encap        32  \n",
       "28  etherip      32  \n",
       "29  fc           32  \n",
       "30  fire         32  \n",
       "⋮   ⋮           ⋮    \n",
       "102 smp            32\n",
       "103 snp            32\n",
       "104 sprite-rpc     32\n",
       "105 sps            32\n",
       "106 srp            32\n",
       "107 st2            33\n",
       "108 stp            32\n",
       "109 sun-nd         54\n",
       "110 swipe          52\n",
       "111 tcf            32\n",
       "112 tcp         43095\n",
       "113 tlsp           32\n",
       "114 tp++           32\n",
       "115 trunk-1        33\n",
       "116 trunk-2        33\n",
       "117 ttp            32\n",
       "118 udp         29418\n",
       "119 unas         3515\n",
       "120 uti            32\n",
       "121 vines          32\n",
       "122 visa           32\n",
       "123 vmtp           32\n",
       "124 vrrp           32\n",
       "125 wb-expak       32\n",
       "126 wb-mon         32\n",
       "127 wsn            32\n",
       "128 xnet           33\n",
       "129 xns-idp        34\n",
       "130 xtp            32\n",
       "131 zero           32"
      ]
     },
     "metadata": {},
     "output_type": "display_data"
    },
    {
     "data": {
      "text/html": [
       "<table>\n",
       "<thead><tr><th scope=col>service</th><th scope=col>freq</th></tr></thead>\n",
       "<tbody>\n",
       "\t<tr><td>-       </td><td>47153   </td></tr>\n",
       "\t<tr><td>dhcp    </td><td>   26   </td></tr>\n",
       "\t<tr><td>dns     </td><td>21367   </td></tr>\n",
       "\t<tr><td>ftp     </td><td> 1552   </td></tr>\n",
       "\t<tr><td>ftp-data</td><td> 1396   </td></tr>\n",
       "\t<tr><td>http    </td><td> 8287   </td></tr>\n",
       "\t<tr><td>irc     </td><td>    5   </td></tr>\n",
       "\t<tr><td>pop3    </td><td>  423   </td></tr>\n",
       "\t<tr><td>radius  </td><td>    9   </td></tr>\n",
       "\t<tr><td>smtp    </td><td> 1851   </td></tr>\n",
       "\t<tr><td>snmp    </td><td>   29   </td></tr>\n",
       "\t<tr><td>ssh     </td><td>  204   </td></tr>\n",
       "\t<tr><td>ssl     </td><td>   30   </td></tr>\n",
       "</tbody>\n",
       "</table>\n"
      ],
      "text/latex": [
       "\\begin{tabular}{r|ll}\n",
       " service & freq\\\\\n",
       "\\hline\n",
       "\t -        & 47153   \\\\\n",
       "\t dhcp     &    26   \\\\\n",
       "\t dns      & 21367   \\\\\n",
       "\t ftp      &  1552   \\\\\n",
       "\t ftp-data &  1396   \\\\\n",
       "\t http     &  8287   \\\\\n",
       "\t irc      &     5   \\\\\n",
       "\t pop3     &   423   \\\\\n",
       "\t radius   &     9   \\\\\n",
       "\t smtp     &  1851   \\\\\n",
       "\t snmp     &    29   \\\\\n",
       "\t ssh      &   204   \\\\\n",
       "\t ssl      &    30   \\\\\n",
       "\\end{tabular}\n"
      ],
      "text/markdown": [
       "\n",
       "service | freq | \n",
       "|---|---|---|---|---|---|---|---|---|---|---|---|---|\n",
       "| -        | 47153    | \n",
       "| dhcp     |    26    | \n",
       "| dns      | 21367    | \n",
       "| ftp      |  1552    | \n",
       "| ftp-data |  1396    | \n",
       "| http     |  8287    | \n",
       "| irc      |     5    | \n",
       "| pop3     |   423    | \n",
       "| radius   |     9    | \n",
       "| smtp     |  1851    | \n",
       "| snmp     |    29    | \n",
       "| ssh      |   204    | \n",
       "| ssl      |    30    | \n",
       "\n",
       "\n"
      ],
      "text/plain": [
       "   service  freq \n",
       "1  -        47153\n",
       "2  dhcp        26\n",
       "3  dns      21367\n",
       "4  ftp       1552\n",
       "5  ftp-data  1396\n",
       "6  http      8287\n",
       "7  irc          5\n",
       "8  pop3       423\n",
       "9  radius       9\n",
       "10 smtp      1851\n",
       "11 snmp        29\n",
       "12 ssh        204\n",
       "13 ssl         30"
      ]
     },
     "metadata": {},
     "output_type": "display_data"
    },
    {
     "data": {
      "text/html": [
       "<table>\n",
       "<thead><tr><th scope=col>state</th><th scope=col>freq</th></tr></thead>\n",
       "<tbody>\n",
       "\t<tr><td>ACC  </td><td>    4</td></tr>\n",
       "\t<tr><td>CLO  </td><td>    1</td></tr>\n",
       "\t<tr><td>CON  </td><td> 6982</td></tr>\n",
       "\t<tr><td>FIN  </td><td>39339</td></tr>\n",
       "\t<tr><td>INT  </td><td>34163</td></tr>\n",
       "\t<tr><td>REQ  </td><td> 1842</td></tr>\n",
       "\t<tr><td>RST  </td><td>    1</td></tr>\n",
       "</tbody>\n",
       "</table>\n"
      ],
      "text/latex": [
       "\\begin{tabular}{r|ll}\n",
       " state & freq\\\\\n",
       "\\hline\n",
       "\t ACC   &     4\\\\\n",
       "\t CLO   &     1\\\\\n",
       "\t CON   &  6982\\\\\n",
       "\t FIN   & 39339\\\\\n",
       "\t INT   & 34163\\\\\n",
       "\t REQ   &  1842\\\\\n",
       "\t RST   &     1\\\\\n",
       "\\end{tabular}\n"
      ],
      "text/markdown": [
       "\n",
       "state | freq | \n",
       "|---|---|---|---|---|---|---|\n",
       "| ACC   |     4 | \n",
       "| CLO   |     1 | \n",
       "| CON   |  6982 | \n",
       "| FIN   | 39339 | \n",
       "| INT   | 34163 | \n",
       "| REQ   |  1842 | \n",
       "| RST   |     1 | \n",
       "\n",
       "\n"
      ],
      "text/plain": [
       "  state freq \n",
       "1 ACC       4\n",
       "2 CLO       1\n",
       "3 CON    6982\n",
       "4 FIN   39339\n",
       "5 INT   34163\n",
       "6 REQ    1842\n",
       "7 RST       1"
      ]
     },
     "metadata": {},
     "output_type": "display_data"
    },
    {
     "data": {
      "text/html": [
       "<table>\n",
       "<thead><tr><th scope=col>attack_cat</th><th scope=col>freq</th></tr></thead>\n",
       "<tbody>\n",
       "\t<tr><td>Analysis      </td><td>  677         </td></tr>\n",
       "\t<tr><td>Backdoor      </td><td>  583         </td></tr>\n",
       "\t<tr><td>DoS           </td><td> 4089         </td></tr>\n",
       "\t<tr><td>Exploits      </td><td>11132         </td></tr>\n",
       "\t<tr><td>Fuzzers       </td><td> 6062         </td></tr>\n",
       "\t<tr><td>Generic       </td><td>18871         </td></tr>\n",
       "\t<tr><td>Normal        </td><td>37000         </td></tr>\n",
       "\t<tr><td>Reconnaissance</td><td> 3496         </td></tr>\n",
       "\t<tr><td>Shellcode     </td><td>  378         </td></tr>\n",
       "\t<tr><td>Worms         </td><td>   44         </td></tr>\n",
       "</tbody>\n",
       "</table>\n"
      ],
      "text/latex": [
       "\\begin{tabular}{r|ll}\n",
       " attack\\_cat & freq\\\\\n",
       "\\hline\n",
       "\t Analysis       &   677         \\\\\n",
       "\t Backdoor       &   583         \\\\\n",
       "\t DoS            &  4089         \\\\\n",
       "\t Exploits       & 11132         \\\\\n",
       "\t Fuzzers        &  6062         \\\\\n",
       "\t Generic        & 18871         \\\\\n",
       "\t Normal         & 37000         \\\\\n",
       "\t Reconnaissance &  3496         \\\\\n",
       "\t Shellcode      &   378         \\\\\n",
       "\t Worms          &    44         \\\\\n",
       "\\end{tabular}\n"
      ],
      "text/markdown": [
       "\n",
       "attack_cat | freq | \n",
       "|---|---|---|---|---|---|---|---|---|---|\n",
       "| Analysis       |   677          | \n",
       "| Backdoor       |   583          | \n",
       "| DoS            |  4089          | \n",
       "| Exploits       | 11132          | \n",
       "| Fuzzers        |  6062          | \n",
       "| Generic        | 18871          | \n",
       "| Normal         | 37000          | \n",
       "| Reconnaissance |  3496          | \n",
       "| Shellcode      |   378          | \n",
       "| Worms          |    44          | \n",
       "\n",
       "\n"
      ],
      "text/plain": [
       "   attack_cat     freq \n",
       "1  Analysis         677\n",
       "2  Backdoor         583\n",
       "3  DoS             4089\n",
       "4  Exploits       11132\n",
       "5  Fuzzers         6062\n",
       "6  Generic        18871\n",
       "7  Normal         37000\n",
       "8  Reconnaissance  3496\n",
       "9  Shellcode        378\n",
       "10 Worms             44"
      ]
     },
     "metadata": {},
     "output_type": "display_data"
    }
   ],
   "source": [
    "                                                             \n",
    "#The frequency of different levels of each categorical column\n",
    "count(categorical_columns, 'proto')\n",
    "count(categorical_columns, 'service')\n",
    "count(categorical_columns, 'state')\n",
    "count(categorical_columns, 'attack_cat')\n"
   ]
  },
  {
   "cell_type": "markdown",
   "metadata": {},
   "source": [
    "### 6. CSIC 2010 http dataset\n",
    "\n",
    "The CSIC 2010 HTTP dataset includes web application penetration testing packets and is created with the goal of feature selection before working on classification.\n",
    "\n",
    "This is a labeled dataset.\n",
    "\n",
    "https://petescully.co.uk/research/csic-2010-http-dataset-in-csv-format-for-weka-analysis/"
   ]
  },
  {
   "cell_type": "code",
   "execution_count": 103,
   "metadata": {},
   "outputs": [
    {
     "name": "stdout",
     "output_type": "stream",
     "text": [
      "[1] \"Shape of Dataset:\"\n",
      "[1] 223585     18\n"
     ]
    }
   ],
   "source": [
    "csic_data = read.csv('output_http_csic_2010.csv')\n",
    "print(\"Shape of Dataset:\")\n",
    "print(dim(csic_data))"
   ]
  },
  {
   "cell_type": "code",
   "execution_count": 104,
   "metadata": {},
   "outputs": [
    {
     "name": "stdout",
     "output_type": "stream",
     "text": [
      "'data.frame':\t223585 obs. of  18 variables:\n",
      " $ index         : int  0 0 0 0 0 1 1 1 1 1 ...\n",
      " $ method        : Factor w/ 3 levels \"GET\",\"POST\",\"PUT\": 1 1 1 1 1 1 1 1 1 1 ...\n",
      " $ url           : Factor w/ 1643 levels \"http://localhost:8080.bak\",..: 1212 1212 1212 1212 1212 1212 1212 1212 1212 1212 ...\n",
      " $ protocol      : Factor w/ 1 level \"HTTP/1.1\": 1 1 1 1 1 1 1 1 1 1 ...\n",
      " $ userAgent     : Factor w/ 1 level \"Mozilla/5.0 (compatible; Konqueror/3.5; Linux) KHTML/3.5.8 (like Gecko)\": 1 1 1 1 1 1 1 1 1 1 ...\n",
      " $ pragma        : Factor w/ 1 level \"no-cache\": 1 1 1 1 1 1 1 1 1 1 ...\n",
      " $ cacheControl  : Factor w/ 1 level \"no-cache\": 1 1 1 1 1 1 1 1 1 1 ...\n",
      " $ accept        : Factor w/ 1 level \"text/xml,application/xml,application/xhtml+xml,text/html;q=0.9,text/plain;q=0.8,image/png,*/*;q=0.5\": 1 1 1 1 1 1 1 1 1 1 ...\n",
      " $ acceptEncoding: Factor w/ 1 level \"x-gzip, x-deflate, gzip, deflate\": 1 1 1 1 1 1 1 1 1 1 ...\n",
      " $ acceptCharset : Factor w/ 1 level \"utf-8, utf-8;q=0.5, *;q=0.5\": 1 1 1 1 1 1 1 1 1 1 ...\n",
      " $ acceptLanguage: Factor w/ 1 level \"en\": 1 1 1 1 1 1 1 1 1 1 ...\n",
      " $ host          : Factor w/ 2 levels \"localhost:8080\",..: 1 1 1 1 1 1 1 1 1 1 ...\n",
      " $ connection    : Factor w/ 1 level \"close\": 1 1 1 1 1 1 1 1 1 1 ...\n",
      " $ contentLength : Factor w/ 383 levels \"100\",\"101\",\"102\",..: 383 383 383 383 383 383 383 383 383 383 ...\n",
      " $ contentType   : Factor w/ 2 levels \"application/x-www-form-urlencoded\",..: 2 2 2 2 2 2 2 2 2 2 ...\n",
      " $ cookie        : Factor w/ 61065 levels \"JSESSIONID=0000442E26C2F96F52C97120FF00254B\",..: 44255 44255 44255 44255 44255 58577 58577 58577 58577 58577 ...\n",
      " $ payload       : Factor w/ 33770 levels \"\",\"apellidos=_Bignes+Crisp%ED\",..: 17163 22942 31314 2960 2712 17184 22942 31314 3032 2712 ...\n",
      " $ label         : Factor w/ 2 levels \"anom\",\"norm\": 1 1 1 1 1 1 1 1 1 1 ...\n"
     ]
    }
   ],
   "source": [
    "str(csic_data)"
   ]
  },
  {
   "cell_type": "code",
   "execution_count": 105,
   "metadata": {},
   "outputs": [
    {
     "data": {
      "text/html": [
       "<table>\n",
       "<thead><tr><th scope=col>index</th><th scope=col>method</th><th scope=col>url</th><th scope=col>protocol</th><th scope=col>userAgent</th><th scope=col>pragma</th><th scope=col>cacheControl</th><th scope=col>accept</th><th scope=col>acceptEncoding</th><th scope=col>acceptCharset</th><th scope=col>acceptLanguage</th><th scope=col>host</th><th scope=col>connection</th><th scope=col>contentLength</th><th scope=col>contentType</th><th scope=col>cookie</th><th scope=col>payload</th><th scope=col>label</th></tr></thead>\n",
       "<tbody>\n",
       "\t<tr><td>0                                                                                                  </td><td>GET                                                                                                </td><td>http://localhost:8080/tienda1/publico/anadir.jsp                                                   </td><td>HTTP/1.1                                                                                           </td><td>Mozilla/5.0 (compatible; Konqueror/3.5; Linux) KHTML/3.5.8 (like Gecko)                            </td><td>no-cache                                                                                           </td><td>no-cache                                                                                           </td><td>text/xml,application/xml,application/xhtml+xml,text/html;q=0.9,text/plain;q=0.8,image/png,*/*;q=0.5</td><td>x-gzip, x-deflate, gzip, deflate                                                                   </td><td>utf-8, utf-8;q=0.5, *;q=0.5                                                                        </td><td>en                                                                                                 </td><td>localhost:8080                                                                                     </td><td>close                                                                                              </td><td>null                                                                                               </td><td>null                                                                                               </td><td>JSESSIONID=B92A8B48B9008CD29F622A994E0F650D                                                        </td><td>id=2                                                                                               </td><td>anom                                                                                               </td></tr>\n",
       "\t<tr><td>0                                                                                                  </td><td>GET                                                                                                </td><td>http://localhost:8080/tienda1/publico/anadir.jsp                                                   </td><td>HTTP/1.1                                                                                           </td><td>Mozilla/5.0 (compatible; Konqueror/3.5; Linux) KHTML/3.5.8 (like Gecko)                            </td><td>no-cache                                                                                           </td><td>no-cache                                                                                           </td><td>text/xml,application/xml,application/xhtml+xml,text/html;q=0.9,text/plain;q=0.8,image/png,*/*;q=0.5</td><td>x-gzip, x-deflate, gzip, deflate                                                                   </td><td>utf-8, utf-8;q=0.5, *;q=0.5                                                                        </td><td>en                                                                                                 </td><td>localhost:8080                                                                                     </td><td>close                                                                                              </td><td>null                                                                                               </td><td>null                                                                                               </td><td>JSESSIONID=B92A8B48B9008CD29F622A994E0F650D                                                        </td><td>nombre=Jam%F3n+Ib%E9rico                                                                           </td><td>anom                                                                                               </td></tr>\n",
       "\t<tr><td>0                                                                                                  </td><td>GET                                                                                                </td><td>http://localhost:8080/tienda1/publico/anadir.jsp                                                   </td><td>HTTP/1.1                                                                                           </td><td>Mozilla/5.0 (compatible; Konqueror/3.5; Linux) KHTML/3.5.8 (like Gecko)                            </td><td>no-cache                                                                                           </td><td>no-cache                                                                                           </td><td>text/xml,application/xml,application/xhtml+xml,text/html;q=0.9,text/plain;q=0.8,image/png,*/*;q=0.5</td><td>x-gzip, x-deflate, gzip, deflate                                                                   </td><td>utf-8, utf-8;q=0.5, *;q=0.5                                                                        </td><td>en                                                                                                 </td><td>localhost:8080                                                                                     </td><td>close                                                                                              </td><td>null                                                                                               </td><td>null                                                                                               </td><td>JSESSIONID=B92A8B48B9008CD29F622A994E0F650D                                                        </td><td>precio=85                                                                                          </td><td>anom                                                                                               </td></tr>\n",
       "\t<tr><td>0                                                                                                  </td><td>GET                                                                                                </td><td>http://localhost:8080/tienda1/publico/anadir.jsp                                                   </td><td>HTTP/1.1                                                                                           </td><td>Mozilla/5.0 (compatible; Konqueror/3.5; Linux) KHTML/3.5.8 (like Gecko)                            </td><td>no-cache                                                                                           </td><td>no-cache                                                                                           </td><td>text/xml,application/xml,application/xhtml+xml,text/html;q=0.9,text/plain;q=0.8,image/png,*/*;q=0.5</td><td>x-gzip, x-deflate, gzip, deflate                                                                   </td><td>utf-8, utf-8;q=0.5, *;q=0.5                                                                        </td><td>en                                                                                                 </td><td>localhost:8080                                                                                     </td><td>close                                                                                              </td><td>null                                                                                               </td><td>null                                                                                               </td><td>JSESSIONID=B92A8B48B9008CD29F622A994E0F650D                                                        </td><td>cantidad=%27%3B+DROP+TABLE+usuarios%3B+SELECT+*+FROM+datos+WHERE+nombre+LIKE+%27%25                </td><td>anom                                                                                               </td></tr>\n",
       "\t<tr><td>0                                                                                                  </td><td>GET                                                                                                </td><td>http://localhost:8080/tienda1/publico/anadir.jsp                                                   </td><td>HTTP/1.1                                                                                           </td><td>Mozilla/5.0 (compatible; Konqueror/3.5; Linux) KHTML/3.5.8 (like Gecko)                            </td><td>no-cache                                                                                           </td><td>no-cache                                                                                           </td><td>text/xml,application/xml,application/xhtml+xml,text/html;q=0.9,text/plain;q=0.8,image/png,*/*;q=0.5</td><td>x-gzip, x-deflate, gzip, deflate                                                                   </td><td>utf-8, utf-8;q=0.5, *;q=0.5                                                                        </td><td>en                                                                                                 </td><td>localhost:8080                                                                                     </td><td>close                                                                                              </td><td>null                                                                                               </td><td>null                                                                                               </td><td>JSESSIONID=B92A8B48B9008CD29F622A994E0F650D                                                        </td><td>B1=A%F1adir+al+carrito                                                                             </td><td>anom                                                                                               </td></tr>\n",
       "</tbody>\n",
       "</table>\n"
      ],
      "text/latex": [
       "\\begin{tabular}{r|llllllllllllllllll}\n",
       " index & method & url & protocol & userAgent & pragma & cacheControl & accept & acceptEncoding & acceptCharset & acceptLanguage & host & connection & contentLength & contentType & cookie & payload & label\\\\\n",
       "\\hline\n",
       "\t 0                                                                                                   & GET                                                                                                 & http://localhost:8080/tienda1/publico/anadir.jsp                                                    & HTTP/1.1                                                                                            & Mozilla/5.0 (compatible; Konqueror/3.5; Linux) KHTML/3.5.8 (like Gecko)                             & no-cache                                                                                            & no-cache                                                                                            & text/xml,application/xml,application/xhtml+xml,text/html;q=0.9,text/plain;q=0.8,image/png,*/*;q=0.5 & x-gzip, x-deflate, gzip, deflate                                                                    & utf-8, utf-8;q=0.5, *;q=0.5                                                                         & en                                                                                                  & localhost:8080                                                                                      & close                                                                                               & null                                                                                                & null                                                                                                & JSESSIONID=B92A8B48B9008CD29F622A994E0F650D                                                         & id=2                                                                                                & anom                                                                                               \\\\\n",
       "\t 0                                                                                                   & GET                                                                                                 & http://localhost:8080/tienda1/publico/anadir.jsp                                                    & HTTP/1.1                                                                                            & Mozilla/5.0 (compatible; Konqueror/3.5; Linux) KHTML/3.5.8 (like Gecko)                             & no-cache                                                                                            & no-cache                                                                                            & text/xml,application/xml,application/xhtml+xml,text/html;q=0.9,text/plain;q=0.8,image/png,*/*;q=0.5 & x-gzip, x-deflate, gzip, deflate                                                                    & utf-8, utf-8;q=0.5, *;q=0.5                                                                         & en                                                                                                  & localhost:8080                                                                                      & close                                                                                               & null                                                                                                & null                                                                                                & JSESSIONID=B92A8B48B9008CD29F622A994E0F650D                                                         & nombre=Jam\\%F3n+Ib\\%E9rico                                                                        & anom                                                                                               \\\\\n",
       "\t 0                                                                                                   & GET                                                                                                 & http://localhost:8080/tienda1/publico/anadir.jsp                                                    & HTTP/1.1                                                                                            & Mozilla/5.0 (compatible; Konqueror/3.5; Linux) KHTML/3.5.8 (like Gecko)                             & no-cache                                                                                            & no-cache                                                                                            & text/xml,application/xml,application/xhtml+xml,text/html;q=0.9,text/plain;q=0.8,image/png,*/*;q=0.5 & x-gzip, x-deflate, gzip, deflate                                                                    & utf-8, utf-8;q=0.5, *;q=0.5                                                                         & en                                                                                                  & localhost:8080                                                                                      & close                                                                                               & null                                                                                                & null                                                                                                & JSESSIONID=B92A8B48B9008CD29F622A994E0F650D                                                         & precio=85                                                                                           & anom                                                                                               \\\\\n",
       "\t 0                                                                                                   & GET                                                                                                 & http://localhost:8080/tienda1/publico/anadir.jsp                                                    & HTTP/1.1                                                                                            & Mozilla/5.0 (compatible; Konqueror/3.5; Linux) KHTML/3.5.8 (like Gecko)                             & no-cache                                                                                            & no-cache                                                                                            & text/xml,application/xml,application/xhtml+xml,text/html;q=0.9,text/plain;q=0.8,image/png,*/*;q=0.5 & x-gzip, x-deflate, gzip, deflate                                                                    & utf-8, utf-8;q=0.5, *;q=0.5                                                                         & en                                                                                                  & localhost:8080                                                                                      & close                                                                                               & null                                                                                                & null                                                                                                & JSESSIONID=B92A8B48B9008CD29F622A994E0F650D                                                         & cantidad=\\%27\\%3B+DROP+TABLE+usuarios\\%3B+SELECT+*+FROM+datos+WHERE+nombre+LIKE+\\%27\\%25       & anom                                                                                               \\\\\n",
       "\t 0                                                                                                   & GET                                                                                                 & http://localhost:8080/tienda1/publico/anadir.jsp                                                    & HTTP/1.1                                                                                            & Mozilla/5.0 (compatible; Konqueror/3.5; Linux) KHTML/3.5.8 (like Gecko)                             & no-cache                                                                                            & no-cache                                                                                            & text/xml,application/xml,application/xhtml+xml,text/html;q=0.9,text/plain;q=0.8,image/png,*/*;q=0.5 & x-gzip, x-deflate, gzip, deflate                                                                    & utf-8, utf-8;q=0.5, *;q=0.5                                                                         & en                                                                                                  & localhost:8080                                                                                      & close                                                                                               & null                                                                                                & null                                                                                                & JSESSIONID=B92A8B48B9008CD29F622A994E0F650D                                                         & B1=A\\%F1adir+al+carrito                                                                            & anom                                                                                               \\\\\n",
       "\\end{tabular}\n"
      ],
      "text/markdown": [
       "\n",
       "index | method | url | protocol | userAgent | pragma | cacheControl | accept | acceptEncoding | acceptCharset | acceptLanguage | host | connection | contentLength | contentType | cookie | payload | label | \n",
       "|---|---|---|---|---|\n",
       "| 0                                                                                                   | GET                                                                                                 | http://localhost:8080/tienda1/publico/anadir.jsp                                                    | HTTP/1.1                                                                                            | Mozilla/5.0 (compatible; Konqueror/3.5; Linux) KHTML/3.5.8 (like Gecko)                             | no-cache                                                                                            | no-cache                                                                                            | text/xml,application/xml,application/xhtml+xml,text/html;q=0.9,text/plain;q=0.8,image/png,*/*;q=0.5 | x-gzip, x-deflate, gzip, deflate                                                                    | utf-8, utf-8;q=0.5, *;q=0.5                                                                         | en                                                                                                  | localhost:8080                                                                                      | close                                                                                               | null                                                                                                | null                                                                                                | JSESSIONID=B92A8B48B9008CD29F622A994E0F650D                                                         | id=2                                                                                                | anom                                                                                                | \n",
       "| 0                                                                                                   | GET                                                                                                 | http://localhost:8080/tienda1/publico/anadir.jsp                                                    | HTTP/1.1                                                                                            | Mozilla/5.0 (compatible; Konqueror/3.5; Linux) KHTML/3.5.8 (like Gecko)                             | no-cache                                                                                            | no-cache                                                                                            | text/xml,application/xml,application/xhtml+xml,text/html;q=0.9,text/plain;q=0.8,image/png,*/*;q=0.5 | x-gzip, x-deflate, gzip, deflate                                                                    | utf-8, utf-8;q=0.5, *;q=0.5                                                                         | en                                                                                                  | localhost:8080                                                                                      | close                                                                                               | null                                                                                                | null                                                                                                | JSESSIONID=B92A8B48B9008CD29F622A994E0F650D                                                         | nombre=Jam%F3n+Ib%E9rico                                                                            | anom                                                                                                | \n",
       "| 0                                                                                                   | GET                                                                                                 | http://localhost:8080/tienda1/publico/anadir.jsp                                                    | HTTP/1.1                                                                                            | Mozilla/5.0 (compatible; Konqueror/3.5; Linux) KHTML/3.5.8 (like Gecko)                             | no-cache                                                                                            | no-cache                                                                                            | text/xml,application/xml,application/xhtml+xml,text/html;q=0.9,text/plain;q=0.8,image/png,*/*;q=0.5 | x-gzip, x-deflate, gzip, deflate                                                                    | utf-8, utf-8;q=0.5, *;q=0.5                                                                         | en                                                                                                  | localhost:8080                                                                                      | close                                                                                               | null                                                                                                | null                                                                                                | JSESSIONID=B92A8B48B9008CD29F622A994E0F650D                                                         | precio=85                                                                                           | anom                                                                                                | \n",
       "| 0                                                                                                   | GET                                                                                                 | http://localhost:8080/tienda1/publico/anadir.jsp                                                    | HTTP/1.1                                                                                            | Mozilla/5.0 (compatible; Konqueror/3.5; Linux) KHTML/3.5.8 (like Gecko)                             | no-cache                                                                                            | no-cache                                                                                            | text/xml,application/xml,application/xhtml+xml,text/html;q=0.9,text/plain;q=0.8,image/png,*/*;q=0.5 | x-gzip, x-deflate, gzip, deflate                                                                    | utf-8, utf-8;q=0.5, *;q=0.5                                                                         | en                                                                                                  | localhost:8080                                                                                      | close                                                                                               | null                                                                                                | null                                                                                                | JSESSIONID=B92A8B48B9008CD29F622A994E0F650D                                                         | cantidad=%27%3B+DROP+TABLE+usuarios%3B+SELECT+*+FROM+datos+WHERE+nombre+LIKE+%27%25                 | anom                                                                                                | \n",
       "| 0                                                                                                   | GET                                                                                                 | http://localhost:8080/tienda1/publico/anadir.jsp                                                    | HTTP/1.1                                                                                            | Mozilla/5.0 (compatible; Konqueror/3.5; Linux) KHTML/3.5.8 (like Gecko)                             | no-cache                                                                                            | no-cache                                                                                            | text/xml,application/xml,application/xhtml+xml,text/html;q=0.9,text/plain;q=0.8,image/png,*/*;q=0.5 | x-gzip, x-deflate, gzip, deflate                                                                    | utf-8, utf-8;q=0.5, *;q=0.5                                                                         | en                                                                                                  | localhost:8080                                                                                      | close                                                                                               | null                                                                                                | null                                                                                                | JSESSIONID=B92A8B48B9008CD29F622A994E0F650D                                                         | B1=A%F1adir+al+carrito                                                                              | anom                                                                                                | \n",
       "\n",
       "\n"
      ],
      "text/plain": [
       "  index method url                                              protocol\n",
       "1 0     GET    http://localhost:8080/tienda1/publico/anadir.jsp HTTP/1.1\n",
       "2 0     GET    http://localhost:8080/tienda1/publico/anadir.jsp HTTP/1.1\n",
       "3 0     GET    http://localhost:8080/tienda1/publico/anadir.jsp HTTP/1.1\n",
       "4 0     GET    http://localhost:8080/tienda1/publico/anadir.jsp HTTP/1.1\n",
       "5 0     GET    http://localhost:8080/tienda1/publico/anadir.jsp HTTP/1.1\n",
       "  userAgent                                                              \n",
       "1 Mozilla/5.0 (compatible; Konqueror/3.5; Linux) KHTML/3.5.8 (like Gecko)\n",
       "2 Mozilla/5.0 (compatible; Konqueror/3.5; Linux) KHTML/3.5.8 (like Gecko)\n",
       "3 Mozilla/5.0 (compatible; Konqueror/3.5; Linux) KHTML/3.5.8 (like Gecko)\n",
       "4 Mozilla/5.0 (compatible; Konqueror/3.5; Linux) KHTML/3.5.8 (like Gecko)\n",
       "5 Mozilla/5.0 (compatible; Konqueror/3.5; Linux) KHTML/3.5.8 (like Gecko)\n",
       "  pragma   cacheControl\n",
       "1 no-cache no-cache    \n",
       "2 no-cache no-cache    \n",
       "3 no-cache no-cache    \n",
       "4 no-cache no-cache    \n",
       "5 no-cache no-cache    \n",
       "  accept                                                                                             \n",
       "1 text/xml,application/xml,application/xhtml+xml,text/html;q=0.9,text/plain;q=0.8,image/png,*/*;q=0.5\n",
       "2 text/xml,application/xml,application/xhtml+xml,text/html;q=0.9,text/plain;q=0.8,image/png,*/*;q=0.5\n",
       "3 text/xml,application/xml,application/xhtml+xml,text/html;q=0.9,text/plain;q=0.8,image/png,*/*;q=0.5\n",
       "4 text/xml,application/xml,application/xhtml+xml,text/html;q=0.9,text/plain;q=0.8,image/png,*/*;q=0.5\n",
       "5 text/xml,application/xml,application/xhtml+xml,text/html;q=0.9,text/plain;q=0.8,image/png,*/*;q=0.5\n",
       "  acceptEncoding                   acceptCharset               acceptLanguage\n",
       "1 x-gzip, x-deflate, gzip, deflate utf-8, utf-8;q=0.5, *;q=0.5 en            \n",
       "2 x-gzip, x-deflate, gzip, deflate utf-8, utf-8;q=0.5, *;q=0.5 en            \n",
       "3 x-gzip, x-deflate, gzip, deflate utf-8, utf-8;q=0.5, *;q=0.5 en            \n",
       "4 x-gzip, x-deflate, gzip, deflate utf-8, utf-8;q=0.5, *;q=0.5 en            \n",
       "5 x-gzip, x-deflate, gzip, deflate utf-8, utf-8;q=0.5, *;q=0.5 en            \n",
       "  host           connection contentLength contentType\n",
       "1 localhost:8080 close      null          null       \n",
       "2 localhost:8080 close      null          null       \n",
       "3 localhost:8080 close      null          null       \n",
       "4 localhost:8080 close      null          null       \n",
       "5 localhost:8080 close      null          null       \n",
       "  cookie                                     \n",
       "1 JSESSIONID=B92A8B48B9008CD29F622A994E0F650D\n",
       "2 JSESSIONID=B92A8B48B9008CD29F622A994E0F650D\n",
       "3 JSESSIONID=B92A8B48B9008CD29F622A994E0F650D\n",
       "4 JSESSIONID=B92A8B48B9008CD29F622A994E0F650D\n",
       "5 JSESSIONID=B92A8B48B9008CD29F622A994E0F650D\n",
       "  payload                                                                            \n",
       "1 id=2                                                                               \n",
       "2 nombre=Jam%F3n+Ib%E9rico                                                           \n",
       "3 precio=85                                                                          \n",
       "4 cantidad=%27%3B+DROP+TABLE+usuarios%3B+SELECT+*+FROM+datos+WHERE+nombre+LIKE+%27%25\n",
       "5 B1=A%F1adir+al+carrito                                                             \n",
       "  label\n",
       "1 anom \n",
       "2 anom \n",
       "3 anom \n",
       "4 anom \n",
       "5 anom "
      ]
     },
     "metadata": {},
     "output_type": "display_data"
    }
   ],
   "source": [
    "head(csic_data, 5)"
   ]
  },
  {
   "cell_type": "code",
   "execution_count": 106,
   "metadata": {},
   "outputs": [
    {
     "name": "stdout",
     "output_type": "stream",
     "text": [
      "[1] \"Data Quality Report\"\n"
     ]
    },
    {
     "data": {
      "text/html": [
       "<table>\n",
       "<thead><tr><th></th><th scope=col>data_type</th><th scope=col>count</th><th scope=col>unique_values</th><th scope=col>missing_values</th></tr></thead>\n",
       "<tbody>\n",
       "\t<tr><th scope=row>index</th><td>integer</td><td>223585 </td><td>36000  </td><td>0      </td></tr>\n",
       "\t<tr><th scope=row>method</th><td>factor </td><td>223585 </td><td>    3  </td><td>0      </td></tr>\n",
       "\t<tr><th scope=row>url</th><td>factor </td><td>223585 </td><td> 1643  </td><td>0      </td></tr>\n",
       "\t<tr><th scope=row>protocol</th><td>factor </td><td>223585 </td><td>    1  </td><td>0      </td></tr>\n",
       "\t<tr><th scope=row>userAgent</th><td>factor </td><td>223585 </td><td>    1  </td><td>0      </td></tr>\n",
       "\t<tr><th scope=row>pragma</th><td>factor </td><td>223585 </td><td>    1  </td><td>0      </td></tr>\n",
       "\t<tr><th scope=row>cacheControl</th><td>factor </td><td>223585 </td><td>    1  </td><td>0      </td></tr>\n",
       "\t<tr><th scope=row>accept</th><td>factor </td><td>223585 </td><td>    1  </td><td>0      </td></tr>\n",
       "\t<tr><th scope=row>acceptEncoding</th><td>factor </td><td>223585 </td><td>    1  </td><td>0      </td></tr>\n",
       "\t<tr><th scope=row>acceptCharset</th><td>factor </td><td>223585 </td><td>    1  </td><td>0      </td></tr>\n",
       "\t<tr><th scope=row>acceptLanguage</th><td>factor </td><td>223585 </td><td>    1  </td><td>0      </td></tr>\n",
       "\t<tr><th scope=row>host</th><td>factor </td><td>223585 </td><td>    2  </td><td>0      </td></tr>\n",
       "\t<tr><th scope=row>connection</th><td>factor </td><td>223585 </td><td>    1  </td><td>0      </td></tr>\n",
       "\t<tr><th scope=row>contentLength</th><td>factor </td><td>223585 </td><td>  383  </td><td>0      </td></tr>\n",
       "\t<tr><th scope=row>contentType</th><td>factor </td><td>223585 </td><td>    2  </td><td>0      </td></tr>\n",
       "\t<tr><th scope=row>cookie</th><td>factor </td><td>223585 </td><td>61065  </td><td>0      </td></tr>\n",
       "\t<tr><th scope=row>payload</th><td>factor </td><td>223585 </td><td>33770  </td><td>0      </td></tr>\n",
       "\t<tr><th scope=row>label</th><td>factor </td><td>223585 </td><td>    2  </td><td>0      </td></tr>\n",
       "</tbody>\n",
       "</table>\n"
      ],
      "text/latex": [
       "\\begin{tabular}{r|llll}\n",
       "  & data\\_type & count & unique\\_values & missing\\_values\\\\\n",
       "\\hline\n",
       "\tindex & integer & 223585  & 36000   & 0      \\\\\n",
       "\tmethod & factor  & 223585  &     3   & 0      \\\\\n",
       "\turl & factor  & 223585  &  1643   & 0      \\\\\n",
       "\tprotocol & factor  & 223585  &     1   & 0      \\\\\n",
       "\tuserAgent & factor  & 223585  &     1   & 0      \\\\\n",
       "\tpragma & factor  & 223585  &     1   & 0      \\\\\n",
       "\tcacheControl & factor  & 223585  &     1   & 0      \\\\\n",
       "\taccept & factor  & 223585  &     1   & 0      \\\\\n",
       "\tacceptEncoding & factor  & 223585  &     1   & 0      \\\\\n",
       "\tacceptCharset & factor  & 223585  &     1   & 0      \\\\\n",
       "\tacceptLanguage & factor  & 223585  &     1   & 0      \\\\\n",
       "\thost & factor  & 223585  &     2   & 0      \\\\\n",
       "\tconnection & factor  & 223585  &     1   & 0      \\\\\n",
       "\tcontentLength & factor  & 223585  &   383   & 0      \\\\\n",
       "\tcontentType & factor  & 223585  &     2   & 0      \\\\\n",
       "\tcookie & factor  & 223585  & 61065   & 0      \\\\\n",
       "\tpayload & factor  & 223585  & 33770   & 0      \\\\\n",
       "\tlabel & factor  & 223585  &     2   & 0      \\\\\n",
       "\\end{tabular}\n"
      ],
      "text/markdown": [
       "\n",
       "| <!--/--> | data_type | count | unique_values | missing_values | \n",
       "|---|---|---|---|---|---|---|---|---|---|---|---|---|---|---|---|---|---|\n",
       "| index | integer | 223585  | 36000   | 0       | \n",
       "| method | factor  | 223585  |     3   | 0       | \n",
       "| url | factor  | 223585  |  1643   | 0       | \n",
       "| protocol | factor  | 223585  |     1   | 0       | \n",
       "| userAgent | factor  | 223585  |     1   | 0       | \n",
       "| pragma | factor  | 223585  |     1   | 0       | \n",
       "| cacheControl | factor  | 223585  |     1   | 0       | \n",
       "| accept | factor  | 223585  |     1   | 0       | \n",
       "| acceptEncoding | factor  | 223585  |     1   | 0       | \n",
       "| acceptCharset | factor  | 223585  |     1   | 0       | \n",
       "| acceptLanguage | factor  | 223585  |     1   | 0       | \n",
       "| host | factor  | 223585  |     2   | 0       | \n",
       "| connection | factor  | 223585  |     1   | 0       | \n",
       "| contentLength | factor  | 223585  |   383   | 0       | \n",
       "| contentType | factor  | 223585  |     2   | 0       | \n",
       "| cookie | factor  | 223585  | 61065   | 0       | \n",
       "| payload | factor  | 223585  | 33770   | 0       | \n",
       "| label | factor  | 223585  |     2   | 0       | \n",
       "\n",
       "\n"
      ],
      "text/plain": [
       "               data_type count  unique_values missing_values\n",
       "index          integer   223585 36000         0             \n",
       "method         factor    223585     3         0             \n",
       "url            factor    223585  1643         0             \n",
       "protocol       factor    223585     1         0             \n",
       "userAgent      factor    223585     1         0             \n",
       "pragma         factor    223585     1         0             \n",
       "cacheControl   factor    223585     1         0             \n",
       "accept         factor    223585     1         0             \n",
       "acceptEncoding factor    223585     1         0             \n",
       "acceptCharset  factor    223585     1         0             \n",
       "acceptLanguage factor    223585     1         0             \n",
       "host           factor    223585     2         0             \n",
       "connection     factor    223585     1         0             \n",
       "contentLength  factor    223585   383         0             \n",
       "contentType    factor    223585     2         0             \n",
       "cookie         factor    223585 61065         0             \n",
       "payload        factor    223585 33770         0             \n",
       "label          factor    223585     2         0             "
      ]
     },
     "metadata": {},
     "output_type": "display_data"
    }
   ],
   "source": [
    "                                                             \n",
    "#Call 'data_report' function for the dataset\n",
    "data_report(csic_data)\n",
    "\n",
    "\n",
    "  "
   ]
  },
  {
   "cell_type": "code",
   "execution_count": 107,
   "metadata": {},
   "outputs": [
    {
     "data": {
      "text/html": [
       "<table>\n",
       "<thead><tr><th scope=col>index</th></tr></thead>\n",
       "<tbody>\n",
       "\t<tr><td>0</td></tr>\n",
       "\t<tr><td>0</td></tr>\n",
       "\t<tr><td>0</td></tr>\n",
       "\t<tr><td>0</td></tr>\n",
       "\t<tr><td>0</td></tr>\n",
       "\t<tr><td>1</td></tr>\n",
       "</tbody>\n",
       "</table>\n"
      ],
      "text/latex": [
       "\\begin{tabular}{r|l}\n",
       " index\\\\\n",
       "\\hline\n",
       "\t 0\\\\\n",
       "\t 0\\\\\n",
       "\t 0\\\\\n",
       "\t 0\\\\\n",
       "\t 0\\\\\n",
       "\t 1\\\\\n",
       "\\end{tabular}\n"
      ],
      "text/markdown": [
       "\n",
       "index | \n",
       "|---|---|---|---|---|---|\n",
       "| 0 | \n",
       "| 0 | \n",
       "| 0 | \n",
       "| 0 | \n",
       "| 0 | \n",
       "| 1 | \n",
       "\n",
       "\n"
      ],
      "text/plain": [
       "  index\n",
       "1 0    \n",
       "2 0    \n",
       "3 0    \n",
       "4 0    \n",
       "5 0    \n",
       "6 1    "
      ]
     },
     "metadata": {},
     "output_type": "display_data"
    },
    {
     "data": {
      "text/html": [
       "'Number of numerical columns: 1'"
      ],
      "text/latex": [
       "'Number of numerical columns: 1'"
      ],
      "text/markdown": [
       "'Number of numerical columns: 1'"
      ],
      "text/plain": [
       "[1] \"Number of numerical columns: 1\""
      ]
     },
     "metadata": {},
     "output_type": "display_data"
    }
   ],
   "source": [
    "                                                           \n",
    "#Create a dataframe of numeric columns\n",
    "numeric_columns <- select_if(csic_data, is.numeric)\n",
    "head(numeric_columns)\n",
    "sprintf(\"Number of numerical columns: %i\", ncol(numeric_columns))"
   ]
  },
  {
   "cell_type": "code",
   "execution_count": 108,
   "metadata": {},
   "outputs": [
    {
     "data": {
      "text/html": [
       "<table>\n",
       "<thead><tr><th scope=col>method</th><th scope=col>url</th><th scope=col>protocol</th><th scope=col>userAgent</th><th scope=col>pragma</th><th scope=col>cacheControl</th><th scope=col>accept</th><th scope=col>acceptEncoding</th><th scope=col>acceptCharset</th><th scope=col>acceptLanguage</th><th scope=col>host</th><th scope=col>connection</th><th scope=col>contentLength</th><th scope=col>contentType</th><th scope=col>cookie</th><th scope=col>payload</th><th scope=col>label</th></tr></thead>\n",
       "<tbody>\n",
       "\t<tr><td>GET                                                                                                </td><td>http://localhost:8080/tienda1/publico/anadir.jsp                                                   </td><td>HTTP/1.1                                                                                           </td><td>Mozilla/5.0 (compatible; Konqueror/3.5; Linux) KHTML/3.5.8 (like Gecko)                            </td><td>no-cache                                                                                           </td><td>no-cache                                                                                           </td><td>text/xml,application/xml,application/xhtml+xml,text/html;q=0.9,text/plain;q=0.8,image/png,*/*;q=0.5</td><td>x-gzip, x-deflate, gzip, deflate                                                                   </td><td>utf-8, utf-8;q=0.5, *;q=0.5                                                                        </td><td>en                                                                                                 </td><td>localhost:8080                                                                                     </td><td>close                                                                                              </td><td>null                                                                                               </td><td>null                                                                                               </td><td>JSESSIONID=B92A8B48B9008CD29F622A994E0F650D                                                        </td><td>id=2                                                                                               </td><td>anom                                                                                               </td></tr>\n",
       "\t<tr><td>GET                                                                                                </td><td>http://localhost:8080/tienda1/publico/anadir.jsp                                                   </td><td>HTTP/1.1                                                                                           </td><td>Mozilla/5.0 (compatible; Konqueror/3.5; Linux) KHTML/3.5.8 (like Gecko)                            </td><td>no-cache                                                                                           </td><td>no-cache                                                                                           </td><td>text/xml,application/xml,application/xhtml+xml,text/html;q=0.9,text/plain;q=0.8,image/png,*/*;q=0.5</td><td>x-gzip, x-deflate, gzip, deflate                                                                   </td><td>utf-8, utf-8;q=0.5, *;q=0.5                                                                        </td><td>en                                                                                                 </td><td>localhost:8080                                                                                     </td><td>close                                                                                              </td><td>null                                                                                               </td><td>null                                                                                               </td><td>JSESSIONID=B92A8B48B9008CD29F622A994E0F650D                                                        </td><td>nombre=Jam%F3n+Ib%E9rico                                                                           </td><td>anom                                                                                               </td></tr>\n",
       "\t<tr><td>GET                                                                                                </td><td>http://localhost:8080/tienda1/publico/anadir.jsp                                                   </td><td>HTTP/1.1                                                                                           </td><td>Mozilla/5.0 (compatible; Konqueror/3.5; Linux) KHTML/3.5.8 (like Gecko)                            </td><td>no-cache                                                                                           </td><td>no-cache                                                                                           </td><td>text/xml,application/xml,application/xhtml+xml,text/html;q=0.9,text/plain;q=0.8,image/png,*/*;q=0.5</td><td>x-gzip, x-deflate, gzip, deflate                                                                   </td><td>utf-8, utf-8;q=0.5, *;q=0.5                                                                        </td><td>en                                                                                                 </td><td>localhost:8080                                                                                     </td><td>close                                                                                              </td><td>null                                                                                               </td><td>null                                                                                               </td><td>JSESSIONID=B92A8B48B9008CD29F622A994E0F650D                                                        </td><td>precio=85                                                                                          </td><td>anom                                                                                               </td></tr>\n",
       "\t<tr><td>GET                                                                                                </td><td>http://localhost:8080/tienda1/publico/anadir.jsp                                                   </td><td>HTTP/1.1                                                                                           </td><td>Mozilla/5.0 (compatible; Konqueror/3.5; Linux) KHTML/3.5.8 (like Gecko)                            </td><td>no-cache                                                                                           </td><td>no-cache                                                                                           </td><td>text/xml,application/xml,application/xhtml+xml,text/html;q=0.9,text/plain;q=0.8,image/png,*/*;q=0.5</td><td>x-gzip, x-deflate, gzip, deflate                                                                   </td><td>utf-8, utf-8;q=0.5, *;q=0.5                                                                        </td><td>en                                                                                                 </td><td>localhost:8080                                                                                     </td><td>close                                                                                              </td><td>null                                                                                               </td><td>null                                                                                               </td><td>JSESSIONID=B92A8B48B9008CD29F622A994E0F650D                                                        </td><td>cantidad=%27%3B+DROP+TABLE+usuarios%3B+SELECT+*+FROM+datos+WHERE+nombre+LIKE+%27%25                </td><td>anom                                                                                               </td></tr>\n",
       "\t<tr><td>GET                                                                                                </td><td>http://localhost:8080/tienda1/publico/anadir.jsp                                                   </td><td>HTTP/1.1                                                                                           </td><td>Mozilla/5.0 (compatible; Konqueror/3.5; Linux) KHTML/3.5.8 (like Gecko)                            </td><td>no-cache                                                                                           </td><td>no-cache                                                                                           </td><td>text/xml,application/xml,application/xhtml+xml,text/html;q=0.9,text/plain;q=0.8,image/png,*/*;q=0.5</td><td>x-gzip, x-deflate, gzip, deflate                                                                   </td><td>utf-8, utf-8;q=0.5, *;q=0.5                                                                        </td><td>en                                                                                                 </td><td>localhost:8080                                                                                     </td><td>close                                                                                              </td><td>null                                                                                               </td><td>null                                                                                               </td><td>JSESSIONID=B92A8B48B9008CD29F622A994E0F650D                                                        </td><td>B1=A%F1adir+al+carrito                                                                             </td><td>anom                                                                                               </td></tr>\n",
       "\t<tr><td>GET                                                                                                </td><td>http://localhost:8080/tienda1/publico/anadir.jsp                                                   </td><td>HTTP/1.1                                                                                           </td><td>Mozilla/5.0 (compatible; Konqueror/3.5; Linux) KHTML/3.5.8 (like Gecko)                            </td><td>no-cache                                                                                           </td><td>no-cache                                                                                           </td><td>text/xml,application/xml,application/xhtml+xml,text/html;q=0.9,text/plain;q=0.8,image/png,*/*;q=0.5</td><td>x-gzip, x-deflate, gzip, deflate                                                                   </td><td>utf-8, utf-8;q=0.5, *;q=0.5                                                                        </td><td>en                                                                                                 </td><td>localhost:8080                                                                                     </td><td>close                                                                                              </td><td>null                                                                                               </td><td>null                                                                                               </td><td>JSESSIONID=F563B5262843F12ECAE41815ABDEEA54                                                        </td><td>id=2%2F                                                                                            </td><td>anom                                                                                               </td></tr>\n",
       "</tbody>\n",
       "</table>\n"
      ],
      "text/latex": [
       "\\begin{tabular}{r|lllllllllllllllll}\n",
       " method & url & protocol & userAgent & pragma & cacheControl & accept & acceptEncoding & acceptCharset & acceptLanguage & host & connection & contentLength & contentType & cookie & payload & label\\\\\n",
       "\\hline\n",
       "\t GET                                                                                                 & http://localhost:8080/tienda1/publico/anadir.jsp                                                    & HTTP/1.1                                                                                            & Mozilla/5.0 (compatible; Konqueror/3.5; Linux) KHTML/3.5.8 (like Gecko)                             & no-cache                                                                                            & no-cache                                                                                            & text/xml,application/xml,application/xhtml+xml,text/html;q=0.9,text/plain;q=0.8,image/png,*/*;q=0.5 & x-gzip, x-deflate, gzip, deflate                                                                    & utf-8, utf-8;q=0.5, *;q=0.5                                                                         & en                                                                                                  & localhost:8080                                                                                      & close                                                                                               & null                                                                                                & null                                                                                                & JSESSIONID=B92A8B48B9008CD29F622A994E0F650D                                                         & id=2                                                                                                & anom                                                                                               \\\\\n",
       "\t GET                                                                                                 & http://localhost:8080/tienda1/publico/anadir.jsp                                                    & HTTP/1.1                                                                                            & Mozilla/5.0 (compatible; Konqueror/3.5; Linux) KHTML/3.5.8 (like Gecko)                             & no-cache                                                                                            & no-cache                                                                                            & text/xml,application/xml,application/xhtml+xml,text/html;q=0.9,text/plain;q=0.8,image/png,*/*;q=0.5 & x-gzip, x-deflate, gzip, deflate                                                                    & utf-8, utf-8;q=0.5, *;q=0.5                                                                         & en                                                                                                  & localhost:8080                                                                                      & close                                                                                               & null                                                                                                & null                                                                                                & JSESSIONID=B92A8B48B9008CD29F622A994E0F650D                                                         & nombre=Jam\\%F3n+Ib\\%E9rico                                                                        & anom                                                                                               \\\\\n",
       "\t GET                                                                                                 & http://localhost:8080/tienda1/publico/anadir.jsp                                                    & HTTP/1.1                                                                                            & Mozilla/5.0 (compatible; Konqueror/3.5; Linux) KHTML/3.5.8 (like Gecko)                             & no-cache                                                                                            & no-cache                                                                                            & text/xml,application/xml,application/xhtml+xml,text/html;q=0.9,text/plain;q=0.8,image/png,*/*;q=0.5 & x-gzip, x-deflate, gzip, deflate                                                                    & utf-8, utf-8;q=0.5, *;q=0.5                                                                         & en                                                                                                  & localhost:8080                                                                                      & close                                                                                               & null                                                                                                & null                                                                                                & JSESSIONID=B92A8B48B9008CD29F622A994E0F650D                                                         & precio=85                                                                                           & anom                                                                                               \\\\\n",
       "\t GET                                                                                                 & http://localhost:8080/tienda1/publico/anadir.jsp                                                    & HTTP/1.1                                                                                            & Mozilla/5.0 (compatible; Konqueror/3.5; Linux) KHTML/3.5.8 (like Gecko)                             & no-cache                                                                                            & no-cache                                                                                            & text/xml,application/xml,application/xhtml+xml,text/html;q=0.9,text/plain;q=0.8,image/png,*/*;q=0.5 & x-gzip, x-deflate, gzip, deflate                                                                    & utf-8, utf-8;q=0.5, *;q=0.5                                                                         & en                                                                                                  & localhost:8080                                                                                      & close                                                                                               & null                                                                                                & null                                                                                                & JSESSIONID=B92A8B48B9008CD29F622A994E0F650D                                                         & cantidad=\\%27\\%3B+DROP+TABLE+usuarios\\%3B+SELECT+*+FROM+datos+WHERE+nombre+LIKE+\\%27\\%25       & anom                                                                                               \\\\\n",
       "\t GET                                                                                                 & http://localhost:8080/tienda1/publico/anadir.jsp                                                    & HTTP/1.1                                                                                            & Mozilla/5.0 (compatible; Konqueror/3.5; Linux) KHTML/3.5.8 (like Gecko)                             & no-cache                                                                                            & no-cache                                                                                            & text/xml,application/xml,application/xhtml+xml,text/html;q=0.9,text/plain;q=0.8,image/png,*/*;q=0.5 & x-gzip, x-deflate, gzip, deflate                                                                    & utf-8, utf-8;q=0.5, *;q=0.5                                                                         & en                                                                                                  & localhost:8080                                                                                      & close                                                                                               & null                                                                                                & null                                                                                                & JSESSIONID=B92A8B48B9008CD29F622A994E0F650D                                                         & B1=A\\%F1adir+al+carrito                                                                            & anom                                                                                               \\\\\n",
       "\t GET                                                                                                 & http://localhost:8080/tienda1/publico/anadir.jsp                                                    & HTTP/1.1                                                                                            & Mozilla/5.0 (compatible; Konqueror/3.5; Linux) KHTML/3.5.8 (like Gecko)                             & no-cache                                                                                            & no-cache                                                                                            & text/xml,application/xml,application/xhtml+xml,text/html;q=0.9,text/plain;q=0.8,image/png,*/*;q=0.5 & x-gzip, x-deflate, gzip, deflate                                                                    & utf-8, utf-8;q=0.5, *;q=0.5                                                                         & en                                                                                                  & localhost:8080                                                                                      & close                                                                                               & null                                                                                                & null                                                                                                & JSESSIONID=F563B5262843F12ECAE41815ABDEEA54                                                         & id=2\\%2F                                                                                           & anom                                                                                               \\\\\n",
       "\\end{tabular}\n"
      ],
      "text/markdown": [
       "\n",
       "method | url | protocol | userAgent | pragma | cacheControl | accept | acceptEncoding | acceptCharset | acceptLanguage | host | connection | contentLength | contentType | cookie | payload | label | \n",
       "|---|---|---|---|---|---|\n",
       "| GET                                                                                                 | http://localhost:8080/tienda1/publico/anadir.jsp                                                    | HTTP/1.1                                                                                            | Mozilla/5.0 (compatible; Konqueror/3.5; Linux) KHTML/3.5.8 (like Gecko)                             | no-cache                                                                                            | no-cache                                                                                            | text/xml,application/xml,application/xhtml+xml,text/html;q=0.9,text/plain;q=0.8,image/png,*/*;q=0.5 | x-gzip, x-deflate, gzip, deflate                                                                    | utf-8, utf-8;q=0.5, *;q=0.5                                                                         | en                                                                                                  | localhost:8080                                                                                      | close                                                                                               | null                                                                                                | null                                                                                                | JSESSIONID=B92A8B48B9008CD29F622A994E0F650D                                                         | id=2                                                                                                | anom                                                                                                | \n",
       "| GET                                                                                                 | http://localhost:8080/tienda1/publico/anadir.jsp                                                    | HTTP/1.1                                                                                            | Mozilla/5.0 (compatible; Konqueror/3.5; Linux) KHTML/3.5.8 (like Gecko)                             | no-cache                                                                                            | no-cache                                                                                            | text/xml,application/xml,application/xhtml+xml,text/html;q=0.9,text/plain;q=0.8,image/png,*/*;q=0.5 | x-gzip, x-deflate, gzip, deflate                                                                    | utf-8, utf-8;q=0.5, *;q=0.5                                                                         | en                                                                                                  | localhost:8080                                                                                      | close                                                                                               | null                                                                                                | null                                                                                                | JSESSIONID=B92A8B48B9008CD29F622A994E0F650D                                                         | nombre=Jam%F3n+Ib%E9rico                                                                            | anom                                                                                                | \n",
       "| GET                                                                                                 | http://localhost:8080/tienda1/publico/anadir.jsp                                                    | HTTP/1.1                                                                                            | Mozilla/5.0 (compatible; Konqueror/3.5; Linux) KHTML/3.5.8 (like Gecko)                             | no-cache                                                                                            | no-cache                                                                                            | text/xml,application/xml,application/xhtml+xml,text/html;q=0.9,text/plain;q=0.8,image/png,*/*;q=0.5 | x-gzip, x-deflate, gzip, deflate                                                                    | utf-8, utf-8;q=0.5, *;q=0.5                                                                         | en                                                                                                  | localhost:8080                                                                                      | close                                                                                               | null                                                                                                | null                                                                                                | JSESSIONID=B92A8B48B9008CD29F622A994E0F650D                                                         | precio=85                                                                                           | anom                                                                                                | \n",
       "| GET                                                                                                 | http://localhost:8080/tienda1/publico/anadir.jsp                                                    | HTTP/1.1                                                                                            | Mozilla/5.0 (compatible; Konqueror/3.5; Linux) KHTML/3.5.8 (like Gecko)                             | no-cache                                                                                            | no-cache                                                                                            | text/xml,application/xml,application/xhtml+xml,text/html;q=0.9,text/plain;q=0.8,image/png,*/*;q=0.5 | x-gzip, x-deflate, gzip, deflate                                                                    | utf-8, utf-8;q=0.5, *;q=0.5                                                                         | en                                                                                                  | localhost:8080                                                                                      | close                                                                                               | null                                                                                                | null                                                                                                | JSESSIONID=B92A8B48B9008CD29F622A994E0F650D                                                         | cantidad=%27%3B+DROP+TABLE+usuarios%3B+SELECT+*+FROM+datos+WHERE+nombre+LIKE+%27%25                 | anom                                                                                                | \n",
       "| GET                                                                                                 | http://localhost:8080/tienda1/publico/anadir.jsp                                                    | HTTP/1.1                                                                                            | Mozilla/5.0 (compatible; Konqueror/3.5; Linux) KHTML/3.5.8 (like Gecko)                             | no-cache                                                                                            | no-cache                                                                                            | text/xml,application/xml,application/xhtml+xml,text/html;q=0.9,text/plain;q=0.8,image/png,*/*;q=0.5 | x-gzip, x-deflate, gzip, deflate                                                                    | utf-8, utf-8;q=0.5, *;q=0.5                                                                         | en                                                                                                  | localhost:8080                                                                                      | close                                                                                               | null                                                                                                | null                                                                                                | JSESSIONID=B92A8B48B9008CD29F622A994E0F650D                                                         | B1=A%F1adir+al+carrito                                                                              | anom                                                                                                | \n",
       "| GET                                                                                                 | http://localhost:8080/tienda1/publico/anadir.jsp                                                    | HTTP/1.1                                                                                            | Mozilla/5.0 (compatible; Konqueror/3.5; Linux) KHTML/3.5.8 (like Gecko)                             | no-cache                                                                                            | no-cache                                                                                            | text/xml,application/xml,application/xhtml+xml,text/html;q=0.9,text/plain;q=0.8,image/png,*/*;q=0.5 | x-gzip, x-deflate, gzip, deflate                                                                    | utf-8, utf-8;q=0.5, *;q=0.5                                                                         | en                                                                                                  | localhost:8080                                                                                      | close                                                                                               | null                                                                                                | null                                                                                                | JSESSIONID=F563B5262843F12ECAE41815ABDEEA54                                                         | id=2%2F                                                                                             | anom                                                                                                | \n",
       "\n",
       "\n"
      ],
      "text/plain": [
       "  method url                                              protocol\n",
       "1 GET    http://localhost:8080/tienda1/publico/anadir.jsp HTTP/1.1\n",
       "2 GET    http://localhost:8080/tienda1/publico/anadir.jsp HTTP/1.1\n",
       "3 GET    http://localhost:8080/tienda1/publico/anadir.jsp HTTP/1.1\n",
       "4 GET    http://localhost:8080/tienda1/publico/anadir.jsp HTTP/1.1\n",
       "5 GET    http://localhost:8080/tienda1/publico/anadir.jsp HTTP/1.1\n",
       "6 GET    http://localhost:8080/tienda1/publico/anadir.jsp HTTP/1.1\n",
       "  userAgent                                                              \n",
       "1 Mozilla/5.0 (compatible; Konqueror/3.5; Linux) KHTML/3.5.8 (like Gecko)\n",
       "2 Mozilla/5.0 (compatible; Konqueror/3.5; Linux) KHTML/3.5.8 (like Gecko)\n",
       "3 Mozilla/5.0 (compatible; Konqueror/3.5; Linux) KHTML/3.5.8 (like Gecko)\n",
       "4 Mozilla/5.0 (compatible; Konqueror/3.5; Linux) KHTML/3.5.8 (like Gecko)\n",
       "5 Mozilla/5.0 (compatible; Konqueror/3.5; Linux) KHTML/3.5.8 (like Gecko)\n",
       "6 Mozilla/5.0 (compatible; Konqueror/3.5; Linux) KHTML/3.5.8 (like Gecko)\n",
       "  pragma   cacheControl\n",
       "1 no-cache no-cache    \n",
       "2 no-cache no-cache    \n",
       "3 no-cache no-cache    \n",
       "4 no-cache no-cache    \n",
       "5 no-cache no-cache    \n",
       "6 no-cache no-cache    \n",
       "  accept                                                                                             \n",
       "1 text/xml,application/xml,application/xhtml+xml,text/html;q=0.9,text/plain;q=0.8,image/png,*/*;q=0.5\n",
       "2 text/xml,application/xml,application/xhtml+xml,text/html;q=0.9,text/plain;q=0.8,image/png,*/*;q=0.5\n",
       "3 text/xml,application/xml,application/xhtml+xml,text/html;q=0.9,text/plain;q=0.8,image/png,*/*;q=0.5\n",
       "4 text/xml,application/xml,application/xhtml+xml,text/html;q=0.9,text/plain;q=0.8,image/png,*/*;q=0.5\n",
       "5 text/xml,application/xml,application/xhtml+xml,text/html;q=0.9,text/plain;q=0.8,image/png,*/*;q=0.5\n",
       "6 text/xml,application/xml,application/xhtml+xml,text/html;q=0.9,text/plain;q=0.8,image/png,*/*;q=0.5\n",
       "  acceptEncoding                   acceptCharset               acceptLanguage\n",
       "1 x-gzip, x-deflate, gzip, deflate utf-8, utf-8;q=0.5, *;q=0.5 en            \n",
       "2 x-gzip, x-deflate, gzip, deflate utf-8, utf-8;q=0.5, *;q=0.5 en            \n",
       "3 x-gzip, x-deflate, gzip, deflate utf-8, utf-8;q=0.5, *;q=0.5 en            \n",
       "4 x-gzip, x-deflate, gzip, deflate utf-8, utf-8;q=0.5, *;q=0.5 en            \n",
       "5 x-gzip, x-deflate, gzip, deflate utf-8, utf-8;q=0.5, *;q=0.5 en            \n",
       "6 x-gzip, x-deflate, gzip, deflate utf-8, utf-8;q=0.5, *;q=0.5 en            \n",
       "  host           connection contentLength contentType\n",
       "1 localhost:8080 close      null          null       \n",
       "2 localhost:8080 close      null          null       \n",
       "3 localhost:8080 close      null          null       \n",
       "4 localhost:8080 close      null          null       \n",
       "5 localhost:8080 close      null          null       \n",
       "6 localhost:8080 close      null          null       \n",
       "  cookie                                     \n",
       "1 JSESSIONID=B92A8B48B9008CD29F622A994E0F650D\n",
       "2 JSESSIONID=B92A8B48B9008CD29F622A994E0F650D\n",
       "3 JSESSIONID=B92A8B48B9008CD29F622A994E0F650D\n",
       "4 JSESSIONID=B92A8B48B9008CD29F622A994E0F650D\n",
       "5 JSESSIONID=B92A8B48B9008CD29F622A994E0F650D\n",
       "6 JSESSIONID=F563B5262843F12ECAE41815ABDEEA54\n",
       "  payload                                                                            \n",
       "1 id=2                                                                               \n",
       "2 nombre=Jam%F3n+Ib%E9rico                                                           \n",
       "3 precio=85                                                                          \n",
       "4 cantidad=%27%3B+DROP+TABLE+usuarios%3B+SELECT+*+FROM+datos+WHERE+nombre+LIKE+%27%25\n",
       "5 B1=A%F1adir+al+carrito                                                             \n",
       "6 id=2%2F                                                                            \n",
       "  label\n",
       "1 anom \n",
       "2 anom \n",
       "3 anom \n",
       "4 anom \n",
       "5 anom \n",
       "6 anom "
      ]
     },
     "metadata": {},
     "output_type": "display_data"
    },
    {
     "data": {
      "text/html": [
       "'Number of categorical columns: 17'"
      ],
      "text/latex": [
       "'Number of categorical columns: 17'"
      ],
      "text/markdown": [
       "'Number of categorical columns: 17'"
      ],
      "text/plain": [
       "[1] \"Number of categorical columns: 17\""
      ]
     },
     "metadata": {},
     "output_type": "display_data"
    }
   ],
   "source": [
    "                                                             \n",
    "#Create a dataframe of categorical columns\n",
    "categorical_columns <- select_if(csic_data, is.factor)\n",
    "head(categorical_columns)\n",
    "sprintf(\"Number of categorical columns: %i\", ncol(categorical_columns))\n",
    "\n",
    " "
   ]
  },
  {
   "cell_type": "code",
   "execution_count": 109,
   "metadata": {},
   "outputs": [
    {
     "data": {
      "text/html": [
       "<table>\n",
       "<thead><tr><th scope=col>method</th><th scope=col>freq</th></tr></thead>\n",
       "<tbody>\n",
       "\t<tr><td>GET   </td><td>123450</td></tr>\n",
       "\t<tr><td>POST  </td><td> 97942</td></tr>\n",
       "\t<tr><td>PUT   </td><td>  2193</td></tr>\n",
       "</tbody>\n",
       "</table>\n"
      ],
      "text/latex": [
       "\\begin{tabular}{r|ll}\n",
       " method & freq\\\\\n",
       "\\hline\n",
       "\t GET    & 123450\\\\\n",
       "\t POST   &  97942\\\\\n",
       "\t PUT    &   2193\\\\\n",
       "\\end{tabular}\n"
      ],
      "text/markdown": [
       "\n",
       "method | freq | \n",
       "|---|---|---|\n",
       "| GET    | 123450 | \n",
       "| POST   |  97942 | \n",
       "| PUT    |   2193 | \n",
       "\n",
       "\n"
      ],
      "text/plain": [
       "  method freq  \n",
       "1 GET    123450\n",
       "2 POST    97942\n",
       "3 PUT      2193"
      ]
     },
     "metadata": {},
     "output_type": "display_data"
    },
    {
     "data": {
      "text/html": [
       "<table>\n",
       "<thead><tr><th scope=col>host</th><th scope=col>freq</th></tr></thead>\n",
       "<tbody>\n",
       "\t<tr><td>localhost:8080</td><td>221392        </td></tr>\n",
       "\t<tr><td>localhost:9090</td><td>  2193        </td></tr>\n",
       "</tbody>\n",
       "</table>\n"
      ],
      "text/latex": [
       "\\begin{tabular}{r|ll}\n",
       " host & freq\\\\\n",
       "\\hline\n",
       "\t localhost:8080 & 221392        \\\\\n",
       "\t localhost:9090 &   2193        \\\\\n",
       "\\end{tabular}\n"
      ],
      "text/markdown": [
       "\n",
       "host | freq | \n",
       "|---|---|\n",
       "| localhost:8080 | 221392         | \n",
       "| localhost:9090 |   2193         | \n",
       "\n",
       "\n"
      ],
      "text/plain": [
       "  host           freq  \n",
       "1 localhost:8080 221392\n",
       "2 localhost:9090   2193"
      ]
     },
     "metadata": {},
     "output_type": "display_data"
    },
    {
     "data": {
      "text/html": [
       "<table>\n",
       "<thead><tr><th scope=col>label</th><th scope=col>freq</th></tr></thead>\n",
       "<tbody>\n",
       "\t<tr><td>anom  </td><td>119585</td></tr>\n",
       "\t<tr><td>norm  </td><td>104000</td></tr>\n",
       "</tbody>\n",
       "</table>\n"
      ],
      "text/latex": [
       "\\begin{tabular}{r|ll}\n",
       " label & freq\\\\\n",
       "\\hline\n",
       "\t anom   & 119585\\\\\n",
       "\t norm   & 104000\\\\\n",
       "\\end{tabular}\n"
      ],
      "text/markdown": [
       "\n",
       "label | freq | \n",
       "|---|---|\n",
       "| anom   | 119585 | \n",
       "| norm   | 104000 | \n",
       "\n",
       "\n"
      ],
      "text/plain": [
       "  label freq  \n",
       "1 anom  119585\n",
       "2 norm  104000"
      ]
     },
     "metadata": {},
     "output_type": "display_data"
    }
   ],
   "source": [
    "                                                            \n",
    "#The frequency of different levels of each categorical column\n",
    "count(categorical_columns, 'method')\n",
    "count(categorical_columns, 'host')\n",
    "count(categorical_columns, 'label')"
   ]
  },
  {
   "cell_type": "markdown",
   "metadata": {},
   "source": [
    "### 7. Malware apps from Drebin project\n",
    "\n",
    "The dataset contains more than 200 features from malware and benign apps and is useful for developing and evaluating multilevel classification.\n",
    "\n",
    "This is a labeled dataset.\n",
    "\n",
    "https://figshare.com/articles/Android_malware_dataset_for_machine_learning_2/5854653/1"
   ]
  },
  {
   "cell_type": "code",
   "execution_count": 110,
   "metadata": {},
   "outputs": [
    {
     "name": "stdout",
     "output_type": "stream",
     "text": [
      "[1] \"Shape of Dataset:\"\n",
      "[1] 15036   216\n"
     ]
    }
   ],
   "source": [
    "drebin_data = read.csv('drebin.csv')\n",
    "print(\"Shape of Dataset:\")\n",
    "print(dim(drebin_data))"
   ]
  },
  {
   "cell_type": "code",
   "execution_count": 111,
   "metadata": {},
   "outputs": [
    {
     "name": "stdout",
     "output_type": "stream",
     "text": [
      "'data.frame':\t15036 obs. of  216 variables:\n",
      " $ transact                                       : int  0 0 0 0 0 0 0 0 0 0 ...\n",
      " $ onServiceConnected                             : int  0 0 0 0 0 0 1 0 0 0 ...\n",
      " $ bindService                                    : int  0 0 0 0 0 0 1 0 0 0 ...\n",
      " $ attachInterface                                : int  0 0 0 0 0 0 0 0 0 0 ...\n",
      " $ ServiceConnection                              : int  0 0 0 0 0 0 1 0 0 0 ...\n",
      " $ android.os.Binder                              : int  0 0 0 0 0 0 1 0 0 0 ...\n",
      " $ SEND_SMS                                       : int  1 1 1 0 0 0 0 0 1 1 ...\n",
      " $ Ljava.lang.Class.getCanonicalName              : int  0 0 0 0 0 0 0 0 0 0 ...\n",
      " $ Ljava.lang.Class.getMethods                    : int  0 0 0 0 0 0 0 0 0 0 ...\n",
      " $ Ljava.lang.Class.cast                          : int  0 0 0 1 0 0 0 1 0 0 ...\n",
      " $ Ljava.net.URLDecoder                           : int  0 0 0 1 1 0 0 1 0 0 ...\n",
      " $ android.content.pm.Signature                   : int  0 0 0 0 0 0 0 0 0 0 ...\n",
      " $ android.telephony.SmsManager                   : int  1 1 1 0 0 0 0 0 1 0 ...\n",
      " $ READ_PHONE_STATE                               : int  1 1 1 1 1 1 1 1 1 1 ...\n",
      " $ getBinder                                      : int  0 0 0 0 0 0 0 0 0 0 ...\n",
      " $ ClassLoader                                    : int  0 0 0 0 1 0 0 0 0 0 ...\n",
      " $ Landroid.content.Context.registerReceiver      : int  1 1 0 1 0 0 0 1 0 0 ...\n",
      " $ Ljava.lang.Class.getField                      : int  0 0 1 0 0 0 0 0 0 0 ...\n",
      " $ Landroid.content.Context.unregisterReceiver    : int  1 1 0 0 0 0 0 0 0 0 ...\n",
      " $ GET_ACCOUNTS                                   : int  0 0 0 0 0 0 0 0 0 0 ...\n",
      " $ RECEIVE_SMS                                    : int  0 1 0 0 0 0 0 0 1 0 ...\n",
      " $ Ljava.lang.Class.getDeclaredField              : int  0 0 0 1 1 0 0 1 0 0 ...\n",
      " $ READ_SMS                                       : int  0 1 0 1 0 1 0 1 1 1 ...\n",
      " $ getCallingUid                                  : int  0 0 0 0 0 0 0 0 0 0 ...\n",
      " $ Ljavax.crypto.spec.SecretKeySpec               : int  0 0 0 1 0 1 1 1 0 0 ...\n",
      " $ android.intent.action.BOOT_COMPLETED           : int  1 1 0 1 1 1 1 1 1 1 ...\n",
      " $ USE_CREDENTIALS                                : int  0 0 0 0 0 0 0 0 0 0 ...\n",
      " $ MANAGE_ACCOUNTS                                : int  0 0 0 0 0 0 0 0 0 0 ...\n",
      " $ android.content.pm.PackageInfo                 : int  0 0 0 1 0 1 1 1 0 1 ...\n",
      " $ KeySpec                                        : int  0 0 0 1 0 1 1 1 0 0 ...\n",
      " $ TelephonyManager.getLine1Number                : int  0 0 0 1 0 1 1 1 1 1 ...\n",
      " $ DexClassLoader                                 : int  0 0 0 0 0 0 0 0 0 0 ...\n",
      " $ HttpGet.init                                   : int  0 0 0 1 1 0 1 1 1 0 ...\n",
      " $ SecretKey                                      : int  0 0 0 1 0 1 1 1 0 0 ...\n",
      " $ Ljava.lang.Class.getMethod                     : int  0 0 1 0 1 0 1 0 0 0 ...\n",
      " $ System.loadLibrary                             : int  0 0 0 1 0 1 0 1 0 0 ...\n",
      " $ android.intent.action.SEND                     : int  0 0 0 0 0 0 0 0 0 0 ...\n",
      " $ Ljavax.crypto.Cipher                           : int  0 0 0 1 0 1 1 1 0 0 ...\n",
      " $ WRITE_SMS                                      : int  0 0 0 1 0 1 0 1 1 1 ...\n",
      " $ READ_SYNC_SETTINGS                             : int  0 0 0 0 0 0 0 0 0 0 ...\n",
      " $ AUTHENTICATE_ACCOUNTS                          : int  0 0 0 0 0 0 0 0 0 0 ...\n",
      " $ android.telephony.gsm.SmsManager               : int  0 0 0 0 0 0 0 0 1 1 ...\n",
      " $ WRITE_HISTORY_BOOKMARKS                        : int  0 0 0 0 1 0 0 0 0 0 ...\n",
      " $ TelephonyManager.getSubscriberId               : int  0 0 0 1 0 1 1 1 0 1 ...\n",
      " $ mount                                          : int  0 0 0 1 1 1 1 1 0 1 ...\n",
      " $ INSTALL_PACKAGES                               : int  0 0 0 1 0 0 0 1 0 0 ...\n",
      " $ Runtime.getRuntime                             : int  0 0 0 1 0 1 1 1 0 0 ...\n",
      " $ CAMERA                                         : int  0 0 0 0 0 0 0 0 0 0 ...\n",
      " $ Ljava.lang.Object.getClass                     : int  0 0 1 1 1 1 1 1 0 1 ...\n",
      " $ WRITE_SYNC_SETTINGS                            : int  0 0 0 0 0 0 0 0 0 0 ...\n",
      " $ READ_HISTORY_BOOKMARKS                         : int  0 0 0 0 1 0 0 0 0 0 ...\n",
      " $ Ljava.lang.Class.forName                       : int  0 0 1 1 1 0 1 1 0 0 ...\n",
      " $ INTERNET                                       : int  1 1 1 1 1 1 1 1 1 1 ...\n",
      " $ android.intent.action.PACKAGE_REPLACED         : int  0 0 0 0 0 1 0 0 0 0 ...\n",
      " $ Binder                                         : int  0 0 0 1 0 1 1 1 1 0 ...\n",
      " $ android.intent.action.SEND_MULTIPLE            : int  0 0 0 0 0 0 0 0 0 0 ...\n",
      " $ RECORD_AUDIO                                   : int  0 0 0 0 0 0 0 0 0 0 ...\n",
      " $ IBinder                                        : int  0 0 0 1 0 1 1 1 1 0 ...\n",
      " $ android.os.IBinder                             : int  0 0 0 1 0 1 1 1 1 0 ...\n",
      " $ createSubprocess                               : int  0 0 0 0 0 1 0 0 0 0 ...\n",
      " $ NFC                                            : int  0 0 0 0 0 0 0 0 0 0 ...\n",
      " $ ACCESS_LOCATION_EXTRA_COMMANDS                 : int  0 0 0 1 0 0 0 1 0 0 ...\n",
      " $ URLClassLoader                                 : int  0 0 0 0 0 0 0 0 0 0 ...\n",
      " $ WRITE_APN_SETTINGS                             : int  0 0 0 0 0 0 0 0 0 0 ...\n",
      " $ abortBroadcast                                 : int  0 0 0 0 0 0 0 0 1 0 ...\n",
      " $ BIND_REMOTEVIEWS                               : int  0 0 0 0 0 0 0 0 0 0 ...\n",
      " $ android.intent.action.TIME_SET                 : int  0 0 0 0 0 0 0 0 0 0 ...\n",
      " $ READ_PROFILE                                   : int  0 0 0 0 0 0 0 0 0 0 ...\n",
      " $ TelephonyManager.getDeviceId                   : int  0 0 0 1 1 1 1 1 1 1 ...\n",
      " $ MODIFY_AUDIO_SETTINGS                          : int  0 0 0 0 0 0 0 0 0 0 ...\n",
      " $ getCallingPid                                  : int  0 0 0 0 0 0 0 0 0 0 ...\n",
      " $ READ_SYNC_STATS                                : int  0 0 0 0 0 0 0 0 0 0 ...\n",
      " $ BROADCAST_STICKY                               : int  0 0 0 0 0 0 0 0 0 0 ...\n",
      " $ android.intent.action.PACKAGE_REMOVED          : int  0 0 0 0 0 1 0 0 0 0 ...\n",
      " $ android.intent.action.TIMEZONE_CHANGED         : int  0 0 0 0 0 0 0 0 0 0 ...\n",
      " $ WAKE_LOCK                                      : int  0 1 0 0 0 1 0 1 1 0 ...\n",
      " $ RECEIVE_BOOT_COMPLETED                         : int  0 0 0 0 1 0 1 0 0 1 ...\n",
      " $ RESTART_PACKAGES                               : int  0 0 0 0 0 0 0 0 0 1 ...\n",
      " $ Ljava.lang.Class.getPackage                    : int  0 0 0 0 1 0 0 0 0 0 ...\n",
      " $ chmod                                          : int  0 0 0 1 0 1 1 1 0 0 ...\n",
      " $ Ljava.lang.Class.getDeclaredClasses            : int  0 0 0 0 0 0 0 0 0 0 ...\n",
      " $ android.intent.action.ACTION_POWER_DISCONNECTED: int  0 0 0 0 0 0 0 0 0 0 ...\n",
      " $ android.intent.action.PACKAGE_ADDED            : int  0 0 0 0 0 1 0 0 0 0 ...\n",
      " $ PathClassLoader                                : int  0 0 0 0 0 0 0 0 0 0 ...\n",
      " $ TelephonyManager.getSimSerialNumber            : int  0 0 0 1 0 1 1 1 0 0 ...\n",
      " $ Runtime.load                                   : int  0 0 0 0 0 0 0 0 0 0 ...\n",
      " $ TelephonyManager.getCallState                  : int  0 0 0 0 0 0 0 1 0 0 ...\n",
      " $ BLUETOOTH                                      : int  0 0 0 0 0 0 0 0 0 0 ...\n",
      " $ READ_CALENDAR                                  : int  0 0 0 0 0 0 0 0 0 0 ...\n",
      " $ READ_CALL_LOG                                  : int  0 0 0 0 0 0 0 0 0 0 ...\n",
      " $ SUBSCRIBED_FEEDS_WRITE                         : int  0 0 0 0 0 0 0 0 0 0 ...\n",
      " $ READ_EXTERNAL_STORAGE                          : int  0 0 0 1 0 0 0 1 1 0 ...\n",
      " $ TelephonyManager.getSimCountryIso              : Factor w/ 3 levels \"?\",\"0\",\"1\": 2 2 2 2 2 2 2 2 3 2 ...\n",
      " $ sendMultipartTextMessage                       : int  0 0 0 0 0 0 0 0 0 0 ...\n",
      " $ PackageInstaller                               : int  0 0 0 0 0 0 0 0 0 1 ...\n",
      " $ VIBRATE                                        : int  0 0 0 0 1 0 0 0 0 1 ...\n",
      " $ remount                                        : int  0 0 0 0 0 0 1 0 0 0 ...\n",
      " $ android.intent.action.ACTION_SHUTDOWN          : int  0 0 0 0 0 0 0 0 0 0 ...\n",
      " $ sendDataMessage                                : int  0 0 0 0 0 0 0 0 0 0 ...\n",
      "  [list output truncated]\n"
     ]
    }
   ],
   "source": [
    "str(drebin_data)"
   ]
  },
  {
   "cell_type": "code",
   "execution_count": 112,
   "metadata": {},
   "outputs": [
    {
     "data": {
      "text/html": [
       "<table>\n",
       "<thead><tr><th scope=col>transact</th><th scope=col>onServiceConnected</th><th scope=col>bindService</th><th scope=col>attachInterface</th><th scope=col>ServiceConnection</th><th scope=col>android.os.Binder</th><th scope=col>SEND_SMS</th><th scope=col>Ljava.lang.Class.getCanonicalName</th><th scope=col>Ljava.lang.Class.getMethods</th><th scope=col>Ljava.lang.Class.cast</th><th scope=col>⋯</th><th scope=col>READ_CONTACTS</th><th scope=col>DEVICE_POWER</th><th scope=col>HARDWARE_TEST</th><th scope=col>ACCESS_WIFI_STATE</th><th scope=col>WRITE_EXTERNAL_STORAGE</th><th scope=col>ACCESS_FINE_LOCATION</th><th scope=col>SET_WALLPAPER_HINTS</th><th scope=col>SET_PREFERRED_APPLICATIONS</th><th scope=col>WRITE_SECURE_SETTINGS</th><th scope=col>class</th></tr></thead>\n",
       "<tbody>\n",
       "\t<tr><td>0</td><td>0</td><td>0</td><td>0</td><td>0</td><td>0</td><td>1</td><td>0</td><td>0</td><td>0</td><td>⋯</td><td>0</td><td>0</td><td>0</td><td>0</td><td>1</td><td>0</td><td>0</td><td>0</td><td>0</td><td>S</td></tr>\n",
       "\t<tr><td>0</td><td>0</td><td>0</td><td>0</td><td>0</td><td>0</td><td>1</td><td>0</td><td>0</td><td>0</td><td>⋯</td><td>0</td><td>0</td><td>0</td><td>0</td><td>1</td><td>0</td><td>0</td><td>0</td><td>0</td><td>S</td></tr>\n",
       "\t<tr><td>0</td><td>0</td><td>0</td><td>0</td><td>0</td><td>0</td><td>1</td><td>0</td><td>0</td><td>0</td><td>⋯</td><td>0</td><td>0</td><td>0</td><td>0</td><td>0</td><td>0</td><td>0</td><td>0</td><td>0</td><td>S</td></tr>\n",
       "\t<tr><td>0</td><td>0</td><td>0</td><td>0</td><td>0</td><td>0</td><td>0</td><td>0</td><td>0</td><td>1</td><td>⋯</td><td>0</td><td>0</td><td>0</td><td>1</td><td>1</td><td>1</td><td>0</td><td>0</td><td>0</td><td>S</td></tr>\n",
       "\t<tr><td>0</td><td>0</td><td>0</td><td>0</td><td>0</td><td>0</td><td>0</td><td>0</td><td>0</td><td>0</td><td>⋯</td><td>0</td><td>0</td><td>0</td><td>1</td><td>0</td><td>1</td><td>0</td><td>0</td><td>0</td><td>S</td></tr>\n",
       "</tbody>\n",
       "</table>\n"
      ],
      "text/latex": [
       "\\begin{tabular}{r|llllllllllllllllllllllllllllllllllllllllllllllllllllllllllllllllllllllllllllllllllllllllllllllllllllllllllllllllllllllllllllllllllllllllllllllllllllllllllllllllllllllllllllllllllllllllllllllllllllllllllllllllllllllll}\n",
       " transact & onServiceConnected & bindService & attachInterface & ServiceConnection & android.os.Binder & SEND\\_SMS & Ljava.lang.Class.getCanonicalName & Ljava.lang.Class.getMethods & Ljava.lang.Class.cast & ⋯ & READ\\_CONTACTS & DEVICE\\_POWER & HARDWARE\\_TEST & ACCESS\\_WIFI\\_STATE & WRITE\\_EXTERNAL\\_STORAGE & ACCESS\\_FINE\\_LOCATION & SET\\_WALLPAPER\\_HINTS & SET\\_PREFERRED\\_APPLICATIONS & WRITE\\_SECURE\\_SETTINGS & class\\\\\n",
       "\\hline\n",
       "\t 0 & 0 & 0 & 0 & 0 & 0 & 1 & 0 & 0 & 0 & ⋯ & 0 & 0 & 0 & 0 & 1 & 0 & 0 & 0 & 0 & S\\\\\n",
       "\t 0 & 0 & 0 & 0 & 0 & 0 & 1 & 0 & 0 & 0 & ⋯ & 0 & 0 & 0 & 0 & 1 & 0 & 0 & 0 & 0 & S\\\\\n",
       "\t 0 & 0 & 0 & 0 & 0 & 0 & 1 & 0 & 0 & 0 & ⋯ & 0 & 0 & 0 & 0 & 0 & 0 & 0 & 0 & 0 & S\\\\\n",
       "\t 0 & 0 & 0 & 0 & 0 & 0 & 0 & 0 & 0 & 1 & ⋯ & 0 & 0 & 0 & 1 & 1 & 1 & 0 & 0 & 0 & S\\\\\n",
       "\t 0 & 0 & 0 & 0 & 0 & 0 & 0 & 0 & 0 & 0 & ⋯ & 0 & 0 & 0 & 1 & 0 & 1 & 0 & 0 & 0 & S\\\\\n",
       "\\end{tabular}\n"
      ],
      "text/markdown": [
       "\n",
       "transact | onServiceConnected | bindService | attachInterface | ServiceConnection | android.os.Binder | SEND_SMS | Ljava.lang.Class.getCanonicalName | Ljava.lang.Class.getMethods | Ljava.lang.Class.cast | ⋯ | READ_CONTACTS | DEVICE_POWER | HARDWARE_TEST | ACCESS_WIFI_STATE | WRITE_EXTERNAL_STORAGE | ACCESS_FINE_LOCATION | SET_WALLPAPER_HINTS | SET_PREFERRED_APPLICATIONS | WRITE_SECURE_SETTINGS | class | \n",
       "|---|---|---|---|---|\n",
       "| 0 | 0 | 0 | 0 | 0 | 0 | 1 | 0 | 0 | 0 | ⋯ | 0 | 0 | 0 | 0 | 1 | 0 | 0 | 0 | 0 | S | \n",
       "| 0 | 0 | 0 | 0 | 0 | 0 | 1 | 0 | 0 | 0 | ⋯ | 0 | 0 | 0 | 0 | 1 | 0 | 0 | 0 | 0 | S | \n",
       "| 0 | 0 | 0 | 0 | 0 | 0 | 1 | 0 | 0 | 0 | ⋯ | 0 | 0 | 0 | 0 | 0 | 0 | 0 | 0 | 0 | S | \n",
       "| 0 | 0 | 0 | 0 | 0 | 0 | 0 | 0 | 0 | 1 | ⋯ | 0 | 0 | 0 | 1 | 1 | 1 | 0 | 0 | 0 | S | \n",
       "| 0 | 0 | 0 | 0 | 0 | 0 | 0 | 0 | 0 | 0 | ⋯ | 0 | 0 | 0 | 1 | 0 | 1 | 0 | 0 | 0 | S | \n",
       "\n",
       "\n"
      ],
      "text/plain": [
       "  transact onServiceConnected bindService attachInterface ServiceConnection\n",
       "1 0        0                  0           0               0                \n",
       "2 0        0                  0           0               0                \n",
       "3 0        0                  0           0               0                \n",
       "4 0        0                  0           0               0                \n",
       "5 0        0                  0           0               0                \n",
       "  android.os.Binder SEND_SMS Ljava.lang.Class.getCanonicalName\n",
       "1 0                 1        0                                \n",
       "2 0                 1        0                                \n",
       "3 0                 1        0                                \n",
       "4 0                 0        0                                \n",
       "5 0                 0        0                                \n",
       "  Ljava.lang.Class.getMethods Ljava.lang.Class.cast ⋯ READ_CONTACTS\n",
       "1 0                           0                     ⋯ 0            \n",
       "2 0                           0                     ⋯ 0            \n",
       "3 0                           0                     ⋯ 0            \n",
       "4 0                           1                     ⋯ 0            \n",
       "5 0                           0                     ⋯ 0            \n",
       "  DEVICE_POWER HARDWARE_TEST ACCESS_WIFI_STATE WRITE_EXTERNAL_STORAGE\n",
       "1 0            0             0                 1                     \n",
       "2 0            0             0                 1                     \n",
       "3 0            0             0                 0                     \n",
       "4 0            0             1                 1                     \n",
       "5 0            0             1                 0                     \n",
       "  ACCESS_FINE_LOCATION SET_WALLPAPER_HINTS SET_PREFERRED_APPLICATIONS\n",
       "1 0                    0                   0                         \n",
       "2 0                    0                   0                         \n",
       "3 0                    0                   0                         \n",
       "4 1                    0                   0                         \n",
       "5 1                    0                   0                         \n",
       "  WRITE_SECURE_SETTINGS class\n",
       "1 0                     S    \n",
       "2 0                     S    \n",
       "3 0                     S    \n",
       "4 0                     S    \n",
       "5 0                     S    "
      ]
     },
     "metadata": {},
     "output_type": "display_data"
    }
   ],
   "source": [
    "head(drebin_data, 5)"
   ]
  },
  {
   "cell_type": "code",
   "execution_count": 113,
   "metadata": {},
   "outputs": [
    {
     "name": "stdout",
     "output_type": "stream",
     "text": [
      "[1] \"Data Quality Report\"\n"
     ]
    },
    {
     "data": {
      "text/html": [
       "<table>\n",
       "<thead><tr><th></th><th scope=col>data_type</th><th scope=col>count</th><th scope=col>unique_values</th><th scope=col>missing_values</th></tr></thead>\n",
       "<tbody>\n",
       "\t<tr><th scope=row>transact</th><td>integer</td><td>15036  </td><td>2      </td><td>0      </td></tr>\n",
       "\t<tr><th scope=row>onServiceConnected</th><td>integer</td><td>15036  </td><td>2      </td><td>0      </td></tr>\n",
       "\t<tr><th scope=row>bindService</th><td>integer</td><td>15036  </td><td>2      </td><td>0      </td></tr>\n",
       "\t<tr><th scope=row>attachInterface</th><td>integer</td><td>15036  </td><td>2      </td><td>0      </td></tr>\n",
       "\t<tr><th scope=row>ServiceConnection</th><td>integer</td><td>15036  </td><td>2      </td><td>0      </td></tr>\n",
       "\t<tr><th scope=row>android.os.Binder</th><td>integer</td><td>15036  </td><td>2      </td><td>0      </td></tr>\n",
       "\t<tr><th scope=row>SEND_SMS</th><td>integer</td><td>15036  </td><td>2      </td><td>0      </td></tr>\n",
       "\t<tr><th scope=row>Ljava.lang.Class.getCanonicalName</th><td>integer</td><td>15036  </td><td>2      </td><td>0      </td></tr>\n",
       "\t<tr><th scope=row>Ljava.lang.Class.getMethods</th><td>integer</td><td>15036  </td><td>2      </td><td>0      </td></tr>\n",
       "\t<tr><th scope=row>Ljava.lang.Class.cast</th><td>integer</td><td>15036  </td><td>2      </td><td>0      </td></tr>\n",
       "\t<tr><th scope=row>Ljava.net.URLDecoder</th><td>integer</td><td>15036  </td><td>2      </td><td>0      </td></tr>\n",
       "\t<tr><th scope=row>android.content.pm.Signature</th><td>integer</td><td>15036  </td><td>2      </td><td>0      </td></tr>\n",
       "\t<tr><th scope=row>android.telephony.SmsManager</th><td>integer</td><td>15036  </td><td>2      </td><td>0      </td></tr>\n",
       "\t<tr><th scope=row>READ_PHONE_STATE</th><td>integer</td><td>15036  </td><td>2      </td><td>0      </td></tr>\n",
       "\t<tr><th scope=row>getBinder</th><td>integer</td><td>15036  </td><td>2      </td><td>0      </td></tr>\n",
       "\t<tr><th scope=row>ClassLoader</th><td>integer</td><td>15036  </td><td>2      </td><td>0      </td></tr>\n",
       "\t<tr><th scope=row>Landroid.content.Context.registerReceiver</th><td>integer</td><td>15036  </td><td>2      </td><td>0      </td></tr>\n",
       "\t<tr><th scope=row>Ljava.lang.Class.getField</th><td>integer</td><td>15036  </td><td>2      </td><td>0      </td></tr>\n",
       "\t<tr><th scope=row>Landroid.content.Context.unregisterReceiver</th><td>integer</td><td>15036  </td><td>2      </td><td>0      </td></tr>\n",
       "\t<tr><th scope=row>GET_ACCOUNTS</th><td>integer</td><td>15036  </td><td>2      </td><td>0      </td></tr>\n",
       "\t<tr><th scope=row>RECEIVE_SMS</th><td>integer</td><td>15036  </td><td>2      </td><td>0      </td></tr>\n",
       "\t<tr><th scope=row>Ljava.lang.Class.getDeclaredField</th><td>integer</td><td>15036  </td><td>2      </td><td>0      </td></tr>\n",
       "\t<tr><th scope=row>READ_SMS</th><td>integer</td><td>15036  </td><td>2      </td><td>0      </td></tr>\n",
       "\t<tr><th scope=row>getCallingUid</th><td>integer</td><td>15036  </td><td>2      </td><td>0      </td></tr>\n",
       "\t<tr><th scope=row>Ljavax.crypto.spec.SecretKeySpec</th><td>integer</td><td>15036  </td><td>2      </td><td>0      </td></tr>\n",
       "\t<tr><th scope=row>android.intent.action.BOOT_COMPLETED</th><td>integer</td><td>15036  </td><td>2      </td><td>0      </td></tr>\n",
       "\t<tr><th scope=row>USE_CREDENTIALS</th><td>integer</td><td>15036  </td><td>2      </td><td>0      </td></tr>\n",
       "\t<tr><th scope=row>MANAGE_ACCOUNTS</th><td>integer</td><td>15036  </td><td>2      </td><td>0      </td></tr>\n",
       "\t<tr><th scope=row>android.content.pm.PackageInfo</th><td>integer</td><td>15036  </td><td>2      </td><td>0      </td></tr>\n",
       "\t<tr><th scope=row>KeySpec</th><td>integer</td><td>15036  </td><td>2      </td><td>0      </td></tr>\n",
       "\t<tr><th scope=row>⋮</th><td>⋮</td><td>⋮</td><td>⋮</td><td>⋮</td></tr>\n",
       "\t<tr><th scope=row>android.intent.action.SET_WALLPAPER</th><td>integer</td><td>15036  </td><td>2      </td><td>0      </td></tr>\n",
       "\t<tr><th scope=row>CHANGE_WIFI_STATE</th><td>integer</td><td>15036  </td><td>2      </td><td>0      </td></tr>\n",
       "\t<tr><th scope=row>READ_FRAME_BUFFER</th><td>integer</td><td>15036  </td><td>2      </td><td>0      </td></tr>\n",
       "\t<tr><th scope=row>ACCESS_SURFACE_FLINGER</th><td>integer</td><td>15036  </td><td>2      </td><td>0      </td></tr>\n",
       "\t<tr><th scope=row>Runtime.loadLibrary</th><td>integer</td><td>15036  </td><td>2      </td><td>0      </td></tr>\n",
       "\t<tr><th scope=row>BROADCAST_SMS</th><td>integer</td><td>15036  </td><td>2      </td><td>0      </td></tr>\n",
       "\t<tr><th scope=row>EXPAND_STATUS_BAR</th><td>integer</td><td>15036  </td><td>2      </td><td>0      </td></tr>\n",
       "\t<tr><th scope=row>INTERNAL_SYSTEM_WINDOW</th><td>integer</td><td>15036  </td><td>2      </td><td>0      </td></tr>\n",
       "\t<tr><th scope=row>android.intent.action.BATTERY_LOW</th><td>integer</td><td>15036  </td><td>2      </td><td>0      </td></tr>\n",
       "\t<tr><th scope=row>SET_ACTIVITY_WATCHER</th><td>integer</td><td>15036  </td><td>2      </td><td>0      </td></tr>\n",
       "\t<tr><th scope=row>WRITE_CONTACTS</th><td>integer</td><td>15036  </td><td>2      </td><td>0      </td></tr>\n",
       "\t<tr><th scope=row>android.intent.action.ACTION_POWER_CONNECTED</th><td>integer</td><td>15036  </td><td>2      </td><td>0      </td></tr>\n",
       "\t<tr><th scope=row>BIND_VPN_SERVICE</th><td>integer</td><td>15036  </td><td>2      </td><td>0      </td></tr>\n",
       "\t<tr><th scope=row>DISABLE_KEYGUARD</th><td>integer</td><td>15036  </td><td>2      </td><td>0      </td></tr>\n",
       "\t<tr><th scope=row>ACCESS_MOCK_LOCATION</th><td>integer</td><td>15036  </td><td>2      </td><td>0      </td></tr>\n",
       "\t<tr><th scope=row>GET_PACKAGE_SIZE</th><td>integer</td><td>15036  </td><td>2      </td><td>0      </td></tr>\n",
       "\t<tr><th scope=row>MODIFY_PHONE_STATE</th><td>integer</td><td>15036  </td><td>2      </td><td>0      </td></tr>\n",
       "\t<tr><th scope=row>CHANGE_COMPONENT_ENABLED_STATE</th><td>integer</td><td>15036  </td><td>2      </td><td>0      </td></tr>\n",
       "\t<tr><th scope=row>CLEAR_APP_CACHE</th><td>integer</td><td>15036  </td><td>2      </td><td>0      </td></tr>\n",
       "\t<tr><th scope=row>SET_ORIENTATION</th><td>integer</td><td>15036  </td><td>2      </td><td>0      </td></tr>\n",
       "\t<tr><th scope=row>READ_CONTACTS</th><td>integer</td><td>15036  </td><td>2      </td><td>0      </td></tr>\n",
       "\t<tr><th scope=row>DEVICE_POWER</th><td>integer</td><td>15036  </td><td>2      </td><td>0      </td></tr>\n",
       "\t<tr><th scope=row>HARDWARE_TEST</th><td>integer</td><td>15036  </td><td>2      </td><td>0      </td></tr>\n",
       "\t<tr><th scope=row>ACCESS_WIFI_STATE</th><td>integer</td><td>15036  </td><td>2      </td><td>0      </td></tr>\n",
       "\t<tr><th scope=row>WRITE_EXTERNAL_STORAGE</th><td>integer</td><td>15036  </td><td>2      </td><td>0      </td></tr>\n",
       "\t<tr><th scope=row>ACCESS_FINE_LOCATION</th><td>integer</td><td>15036  </td><td>2      </td><td>0      </td></tr>\n",
       "\t<tr><th scope=row>SET_WALLPAPER_HINTS</th><td>integer</td><td>15036  </td><td>2      </td><td>0      </td></tr>\n",
       "\t<tr><th scope=row>SET_PREFERRED_APPLICATIONS</th><td>integer</td><td>15036  </td><td>2      </td><td>0      </td></tr>\n",
       "\t<tr><th scope=row>WRITE_SECURE_SETTINGS</th><td>integer</td><td>15036  </td><td>2      </td><td>0      </td></tr>\n",
       "\t<tr><th scope=row>class</th><td>factor </td><td>15036  </td><td>2      </td><td>0      </td></tr>\n",
       "</tbody>\n",
       "</table>\n"
      ],
      "text/latex": [
       "\\begin{tabular}{r|llll}\n",
       "  & data\\_type & count & unique\\_values & missing\\_values\\\\\n",
       "\\hline\n",
       "\ttransact & integer & 15036   & 2       & 0      \\\\\n",
       "\tonServiceConnected & integer & 15036   & 2       & 0      \\\\\n",
       "\tbindService & integer & 15036   & 2       & 0      \\\\\n",
       "\tattachInterface & integer & 15036   & 2       & 0      \\\\\n",
       "\tServiceConnection & integer & 15036   & 2       & 0      \\\\\n",
       "\tandroid.os.Binder & integer & 15036   & 2       & 0      \\\\\n",
       "\tSEND\\_SMS & integer & 15036   & 2       & 0      \\\\\n",
       "\tLjava.lang.Class.getCanonicalName & integer & 15036   & 2       & 0      \\\\\n",
       "\tLjava.lang.Class.getMethods & integer & 15036   & 2       & 0      \\\\\n",
       "\tLjava.lang.Class.cast & integer & 15036   & 2       & 0      \\\\\n",
       "\tLjava.net.URLDecoder & integer & 15036   & 2       & 0      \\\\\n",
       "\tandroid.content.pm.Signature & integer & 15036   & 2       & 0      \\\\\n",
       "\tandroid.telephony.SmsManager & integer & 15036   & 2       & 0      \\\\\n",
       "\tREAD\\_PHONE\\_STATE & integer & 15036   & 2       & 0      \\\\\n",
       "\tgetBinder & integer & 15036   & 2       & 0      \\\\\n",
       "\tClassLoader & integer & 15036   & 2       & 0      \\\\\n",
       "\tLandroid.content.Context.registerReceiver & integer & 15036   & 2       & 0      \\\\\n",
       "\tLjava.lang.Class.getField & integer & 15036   & 2       & 0      \\\\\n",
       "\tLandroid.content.Context.unregisterReceiver & integer & 15036   & 2       & 0      \\\\\n",
       "\tGET\\_ACCOUNTS & integer & 15036   & 2       & 0      \\\\\n",
       "\tRECEIVE\\_SMS & integer & 15036   & 2       & 0      \\\\\n",
       "\tLjava.lang.Class.getDeclaredField & integer & 15036   & 2       & 0      \\\\\n",
       "\tREAD\\_SMS & integer & 15036   & 2       & 0      \\\\\n",
       "\tgetCallingUid & integer & 15036   & 2       & 0      \\\\\n",
       "\tLjavax.crypto.spec.SecretKeySpec & integer & 15036   & 2       & 0      \\\\\n",
       "\tandroid.intent.action.BOOT\\_COMPLETED & integer & 15036   & 2       & 0      \\\\\n",
       "\tUSE\\_CREDENTIALS & integer & 15036   & 2       & 0      \\\\\n",
       "\tMANAGE\\_ACCOUNTS & integer & 15036   & 2       & 0      \\\\\n",
       "\tandroid.content.pm.PackageInfo & integer & 15036   & 2       & 0      \\\\\n",
       "\tKeySpec & integer & 15036   & 2       & 0      \\\\\n",
       "\t⋮ & ⋮ & ⋮ & ⋮ & ⋮\\\\\n",
       "\tandroid.intent.action.SET\\_WALLPAPER & integer & 15036   & 2       & 0      \\\\\n",
       "\tCHANGE\\_WIFI\\_STATE & integer & 15036   & 2       & 0      \\\\\n",
       "\tREAD\\_FRAME\\_BUFFER & integer & 15036   & 2       & 0      \\\\\n",
       "\tACCESS\\_SURFACE\\_FLINGER & integer & 15036   & 2       & 0      \\\\\n",
       "\tRuntime.loadLibrary & integer & 15036   & 2       & 0      \\\\\n",
       "\tBROADCAST\\_SMS & integer & 15036   & 2       & 0      \\\\\n",
       "\tEXPAND\\_STATUS\\_BAR & integer & 15036   & 2       & 0      \\\\\n",
       "\tINTERNAL\\_SYSTEM\\_WINDOW & integer & 15036   & 2       & 0      \\\\\n",
       "\tandroid.intent.action.BATTERY\\_LOW & integer & 15036   & 2       & 0      \\\\\n",
       "\tSET\\_ACTIVITY\\_WATCHER & integer & 15036   & 2       & 0      \\\\\n",
       "\tWRITE\\_CONTACTS & integer & 15036   & 2       & 0      \\\\\n",
       "\tandroid.intent.action.ACTION\\_POWER\\_CONNECTED & integer & 15036   & 2       & 0      \\\\\n",
       "\tBIND\\_VPN\\_SERVICE & integer & 15036   & 2       & 0      \\\\\n",
       "\tDISABLE\\_KEYGUARD & integer & 15036   & 2       & 0      \\\\\n",
       "\tACCESS\\_MOCK\\_LOCATION & integer & 15036   & 2       & 0      \\\\\n",
       "\tGET\\_PACKAGE\\_SIZE & integer & 15036   & 2       & 0      \\\\\n",
       "\tMODIFY\\_PHONE\\_STATE & integer & 15036   & 2       & 0      \\\\\n",
       "\tCHANGE\\_COMPONENT\\_ENABLED\\_STATE & integer & 15036   & 2       & 0      \\\\\n",
       "\tCLEAR\\_APP\\_CACHE & integer & 15036   & 2       & 0      \\\\\n",
       "\tSET\\_ORIENTATION & integer & 15036   & 2       & 0      \\\\\n",
       "\tREAD\\_CONTACTS & integer & 15036   & 2       & 0      \\\\\n",
       "\tDEVICE\\_POWER & integer & 15036   & 2       & 0      \\\\\n",
       "\tHARDWARE\\_TEST & integer & 15036   & 2       & 0      \\\\\n",
       "\tACCESS\\_WIFI\\_STATE & integer & 15036   & 2       & 0      \\\\\n",
       "\tWRITE\\_EXTERNAL\\_STORAGE & integer & 15036   & 2       & 0      \\\\\n",
       "\tACCESS\\_FINE\\_LOCATION & integer & 15036   & 2       & 0      \\\\\n",
       "\tSET\\_WALLPAPER\\_HINTS & integer & 15036   & 2       & 0      \\\\\n",
       "\tSET\\_PREFERRED\\_APPLICATIONS & integer & 15036   & 2       & 0      \\\\\n",
       "\tWRITE\\_SECURE\\_SETTINGS & integer & 15036   & 2       & 0      \\\\\n",
       "\tclass & factor  & 15036   & 2       & 0      \\\\\n",
       "\\end{tabular}\n"
      ],
      "text/markdown": [
       "\n",
       "| <!--/--> | data_type | count | unique_values | missing_values | \n",
       "|---|---|---|---|---|---|---|---|---|---|---|---|---|---|---|---|---|---|---|---|---|---|---|---|---|---|---|---|---|---|---|---|---|---|---|---|---|---|---|---|---|---|---|---|---|---|---|---|---|---|---|---|---|---|---|---|---|---|---|---|---|\n",
       "| transact | integer | 15036   | 2       | 0       | \n",
       "| onServiceConnected | integer | 15036   | 2       | 0       | \n",
       "| bindService | integer | 15036   | 2       | 0       | \n",
       "| attachInterface | integer | 15036   | 2       | 0       | \n",
       "| ServiceConnection | integer | 15036   | 2       | 0       | \n",
       "| android.os.Binder | integer | 15036   | 2       | 0       | \n",
       "| SEND_SMS | integer | 15036   | 2       | 0       | \n",
       "| Ljava.lang.Class.getCanonicalName | integer | 15036   | 2       | 0       | \n",
       "| Ljava.lang.Class.getMethods | integer | 15036   | 2       | 0       | \n",
       "| Ljava.lang.Class.cast | integer | 15036   | 2       | 0       | \n",
       "| Ljava.net.URLDecoder | integer | 15036   | 2       | 0       | \n",
       "| android.content.pm.Signature | integer | 15036   | 2       | 0       | \n",
       "| android.telephony.SmsManager | integer | 15036   | 2       | 0       | \n",
       "| READ_PHONE_STATE | integer | 15036   | 2       | 0       | \n",
       "| getBinder | integer | 15036   | 2       | 0       | \n",
       "| ClassLoader | integer | 15036   | 2       | 0       | \n",
       "| Landroid.content.Context.registerReceiver | integer | 15036   | 2       | 0       | \n",
       "| Ljava.lang.Class.getField | integer | 15036   | 2       | 0       | \n",
       "| Landroid.content.Context.unregisterReceiver | integer | 15036   | 2       | 0       | \n",
       "| GET_ACCOUNTS | integer | 15036   | 2       | 0       | \n",
       "| RECEIVE_SMS | integer | 15036   | 2       | 0       | \n",
       "| Ljava.lang.Class.getDeclaredField | integer | 15036   | 2       | 0       | \n",
       "| READ_SMS | integer | 15036   | 2       | 0       | \n",
       "| getCallingUid | integer | 15036   | 2       | 0       | \n",
       "| Ljavax.crypto.spec.SecretKeySpec | integer | 15036   | 2       | 0       | \n",
       "| android.intent.action.BOOT_COMPLETED | integer | 15036   | 2       | 0       | \n",
       "| USE_CREDENTIALS | integer | 15036   | 2       | 0       | \n",
       "| MANAGE_ACCOUNTS | integer | 15036   | 2       | 0       | \n",
       "| android.content.pm.PackageInfo | integer | 15036   | 2       | 0       | \n",
       "| KeySpec | integer | 15036   | 2       | 0       | \n",
       "| ⋮ | ⋮ | ⋮ | ⋮ | ⋮ | \n",
       "| android.intent.action.SET_WALLPAPER | integer | 15036   | 2       | 0       | \n",
       "| CHANGE_WIFI_STATE | integer | 15036   | 2       | 0       | \n",
       "| READ_FRAME_BUFFER | integer | 15036   | 2       | 0       | \n",
       "| ACCESS_SURFACE_FLINGER | integer | 15036   | 2       | 0       | \n",
       "| Runtime.loadLibrary | integer | 15036   | 2       | 0       | \n",
       "| BROADCAST_SMS | integer | 15036   | 2       | 0       | \n",
       "| EXPAND_STATUS_BAR | integer | 15036   | 2       | 0       | \n",
       "| INTERNAL_SYSTEM_WINDOW | integer | 15036   | 2       | 0       | \n",
       "| android.intent.action.BATTERY_LOW | integer | 15036   | 2       | 0       | \n",
       "| SET_ACTIVITY_WATCHER | integer | 15036   | 2       | 0       | \n",
       "| WRITE_CONTACTS | integer | 15036   | 2       | 0       | \n",
       "| android.intent.action.ACTION_POWER_CONNECTED | integer | 15036   | 2       | 0       | \n",
       "| BIND_VPN_SERVICE | integer | 15036   | 2       | 0       | \n",
       "| DISABLE_KEYGUARD | integer | 15036   | 2       | 0       | \n",
       "| ACCESS_MOCK_LOCATION | integer | 15036   | 2       | 0       | \n",
       "| GET_PACKAGE_SIZE | integer | 15036   | 2       | 0       | \n",
       "| MODIFY_PHONE_STATE | integer | 15036   | 2       | 0       | \n",
       "| CHANGE_COMPONENT_ENABLED_STATE | integer | 15036   | 2       | 0       | \n",
       "| CLEAR_APP_CACHE | integer | 15036   | 2       | 0       | \n",
       "| SET_ORIENTATION | integer | 15036   | 2       | 0       | \n",
       "| READ_CONTACTS | integer | 15036   | 2       | 0       | \n",
       "| DEVICE_POWER | integer | 15036   | 2       | 0       | \n",
       "| HARDWARE_TEST | integer | 15036   | 2       | 0       | \n",
       "| ACCESS_WIFI_STATE | integer | 15036   | 2       | 0       | \n",
       "| WRITE_EXTERNAL_STORAGE | integer | 15036   | 2       | 0       | \n",
       "| ACCESS_FINE_LOCATION | integer | 15036   | 2       | 0       | \n",
       "| SET_WALLPAPER_HINTS | integer | 15036   | 2       | 0       | \n",
       "| SET_PREFERRED_APPLICATIONS | integer | 15036   | 2       | 0       | \n",
       "| WRITE_SECURE_SETTINGS | integer | 15036   | 2       | 0       | \n",
       "| class | factor  | 15036   | 2       | 0       | \n",
       "\n",
       "\n"
      ],
      "text/plain": [
       "                                             data_type count unique_values\n",
       "transact                                     integer   15036 2            \n",
       "onServiceConnected                           integer   15036 2            \n",
       "bindService                                  integer   15036 2            \n",
       "attachInterface                              integer   15036 2            \n",
       "ServiceConnection                            integer   15036 2            \n",
       "android.os.Binder                            integer   15036 2            \n",
       "SEND_SMS                                     integer   15036 2            \n",
       "Ljava.lang.Class.getCanonicalName            integer   15036 2            \n",
       "Ljava.lang.Class.getMethods                  integer   15036 2            \n",
       "Ljava.lang.Class.cast                        integer   15036 2            \n",
       "Ljava.net.URLDecoder                         integer   15036 2            \n",
       "android.content.pm.Signature                 integer   15036 2            \n",
       "android.telephony.SmsManager                 integer   15036 2            \n",
       "READ_PHONE_STATE                             integer   15036 2            \n",
       "getBinder                                    integer   15036 2            \n",
       "ClassLoader                                  integer   15036 2            \n",
       "Landroid.content.Context.registerReceiver    integer   15036 2            \n",
       "Ljava.lang.Class.getField                    integer   15036 2            \n",
       "Landroid.content.Context.unregisterReceiver  integer   15036 2            \n",
       "GET_ACCOUNTS                                 integer   15036 2            \n",
       "RECEIVE_SMS                                  integer   15036 2            \n",
       "Ljava.lang.Class.getDeclaredField            integer   15036 2            \n",
       "READ_SMS                                     integer   15036 2            \n",
       "getCallingUid                                integer   15036 2            \n",
       "Ljavax.crypto.spec.SecretKeySpec             integer   15036 2            \n",
       "android.intent.action.BOOT_COMPLETED         integer   15036 2            \n",
       "USE_CREDENTIALS                              integer   15036 2            \n",
       "MANAGE_ACCOUNTS                              integer   15036 2            \n",
       "android.content.pm.PackageInfo               integer   15036 2            \n",
       "KeySpec                                      integer   15036 2            \n",
       "⋮                                            ⋮         ⋮     ⋮            \n",
       "android.intent.action.SET_WALLPAPER          integer   15036 2            \n",
       "CHANGE_WIFI_STATE                            integer   15036 2            \n",
       "READ_FRAME_BUFFER                            integer   15036 2            \n",
       "ACCESS_SURFACE_FLINGER                       integer   15036 2            \n",
       "Runtime.loadLibrary                          integer   15036 2            \n",
       "BROADCAST_SMS                                integer   15036 2            \n",
       "EXPAND_STATUS_BAR                            integer   15036 2            \n",
       "INTERNAL_SYSTEM_WINDOW                       integer   15036 2            \n",
       "android.intent.action.BATTERY_LOW            integer   15036 2            \n",
       "SET_ACTIVITY_WATCHER                         integer   15036 2            \n",
       "WRITE_CONTACTS                               integer   15036 2            \n",
       "android.intent.action.ACTION_POWER_CONNECTED integer   15036 2            \n",
       "BIND_VPN_SERVICE                             integer   15036 2            \n",
       "DISABLE_KEYGUARD                             integer   15036 2            \n",
       "ACCESS_MOCK_LOCATION                         integer   15036 2            \n",
       "GET_PACKAGE_SIZE                             integer   15036 2            \n",
       "MODIFY_PHONE_STATE                           integer   15036 2            \n",
       "CHANGE_COMPONENT_ENABLED_STATE               integer   15036 2            \n",
       "CLEAR_APP_CACHE                              integer   15036 2            \n",
       "SET_ORIENTATION                              integer   15036 2            \n",
       "READ_CONTACTS                                integer   15036 2            \n",
       "DEVICE_POWER                                 integer   15036 2            \n",
       "HARDWARE_TEST                                integer   15036 2            \n",
       "ACCESS_WIFI_STATE                            integer   15036 2            \n",
       "WRITE_EXTERNAL_STORAGE                       integer   15036 2            \n",
       "ACCESS_FINE_LOCATION                         integer   15036 2            \n",
       "SET_WALLPAPER_HINTS                          integer   15036 2            \n",
       "SET_PREFERRED_APPLICATIONS                   integer   15036 2            \n",
       "WRITE_SECURE_SETTINGS                        integer   15036 2            \n",
       "class                                        factor    15036 2            \n",
       "                                             missing_values\n",
       "transact                                     0             \n",
       "onServiceConnected                           0             \n",
       "bindService                                  0             \n",
       "attachInterface                              0             \n",
       "ServiceConnection                            0             \n",
       "android.os.Binder                            0             \n",
       "SEND_SMS                                     0             \n",
       "Ljava.lang.Class.getCanonicalName            0             \n",
       "Ljava.lang.Class.getMethods                  0             \n",
       "Ljava.lang.Class.cast                        0             \n",
       "Ljava.net.URLDecoder                         0             \n",
       "android.content.pm.Signature                 0             \n",
       "android.telephony.SmsManager                 0             \n",
       "READ_PHONE_STATE                             0             \n",
       "getBinder                                    0             \n",
       "ClassLoader                                  0             \n",
       "Landroid.content.Context.registerReceiver    0             \n",
       "Ljava.lang.Class.getField                    0             \n",
       "Landroid.content.Context.unregisterReceiver  0             \n",
       "GET_ACCOUNTS                                 0             \n",
       "RECEIVE_SMS                                  0             \n",
       "Ljava.lang.Class.getDeclaredField            0             \n",
       "READ_SMS                                     0             \n",
       "getCallingUid                                0             \n",
       "Ljavax.crypto.spec.SecretKeySpec             0             \n",
       "android.intent.action.BOOT_COMPLETED         0             \n",
       "USE_CREDENTIALS                              0             \n",
       "MANAGE_ACCOUNTS                              0             \n",
       "android.content.pm.PackageInfo               0             \n",
       "KeySpec                                      0             \n",
       "⋮                                            ⋮             \n",
       "android.intent.action.SET_WALLPAPER          0             \n",
       "CHANGE_WIFI_STATE                            0             \n",
       "READ_FRAME_BUFFER                            0             \n",
       "ACCESS_SURFACE_FLINGER                       0             \n",
       "Runtime.loadLibrary                          0             \n",
       "BROADCAST_SMS                                0             \n",
       "EXPAND_STATUS_BAR                            0             \n",
       "INTERNAL_SYSTEM_WINDOW                       0             \n",
       "android.intent.action.BATTERY_LOW            0             \n",
       "SET_ACTIVITY_WATCHER                         0             \n",
       "WRITE_CONTACTS                               0             \n",
       "android.intent.action.ACTION_POWER_CONNECTED 0             \n",
       "BIND_VPN_SERVICE                             0             \n",
       "DISABLE_KEYGUARD                             0             \n",
       "ACCESS_MOCK_LOCATION                         0             \n",
       "GET_PACKAGE_SIZE                             0             \n",
       "MODIFY_PHONE_STATE                           0             \n",
       "CHANGE_COMPONENT_ENABLED_STATE               0             \n",
       "CLEAR_APP_CACHE                              0             \n",
       "SET_ORIENTATION                              0             \n",
       "READ_CONTACTS                                0             \n",
       "DEVICE_POWER                                 0             \n",
       "HARDWARE_TEST                                0             \n",
       "ACCESS_WIFI_STATE                            0             \n",
       "WRITE_EXTERNAL_STORAGE                       0             \n",
       "ACCESS_FINE_LOCATION                         0             \n",
       "SET_WALLPAPER_HINTS                          0             \n",
       "SET_PREFERRED_APPLICATIONS                   0             \n",
       "WRITE_SECURE_SETTINGS                        0             \n",
       "class                                        0             "
      ]
     },
     "metadata": {},
     "output_type": "display_data"
    }
   ],
   "source": [
    "                                                             \n",
    "#Call 'data_report' function for the dataset\n",
    "data_report(drebin_data)"
   ]
  },
  {
   "cell_type": "code",
   "execution_count": 114,
   "metadata": {},
   "outputs": [
    {
     "data": {
      "text/html": [
       "<table>\n",
       "<thead><tr><th scope=col>transact</th><th scope=col>onServiceConnected</th><th scope=col>bindService</th><th scope=col>attachInterface</th><th scope=col>ServiceConnection</th><th scope=col>android.os.Binder</th><th scope=col>SEND_SMS</th><th scope=col>Ljava.lang.Class.getCanonicalName</th><th scope=col>Ljava.lang.Class.getMethods</th><th scope=col>Ljava.lang.Class.cast</th><th scope=col>⋯</th><th scope=col>SET_ORIENTATION</th><th scope=col>READ_CONTACTS</th><th scope=col>DEVICE_POWER</th><th scope=col>HARDWARE_TEST</th><th scope=col>ACCESS_WIFI_STATE</th><th scope=col>WRITE_EXTERNAL_STORAGE</th><th scope=col>ACCESS_FINE_LOCATION</th><th scope=col>SET_WALLPAPER_HINTS</th><th scope=col>SET_PREFERRED_APPLICATIONS</th><th scope=col>WRITE_SECURE_SETTINGS</th></tr></thead>\n",
       "<tbody>\n",
       "\t<tr><td>0</td><td>0</td><td>0</td><td>0</td><td>0</td><td>0</td><td>1</td><td>0</td><td>0</td><td>0</td><td>⋯</td><td>0</td><td>0</td><td>0</td><td>0</td><td>0</td><td>1</td><td>0</td><td>0</td><td>0</td><td>0</td></tr>\n",
       "\t<tr><td>0</td><td>0</td><td>0</td><td>0</td><td>0</td><td>0</td><td>1</td><td>0</td><td>0</td><td>0</td><td>⋯</td><td>0</td><td>0</td><td>0</td><td>0</td><td>0</td><td>1</td><td>0</td><td>0</td><td>0</td><td>0</td></tr>\n",
       "\t<tr><td>0</td><td>0</td><td>0</td><td>0</td><td>0</td><td>0</td><td>1</td><td>0</td><td>0</td><td>0</td><td>⋯</td><td>0</td><td>0</td><td>0</td><td>0</td><td>0</td><td>0</td><td>0</td><td>0</td><td>0</td><td>0</td></tr>\n",
       "\t<tr><td>0</td><td>0</td><td>0</td><td>0</td><td>0</td><td>0</td><td>0</td><td>0</td><td>0</td><td>1</td><td>⋯</td><td>0</td><td>0</td><td>0</td><td>0</td><td>1</td><td>1</td><td>1</td><td>0</td><td>0</td><td>0</td></tr>\n",
       "\t<tr><td>0</td><td>0</td><td>0</td><td>0</td><td>0</td><td>0</td><td>0</td><td>0</td><td>0</td><td>0</td><td>⋯</td><td>0</td><td>0</td><td>0</td><td>0</td><td>1</td><td>0</td><td>1</td><td>0</td><td>0</td><td>0</td></tr>\n",
       "\t<tr><td>0</td><td>0</td><td>0</td><td>0</td><td>0</td><td>0</td><td>0</td><td>0</td><td>0</td><td>0</td><td>⋯</td><td>0</td><td>0</td><td>0</td><td>0</td><td>1</td><td>1</td><td>0</td><td>0</td><td>0</td><td>0</td></tr>\n",
       "</tbody>\n",
       "</table>\n"
      ],
      "text/latex": [
       "\\begin{tabular}{r|llllllllllllllllllllllllllllllllllllllllllllllllllllllllllllllllllllllllllllllllllllllllllllllllllllllllllllllllllllllllllllllllllllllllllllllllllllllllllllllllllllllllllllllllllllllllllllllllllllllllllllllllllllll}\n",
       " transact & onServiceConnected & bindService & attachInterface & ServiceConnection & android.os.Binder & SEND\\_SMS & Ljava.lang.Class.getCanonicalName & Ljava.lang.Class.getMethods & Ljava.lang.Class.cast & ⋯ & SET\\_ORIENTATION & READ\\_CONTACTS & DEVICE\\_POWER & HARDWARE\\_TEST & ACCESS\\_WIFI\\_STATE & WRITE\\_EXTERNAL\\_STORAGE & ACCESS\\_FINE\\_LOCATION & SET\\_WALLPAPER\\_HINTS & SET\\_PREFERRED\\_APPLICATIONS & WRITE\\_SECURE\\_SETTINGS\\\\\n",
       "\\hline\n",
       "\t 0 & 0 & 0 & 0 & 0 & 0 & 1 & 0 & 0 & 0 & ⋯ & 0 & 0 & 0 & 0 & 0 & 1 & 0 & 0 & 0 & 0\\\\\n",
       "\t 0 & 0 & 0 & 0 & 0 & 0 & 1 & 0 & 0 & 0 & ⋯ & 0 & 0 & 0 & 0 & 0 & 1 & 0 & 0 & 0 & 0\\\\\n",
       "\t 0 & 0 & 0 & 0 & 0 & 0 & 1 & 0 & 0 & 0 & ⋯ & 0 & 0 & 0 & 0 & 0 & 0 & 0 & 0 & 0 & 0\\\\\n",
       "\t 0 & 0 & 0 & 0 & 0 & 0 & 0 & 0 & 0 & 1 & ⋯ & 0 & 0 & 0 & 0 & 1 & 1 & 1 & 0 & 0 & 0\\\\\n",
       "\t 0 & 0 & 0 & 0 & 0 & 0 & 0 & 0 & 0 & 0 & ⋯ & 0 & 0 & 0 & 0 & 1 & 0 & 1 & 0 & 0 & 0\\\\\n",
       "\t 0 & 0 & 0 & 0 & 0 & 0 & 0 & 0 & 0 & 0 & ⋯ & 0 & 0 & 0 & 0 & 1 & 1 & 0 & 0 & 0 & 0\\\\\n",
       "\\end{tabular}\n"
      ],
      "text/markdown": [
       "\n",
       "transact | onServiceConnected | bindService | attachInterface | ServiceConnection | android.os.Binder | SEND_SMS | Ljava.lang.Class.getCanonicalName | Ljava.lang.Class.getMethods | Ljava.lang.Class.cast | ⋯ | SET_ORIENTATION | READ_CONTACTS | DEVICE_POWER | HARDWARE_TEST | ACCESS_WIFI_STATE | WRITE_EXTERNAL_STORAGE | ACCESS_FINE_LOCATION | SET_WALLPAPER_HINTS | SET_PREFERRED_APPLICATIONS | WRITE_SECURE_SETTINGS | \n",
       "|---|---|---|---|---|---|\n",
       "| 0 | 0 | 0 | 0 | 0 | 0 | 1 | 0 | 0 | 0 | ⋯ | 0 | 0 | 0 | 0 | 0 | 1 | 0 | 0 | 0 | 0 | \n",
       "| 0 | 0 | 0 | 0 | 0 | 0 | 1 | 0 | 0 | 0 | ⋯ | 0 | 0 | 0 | 0 | 0 | 1 | 0 | 0 | 0 | 0 | \n",
       "| 0 | 0 | 0 | 0 | 0 | 0 | 1 | 0 | 0 | 0 | ⋯ | 0 | 0 | 0 | 0 | 0 | 0 | 0 | 0 | 0 | 0 | \n",
       "| 0 | 0 | 0 | 0 | 0 | 0 | 0 | 0 | 0 | 1 | ⋯ | 0 | 0 | 0 | 0 | 1 | 1 | 1 | 0 | 0 | 0 | \n",
       "| 0 | 0 | 0 | 0 | 0 | 0 | 0 | 0 | 0 | 0 | ⋯ | 0 | 0 | 0 | 0 | 1 | 0 | 1 | 0 | 0 | 0 | \n",
       "| 0 | 0 | 0 | 0 | 0 | 0 | 0 | 0 | 0 | 0 | ⋯ | 0 | 0 | 0 | 0 | 1 | 1 | 0 | 0 | 0 | 0 | \n",
       "\n",
       "\n"
      ],
      "text/plain": [
       "  transact onServiceConnected bindService attachInterface ServiceConnection\n",
       "1 0        0                  0           0               0                \n",
       "2 0        0                  0           0               0                \n",
       "3 0        0                  0           0               0                \n",
       "4 0        0                  0           0               0                \n",
       "5 0        0                  0           0               0                \n",
       "6 0        0                  0           0               0                \n",
       "  android.os.Binder SEND_SMS Ljava.lang.Class.getCanonicalName\n",
       "1 0                 1        0                                \n",
       "2 0                 1        0                                \n",
       "3 0                 1        0                                \n",
       "4 0                 0        0                                \n",
       "5 0                 0        0                                \n",
       "6 0                 0        0                                \n",
       "  Ljava.lang.Class.getMethods Ljava.lang.Class.cast ⋯ SET_ORIENTATION\n",
       "1 0                           0                     ⋯ 0              \n",
       "2 0                           0                     ⋯ 0              \n",
       "3 0                           0                     ⋯ 0              \n",
       "4 0                           1                     ⋯ 0              \n",
       "5 0                           0                     ⋯ 0              \n",
       "6 0                           0                     ⋯ 0              \n",
       "  READ_CONTACTS DEVICE_POWER HARDWARE_TEST ACCESS_WIFI_STATE\n",
       "1 0             0            0             0                \n",
       "2 0             0            0             0                \n",
       "3 0             0            0             0                \n",
       "4 0             0            0             1                \n",
       "5 0             0            0             1                \n",
       "6 0             0            0             1                \n",
       "  WRITE_EXTERNAL_STORAGE ACCESS_FINE_LOCATION SET_WALLPAPER_HINTS\n",
       "1 1                      0                    0                  \n",
       "2 1                      0                    0                  \n",
       "3 0                      0                    0                  \n",
       "4 1                      1                    0                  \n",
       "5 0                      1                    0                  \n",
       "6 1                      0                    0                  \n",
       "  SET_PREFERRED_APPLICATIONS WRITE_SECURE_SETTINGS\n",
       "1 0                          0                    \n",
       "2 0                          0                    \n",
       "3 0                          0                    \n",
       "4 0                          0                    \n",
       "5 0                          0                    \n",
       "6 0                          0                    "
      ]
     },
     "metadata": {},
     "output_type": "display_data"
    },
    {
     "data": {
      "text/html": [
       "'Number of numerical columns: 214'"
      ],
      "text/latex": [
       "'Number of numerical columns: 214'"
      ],
      "text/markdown": [
       "'Number of numerical columns: 214'"
      ],
      "text/plain": [
       "[1] \"Number of numerical columns: 214\""
      ]
     },
     "metadata": {},
     "output_type": "display_data"
    }
   ],
   "source": [
    "                                                             \n",
    "#Create a dataframe of numeric columns\n",
    "numeric_columns <- select_if(drebin_data, is.numeric)\n",
    "head(numeric_columns)\n",
    "sprintf(\"Number of numerical columns: %i\", ncol(numeric_columns))"
   ]
  },
  {
   "cell_type": "code",
   "execution_count": 115,
   "metadata": {},
   "outputs": [
    {
     "data": {
      "text/html": [
       "<table>\n",
       "<thead><tr><th scope=col>TelephonyManager.getSimCountryIso</th><th scope=col>class</th></tr></thead>\n",
       "<tbody>\n",
       "\t<tr><td>0</td><td>S</td></tr>\n",
       "\t<tr><td>0</td><td>S</td></tr>\n",
       "\t<tr><td>0</td><td>S</td></tr>\n",
       "\t<tr><td>0</td><td>S</td></tr>\n",
       "\t<tr><td>0</td><td>S</td></tr>\n",
       "\t<tr><td>0</td><td>S</td></tr>\n",
       "</tbody>\n",
       "</table>\n"
      ],
      "text/latex": [
       "\\begin{tabular}{r|ll}\n",
       " TelephonyManager.getSimCountryIso & class\\\\\n",
       "\\hline\n",
       "\t 0 & S\\\\\n",
       "\t 0 & S\\\\\n",
       "\t 0 & S\\\\\n",
       "\t 0 & S\\\\\n",
       "\t 0 & S\\\\\n",
       "\t 0 & S\\\\\n",
       "\\end{tabular}\n"
      ],
      "text/markdown": [
       "\n",
       "TelephonyManager.getSimCountryIso | class | \n",
       "|---|---|---|---|---|---|\n",
       "| 0 | S | \n",
       "| 0 | S | \n",
       "| 0 | S | \n",
       "| 0 | S | \n",
       "| 0 | S | \n",
       "| 0 | S | \n",
       "\n",
       "\n"
      ],
      "text/plain": [
       "  TelephonyManager.getSimCountryIso class\n",
       "1 0                                 S    \n",
       "2 0                                 S    \n",
       "3 0                                 S    \n",
       "4 0                                 S    \n",
       "5 0                                 S    \n",
       "6 0                                 S    "
      ]
     },
     "metadata": {},
     "output_type": "display_data"
    },
    {
     "data": {
      "text/html": [
       "'Number of categorical columns: 2'"
      ],
      "text/latex": [
       "'Number of categorical columns: 2'"
      ],
      "text/markdown": [
       "'Number of categorical columns: 2'"
      ],
      "text/plain": [
       "[1] \"Number of categorical columns: 2\""
      ]
     },
     "metadata": {},
     "output_type": "display_data"
    }
   ],
   "source": [
    "                                                             \n",
    "#Create a dataframe of categorical columns\n",
    "categorical_columns <- select_if(drebin_data, is.factor)\n",
    "head(categorical_columns)\n",
    "sprintf(\"Number of categorical columns: %i\", ncol(categorical_columns))"
   ]
  },
  {
   "cell_type": "code",
   "execution_count": 116,
   "metadata": {},
   "outputs": [
    {
     "data": {
      "text/html": [
       "<table>\n",
       "<thead><tr><th scope=col>TelephonyManager.getSimCountryIso</th><th scope=col>freq</th></tr></thead>\n",
       "<tbody>\n",
       "\t<tr><td>?    </td><td>    5</td></tr>\n",
       "\t<tr><td>0    </td><td>12508</td></tr>\n",
       "\t<tr><td>1    </td><td> 2523</td></tr>\n",
       "</tbody>\n",
       "</table>\n"
      ],
      "text/latex": [
       "\\begin{tabular}{r|ll}\n",
       " TelephonyManager.getSimCountryIso & freq\\\\\n",
       "\\hline\n",
       "\t ?     &     5\\\\\n",
       "\t 0     & 12508\\\\\n",
       "\t 1     &  2523\\\\\n",
       "\\end{tabular}\n"
      ],
      "text/markdown": [
       "\n",
       "TelephonyManager.getSimCountryIso | freq | \n",
       "|---|---|---|\n",
       "| ?     |     5 | \n",
       "| 0     | 12508 | \n",
       "| 1     |  2523 | \n",
       "\n",
       "\n"
      ],
      "text/plain": [
       "  TelephonyManager.getSimCountryIso freq \n",
       "1 ?                                     5\n",
       "2 0                                 12508\n",
       "3 1                                  2523"
      ]
     },
     "metadata": {},
     "output_type": "display_data"
    },
    {
     "data": {
      "text/html": [
       "<table>\n",
       "<thead><tr><th scope=col>class</th><th scope=col>freq</th></tr></thead>\n",
       "<tbody>\n",
       "\t<tr><td>B   </td><td>9476</td></tr>\n",
       "\t<tr><td>S   </td><td>5560</td></tr>\n",
       "</tbody>\n",
       "</table>\n"
      ],
      "text/latex": [
       "\\begin{tabular}{r|ll}\n",
       " class & freq\\\\\n",
       "\\hline\n",
       "\t B    & 9476\\\\\n",
       "\t S    & 5560\\\\\n",
       "\\end{tabular}\n"
      ],
      "text/markdown": [
       "\n",
       "class | freq | \n",
       "|---|---|\n",
       "| B    | 9476 | \n",
       "| S    | 5560 | \n",
       "\n",
       "\n"
      ],
      "text/plain": [
       "  class freq\n",
       "1 B     9476\n",
       "2 S     5560"
      ]
     },
     "metadata": {},
     "output_type": "display_data"
    }
   ],
   "source": [
    "                                                             \n",
    "#The frequency of different levels of each categorical column\n",
    "count(categorical_columns, 'TelephonyManager.getSimCountryIso')\n",
    "count(categorical_columns, 'class')"
   ]
  },
  {
   "cell_type": "code",
   "execution_count": null,
   "metadata": {},
   "outputs": [],
   "source": []
  }
 ],
 "metadata": {
  "kernelspec": {
   "display_name": "R",
   "language": "R",
   "name": "ir"
  },
  "language_info": {
   "codemirror_mode": "r",
   "file_extension": ".r",
   "mimetype": "text/x-r-source",
   "name": "R",
   "pygments_lexer": "r",
   "version": "3.5.1"
  }
 },
 "nbformat": 4,
 "nbformat_minor": 2
}
